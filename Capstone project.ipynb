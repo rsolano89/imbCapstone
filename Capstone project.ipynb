{
 "cells": [
  {
   "cell_type": "markdown",
   "metadata": {},
   "source": [
    "<h1>Notebook for the capstone project</h1>\n",
    "<hr>\n",
    "<p>IBM Data Science Specialisation</p>"
   ]
  },
  {
   "cell_type": "code",
   "execution_count": 1,
   "metadata": {},
   "outputs": [],
   "source": [
    "import numpy as np\n",
    "import pandas as pd\n",
    "from pandas.io.json import json_normalize\n",
    "\n",
    "import urllib.request\n",
    "from bs4 import BeautifulSoup\n",
    "\n",
    "import geocoder\n",
    "from geopy.geocoders import Nominatim \n",
    "import requests\n",
    "\n",
    "import matplotlib.cm as cm\n",
    "import matplotlib.colors as colors\n",
    "from sklearn.cluster import KMeans\n",
    "import folium # map rendering library"
   ]
  },
  {
   "cell_type": "code",
   "execution_count": 2,
   "metadata": {},
   "outputs": [
    {
     "name": "stdout",
     "output_type": "stream",
     "text": [
      "Hello Capstone Project Course!\n"
     ]
    }
   ],
   "source": [
    "print('Hello Capstone Project Course!')"
   ]
  },
  {
   "cell_type": "markdown",
   "metadata": {},
   "source": [
    "## Week 3 Assignment"
   ]
  },
  {
   "cell_type": "markdown",
   "metadata": {},
   "source": [
    "## Part 1: Scrape the wikipedia page"
   ]
  },
  {
   "cell_type": "markdown",
   "metadata": {},
   "source": [
    "Utilizing BeatifulSoup to scrape the wikipedia table\n",
    "<hr>"
   ]
  },
  {
   "cell_type": "code",
   "execution_count": 3,
   "metadata": {},
   "outputs": [],
   "source": [
    "url = \"https://en.wikipedia.org/wiki/List_of_postal_codes_of_Canada:_M\"\n",
    "page = urllib.request.urlopen(url)\n",
    "\n",
    "soup = BeautifulSoup(page, \"html\")\n",
    "\n",
    "table = soup.find(\"table\", class_=\"wikitable sortable\")\n",
    "\n",
    "A=[]\n",
    "B=[]\n",
    "C=[]\n",
    "\n",
    "for row in table.find_all('tr'):\n",
    "    cells=row.findAll('td')\n",
    "    if len(cells)==3:\n",
    "        A.append(cells[0].find(text=True))\n",
    "        B.append(cells[1].find(text=True))\n",
    "        C.append(cells[2].find(text=True))\n",
    "        \n",
    "df=pd.DataFrame(columns=['Postal code', 'Borough', 'Neighborhood'])\n",
    "df['Postal code']=A\n",
    "df['Borough']=B\n",
    "df['Neighborhood']=C\n"
   ]
  },
  {
   "cell_type": "markdown",
   "metadata": {},
   "source": [
    "Cleaning the dataframe so it follows to assignment instructions\n",
    "<hr>"
   ]
  },
  {
   "cell_type": "code",
   "execution_count": 4,
   "metadata": {},
   "outputs": [
    {
     "data": {
      "text/html": [
       "<div>\n",
       "<style scoped>\n",
       "    .dataframe tbody tr th:only-of-type {\n",
       "        vertical-align: middle;\n",
       "    }\n",
       "\n",
       "    .dataframe tbody tr th {\n",
       "        vertical-align: top;\n",
       "    }\n",
       "\n",
       "    .dataframe thead th {\n",
       "        text-align: right;\n",
       "    }\n",
       "</style>\n",
       "<table border=\"1\" class=\"dataframe\">\n",
       "  <thead>\n",
       "    <tr style=\"text-align: right;\">\n",
       "      <th></th>\n",
       "      <th>Postal code</th>\n",
       "      <th>Borough</th>\n",
       "      <th>Neighborhood</th>\n",
       "    </tr>\n",
       "  </thead>\n",
       "  <tbody>\n",
       "    <tr>\n",
       "      <th>0</th>\n",
       "      <td>M3A</td>\n",
       "      <td>North York</td>\n",
       "      <td>Parkwoods</td>\n",
       "    </tr>\n",
       "    <tr>\n",
       "      <th>1</th>\n",
       "      <td>M4A</td>\n",
       "      <td>North York</td>\n",
       "      <td>Victoria Village</td>\n",
       "    </tr>\n",
       "    <tr>\n",
       "      <th>2</th>\n",
       "      <td>M5A</td>\n",
       "      <td>Downtown Toronto</td>\n",
       "      <td>Regent Park, Harbourfront</td>\n",
       "    </tr>\n",
       "    <tr>\n",
       "      <th>3</th>\n",
       "      <td>M6A</td>\n",
       "      <td>North York</td>\n",
       "      <td>Lawrence Manor, Lawrence Heights</td>\n",
       "    </tr>\n",
       "    <tr>\n",
       "      <th>4</th>\n",
       "      <td>M7A</td>\n",
       "      <td>Downtown Toronto</td>\n",
       "      <td>Queen's Park, Ontario Provincial Government</td>\n",
       "    </tr>\n",
       "  </tbody>\n",
       "</table>\n",
       "</div>"
      ],
      "text/plain": [
       "  Postal code           Borough                                 Neighborhood\n",
       "0         M3A        North York                                    Parkwoods\n",
       "1         M4A        North York                             Victoria Village\n",
       "2         M5A  Downtown Toronto                    Regent Park, Harbourfront\n",
       "3         M6A        North York             Lawrence Manor, Lawrence Heights\n",
       "4         M7A  Downtown Toronto  Queen's Park, Ontario Provincial Government"
      ]
     },
     "execution_count": 4,
     "metadata": {},
     "output_type": "execute_result"
    }
   ],
   "source": [
    "df['Postal code'] = df['Postal code'].apply(lambda x: x.replace('\\n',''))\n",
    "df['Borough'] = df['Borough'].apply(lambda x: x.replace('\\n',''))\n",
    "df['Neighborhood'] = df['Neighborhood'].apply(lambda x: x.replace('\\n',''))\n",
    "df['Neighborhood'] = df['Neighborhood'].apply(lambda x: x.replace(' / ',', '))\n",
    "\n",
    "df.drop(df[df['Borough'] == 'Not assigned'].index, axis=0, inplace=True)\n",
    "df.reset_index(inplace = True)\n",
    "df.drop('index', axis = 1, inplace = True)\n",
    "df.head()"
   ]
  },
  {
   "cell_type": "markdown",
   "metadata": {},
   "source": [
    "Shape of the final dataframe"
   ]
  },
  {
   "cell_type": "code",
   "execution_count": 5,
   "metadata": {},
   "outputs": [
    {
     "data": {
      "text/plain": [
       "(103, 3)"
      ]
     },
     "execution_count": 5,
     "metadata": {},
     "output_type": "execute_result"
    }
   ],
   "source": [
    "df.shape"
   ]
  },
  {
   "cell_type": "markdown",
   "metadata": {},
   "source": [
    "## Part 2: Adding the coordenates"
   ]
  },
  {
   "cell_type": "code",
   "execution_count": 6,
   "metadata": {},
   "outputs": [],
   "source": [
    "# loop until you get the coordinates\n",
    "# for index, row in df.iterrows():\n",
    "#     lat_lng_coords = None\n",
    "#     not_found = False\n",
    "#     tries = 0\n",
    "#     while(lat_lng_coords is None or not_found == False):\n",
    "#         g = geocoder.google('{}, Toronto, Ontario'.format(row['Postal code']))\n",
    "#         lat_lng_coords = g.latlng\n",
    "#         tries = tries + 1\n",
    "#         print('{}:{}'.format(row['Postal code'], tries))\n",
    "#         if tries == 100:\n",
    "#             not_found = True\n",
    "#             break\n",
    "#     if not_found == True:\n",
    "#         row['latitude'] = 'not found'\n",
    "#         row['longitude'] = 'not found'\n",
    "#     else:\n",
    "#         row['latitude'] = lat_lng_coords[0]\n",
    "#         row['longitude'] = lat_lng_coords[1]"
   ]
  },
  {
   "cell_type": "markdown",
   "metadata": {},
   "source": [
    "Since the package for the code above is unstable, I used the csv file from the coursera website\n",
    "<hr>"
   ]
  },
  {
   "cell_type": "code",
   "execution_count": 7,
   "metadata": {},
   "outputs": [],
   "source": [
    "coordinates_df = pd.read_csv('Geospatial_Coordinates.csv')\n",
    "coordinates_df.set_index('Postal Code', inplace = True)"
   ]
  },
  {
   "cell_type": "code",
   "execution_count": 8,
   "metadata": {},
   "outputs": [],
   "source": [
    "df = df.join(coordinates_df, on = ['Postal code'], how = 'left')"
   ]
  },
  {
   "cell_type": "markdown",
   "metadata": {},
   "source": [
    "Dataframe with Latitude and Longitude data\n",
    "<hr>"
   ]
  },
  {
   "cell_type": "code",
   "execution_count": 9,
   "metadata": {},
   "outputs": [
    {
     "data": {
      "text/html": [
       "<div>\n",
       "<style scoped>\n",
       "    .dataframe tbody tr th:only-of-type {\n",
       "        vertical-align: middle;\n",
       "    }\n",
       "\n",
       "    .dataframe tbody tr th {\n",
       "        vertical-align: top;\n",
       "    }\n",
       "\n",
       "    .dataframe thead th {\n",
       "        text-align: right;\n",
       "    }\n",
       "</style>\n",
       "<table border=\"1\" class=\"dataframe\">\n",
       "  <thead>\n",
       "    <tr style=\"text-align: right;\">\n",
       "      <th></th>\n",
       "      <th>Postal code</th>\n",
       "      <th>Borough</th>\n",
       "      <th>Neighborhood</th>\n",
       "      <th>Latitude</th>\n",
       "      <th>Longitude</th>\n",
       "    </tr>\n",
       "  </thead>\n",
       "  <tbody>\n",
       "    <tr>\n",
       "      <th>0</th>\n",
       "      <td>M3A</td>\n",
       "      <td>North York</td>\n",
       "      <td>Parkwoods</td>\n",
       "      <td>43.753259</td>\n",
       "      <td>-79.329656</td>\n",
       "    </tr>\n",
       "    <tr>\n",
       "      <th>1</th>\n",
       "      <td>M4A</td>\n",
       "      <td>North York</td>\n",
       "      <td>Victoria Village</td>\n",
       "      <td>43.725882</td>\n",
       "      <td>-79.315572</td>\n",
       "    </tr>\n",
       "    <tr>\n",
       "      <th>2</th>\n",
       "      <td>M5A</td>\n",
       "      <td>Downtown Toronto</td>\n",
       "      <td>Regent Park, Harbourfront</td>\n",
       "      <td>43.654260</td>\n",
       "      <td>-79.360636</td>\n",
       "    </tr>\n",
       "    <tr>\n",
       "      <th>3</th>\n",
       "      <td>M6A</td>\n",
       "      <td>North York</td>\n",
       "      <td>Lawrence Manor, Lawrence Heights</td>\n",
       "      <td>43.718518</td>\n",
       "      <td>-79.464763</td>\n",
       "    </tr>\n",
       "    <tr>\n",
       "      <th>4</th>\n",
       "      <td>M7A</td>\n",
       "      <td>Downtown Toronto</td>\n",
       "      <td>Queen's Park, Ontario Provincial Government</td>\n",
       "      <td>43.662301</td>\n",
       "      <td>-79.389494</td>\n",
       "    </tr>\n",
       "    <tr>\n",
       "      <th>...</th>\n",
       "      <td>...</td>\n",
       "      <td>...</td>\n",
       "      <td>...</td>\n",
       "      <td>...</td>\n",
       "      <td>...</td>\n",
       "    </tr>\n",
       "    <tr>\n",
       "      <th>98</th>\n",
       "      <td>M8X</td>\n",
       "      <td>Etobicoke</td>\n",
       "      <td>The Kingsway, Montgomery Road , Old Mill North</td>\n",
       "      <td>43.653654</td>\n",
       "      <td>-79.506944</td>\n",
       "    </tr>\n",
       "    <tr>\n",
       "      <th>99</th>\n",
       "      <td>M4Y</td>\n",
       "      <td>Downtown Toronto</td>\n",
       "      <td>Church and Wellesley</td>\n",
       "      <td>43.665860</td>\n",
       "      <td>-79.383160</td>\n",
       "    </tr>\n",
       "    <tr>\n",
       "      <th>100</th>\n",
       "      <td>M7Y</td>\n",
       "      <td>East Toronto</td>\n",
       "      <td>Business reply mail Processing Centre</td>\n",
       "      <td>43.662744</td>\n",
       "      <td>-79.321558</td>\n",
       "    </tr>\n",
       "    <tr>\n",
       "      <th>101</th>\n",
       "      <td>M8Y</td>\n",
       "      <td>Etobicoke</td>\n",
       "      <td>Old Mill South, King's Mill Park, Sunnylea, Hu...</td>\n",
       "      <td>43.636258</td>\n",
       "      <td>-79.498509</td>\n",
       "    </tr>\n",
       "    <tr>\n",
       "      <th>102</th>\n",
       "      <td>M8Z</td>\n",
       "      <td>Etobicoke</td>\n",
       "      <td>Mimico NW, The Queensway West, South of Bloor,...</td>\n",
       "      <td>43.628841</td>\n",
       "      <td>-79.520999</td>\n",
       "    </tr>\n",
       "  </tbody>\n",
       "</table>\n",
       "<p>103 rows × 5 columns</p>\n",
       "</div>"
      ],
      "text/plain": [
       "    Postal code           Borough  \\\n",
       "0           M3A        North York   \n",
       "1           M4A        North York   \n",
       "2           M5A  Downtown Toronto   \n",
       "3           M6A        North York   \n",
       "4           M7A  Downtown Toronto   \n",
       "..          ...               ...   \n",
       "98          M8X         Etobicoke   \n",
       "99          M4Y  Downtown Toronto   \n",
       "100         M7Y      East Toronto   \n",
       "101         M8Y         Etobicoke   \n",
       "102         M8Z         Etobicoke   \n",
       "\n",
       "                                          Neighborhood   Latitude  Longitude  \n",
       "0                                            Parkwoods  43.753259 -79.329656  \n",
       "1                                     Victoria Village  43.725882 -79.315572  \n",
       "2                            Regent Park, Harbourfront  43.654260 -79.360636  \n",
       "3                     Lawrence Manor, Lawrence Heights  43.718518 -79.464763  \n",
       "4          Queen's Park, Ontario Provincial Government  43.662301 -79.389494  \n",
       "..                                                 ...        ...        ...  \n",
       "98      The Kingsway, Montgomery Road , Old Mill North  43.653654 -79.506944  \n",
       "99                                Church and Wellesley  43.665860 -79.383160  \n",
       "100              Business reply mail Processing Centre  43.662744 -79.321558  \n",
       "101  Old Mill South, King's Mill Park, Sunnylea, Hu...  43.636258 -79.498509  \n",
       "102  Mimico NW, The Queensway West, South of Bloor,...  43.628841 -79.520999  \n",
       "\n",
       "[103 rows x 5 columns]"
      ]
     },
     "execution_count": 9,
     "metadata": {},
     "output_type": "execute_result"
    }
   ],
   "source": [
    "df"
   ]
  },
  {
   "cell_type": "markdown",
   "metadata": {},
   "source": [
    "## Part 3: Create a map of toronto"
   ]
  },
  {
   "cell_type": "code",
   "execution_count": 10,
   "metadata": {},
   "outputs": [],
   "source": [
    "address = 'Toronto, Ontario'\n",
    "\n",
    "geolocator = Nominatim(user_agent=\"ny_explorer\")\n",
    "location = geolocator.geocode(address)\n",
    "latitude = location.latitude\n",
    "longitude = location.longitude"
   ]
  },
  {
   "cell_type": "code",
   "execution_count": 11,
   "metadata": {},
   "outputs": [
    {
     "data": {
      "text/html": [
       "<div style=\"width:100%;\"><div style=\"position:relative;width:100%;height:0;padding-bottom:60%;\"><iframe src=\"about:blank\" style=\"position:absolute;width:100%;height:100%;left:0;top:0;border:none !important;\" data-html=PCFET0NUWVBFIGh0bWw+CjxoZWFkPiAgICAKICAgIDxtZXRhIGh0dHAtZXF1aXY9ImNvbnRlbnQtdHlwZSIgY29udGVudD0idGV4dC9odG1sOyBjaGFyc2V0PVVURi04IiAvPgogICAgCiAgICAgICAgPHNjcmlwdD4KICAgICAgICAgICAgTF9OT19UT1VDSCA9IGZhbHNlOwogICAgICAgICAgICBMX0RJU0FCTEVfM0QgPSBmYWxzZTsKICAgICAgICA8L3NjcmlwdD4KICAgIAogICAgPHNjcmlwdCBzcmM9Imh0dHBzOi8vY2RuLmpzZGVsaXZyLm5ldC9ucG0vbGVhZmxldEAxLjUuMS9kaXN0L2xlYWZsZXQuanMiPjwvc2NyaXB0PgogICAgPHNjcmlwdCBzcmM9Imh0dHBzOi8vY29kZS5qcXVlcnkuY29tL2pxdWVyeS0xLjEyLjQubWluLmpzIj48L3NjcmlwdD4KICAgIDxzY3JpcHQgc3JjPSJodHRwczovL21heGNkbi5ib290c3RyYXBjZG4uY29tL2Jvb3RzdHJhcC8zLjIuMC9qcy9ib290c3RyYXAubWluLmpzIj48L3NjcmlwdD4KICAgIDxzY3JpcHQgc3JjPSJodHRwczovL2NkbmpzLmNsb3VkZmxhcmUuY29tL2FqYXgvbGlicy9MZWFmbGV0LmF3ZXNvbWUtbWFya2Vycy8yLjAuMi9sZWFmbGV0LmF3ZXNvbWUtbWFya2Vycy5qcyI+PC9zY3JpcHQ+CiAgICA8bGluayByZWw9InN0eWxlc2hlZXQiIGhyZWY9Imh0dHBzOi8vY2RuLmpzZGVsaXZyLm5ldC9ucG0vbGVhZmxldEAxLjUuMS9kaXN0L2xlYWZsZXQuY3NzIi8+CiAgICA8bGluayByZWw9InN0eWxlc2hlZXQiIGhyZWY9Imh0dHBzOi8vbWF4Y2RuLmJvb3RzdHJhcGNkbi5jb20vYm9vdHN0cmFwLzMuMi4wL2Nzcy9ib290c3RyYXAubWluLmNzcyIvPgogICAgPGxpbmsgcmVsPSJzdHlsZXNoZWV0IiBocmVmPSJodHRwczovL21heGNkbi5ib290c3RyYXBjZG4uY29tL2Jvb3RzdHJhcC8zLjIuMC9jc3MvYm9vdHN0cmFwLXRoZW1lLm1pbi5jc3MiLz4KICAgIDxsaW5rIHJlbD0ic3R5bGVzaGVldCIgaHJlZj0iaHR0cHM6Ly9tYXhjZG4uYm9vdHN0cmFwY2RuLmNvbS9mb250LWF3ZXNvbWUvNC42LjMvY3NzL2ZvbnQtYXdlc29tZS5taW4uY3NzIi8+CiAgICA8bGluayByZWw9InN0eWxlc2hlZXQiIGhyZWY9Imh0dHBzOi8vY2RuanMuY2xvdWRmbGFyZS5jb20vYWpheC9saWJzL0xlYWZsZXQuYXdlc29tZS1tYXJrZXJzLzIuMC4yL2xlYWZsZXQuYXdlc29tZS1tYXJrZXJzLmNzcyIvPgogICAgPGxpbmsgcmVsPSJzdHlsZXNoZWV0IiBocmVmPSJodHRwczovL3Jhd2Nkbi5naXRoYWNrLmNvbS9weXRob24tdmlzdWFsaXphdGlvbi9mb2xpdW0vbWFzdGVyL2ZvbGl1bS90ZW1wbGF0ZXMvbGVhZmxldC5hd2Vzb21lLnJvdGF0ZS5jc3MiLz4KICAgIDxzdHlsZT5odG1sLCBib2R5IHt3aWR0aDogMTAwJTtoZWlnaHQ6IDEwMCU7bWFyZ2luOiAwO3BhZGRpbmc6IDA7fTwvc3R5bGU+CiAgICA8c3R5bGU+I21hcCB7cG9zaXRpb246YWJzb2x1dGU7dG9wOjA7Ym90dG9tOjA7cmlnaHQ6MDtsZWZ0OjA7fTwvc3R5bGU+CiAgICAKICAgICAgICAgICAgPG1ldGEgbmFtZT0idmlld3BvcnQiIGNvbnRlbnQ9IndpZHRoPWRldmljZS13aWR0aCwKICAgICAgICAgICAgICAgIGluaXRpYWwtc2NhbGU9MS4wLCBtYXhpbXVtLXNjYWxlPTEuMCwgdXNlci1zY2FsYWJsZT1ubyIgLz4KICAgICAgICAgICAgPHN0eWxlPgogICAgICAgICAgICAgICAgI21hcF9hNjdjZWVhYjRhZjM0MTY0OTdiNjYwMjIxOGQ2ZDUzZCB7CiAgICAgICAgICAgICAgICAgICAgcG9zaXRpb246IHJlbGF0aXZlOwogICAgICAgICAgICAgICAgICAgIHdpZHRoOiAxMDAuMCU7CiAgICAgICAgICAgICAgICAgICAgaGVpZ2h0OiAxMDAuMCU7CiAgICAgICAgICAgICAgICAgICAgbGVmdDogMC4wJTsKICAgICAgICAgICAgICAgICAgICB0b3A6IDAuMCU7CiAgICAgICAgICAgICAgICB9CiAgICAgICAgICAgIDwvc3R5bGU+CiAgICAgICAgCjwvaGVhZD4KPGJvZHk+ICAgIAogICAgCiAgICAgICAgICAgIDxkaXYgY2xhc3M9ImZvbGl1bS1tYXAiIGlkPSJtYXBfYTY3Y2VlYWI0YWYzNDE2NDk3YjY2MDIyMThkNmQ1M2QiID48L2Rpdj4KICAgICAgICAKPC9ib2R5Pgo8c2NyaXB0PiAgICAKICAgIAogICAgICAgICAgICB2YXIgbWFwX2E2N2NlZWFiNGFmMzQxNjQ5N2I2NjAyMjE4ZDZkNTNkID0gTC5tYXAoCiAgICAgICAgICAgICAgICAibWFwX2E2N2NlZWFiNGFmMzQxNjQ5N2I2NjAyMjE4ZDZkNTNkIiwKICAgICAgICAgICAgICAgIHsKICAgICAgICAgICAgICAgICAgICBjZW50ZXI6IFs0My42NTM0ODE3LCAtNzkuMzgzOTM0N10sCiAgICAgICAgICAgICAgICAgICAgY3JzOiBMLkNSUy5FUFNHMzg1NywKICAgICAgICAgICAgICAgICAgICB6b29tOiAxMCwKICAgICAgICAgICAgICAgICAgICB6b29tQ29udHJvbDogdHJ1ZSwKICAgICAgICAgICAgICAgICAgICBwcmVmZXJDYW52YXM6IGZhbHNlLAogICAgICAgICAgICAgICAgfQogICAgICAgICAgICApOwoKICAgICAgICAgICAgCgogICAgICAgIAogICAgCiAgICAgICAgICAgIHZhciB0aWxlX2xheWVyXzEyODdkMjZhOWFhYjQ2OTg4ZTZjYjYzYjg2NjdlNDYwID0gTC50aWxlTGF5ZXIoCiAgICAgICAgICAgICAgICAiaHR0cHM6Ly97c30udGlsZS5vcGVuc3RyZWV0bWFwLm9yZy97en0ve3h9L3t5fS5wbmciLAogICAgICAgICAgICAgICAgeyJhdHRyaWJ1dGlvbiI6ICJEYXRhIGJ5IFx1MDAyNmNvcHk7IFx1MDAzY2EgaHJlZj1cImh0dHA6Ly9vcGVuc3RyZWV0bWFwLm9yZ1wiXHUwMDNlT3BlblN0cmVldE1hcFx1MDAzYy9hXHUwMDNlLCB1bmRlciBcdTAwM2NhIGhyZWY9XCJodHRwOi8vd3d3Lm9wZW5zdHJlZXRtYXAub3JnL2NvcHlyaWdodFwiXHUwMDNlT0RiTFx1MDAzYy9hXHUwMDNlLiIsICJkZXRlY3RSZXRpbmEiOiBmYWxzZSwgIm1heE5hdGl2ZVpvb20iOiAxOCwgIm1heFpvb20iOiAxOCwgIm1pblpvb20iOiAwLCAibm9XcmFwIjogZmFsc2UsICJvcGFjaXR5IjogMSwgInN1YmRvbWFpbnMiOiAiYWJjIiwgInRtcyI6IGZhbHNlfQogICAgICAgICAgICApLmFkZFRvKG1hcF9hNjdjZWVhYjRhZjM0MTY0OTdiNjYwMjIxOGQ2ZDUzZCk7CiAgICAgICAgCiAgICAKICAgICAgICAgICAgdmFyIGNpcmNsZV9tYXJrZXJfMWJiZDE5NzU2YmQ1NGEzZjhmZWZkYTIwNGVkNWI5ZmYgPSBMLmNpcmNsZU1hcmtlcigKICAgICAgICAgICAgICAgIFs0My43NTMyNTg2LCAtNzkuMzI5NjU2NV0sCiAgICAgICAgICAgICAgICB7ImJ1YmJsaW5nTW91c2VFdmVudHMiOiB0cnVlLCAiY29sb3IiOiAiYmx1ZSIsICJkYXNoQXJyYXkiOiBudWxsLCAiZGFzaE9mZnNldCI6IG51bGwsICJmaWxsIjogdHJ1ZSwgImZpbGxDb2xvciI6ICIjMzE4NmNjIiwgImZpbGxPcGFjaXR5IjogMC43LCAiZmlsbFJ1bGUiOiAiZXZlbm9kZCIsICJsaW5lQ2FwIjogInJvdW5kIiwgImxpbmVKb2luIjogInJvdW5kIiwgIm9wYWNpdHkiOiAxLjAsICJyYWRpdXMiOiA1LCAic3Ryb2tlIjogdHJ1ZSwgIndlaWdodCI6IDN9CiAgICAgICAgICAgICkuYWRkVG8obWFwX2E2N2NlZWFiNGFmMzQxNjQ5N2I2NjAyMjE4ZDZkNTNkKTsKICAgICAgICAKICAgIAogICAgICAgIHZhciBwb3B1cF8wOWZlNTg1ODRmNjk0MjZjYTk2ZmYxY2IwNzEyYWViMiA9IEwucG9wdXAoeyJtYXhXaWR0aCI6ICIxMDAlIn0pOwoKICAgICAgICAKICAgICAgICAgICAgdmFyIGh0bWxfNTcxNTZkZTczYzZhNGUxZDgwZDk0NzExMjQyYWI2Y2IgPSAkKGA8ZGl2IGlkPSJodG1sXzU3MTU2ZGU3M2M2YTRlMWQ4MGQ5NDcxMTI0MmFiNmNiIiBzdHlsZT0id2lkdGg6IDEwMC4wJTsgaGVpZ2h0OiAxMDAuMCU7Ij5QYXJrd29vZHMsIE5vcnRoIFlvcms8L2Rpdj5gKVswXTsKICAgICAgICAgICAgcG9wdXBfMDlmZTU4NTg0ZjY5NDI2Y2E5NmZmMWNiMDcxMmFlYjIuc2V0Q29udGVudChodG1sXzU3MTU2ZGU3M2M2YTRlMWQ4MGQ5NDcxMTI0MmFiNmNiKTsKICAgICAgICAKCiAgICAgICAgY2lyY2xlX21hcmtlcl8xYmJkMTk3NTZiZDU0YTNmOGZlZmRhMjA0ZWQ1YjlmZi5iaW5kUG9wdXAocG9wdXBfMDlmZTU4NTg0ZjY5NDI2Y2E5NmZmMWNiMDcxMmFlYjIpCiAgICAgICAgOwoKICAgICAgICAKICAgIAogICAgCiAgICAgICAgICAgIHZhciBjaXJjbGVfbWFya2VyX2FiMGU4ZWVkNmViNTRmNGM5NDNlNDc2NjZjZDBiMDIyID0gTC5jaXJjbGVNYXJrZXIoCiAgICAgICAgICAgICAgICBbNDMuNzI1ODgyMjk5OTk5OTk1LCAtNzkuMzE1NTcxNTk5OTk5OThdLAogICAgICAgICAgICAgICAgeyJidWJibGluZ01vdXNlRXZlbnRzIjogdHJ1ZSwgImNvbG9yIjogImJsdWUiLCAiZGFzaEFycmF5IjogbnVsbCwgImRhc2hPZmZzZXQiOiBudWxsLCAiZmlsbCI6IHRydWUsICJmaWxsQ29sb3IiOiAiIzMxODZjYyIsICJmaWxsT3BhY2l0eSI6IDAuNywgImZpbGxSdWxlIjogImV2ZW5vZGQiLCAibGluZUNhcCI6ICJyb3VuZCIsICJsaW5lSm9pbiI6ICJyb3VuZCIsICJvcGFjaXR5IjogMS4wLCAicmFkaXVzIjogNSwgInN0cm9rZSI6IHRydWUsICJ3ZWlnaHQiOiAzfQogICAgICAgICAgICApLmFkZFRvKG1hcF9hNjdjZWVhYjRhZjM0MTY0OTdiNjYwMjIxOGQ2ZDUzZCk7CiAgICAgICAgCiAgICAKICAgICAgICB2YXIgcG9wdXBfNWNiMmIxZjU1NGEyNDkyZWFlOTA3MWQ3MWY0ODRjNzkgPSBMLnBvcHVwKHsibWF4V2lkdGgiOiAiMTAwJSJ9KTsKCiAgICAgICAgCiAgICAgICAgICAgIHZhciBodG1sXzYyZTljMjBiZTIyZjRjOWJiYzkyMGZmOGYzMzQ3MTVjID0gJChgPGRpdiBpZD0iaHRtbF82MmU5YzIwYmUyMmY0YzliYmM5MjBmZjhmMzM0NzE1YyIgc3R5bGU9IndpZHRoOiAxMDAuMCU7IGhlaWdodDogMTAwLjAlOyI+VmljdG9yaWEgVmlsbGFnZSwgTm9ydGggWW9yazwvZGl2PmApWzBdOwogICAgICAgICAgICBwb3B1cF81Y2IyYjFmNTU0YTI0OTJlYWU5MDcxZDcxZjQ4NGM3OS5zZXRDb250ZW50KGh0bWxfNjJlOWMyMGJlMjJmNGM5YmJjOTIwZmY4ZjMzNDcxNWMpOwogICAgICAgIAoKICAgICAgICBjaXJjbGVfbWFya2VyX2FiMGU4ZWVkNmViNTRmNGM5NDNlNDc2NjZjZDBiMDIyLmJpbmRQb3B1cChwb3B1cF81Y2IyYjFmNTU0YTI0OTJlYWU5MDcxZDcxZjQ4NGM3OSkKICAgICAgICA7CgogICAgICAgIAogICAgCiAgICAKICAgICAgICAgICAgdmFyIGNpcmNsZV9tYXJrZXJfYzJmNTg1ZWMyOWVlNDY4MmI1NzY5MTFjMzkxN2U3ODUgPSBMLmNpcmNsZU1hcmtlcigKICAgICAgICAgICAgICAgIFs0My42NTQyNTk5LCAtNzkuMzYwNjM1OV0sCiAgICAgICAgICAgICAgICB7ImJ1YmJsaW5nTW91c2VFdmVudHMiOiB0cnVlLCAiY29sb3IiOiAiYmx1ZSIsICJkYXNoQXJyYXkiOiBudWxsLCAiZGFzaE9mZnNldCI6IG51bGwsICJmaWxsIjogdHJ1ZSwgImZpbGxDb2xvciI6ICIjMzE4NmNjIiwgImZpbGxPcGFjaXR5IjogMC43LCAiZmlsbFJ1bGUiOiAiZXZlbm9kZCIsICJsaW5lQ2FwIjogInJvdW5kIiwgImxpbmVKb2luIjogInJvdW5kIiwgIm9wYWNpdHkiOiAxLjAsICJyYWRpdXMiOiA1LCAic3Ryb2tlIjogdHJ1ZSwgIndlaWdodCI6IDN9CiAgICAgICAgICAgICkuYWRkVG8obWFwX2E2N2NlZWFiNGFmMzQxNjQ5N2I2NjAyMjE4ZDZkNTNkKTsKICAgICAgICAKICAgIAogICAgICAgIHZhciBwb3B1cF8xZjNiYTc3ZTA5NzQ0NTIwOTE5YWNiNjFhNTc5NmFhOSA9IEwucG9wdXAoeyJtYXhXaWR0aCI6ICIxMDAlIn0pOwoKICAgICAgICAKICAgICAgICAgICAgdmFyIGh0bWxfNjQzZDg5OTRmYzgwNGExNDhhOTk1NTgzZDVjZTJiNjggPSAkKGA8ZGl2IGlkPSJodG1sXzY0M2Q4OTk0ZmM4MDRhMTQ4YTk5NTU4M2Q1Y2UyYjY4IiBzdHlsZT0id2lkdGg6IDEwMC4wJTsgaGVpZ2h0OiAxMDAuMCU7Ij5SZWdlbnQgUGFyaywgSGFyYm91cmZyb250LCBEb3dudG93biBUb3JvbnRvPC9kaXY+YClbMF07CiAgICAgICAgICAgIHBvcHVwXzFmM2JhNzdlMDk3NDQ1MjA5MTlhY2I2MWE1Nzk2YWE5LnNldENvbnRlbnQoaHRtbF82NDNkODk5NGZjODA0YTE0OGE5OTU1ODNkNWNlMmI2OCk7CiAgICAgICAgCgogICAgICAgIGNpcmNsZV9tYXJrZXJfYzJmNTg1ZWMyOWVlNDY4MmI1NzY5MTFjMzkxN2U3ODUuYmluZFBvcHVwKHBvcHVwXzFmM2JhNzdlMDk3NDQ1MjA5MTlhY2I2MWE1Nzk2YWE5KQogICAgICAgIDsKCiAgICAgICAgCiAgICAKICAgIAogICAgICAgICAgICB2YXIgY2lyY2xlX21hcmtlcl8xYTk5MGEwZWUwMDE0MWVhODY4MDJkN2VlOTc0ZTMzMCA9IEwuY2lyY2xlTWFya2VyKAogICAgICAgICAgICAgICAgWzQzLjcxODUxNzk5OTk5OTk5NiwgLTc5LjQ2NDc2MzI5OTk5OTk5XSwKICAgICAgICAgICAgICAgIHsiYnViYmxpbmdNb3VzZUV2ZW50cyI6IHRydWUsICJjb2xvciI6ICJibHVlIiwgImRhc2hBcnJheSI6IG51bGwsICJkYXNoT2Zmc2V0IjogbnVsbCwgImZpbGwiOiB0cnVlLCAiZmlsbENvbG9yIjogIiMzMTg2Y2MiLCAiZmlsbE9wYWNpdHkiOiAwLjcsICJmaWxsUnVsZSI6ICJldmVub2RkIiwgImxpbmVDYXAiOiAicm91bmQiLCAibGluZUpvaW4iOiAicm91bmQiLCAib3BhY2l0eSI6IDEuMCwgInJhZGl1cyI6IDUsICJzdHJva2UiOiB0cnVlLCAid2VpZ2h0IjogM30KICAgICAgICAgICAgKS5hZGRUbyhtYXBfYTY3Y2VlYWI0YWYzNDE2NDk3YjY2MDIyMThkNmQ1M2QpOwogICAgICAgIAogICAgCiAgICAgICAgdmFyIHBvcHVwX2VlZGU0NDFmZDA4YzQwMjRhODNhNTg4MTI0ZmY4MTE0ID0gTC5wb3B1cCh7Im1heFdpZHRoIjogIjEwMCUifSk7CgogICAgICAgIAogICAgICAgICAgICB2YXIgaHRtbF9mMWZlNmUzNTI4YjM0ZTMzYWY4ZWRhMWM5YWRiMmUxOSA9ICQoYDxkaXYgaWQ9Imh0bWxfZjFmZTZlMzUyOGIzNGUzM2FmOGVkYTFjOWFkYjJlMTkiIHN0eWxlPSJ3aWR0aDogMTAwLjAlOyBoZWlnaHQ6IDEwMC4wJTsiPkxhd3JlbmNlIE1hbm9yLCBMYXdyZW5jZSBIZWlnaHRzLCBOb3J0aCBZb3JrPC9kaXY+YClbMF07CiAgICAgICAgICAgIHBvcHVwX2VlZGU0NDFmZDA4YzQwMjRhODNhNTg4MTI0ZmY4MTE0LnNldENvbnRlbnQoaHRtbF9mMWZlNmUzNTI4YjM0ZTMzYWY4ZWRhMWM5YWRiMmUxOSk7CiAgICAgICAgCgogICAgICAgIGNpcmNsZV9tYXJrZXJfMWE5OTBhMGVlMDAxNDFlYTg2ODAyZDdlZTk3NGUzMzAuYmluZFBvcHVwKHBvcHVwX2VlZGU0NDFmZDA4YzQwMjRhODNhNTg4MTI0ZmY4MTE0KQogICAgICAgIDsKCiAgICAgICAgCiAgICAKICAgIAogICAgICAgICAgICB2YXIgY2lyY2xlX21hcmtlcl82ZGVkYzVlZGU3NGE0ZWFiOTkzMDM1Mjg0MzZlMmI2MCA9IEwuY2lyY2xlTWFya2VyKAogICAgICAgICAgICAgICAgWzQzLjY2MjMwMTUsIC03OS4zODk0OTM4XSwKICAgICAgICAgICAgICAgIHsiYnViYmxpbmdNb3VzZUV2ZW50cyI6IHRydWUsICJjb2xvciI6ICJibHVlIiwgImRhc2hBcnJheSI6IG51bGwsICJkYXNoT2Zmc2V0IjogbnVsbCwgImZpbGwiOiB0cnVlLCAiZmlsbENvbG9yIjogIiMzMTg2Y2MiLCAiZmlsbE9wYWNpdHkiOiAwLjcsICJmaWxsUnVsZSI6ICJldmVub2RkIiwgImxpbmVDYXAiOiAicm91bmQiLCAibGluZUpvaW4iOiAicm91bmQiLCAib3BhY2l0eSI6IDEuMCwgInJhZGl1cyI6IDUsICJzdHJva2UiOiB0cnVlLCAid2VpZ2h0IjogM30KICAgICAgICAgICAgKS5hZGRUbyhtYXBfYTY3Y2VlYWI0YWYzNDE2NDk3YjY2MDIyMThkNmQ1M2QpOwogICAgICAgIAogICAgCiAgICAgICAgdmFyIHBvcHVwX2MxNDE3ZmVhODQ2NTRhZWNhYmQ1ZDc3NDc0M2I4YTk2ID0gTC5wb3B1cCh7Im1heFdpZHRoIjogIjEwMCUifSk7CgogICAgICAgIAogICAgICAgICAgICB2YXIgaHRtbF8zYzIxZGIzZmRjNjM0ZGIyOWM0OTQ5MmY0MjhjMmFlMiA9ICQoYDxkaXYgaWQ9Imh0bWxfM2MyMWRiM2ZkYzYzNGRiMjljNDk0OTJmNDI4YzJhZTIiIHN0eWxlPSJ3aWR0aDogMTAwLjAlOyBoZWlnaHQ6IDEwMC4wJTsiPlF1ZWVuJiMzOTtzIFBhcmssIE9udGFyaW8gUHJvdmluY2lhbCBHb3Zlcm5tZW50LCBEb3dudG93biBUb3JvbnRvPC9kaXY+YClbMF07CiAgICAgICAgICAgIHBvcHVwX2MxNDE3ZmVhODQ2NTRhZWNhYmQ1ZDc3NDc0M2I4YTk2LnNldENvbnRlbnQoaHRtbF8zYzIxZGIzZmRjNjM0ZGIyOWM0OTQ5MmY0MjhjMmFlMik7CiAgICAgICAgCgogICAgICAgIGNpcmNsZV9tYXJrZXJfNmRlZGM1ZWRlNzRhNGVhYjk5MzAzNTI4NDM2ZTJiNjAuYmluZFBvcHVwKHBvcHVwX2MxNDE3ZmVhODQ2NTRhZWNhYmQ1ZDc3NDc0M2I4YTk2KQogICAgICAgIDsKCiAgICAgICAgCiAgICAKICAgIAogICAgICAgICAgICB2YXIgY2lyY2xlX21hcmtlcl8zODhhNDU2OWFlZWY0MWQ5YmU5M2JiOWNmM2M0NmI5NSA9IEwuY2lyY2xlTWFya2VyKAogICAgICAgICAgICAgICAgWzQzLjY2Nzg1NTYsIC03OS41MzIyNDI0MDAwMDAwMl0sCiAgICAgICAgICAgICAgICB7ImJ1YmJsaW5nTW91c2VFdmVudHMiOiB0cnVlLCAiY29sb3IiOiAiYmx1ZSIsICJkYXNoQXJyYXkiOiBudWxsLCAiZGFzaE9mZnNldCI6IG51bGwsICJmaWxsIjogdHJ1ZSwgImZpbGxDb2xvciI6ICIjMzE4NmNjIiwgImZpbGxPcGFjaXR5IjogMC43LCAiZmlsbFJ1bGUiOiAiZXZlbm9kZCIsICJsaW5lQ2FwIjogInJvdW5kIiwgImxpbmVKb2luIjogInJvdW5kIiwgIm9wYWNpdHkiOiAxLjAsICJyYWRpdXMiOiA1LCAic3Ryb2tlIjogdHJ1ZSwgIndlaWdodCI6IDN9CiAgICAgICAgICAgICkuYWRkVG8obWFwX2E2N2NlZWFiNGFmMzQxNjQ5N2I2NjAyMjE4ZDZkNTNkKTsKICAgICAgICAKICAgIAogICAgICAgIHZhciBwb3B1cF9mZTJmZDMzNzViNDg0ZmY4YTc2OGI5OTM1MzE3ODBlNyA9IEwucG9wdXAoeyJtYXhXaWR0aCI6ICIxMDAlIn0pOwoKICAgICAgICAKICAgICAgICAgICAgdmFyIGh0bWxfNzI0YjgwN2EyMWRmNDYwYTk1YjVkMjljNGFjOTViZDEgPSAkKGA8ZGl2IGlkPSJodG1sXzcyNGI4MDdhMjFkZjQ2MGE5NWI1ZDI5YzRhYzk1YmQxIiBzdHlsZT0id2lkdGg6IDEwMC4wJTsgaGVpZ2h0OiAxMDAuMCU7Ij5Jc2xpbmd0b24gQXZlbnVlLCBFdG9iaWNva2U8L2Rpdj5gKVswXTsKICAgICAgICAgICAgcG9wdXBfZmUyZmQzMzc1YjQ4NGZmOGE3NjhiOTkzNTMxNzgwZTcuc2V0Q29udGVudChodG1sXzcyNGI4MDdhMjFkZjQ2MGE5NWI1ZDI5YzRhYzk1YmQxKTsKICAgICAgICAKCiAgICAgICAgY2lyY2xlX21hcmtlcl8zODhhNDU2OWFlZWY0MWQ5YmU5M2JiOWNmM2M0NmI5NS5iaW5kUG9wdXAocG9wdXBfZmUyZmQzMzc1YjQ4NGZmOGE3NjhiOTkzNTMxNzgwZTcpCiAgICAgICAgOwoKICAgICAgICAKICAgIAogICAgCiAgICAgICAgICAgIHZhciBjaXJjbGVfbWFya2VyXzc5MmY4ZmEzODQ0ZDQyZTZhMzIyOGViZDA3Nzk2ZjBiID0gTC5jaXJjbGVNYXJrZXIoCiAgICAgICAgICAgICAgICBbNDMuODA2Njg2Mjk5OTk5OTk2LCAtNzkuMTk0MzUzNDAwMDAwMDFdLAogICAgICAgICAgICAgICAgeyJidWJibGluZ01vdXNlRXZlbnRzIjogdHJ1ZSwgImNvbG9yIjogImJsdWUiLCAiZGFzaEFycmF5IjogbnVsbCwgImRhc2hPZmZzZXQiOiBudWxsLCAiZmlsbCI6IHRydWUsICJmaWxsQ29sb3IiOiAiIzMxODZjYyIsICJmaWxsT3BhY2l0eSI6IDAuNywgImZpbGxSdWxlIjogImV2ZW5vZGQiLCAibGluZUNhcCI6ICJyb3VuZCIsICJsaW5lSm9pbiI6ICJyb3VuZCIsICJvcGFjaXR5IjogMS4wLCAicmFkaXVzIjogNSwgInN0cm9rZSI6IHRydWUsICJ3ZWlnaHQiOiAzfQogICAgICAgICAgICApLmFkZFRvKG1hcF9hNjdjZWVhYjRhZjM0MTY0OTdiNjYwMjIxOGQ2ZDUzZCk7CiAgICAgICAgCiAgICAKICAgICAgICB2YXIgcG9wdXBfOGIwZTdhNzA3YjU5NGQ2NTkwYzE3NGRlMDFmMWY2NzMgPSBMLnBvcHVwKHsibWF4V2lkdGgiOiAiMTAwJSJ9KTsKCiAgICAgICAgCiAgICAgICAgICAgIHZhciBodG1sX2QwMTdkNzIyYjliMzRmMDQ4MTJjOWViOGE1OTU0NjcwID0gJChgPGRpdiBpZD0iaHRtbF9kMDE3ZDcyMmI5YjM0ZjA0ODEyYzllYjhhNTk1NDY3MCIgc3R5bGU9IndpZHRoOiAxMDAuMCU7IGhlaWdodDogMTAwLjAlOyI+TWFsdmVybiwgUm91Z2UsIFNjYXJib3JvdWdoPC9kaXY+YClbMF07CiAgICAgICAgICAgIHBvcHVwXzhiMGU3YTcwN2I1OTRkNjU5MGMxNzRkZTAxZjFmNjczLnNldENvbnRlbnQoaHRtbF9kMDE3ZDcyMmI5YjM0ZjA0ODEyYzllYjhhNTk1NDY3MCk7CiAgICAgICAgCgogICAgICAgIGNpcmNsZV9tYXJrZXJfNzkyZjhmYTM4NDRkNDJlNmEzMjI4ZWJkMDc3OTZmMGIuYmluZFBvcHVwKHBvcHVwXzhiMGU3YTcwN2I1OTRkNjU5MGMxNzRkZTAxZjFmNjczKQogICAgICAgIDsKCiAgICAgICAgCiAgICAKICAgIAogICAgICAgICAgICB2YXIgY2lyY2xlX21hcmtlcl8zNGVhODUwN2U1NWE0YTM5YTViNjkxNjY5ZTQ5YjNlYiA9IEwuY2lyY2xlTWFya2VyKAogICAgICAgICAgICAgICAgWzQzLjc0NTkwNTc5OTk5OTk5NiwgLTc5LjM1MjE4OF0sCiAgICAgICAgICAgICAgICB7ImJ1YmJsaW5nTW91c2VFdmVudHMiOiB0cnVlLCAiY29sb3IiOiAiYmx1ZSIsICJkYXNoQXJyYXkiOiBudWxsLCAiZGFzaE9mZnNldCI6IG51bGwsICJmaWxsIjogdHJ1ZSwgImZpbGxDb2xvciI6ICIjMzE4NmNjIiwgImZpbGxPcGFjaXR5IjogMC43LCAiZmlsbFJ1bGUiOiAiZXZlbm9kZCIsICJsaW5lQ2FwIjogInJvdW5kIiwgImxpbmVKb2luIjogInJvdW5kIiwgIm9wYWNpdHkiOiAxLjAsICJyYWRpdXMiOiA1LCAic3Ryb2tlIjogdHJ1ZSwgIndlaWdodCI6IDN9CiAgICAgICAgICAgICkuYWRkVG8obWFwX2E2N2NlZWFiNGFmMzQxNjQ5N2I2NjAyMjE4ZDZkNTNkKTsKICAgICAgICAKICAgIAogICAgICAgIHZhciBwb3B1cF8xM2U3MDZlNzY3NWM0NjFkYmZhYzc1MDRhMGEzNzYzYiA9IEwucG9wdXAoeyJtYXhXaWR0aCI6ICIxMDAlIn0pOwoKICAgICAgICAKICAgICAgICAgICAgdmFyIGh0bWxfMzFkMzQ2YjBhNTY0NGRjZDgxZDg2ODgxOTBiZWFkODMgPSAkKGA8ZGl2IGlkPSJodG1sXzMxZDM0NmIwYTU2NDRkY2Q4MWQ4Njg4MTkwYmVhZDgzIiBzdHlsZT0id2lkdGg6IDEwMC4wJTsgaGVpZ2h0OiAxMDAuMCU7Ij5Eb24gTWlsbHMsIE5vcnRoIFlvcms8L2Rpdj5gKVswXTsKICAgICAgICAgICAgcG9wdXBfMTNlNzA2ZTc2NzVjNDYxZGJmYWM3NTA0YTBhMzc2M2Iuc2V0Q29udGVudChodG1sXzMxZDM0NmIwYTU2NDRkY2Q4MWQ4Njg4MTkwYmVhZDgzKTsKICAgICAgICAKCiAgICAgICAgY2lyY2xlX21hcmtlcl8zNGVhODUwN2U1NWE0YTM5YTViNjkxNjY5ZTQ5YjNlYi5iaW5kUG9wdXAocG9wdXBfMTNlNzA2ZTc2NzVjNDYxZGJmYWM3NTA0YTBhMzc2M2IpCiAgICAgICAgOwoKICAgICAgICAKICAgIAogICAgCiAgICAgICAgICAgIHZhciBjaXJjbGVfbWFya2VyXzU5N2RiMzNiNDRjZTQyNTZiOTE1MDllOTA4OGUyNThmID0gTC5jaXJjbGVNYXJrZXIoCiAgICAgICAgICAgICAgICBbNDMuNzA2Mzk3MiwgLTc5LjMwOTkzN10sCiAgICAgICAgICAgICAgICB7ImJ1YmJsaW5nTW91c2VFdmVudHMiOiB0cnVlLCAiY29sb3IiOiAiYmx1ZSIsICJkYXNoQXJyYXkiOiBudWxsLCAiZGFzaE9mZnNldCI6IG51bGwsICJmaWxsIjogdHJ1ZSwgImZpbGxDb2xvciI6ICIjMzE4NmNjIiwgImZpbGxPcGFjaXR5IjogMC43LCAiZmlsbFJ1bGUiOiAiZXZlbm9kZCIsICJsaW5lQ2FwIjogInJvdW5kIiwgImxpbmVKb2luIjogInJvdW5kIiwgIm9wYWNpdHkiOiAxLjAsICJyYWRpdXMiOiA1LCAic3Ryb2tlIjogdHJ1ZSwgIndlaWdodCI6IDN9CiAgICAgICAgICAgICkuYWRkVG8obWFwX2E2N2NlZWFiNGFmMzQxNjQ5N2I2NjAyMjE4ZDZkNTNkKTsKICAgICAgICAKICAgIAogICAgICAgIHZhciBwb3B1cF9hNDU5Y2NiMzE4ZGI0ZDczODJlNWM1NjVjN2IyODZkOCA9IEwucG9wdXAoeyJtYXhXaWR0aCI6ICIxMDAlIn0pOwoKICAgICAgICAKICAgICAgICAgICAgdmFyIGh0bWxfMzg1Y2VjZTQ4ZDlmNDkwZmIxZjBiNzlhZTExNjdmYzMgPSAkKGA8ZGl2IGlkPSJodG1sXzM4NWNlY2U0OGQ5ZjQ5MGZiMWYwYjc5YWUxMTY3ZmMzIiBzdHlsZT0id2lkdGg6IDEwMC4wJTsgaGVpZ2h0OiAxMDAuMCU7Ij5QYXJrdmlldyBIaWxsLCBXb29kYmluZSBHYXJkZW5zLCBFYXN0IFlvcms8L2Rpdj5gKVswXTsKICAgICAgICAgICAgcG9wdXBfYTQ1OWNjYjMxOGRiNGQ3MzgyZTVjNTY1YzdiMjg2ZDguc2V0Q29udGVudChodG1sXzM4NWNlY2U0OGQ5ZjQ5MGZiMWYwYjc5YWUxMTY3ZmMzKTsKICAgICAgICAKCiAgICAgICAgY2lyY2xlX21hcmtlcl81OTdkYjMzYjQ0Y2U0MjU2YjkxNTA5ZTkwODhlMjU4Zi5iaW5kUG9wdXAocG9wdXBfYTQ1OWNjYjMxOGRiNGQ3MzgyZTVjNTY1YzdiMjg2ZDgpCiAgICAgICAgOwoKICAgICAgICAKICAgIAogICAgCiAgICAgICAgICAgIHZhciBjaXJjbGVfbWFya2VyX2M2YTg4NTdiNDc2ZTRkNjBhNjE2OTRlYTBjMWQxODI2ID0gTC5jaXJjbGVNYXJrZXIoCiAgICAgICAgICAgICAgICBbNDMuNjU3MTYxOCwgLTc5LjM3ODkzNzA5OTk5OTk5XSwKICAgICAgICAgICAgICAgIHsiYnViYmxpbmdNb3VzZUV2ZW50cyI6IHRydWUsICJjb2xvciI6ICJibHVlIiwgImRhc2hBcnJheSI6IG51bGwsICJkYXNoT2Zmc2V0IjogbnVsbCwgImZpbGwiOiB0cnVlLCAiZmlsbENvbG9yIjogIiMzMTg2Y2MiLCAiZmlsbE9wYWNpdHkiOiAwLjcsICJmaWxsUnVsZSI6ICJldmVub2RkIiwgImxpbmVDYXAiOiAicm91bmQiLCAibGluZUpvaW4iOiAicm91bmQiLCAib3BhY2l0eSI6IDEuMCwgInJhZGl1cyI6IDUsICJzdHJva2UiOiB0cnVlLCAid2VpZ2h0IjogM30KICAgICAgICAgICAgKS5hZGRUbyhtYXBfYTY3Y2VlYWI0YWYzNDE2NDk3YjY2MDIyMThkNmQ1M2QpOwogICAgICAgIAogICAgCiAgICAgICAgdmFyIHBvcHVwXzc2MDUwZmIwZTE3MTQzMjM5NDhhM2UzYWU2YTQ4NDI2ID0gTC5wb3B1cCh7Im1heFdpZHRoIjogIjEwMCUifSk7CgogICAgICAgIAogICAgICAgICAgICB2YXIgaHRtbF8yOGU2NDA5ZTRiMzc0NTVhOTk3MzViNTcyMTZiMGNiNCA9ICQoYDxkaXYgaWQ9Imh0bWxfMjhlNjQwOWU0YjM3NDU1YTk5NzM1YjU3MjE2YjBjYjQiIHN0eWxlPSJ3aWR0aDogMTAwLjAlOyBoZWlnaHQ6IDEwMC4wJTsiPkdhcmRlbiBEaXN0cmljdCwgUnllcnNvbiwgRG93bnRvd24gVG9yb250bzwvZGl2PmApWzBdOwogICAgICAgICAgICBwb3B1cF83NjA1MGZiMGUxNzE0MzIzOTQ4YTNlM2FlNmE0ODQyNi5zZXRDb250ZW50KGh0bWxfMjhlNjQwOWU0YjM3NDU1YTk5NzM1YjU3MjE2YjBjYjQpOwogICAgICAgIAoKICAgICAgICBjaXJjbGVfbWFya2VyX2M2YTg4NTdiNDc2ZTRkNjBhNjE2OTRlYTBjMWQxODI2LmJpbmRQb3B1cChwb3B1cF83NjA1MGZiMGUxNzE0MzIzOTQ4YTNlM2FlNmE0ODQyNikKICAgICAgICA7CgogICAgICAgIAogICAgCiAgICAKICAgICAgICAgICAgdmFyIGNpcmNsZV9tYXJrZXJfMWIzZjUyNzMwZDg3NDBlYTg1MWM1YTNjMDBkZTYxNWMgPSBMLmNpcmNsZU1hcmtlcigKICAgICAgICAgICAgICAgIFs0My43MDk1NzcsIC03OS40NDUwNzI1OTk5OTk5OV0sCiAgICAgICAgICAgICAgICB7ImJ1YmJsaW5nTW91c2VFdmVudHMiOiB0cnVlLCAiY29sb3IiOiAiYmx1ZSIsICJkYXNoQXJyYXkiOiBudWxsLCAiZGFzaE9mZnNldCI6IG51bGwsICJmaWxsIjogdHJ1ZSwgImZpbGxDb2xvciI6ICIjMzE4NmNjIiwgImZpbGxPcGFjaXR5IjogMC43LCAiZmlsbFJ1bGUiOiAiZXZlbm9kZCIsICJsaW5lQ2FwIjogInJvdW5kIiwgImxpbmVKb2luIjogInJvdW5kIiwgIm9wYWNpdHkiOiAxLjAsICJyYWRpdXMiOiA1LCAic3Ryb2tlIjogdHJ1ZSwgIndlaWdodCI6IDN9CiAgICAgICAgICAgICkuYWRkVG8obWFwX2E2N2NlZWFiNGFmMzQxNjQ5N2I2NjAyMjE4ZDZkNTNkKTsKICAgICAgICAKICAgIAogICAgICAgIHZhciBwb3B1cF8zN2QzNDdjODE1Nzc0ZTMzYWJiNWVhMDk0ZTU2NzExZCA9IEwucG9wdXAoeyJtYXhXaWR0aCI6ICIxMDAlIn0pOwoKICAgICAgICAKICAgICAgICAgICAgdmFyIGh0bWxfNjc2NzY2ZmFkNTE5NDg3M2FhMzAyZmU3Zjk5ZjQ2ZDMgPSAkKGA8ZGl2IGlkPSJodG1sXzY3Njc2NmZhZDUxOTQ4NzNhYTMwMmZlN2Y5OWY0NmQzIiBzdHlsZT0id2lkdGg6IDEwMC4wJTsgaGVpZ2h0OiAxMDAuMCU7Ij5HbGVuY2Fpcm4sIE5vcnRoIFlvcms8L2Rpdj5gKVswXTsKICAgICAgICAgICAgcG9wdXBfMzdkMzQ3YzgxNTc3NGUzM2FiYjVlYTA5NGU1NjcxMWQuc2V0Q29udGVudChodG1sXzY3Njc2NmZhZDUxOTQ4NzNhYTMwMmZlN2Y5OWY0NmQzKTsKICAgICAgICAKCiAgICAgICAgY2lyY2xlX21hcmtlcl8xYjNmNTI3MzBkODc0MGVhODUxYzVhM2MwMGRlNjE1Yy5iaW5kUG9wdXAocG9wdXBfMzdkMzQ3YzgxNTc3NGUzM2FiYjVlYTA5NGU1NjcxMWQpCiAgICAgICAgOwoKICAgICAgICAKICAgIAogICAgCiAgICAgICAgICAgIHZhciBjaXJjbGVfbWFya2VyXzBjYTZhNzgzMWFjYjRkMWRiYTIzYWNlYzRjNjI0NTM5ID0gTC5jaXJjbGVNYXJrZXIoCiAgICAgICAgICAgICAgICBbNDMuNjUwOTQzMiwgLTc5LjU1NDcyNDQwMDAwMDAxXSwKICAgICAgICAgICAgICAgIHsiYnViYmxpbmdNb3VzZUV2ZW50cyI6IHRydWUsICJjb2xvciI6ICJibHVlIiwgImRhc2hBcnJheSI6IG51bGwsICJkYXNoT2Zmc2V0IjogbnVsbCwgImZpbGwiOiB0cnVlLCAiZmlsbENvbG9yIjogIiMzMTg2Y2MiLCAiZmlsbE9wYWNpdHkiOiAwLjcsICJmaWxsUnVsZSI6ICJldmVub2RkIiwgImxpbmVDYXAiOiAicm91bmQiLCAibGluZUpvaW4iOiAicm91bmQiLCAib3BhY2l0eSI6IDEuMCwgInJhZGl1cyI6IDUsICJzdHJva2UiOiB0cnVlLCAid2VpZ2h0IjogM30KICAgICAgICAgICAgKS5hZGRUbyhtYXBfYTY3Y2VlYWI0YWYzNDE2NDk3YjY2MDIyMThkNmQ1M2QpOwogICAgICAgIAogICAgCiAgICAgICAgdmFyIHBvcHVwXzNhNWY1MGFiYzEzNzQ3YzJiYzJjOTUwNzI5NTNmMTIwID0gTC5wb3B1cCh7Im1heFdpZHRoIjogIjEwMCUifSk7CgogICAgICAgIAogICAgICAgICAgICB2YXIgaHRtbF9iMjRmZWNjNzI2OGI0YzA0ODBhMWI2ZmMwNGUzMTRlNCA9ICQoYDxkaXYgaWQ9Imh0bWxfYjI0ZmVjYzcyNjhiNGMwNDgwYTFiNmZjMDRlMzE0ZTQiIHN0eWxlPSJ3aWR0aDogMTAwLjAlOyBoZWlnaHQ6IDEwMC4wJTsiPldlc3QgRGVhbmUgUGFyaywgUHJpbmNlc3MgR2FyZGVucywgTWFydGluIEdyb3ZlLCBJc2xpbmd0b24sIENsb3ZlcmRhbGUsIEV0b2JpY29rZTwvZGl2PmApWzBdOwogICAgICAgICAgICBwb3B1cF8zYTVmNTBhYmMxMzc0N2MyYmMyYzk1MDcyOTUzZjEyMC5zZXRDb250ZW50KGh0bWxfYjI0ZmVjYzcyNjhiNGMwNDgwYTFiNmZjMDRlMzE0ZTQpOwogICAgICAgIAoKICAgICAgICBjaXJjbGVfbWFya2VyXzBjYTZhNzgzMWFjYjRkMWRiYTIzYWNlYzRjNjI0NTM5LmJpbmRQb3B1cChwb3B1cF8zYTVmNTBhYmMxMzc0N2MyYmMyYzk1MDcyOTUzZjEyMCkKICAgICAgICA7CgogICAgICAgIAogICAgCiAgICAKICAgICAgICAgICAgdmFyIGNpcmNsZV9tYXJrZXJfYmExMmNmNjFlYzYyNGNhN2FlODAxNWE5Y2I1ZGIzZjQgPSBMLmNpcmNsZU1hcmtlcigKICAgICAgICAgICAgICAgIFs0My43ODQ1MzUxLCAtNzkuMTYwNDk3MDk5OTk5OTldLAogICAgICAgICAgICAgICAgeyJidWJibGluZ01vdXNlRXZlbnRzIjogdHJ1ZSwgImNvbG9yIjogImJsdWUiLCAiZGFzaEFycmF5IjogbnVsbCwgImRhc2hPZmZzZXQiOiBudWxsLCAiZmlsbCI6IHRydWUsICJmaWxsQ29sb3IiOiAiIzMxODZjYyIsICJmaWxsT3BhY2l0eSI6IDAuNywgImZpbGxSdWxlIjogImV2ZW5vZGQiLCAibGluZUNhcCI6ICJyb3VuZCIsICJsaW5lSm9pbiI6ICJyb3VuZCIsICJvcGFjaXR5IjogMS4wLCAicmFkaXVzIjogNSwgInN0cm9rZSI6IHRydWUsICJ3ZWlnaHQiOiAzfQogICAgICAgICAgICApLmFkZFRvKG1hcF9hNjdjZWVhYjRhZjM0MTY0OTdiNjYwMjIxOGQ2ZDUzZCk7CiAgICAgICAgCiAgICAKICAgICAgICB2YXIgcG9wdXBfZmMwN2VlZmU0ZGMyNDcwMzkzMDYxMzZiNDhmNDZiOWIgPSBMLnBvcHVwKHsibWF4V2lkdGgiOiAiMTAwJSJ9KTsKCiAgICAgICAgCiAgICAgICAgICAgIHZhciBodG1sXzc0OWU1MDc3ZTE1ZTRkZTc5YjllMmNiMDYyYTk5YTU4ID0gJChgPGRpdiBpZD0iaHRtbF83NDllNTA3N2UxNWU0ZGU3OWI5ZTJjYjA2MmE5OWE1OCIgc3R5bGU9IndpZHRoOiAxMDAuMCU7IGhlaWdodDogMTAwLjAlOyI+Um91Z2UgSGlsbCwgUG9ydCBVbmlvbiwgSGlnaGxhbmQgQ3JlZWssIFNjYXJib3JvdWdoPC9kaXY+YClbMF07CiAgICAgICAgICAgIHBvcHVwX2ZjMDdlZWZlNGRjMjQ3MDM5MzA2MTM2YjQ4ZjQ2YjliLnNldENvbnRlbnQoaHRtbF83NDllNTA3N2UxNWU0ZGU3OWI5ZTJjYjA2MmE5OWE1OCk7CiAgICAgICAgCgogICAgICAgIGNpcmNsZV9tYXJrZXJfYmExMmNmNjFlYzYyNGNhN2FlODAxNWE5Y2I1ZGIzZjQuYmluZFBvcHVwKHBvcHVwX2ZjMDdlZWZlNGRjMjQ3MDM5MzA2MTM2YjQ4ZjQ2YjliKQogICAgICAgIDsKCiAgICAgICAgCiAgICAKICAgIAogICAgICAgICAgICB2YXIgY2lyY2xlX21hcmtlcl8xMzYyYTBiYjkwMWE0NDBhYWYzMjYyMGJmOTEwNTUyZCA9IEwuY2lyY2xlTWFya2VyKAogICAgICAgICAgICAgICAgWzQzLjcyNTg5OTcwMDAwMDAxLCAtNzkuMzQwOTIzXSwKICAgICAgICAgICAgICAgIHsiYnViYmxpbmdNb3VzZUV2ZW50cyI6IHRydWUsICJjb2xvciI6ICJibHVlIiwgImRhc2hBcnJheSI6IG51bGwsICJkYXNoT2Zmc2V0IjogbnVsbCwgImZpbGwiOiB0cnVlLCAiZmlsbENvbG9yIjogIiMzMTg2Y2MiLCAiZmlsbE9wYWNpdHkiOiAwLjcsICJmaWxsUnVsZSI6ICJldmVub2RkIiwgImxpbmVDYXAiOiAicm91bmQiLCAibGluZUpvaW4iOiAicm91bmQiLCAib3BhY2l0eSI6IDEuMCwgInJhZGl1cyI6IDUsICJzdHJva2UiOiB0cnVlLCAid2VpZ2h0IjogM30KICAgICAgICAgICAgKS5hZGRUbyhtYXBfYTY3Y2VlYWI0YWYzNDE2NDk3YjY2MDIyMThkNmQ1M2QpOwogICAgICAgIAogICAgCiAgICAgICAgdmFyIHBvcHVwX2NlZTBlMzIyMGFmMzQ4MjFhMzBlMDg0NWU2MGRmZTI5ID0gTC5wb3B1cCh7Im1heFdpZHRoIjogIjEwMCUifSk7CgogICAgICAgIAogICAgICAgICAgICB2YXIgaHRtbF8zMDE1NDg3MTBmOTQ0NzY3OTJkNmY3NTU4MjFjZDRjNyA9ICQoYDxkaXYgaWQ9Imh0bWxfMzAxNTQ4NzEwZjk0NDc2NzkyZDZmNzU1ODIxY2Q0YzciIHN0eWxlPSJ3aWR0aDogMTAwLjAlOyBoZWlnaHQ6IDEwMC4wJTsiPkRvbiBNaWxscywgTm9ydGggWW9yazwvZGl2PmApWzBdOwogICAgICAgICAgICBwb3B1cF9jZWUwZTMyMjBhZjM0ODIxYTMwZTA4NDVlNjBkZmUyOS5zZXRDb250ZW50KGh0bWxfMzAxNTQ4NzEwZjk0NDc2NzkyZDZmNzU1ODIxY2Q0YzcpOwogICAgICAgIAoKICAgICAgICBjaXJjbGVfbWFya2VyXzEzNjJhMGJiOTAxYTQ0MGFhZjMyNjIwYmY5MTA1NTJkLmJpbmRQb3B1cChwb3B1cF9jZWUwZTMyMjBhZjM0ODIxYTMwZTA4NDVlNjBkZmUyOSkKICAgICAgICA7CgogICAgICAgIAogICAgCiAgICAKICAgICAgICAgICAgdmFyIGNpcmNsZV9tYXJrZXJfMmFkNjQ2MWM0NzIzNDczN2IwNzZmNTBmM2JlMDIxNDggPSBMLmNpcmNsZU1hcmtlcigKICAgICAgICAgICAgICAgIFs0My42OTUzNDM5MDAwMDAwMDUsIC03OS4zMTgzODg3XSwKICAgICAgICAgICAgICAgIHsiYnViYmxpbmdNb3VzZUV2ZW50cyI6IHRydWUsICJjb2xvciI6ICJibHVlIiwgImRhc2hBcnJheSI6IG51bGwsICJkYXNoT2Zmc2V0IjogbnVsbCwgImZpbGwiOiB0cnVlLCAiZmlsbENvbG9yIjogIiMzMTg2Y2MiLCAiZmlsbE9wYWNpdHkiOiAwLjcsICJmaWxsUnVsZSI6ICJldmVub2RkIiwgImxpbmVDYXAiOiAicm91bmQiLCAibGluZUpvaW4iOiAicm91bmQiLCAib3BhY2l0eSI6IDEuMCwgInJhZGl1cyI6IDUsICJzdHJva2UiOiB0cnVlLCAid2VpZ2h0IjogM30KICAgICAgICAgICAgKS5hZGRUbyhtYXBfYTY3Y2VlYWI0YWYzNDE2NDk3YjY2MDIyMThkNmQ1M2QpOwogICAgICAgIAogICAgCiAgICAgICAgdmFyIHBvcHVwXzcyMTI3Y2VjYTk2NjQ4YTJiYjcwMDQwNWZmMDIxY2NlID0gTC5wb3B1cCh7Im1heFdpZHRoIjogIjEwMCUifSk7CgogICAgICAgIAogICAgICAgICAgICB2YXIgaHRtbF8yODZlNjAyYWZkMGE0MzNiOTk0NzQ2OWYyOThjODI2ZiA9ICQoYDxkaXYgaWQ9Imh0bWxfMjg2ZTYwMmFmZDBhNDMzYjk5NDc0NjlmMjk4YzgyNmYiIHN0eWxlPSJ3aWR0aDogMTAwLjAlOyBoZWlnaHQ6IDEwMC4wJTsiPldvb2RiaW5lIEhlaWdodHMsIEVhc3QgWW9yazwvZGl2PmApWzBdOwogICAgICAgICAgICBwb3B1cF83MjEyN2NlY2E5NjY0OGEyYmI3MDA0MDVmZjAyMWNjZS5zZXRDb250ZW50KGh0bWxfMjg2ZTYwMmFmZDBhNDMzYjk5NDc0NjlmMjk4YzgyNmYpOwogICAgICAgIAoKICAgICAgICBjaXJjbGVfbWFya2VyXzJhZDY0NjFjNDcyMzQ3MzdiMDc2ZjUwZjNiZTAyMTQ4LmJpbmRQb3B1cChwb3B1cF83MjEyN2NlY2E5NjY0OGEyYmI3MDA0MDVmZjAyMWNjZSkKICAgICAgICA7CgogICAgICAgIAogICAgCiAgICAKICAgICAgICAgICAgdmFyIGNpcmNsZV9tYXJrZXJfNjFiMTY1MzUyMzA5NGUzMmE0ZjNiNjE0MTBhOWIxYmEgPSBMLmNpcmNsZU1hcmtlcigKICAgICAgICAgICAgICAgIFs0My42NTE0OTM5LCAtNzkuMzc1NDE3OV0sCiAgICAgICAgICAgICAgICB7ImJ1YmJsaW5nTW91c2VFdmVudHMiOiB0cnVlLCAiY29sb3IiOiAiYmx1ZSIsICJkYXNoQXJyYXkiOiBudWxsLCAiZGFzaE9mZnNldCI6IG51bGwsICJmaWxsIjogdHJ1ZSwgImZpbGxDb2xvciI6ICIjMzE4NmNjIiwgImZpbGxPcGFjaXR5IjogMC43LCAiZmlsbFJ1bGUiOiAiZXZlbm9kZCIsICJsaW5lQ2FwIjogInJvdW5kIiwgImxpbmVKb2luIjogInJvdW5kIiwgIm9wYWNpdHkiOiAxLjAsICJyYWRpdXMiOiA1LCAic3Ryb2tlIjogdHJ1ZSwgIndlaWdodCI6IDN9CiAgICAgICAgICAgICkuYWRkVG8obWFwX2E2N2NlZWFiNGFmMzQxNjQ5N2I2NjAyMjE4ZDZkNTNkKTsKICAgICAgICAKICAgIAogICAgICAgIHZhciBwb3B1cF85YjBmNmQ5MTVhMjc0MDgwOTJkOTUwNzc1MjBhZWVmOCA9IEwucG9wdXAoeyJtYXhXaWR0aCI6ICIxMDAlIn0pOwoKICAgICAgICAKICAgICAgICAgICAgdmFyIGh0bWxfOWJmYzVjNjhkMDAxNDUxYTg0Mjg5MGExZjIwMjkwNzUgPSAkKGA8ZGl2IGlkPSJodG1sXzliZmM1YzY4ZDAwMTQ1MWE4NDI4OTBhMWYyMDI5MDc1IiBzdHlsZT0id2lkdGg6IDEwMC4wJTsgaGVpZ2h0OiAxMDAuMCU7Ij5TdC4gSmFtZXMgVG93biwgRG93bnRvd24gVG9yb250bzwvZGl2PmApWzBdOwogICAgICAgICAgICBwb3B1cF85YjBmNmQ5MTVhMjc0MDgwOTJkOTUwNzc1MjBhZWVmOC5zZXRDb250ZW50KGh0bWxfOWJmYzVjNjhkMDAxNDUxYTg0Mjg5MGExZjIwMjkwNzUpOwogICAgICAgIAoKICAgICAgICBjaXJjbGVfbWFya2VyXzYxYjE2NTM1MjMwOTRlMzJhNGYzYjYxNDEwYTliMWJhLmJpbmRQb3B1cChwb3B1cF85YjBmNmQ5MTVhMjc0MDgwOTJkOTUwNzc1MjBhZWVmOCkKICAgICAgICA7CgogICAgICAgIAogICAgCiAgICAKICAgICAgICAgICAgdmFyIGNpcmNsZV9tYXJrZXJfYmVjN2JkYjQ4M2M5NGI3YzlkNzI1MWYxMmFkMmYwY2MgPSBMLmNpcmNsZU1hcmtlcigKICAgICAgICAgICAgICAgIFs0My42OTM3ODEzLCAtNzkuNDI4MTkxNDAwMDAwMDJdLAogICAgICAgICAgICAgICAgeyJidWJibGluZ01vdXNlRXZlbnRzIjogdHJ1ZSwgImNvbG9yIjogImJsdWUiLCAiZGFzaEFycmF5IjogbnVsbCwgImRhc2hPZmZzZXQiOiBudWxsLCAiZmlsbCI6IHRydWUsICJmaWxsQ29sb3IiOiAiIzMxODZjYyIsICJmaWxsT3BhY2l0eSI6IDAuNywgImZpbGxSdWxlIjogImV2ZW5vZGQiLCAibGluZUNhcCI6ICJyb3VuZCIsICJsaW5lSm9pbiI6ICJyb3VuZCIsICJvcGFjaXR5IjogMS4wLCAicmFkaXVzIjogNSwgInN0cm9rZSI6IHRydWUsICJ3ZWlnaHQiOiAzfQogICAgICAgICAgICApLmFkZFRvKG1hcF9hNjdjZWVhYjRhZjM0MTY0OTdiNjYwMjIxOGQ2ZDUzZCk7CiAgICAgICAgCiAgICAKICAgICAgICB2YXIgcG9wdXBfY2MwMDQwYWZhZWNjNGYzNGI3NWUxN2U4MDdhOWFjMTAgPSBMLnBvcHVwKHsibWF4V2lkdGgiOiAiMTAwJSJ9KTsKCiAgICAgICAgCiAgICAgICAgICAgIHZhciBodG1sXzIwMWVhN2EzYjg2YzQwYTVhYWVjODI0ZTYxMWVmM2M1ID0gJChgPGRpdiBpZD0iaHRtbF8yMDFlYTdhM2I4NmM0MGE1YWFlYzgyNGU2MTFlZjNjNSIgc3R5bGU9IndpZHRoOiAxMDAuMCU7IGhlaWdodDogMTAwLjAlOyI+SHVtZXdvb2QtQ2VkYXJ2YWxlLCBZb3JrPC9kaXY+YClbMF07CiAgICAgICAgICAgIHBvcHVwX2NjMDA0MGFmYWVjYzRmMzRiNzVlMTdlODA3YTlhYzEwLnNldENvbnRlbnQoaHRtbF8yMDFlYTdhM2I4NmM0MGE1YWFlYzgyNGU2MTFlZjNjNSk7CiAgICAgICAgCgogICAgICAgIGNpcmNsZV9tYXJrZXJfYmVjN2JkYjQ4M2M5NGI3YzlkNzI1MWYxMmFkMmYwY2MuYmluZFBvcHVwKHBvcHVwX2NjMDA0MGFmYWVjYzRmMzRiNzVlMTdlODA3YTlhYzEwKQogICAgICAgIDsKCiAgICAgICAgCiAgICAKICAgIAogICAgICAgICAgICB2YXIgY2lyY2xlX21hcmtlcl9jNTdkODMzNjZkNjA0NzdmOTYzZjgyODIyYTJkNWZjNiA9IEwuY2lyY2xlTWFya2VyKAogICAgICAgICAgICAgICAgWzQzLjY0MzUxNTIsIC03OS41NzcyMDA3OTk5OTk5OV0sCiAgICAgICAgICAgICAgICB7ImJ1YmJsaW5nTW91c2VFdmVudHMiOiB0cnVlLCAiY29sb3IiOiAiYmx1ZSIsICJkYXNoQXJyYXkiOiBudWxsLCAiZGFzaE9mZnNldCI6IG51bGwsICJmaWxsIjogdHJ1ZSwgImZpbGxDb2xvciI6ICIjMzE4NmNjIiwgImZpbGxPcGFjaXR5IjogMC43LCAiZmlsbFJ1bGUiOiAiZXZlbm9kZCIsICJsaW5lQ2FwIjogInJvdW5kIiwgImxpbmVKb2luIjogInJvdW5kIiwgIm9wYWNpdHkiOiAxLjAsICJyYWRpdXMiOiA1LCAic3Ryb2tlIjogdHJ1ZSwgIndlaWdodCI6IDN9CiAgICAgICAgICAgICkuYWRkVG8obWFwX2E2N2NlZWFiNGFmMzQxNjQ5N2I2NjAyMjE4ZDZkNTNkKTsKICAgICAgICAKICAgIAogICAgICAgIHZhciBwb3B1cF9jYWJhMjY0NGUwNGM0OWNiYjE2NDMzYjE1Njk0ZWI3NSA9IEwucG9wdXAoeyJtYXhXaWR0aCI6ICIxMDAlIn0pOwoKICAgICAgICAKICAgICAgICAgICAgdmFyIGh0bWxfYzE0ZjdhZDlkMWIzNGZkMGFlOWExOGMyMDk1ZWNlNDYgPSAkKGA8ZGl2IGlkPSJodG1sX2MxNGY3YWQ5ZDFiMzRmZDBhZTlhMThjMjA5NWVjZTQ2IiBzdHlsZT0id2lkdGg6IDEwMC4wJTsgaGVpZ2h0OiAxMDAuMCU7Ij5FcmluZ2F0ZSwgQmxvb3JkYWxlIEdhcmRlbnMsIE9sZCBCdXJuaGFtdGhvcnBlLCBNYXJrbGFuZCBXb29kLCBFdG9iaWNva2U8L2Rpdj5gKVswXTsKICAgICAgICAgICAgcG9wdXBfY2FiYTI2NDRlMDRjNDljYmIxNjQzM2IxNTY5NGViNzUuc2V0Q29udGVudChodG1sX2MxNGY3YWQ5ZDFiMzRmZDBhZTlhMThjMjA5NWVjZTQ2KTsKICAgICAgICAKCiAgICAgICAgY2lyY2xlX21hcmtlcl9jNTdkODMzNjZkNjA0NzdmOTYzZjgyODIyYTJkNWZjNi5iaW5kUG9wdXAocG9wdXBfY2FiYTI2NDRlMDRjNDljYmIxNjQzM2IxNTY5NGViNzUpCiAgICAgICAgOwoKICAgICAgICAKICAgIAogICAgCiAgICAgICAgICAgIHZhciBjaXJjbGVfbWFya2VyXzhmY2VmZTZhMmZiMTQ3YjA5ZGE5OGQxMGZiNmIyOGY1ID0gTC5jaXJjbGVNYXJrZXIoCiAgICAgICAgICAgICAgICBbNDMuNzYzNTcyNiwgLTc5LjE4ODcxMTVdLAogICAgICAgICAgICAgICAgeyJidWJibGluZ01vdXNlRXZlbnRzIjogdHJ1ZSwgImNvbG9yIjogImJsdWUiLCAiZGFzaEFycmF5IjogbnVsbCwgImRhc2hPZmZzZXQiOiBudWxsLCAiZmlsbCI6IHRydWUsICJmaWxsQ29sb3IiOiAiIzMxODZjYyIsICJmaWxsT3BhY2l0eSI6IDAuNywgImZpbGxSdWxlIjogImV2ZW5vZGQiLCAibGluZUNhcCI6ICJyb3VuZCIsICJsaW5lSm9pbiI6ICJyb3VuZCIsICJvcGFjaXR5IjogMS4wLCAicmFkaXVzIjogNSwgInN0cm9rZSI6IHRydWUsICJ3ZWlnaHQiOiAzfQogICAgICAgICAgICApLmFkZFRvKG1hcF9hNjdjZWVhYjRhZjM0MTY0OTdiNjYwMjIxOGQ2ZDUzZCk7CiAgICAgICAgCiAgICAKICAgICAgICB2YXIgcG9wdXBfYjA2Y2VkZjhkNzk3NDg1MWJkODhlNmE3YWM5MmZiZjkgPSBMLnBvcHVwKHsibWF4V2lkdGgiOiAiMTAwJSJ9KTsKCiAgICAgICAgCiAgICAgICAgICAgIHZhciBodG1sX2Y3NGEwOTQyODNiMjQ1ZjA4MDhhOGI0NmQ4YjhjMjQ5ID0gJChgPGRpdiBpZD0iaHRtbF9mNzRhMDk0MjgzYjI0NWYwODA4YThiNDZkOGI4YzI0OSIgc3R5bGU9IndpZHRoOiAxMDAuMCU7IGhlaWdodDogMTAwLjAlOyI+R3VpbGR3b29kLCBNb3JuaW5nc2lkZSwgV2VzdCBIaWxsLCBTY2FyYm9yb3VnaDwvZGl2PmApWzBdOwogICAgICAgICAgICBwb3B1cF9iMDZjZWRmOGQ3OTc0ODUxYmQ4OGU2YTdhYzkyZmJmOS5zZXRDb250ZW50KGh0bWxfZjc0YTA5NDI4M2IyNDVmMDgwOGE4YjQ2ZDhiOGMyNDkpOwogICAgICAgIAoKICAgICAgICBjaXJjbGVfbWFya2VyXzhmY2VmZTZhMmZiMTQ3YjA5ZGE5OGQxMGZiNmIyOGY1LmJpbmRQb3B1cChwb3B1cF9iMDZjZWRmOGQ3OTc0ODUxYmQ4OGU2YTdhYzkyZmJmOSkKICAgICAgICA7CgogICAgICAgIAogICAgCiAgICAKICAgICAgICAgICAgdmFyIGNpcmNsZV9tYXJrZXJfMGJlMDdmYmNkZGJjNDgwYjgyOTg5ODE5ZGI4MjZhYmUgPSBMLmNpcmNsZU1hcmtlcigKICAgICAgICAgICAgICAgIFs0My42NzYzNTczOTk5OTk5OSwgLTc5LjI5MzAzMTJdLAogICAgICAgICAgICAgICAgeyJidWJibGluZ01vdXNlRXZlbnRzIjogdHJ1ZSwgImNvbG9yIjogImJsdWUiLCAiZGFzaEFycmF5IjogbnVsbCwgImRhc2hPZmZzZXQiOiBudWxsLCAiZmlsbCI6IHRydWUsICJmaWxsQ29sb3IiOiAiIzMxODZjYyIsICJmaWxsT3BhY2l0eSI6IDAuNywgImZpbGxSdWxlIjogImV2ZW5vZGQiLCAibGluZUNhcCI6ICJyb3VuZCIsICJsaW5lSm9pbiI6ICJyb3VuZCIsICJvcGFjaXR5IjogMS4wLCAicmFkaXVzIjogNSwgInN0cm9rZSI6IHRydWUsICJ3ZWlnaHQiOiAzfQogICAgICAgICAgICApLmFkZFRvKG1hcF9hNjdjZWVhYjRhZjM0MTY0OTdiNjYwMjIxOGQ2ZDUzZCk7CiAgICAgICAgCiAgICAKICAgICAgICB2YXIgcG9wdXBfMjgwY2E5NTYzM2QxNDc1YmFkMmI5ZjViYjdiNTc3NTcgPSBMLnBvcHVwKHsibWF4V2lkdGgiOiAiMTAwJSJ9KTsKCiAgICAgICAgCiAgICAgICAgICAgIHZhciBodG1sX2VkNzc4ZmMwOTVmMTQ3OWZhZWQ0YjgzMTQ2YzhkYzA1ID0gJChgPGRpdiBpZD0iaHRtbF9lZDc3OGZjMDk1ZjE0NzlmYWVkNGI4MzE0NmM4ZGMwNSIgc3R5bGU9IndpZHRoOiAxMDAuMCU7IGhlaWdodDogMTAwLjAlOyI+VGhlIEJlYWNoZXMsIEVhc3QgVG9yb250bzwvZGl2PmApWzBdOwogICAgICAgICAgICBwb3B1cF8yODBjYTk1NjMzZDE0NzViYWQyYjlmNWJiN2I1Nzc1Ny5zZXRDb250ZW50KGh0bWxfZWQ3NzhmYzA5NWYxNDc5ZmFlZDRiODMxNDZjOGRjMDUpOwogICAgICAgIAoKICAgICAgICBjaXJjbGVfbWFya2VyXzBiZTA3ZmJjZGRiYzQ4MGI4Mjk4OTgxOWRiODI2YWJlLmJpbmRQb3B1cChwb3B1cF8yODBjYTk1NjMzZDE0NzViYWQyYjlmNWJiN2I1Nzc1NykKICAgICAgICA7CgogICAgICAgIAogICAgCiAgICAKICAgICAgICAgICAgdmFyIGNpcmNsZV9tYXJrZXJfZDY0NWUyNTRkZmNiNDRiZDk1MzE2MTc4NmViZGYyNTYgPSBMLmNpcmNsZU1hcmtlcigKICAgICAgICAgICAgICAgIFs0My42NDQ3NzA3OTk5OTk5OTYsIC03OS4zNzMzMDY0XSwKICAgICAgICAgICAgICAgIHsiYnViYmxpbmdNb3VzZUV2ZW50cyI6IHRydWUsICJjb2xvciI6ICJibHVlIiwgImRhc2hBcnJheSI6IG51bGwsICJkYXNoT2Zmc2V0IjogbnVsbCwgImZpbGwiOiB0cnVlLCAiZmlsbENvbG9yIjogIiMzMTg2Y2MiLCAiZmlsbE9wYWNpdHkiOiAwLjcsICJmaWxsUnVsZSI6ICJldmVub2RkIiwgImxpbmVDYXAiOiAicm91bmQiLCAibGluZUpvaW4iOiAicm91bmQiLCAib3BhY2l0eSI6IDEuMCwgInJhZGl1cyI6IDUsICJzdHJva2UiOiB0cnVlLCAid2VpZ2h0IjogM30KICAgICAgICAgICAgKS5hZGRUbyhtYXBfYTY3Y2VlYWI0YWYzNDE2NDk3YjY2MDIyMThkNmQ1M2QpOwogICAgICAgIAogICAgCiAgICAgICAgdmFyIHBvcHVwX2ViOTQ2NDczOWFlYTQ0M2FiYjAyMGMyMDdiYzA0NDhjID0gTC5wb3B1cCh7Im1heFdpZHRoIjogIjEwMCUifSk7CgogICAgICAgIAogICAgICAgICAgICB2YXIgaHRtbF9mZWZiMmE1Mzk3MzE0YjM5YTJiOGI0MzM0Njc2ZWNjMSA9ICQoYDxkaXYgaWQ9Imh0bWxfZmVmYjJhNTM5NzMxNGIzOWEyYjhiNDMzNDY3NmVjYzEiIHN0eWxlPSJ3aWR0aDogMTAwLjAlOyBoZWlnaHQ6IDEwMC4wJTsiPkJlcmN6eSBQYXJrLCBEb3dudG93biBUb3JvbnRvPC9kaXY+YClbMF07CiAgICAgICAgICAgIHBvcHVwX2ViOTQ2NDczOWFlYTQ0M2FiYjAyMGMyMDdiYzA0NDhjLnNldENvbnRlbnQoaHRtbF9mZWZiMmE1Mzk3MzE0YjM5YTJiOGI0MzM0Njc2ZWNjMSk7CiAgICAgICAgCgogICAgICAgIGNpcmNsZV9tYXJrZXJfZDY0NWUyNTRkZmNiNDRiZDk1MzE2MTc4NmViZGYyNTYuYmluZFBvcHVwKHBvcHVwX2ViOTQ2NDczOWFlYTQ0M2FiYjAyMGMyMDdiYzA0NDhjKQogICAgICAgIDsKCiAgICAgICAgCiAgICAKICAgIAogICAgICAgICAgICB2YXIgY2lyY2xlX21hcmtlcl9kYTA5ZjQwZWUyMTM0OWRkOWNlMTc3N2E2OGVkNjFkNCA9IEwuY2lyY2xlTWFya2VyKAogICAgICAgICAgICAgICAgWzQzLjY4OTAyNTYsIC03OS40NTM1MTJdLAogICAgICAgICAgICAgICAgeyJidWJibGluZ01vdXNlRXZlbnRzIjogdHJ1ZSwgImNvbG9yIjogImJsdWUiLCAiZGFzaEFycmF5IjogbnVsbCwgImRhc2hPZmZzZXQiOiBudWxsLCAiZmlsbCI6IHRydWUsICJmaWxsQ29sb3IiOiAiIzMxODZjYyIsICJmaWxsT3BhY2l0eSI6IDAuNywgImZpbGxSdWxlIjogImV2ZW5vZGQiLCAibGluZUNhcCI6ICJyb3VuZCIsICJsaW5lSm9pbiI6ICJyb3VuZCIsICJvcGFjaXR5IjogMS4wLCAicmFkaXVzIjogNSwgInN0cm9rZSI6IHRydWUsICJ3ZWlnaHQiOiAzfQogICAgICAgICAgICApLmFkZFRvKG1hcF9hNjdjZWVhYjRhZjM0MTY0OTdiNjYwMjIxOGQ2ZDUzZCk7CiAgICAgICAgCiAgICAKICAgICAgICB2YXIgcG9wdXBfMjhjN2ZhYzE4ZjhkNDY1YzkzZTFiOWUwZjM1MGQ4ZDYgPSBMLnBvcHVwKHsibWF4V2lkdGgiOiAiMTAwJSJ9KTsKCiAgICAgICAgCiAgICAgICAgICAgIHZhciBodG1sX2ViYmUxOGI2MzdkNzQ5YWU4YzcwM2UyMTk4ZGZhMWQ4ID0gJChgPGRpdiBpZD0iaHRtbF9lYmJlMThiNjM3ZDc0OWFlOGM3MDNlMjE5OGRmYTFkOCIgc3R5bGU9IndpZHRoOiAxMDAuMCU7IGhlaWdodDogMTAwLjAlOyI+Q2FsZWRvbmlhLUZhaXJiYW5rcywgWW9yazwvZGl2PmApWzBdOwogICAgICAgICAgICBwb3B1cF8yOGM3ZmFjMThmOGQ0NjVjOTNlMWI5ZTBmMzUwZDhkNi5zZXRDb250ZW50KGh0bWxfZWJiZTE4YjYzN2Q3NDlhZThjNzAzZTIxOThkZmExZDgpOwogICAgICAgIAoKICAgICAgICBjaXJjbGVfbWFya2VyX2RhMDlmNDBlZTIxMzQ5ZGQ5Y2UxNzc3YTY4ZWQ2MWQ0LmJpbmRQb3B1cChwb3B1cF8yOGM3ZmFjMThmOGQ0NjVjOTNlMWI5ZTBmMzUwZDhkNikKICAgICAgICA7CgogICAgICAgIAogICAgCiAgICAKICAgICAgICAgICAgdmFyIGNpcmNsZV9tYXJrZXJfMDU3NjFkYjc4YzllNDI0YTllN2M1YzdkYzVhZTYyOGMgPSBMLmNpcmNsZU1hcmtlcigKICAgICAgICAgICAgICAgIFs0My43NzA5OTIxLCAtNzkuMjE2OTE3NDAwMDAwMDFdLAogICAgICAgICAgICAgICAgeyJidWJibGluZ01vdXNlRXZlbnRzIjogdHJ1ZSwgImNvbG9yIjogImJsdWUiLCAiZGFzaEFycmF5IjogbnVsbCwgImRhc2hPZmZzZXQiOiBudWxsLCAiZmlsbCI6IHRydWUsICJmaWxsQ29sb3IiOiAiIzMxODZjYyIsICJmaWxsT3BhY2l0eSI6IDAuNywgImZpbGxSdWxlIjogImV2ZW5vZGQiLCAibGluZUNhcCI6ICJyb3VuZCIsICJsaW5lSm9pbiI6ICJyb3VuZCIsICJvcGFjaXR5IjogMS4wLCAicmFkaXVzIjogNSwgInN0cm9rZSI6IHRydWUsICJ3ZWlnaHQiOiAzfQogICAgICAgICAgICApLmFkZFRvKG1hcF9hNjdjZWVhYjRhZjM0MTY0OTdiNjYwMjIxOGQ2ZDUzZCk7CiAgICAgICAgCiAgICAKICAgICAgICB2YXIgcG9wdXBfM2QwYzJiZmI4NjVjNDFiOTg4ZmM5NzdlOGUyY2NiMTUgPSBMLnBvcHVwKHsibWF4V2lkdGgiOiAiMTAwJSJ9KTsKCiAgICAgICAgCiAgICAgICAgICAgIHZhciBodG1sX2MxYTNkMWNlZjE3YjRiOTY5OGM3NzBkNGQ0OTA4OTBlID0gJChgPGRpdiBpZD0iaHRtbF9jMWEzZDFjZWYxN2I0Yjk2OThjNzcwZDRkNDkwODkwZSIgc3R5bGU9IndpZHRoOiAxMDAuMCU7IGhlaWdodDogMTAwLjAlOyI+V29idXJuLCBTY2FyYm9yb3VnaDwvZGl2PmApWzBdOwogICAgICAgICAgICBwb3B1cF8zZDBjMmJmYjg2NWM0MWI5ODhmYzk3N2U4ZTJjY2IxNS5zZXRDb250ZW50KGh0bWxfYzFhM2QxY2VmMTdiNGI5Njk4Yzc3MGQ0ZDQ5MDg5MGUpOwogICAgICAgIAoKICAgICAgICBjaXJjbGVfbWFya2VyXzA1NzYxZGI3OGM5ZTQyNGE5ZTdjNWM3ZGM1YWU2MjhjLmJpbmRQb3B1cChwb3B1cF8zZDBjMmJmYjg2NWM0MWI5ODhmYzk3N2U4ZTJjY2IxNSkKICAgICAgICA7CgogICAgICAgIAogICAgCiAgICAKICAgICAgICAgICAgdmFyIGNpcmNsZV9tYXJrZXJfYTkxOGMyZWE2Y2U5NDJlZTg5NGE0MDJhNTY1NzUxYTEgPSBMLmNpcmNsZU1hcmtlcigKICAgICAgICAgICAgICAgIFs0My43MDkwNjA0LCAtNzkuMzYzNDUxN10sCiAgICAgICAgICAgICAgICB7ImJ1YmJsaW5nTW91c2VFdmVudHMiOiB0cnVlLCAiY29sb3IiOiAiYmx1ZSIsICJkYXNoQXJyYXkiOiBudWxsLCAiZGFzaE9mZnNldCI6IG51bGwsICJmaWxsIjogdHJ1ZSwgImZpbGxDb2xvciI6ICIjMzE4NmNjIiwgImZpbGxPcGFjaXR5IjogMC43LCAiZmlsbFJ1bGUiOiAiZXZlbm9kZCIsICJsaW5lQ2FwIjogInJvdW5kIiwgImxpbmVKb2luIjogInJvdW5kIiwgIm9wYWNpdHkiOiAxLjAsICJyYWRpdXMiOiA1LCAic3Ryb2tlIjogdHJ1ZSwgIndlaWdodCI6IDN9CiAgICAgICAgICAgICkuYWRkVG8obWFwX2E2N2NlZWFiNGFmMzQxNjQ5N2I2NjAyMjE4ZDZkNTNkKTsKICAgICAgICAKICAgIAogICAgICAgIHZhciBwb3B1cF9jMTY2NzdlMTBiMmE0MmMzOWNiYjU0NDQxMTg2Y2FjNSA9IEwucG9wdXAoeyJtYXhXaWR0aCI6ICIxMDAlIn0pOwoKICAgICAgICAKICAgICAgICAgICAgdmFyIGh0bWxfOTQ4YTRjMjcxNDBiNGE1OTlhYzJmMDY4ZDY5MDEwYTIgPSAkKGA8ZGl2IGlkPSJodG1sXzk0OGE0YzI3MTQwYjRhNTk5YWMyZjA2OGQ2OTAxMGEyIiBzdHlsZT0id2lkdGg6IDEwMC4wJTsgaGVpZ2h0OiAxMDAuMCU7Ij5MZWFzaWRlLCBFYXN0IFlvcms8L2Rpdj5gKVswXTsKICAgICAgICAgICAgcG9wdXBfYzE2Njc3ZTEwYjJhNDJjMzljYmI1NDQ0MTE4NmNhYzUuc2V0Q29udGVudChodG1sXzk0OGE0YzI3MTQwYjRhNTk5YWMyZjA2OGQ2OTAxMGEyKTsKICAgICAgICAKCiAgICAgICAgY2lyY2xlX21hcmtlcl9hOTE4YzJlYTZjZTk0MmVlODk0YTQwMmE1NjU3NTFhMS5iaW5kUG9wdXAocG9wdXBfYzE2Njc3ZTEwYjJhNDJjMzljYmI1NDQ0MTE4NmNhYzUpCiAgICAgICAgOwoKICAgICAgICAKICAgIAogICAgCiAgICAgICAgICAgIHZhciBjaXJjbGVfbWFya2VyXzQ2YTdkMjkyNDZkNzQzYjJhOTdiZjJjMjU1MTAzNGE1ID0gTC5jaXJjbGVNYXJrZXIoCiAgICAgICAgICAgICAgICBbNDMuNjU3OTUyNCwgLTc5LjM4NzM4MjZdLAogICAgICAgICAgICAgICAgeyJidWJibGluZ01vdXNlRXZlbnRzIjogdHJ1ZSwgImNvbG9yIjogImJsdWUiLCAiZGFzaEFycmF5IjogbnVsbCwgImRhc2hPZmZzZXQiOiBudWxsLCAiZmlsbCI6IHRydWUsICJmaWxsQ29sb3IiOiAiIzMxODZjYyIsICJmaWxsT3BhY2l0eSI6IDAuNywgImZpbGxSdWxlIjogImV2ZW5vZGQiLCAibGluZUNhcCI6ICJyb3VuZCIsICJsaW5lSm9pbiI6ICJyb3VuZCIsICJvcGFjaXR5IjogMS4wLCAicmFkaXVzIjogNSwgInN0cm9rZSI6IHRydWUsICJ3ZWlnaHQiOiAzfQogICAgICAgICAgICApLmFkZFRvKG1hcF9hNjdjZWVhYjRhZjM0MTY0OTdiNjYwMjIxOGQ2ZDUzZCk7CiAgICAgICAgCiAgICAKICAgICAgICB2YXIgcG9wdXBfNjc1ODVjODc3NGQ4NDg3M2JjNTU5NjM5NTEzMDBlM2QgPSBMLnBvcHVwKHsibWF4V2lkdGgiOiAiMTAwJSJ9KTsKCiAgICAgICAgCiAgICAgICAgICAgIHZhciBodG1sX2I0ZTI5MjVlOTVmNjQ5MmY5MzNlM2U2MzEyNjA1OGY3ID0gJChgPGRpdiBpZD0iaHRtbF9iNGUyOTI1ZTk1ZjY0OTJmOTMzZTNlNjMxMjYwNThmNyIgc3R5bGU9IndpZHRoOiAxMDAuMCU7IGhlaWdodDogMTAwLjAlOyI+Q2VudHJhbCBCYXkgU3RyZWV0LCBEb3dudG93biBUb3JvbnRvPC9kaXY+YClbMF07CiAgICAgICAgICAgIHBvcHVwXzY3NTg1Yzg3NzRkODQ4NzNiYzU1OTYzOTUxMzAwZTNkLnNldENvbnRlbnQoaHRtbF9iNGUyOTI1ZTk1ZjY0OTJmOTMzZTNlNjMxMjYwNThmNyk7CiAgICAgICAgCgogICAgICAgIGNpcmNsZV9tYXJrZXJfNDZhN2QyOTI0NmQ3NDNiMmE5N2JmMmMyNTUxMDM0YTUuYmluZFBvcHVwKHBvcHVwXzY3NTg1Yzg3NzRkODQ4NzNiYzU1OTYzOTUxMzAwZTNkKQogICAgICAgIDsKCiAgICAgICAgCiAgICAKICAgIAogICAgICAgICAgICB2YXIgY2lyY2xlX21hcmtlcl83NGRjNDk1MTUyYTE0MTgyYjljNWI0YjhjNmJkYzhkOSA9IEwuY2lyY2xlTWFya2VyKAogICAgICAgICAgICAgICAgWzQzLjY2OTU0MiwgLTc5LjQyMjU2MzddLAogICAgICAgICAgICAgICAgeyJidWJibGluZ01vdXNlRXZlbnRzIjogdHJ1ZSwgImNvbG9yIjogImJsdWUiLCAiZGFzaEFycmF5IjogbnVsbCwgImRhc2hPZmZzZXQiOiBudWxsLCAiZmlsbCI6IHRydWUsICJmaWxsQ29sb3IiOiAiIzMxODZjYyIsICJmaWxsT3BhY2l0eSI6IDAuNywgImZpbGxSdWxlIjogImV2ZW5vZGQiLCAibGluZUNhcCI6ICJyb3VuZCIsICJsaW5lSm9pbiI6ICJyb3VuZCIsICJvcGFjaXR5IjogMS4wLCAicmFkaXVzIjogNSwgInN0cm9rZSI6IHRydWUsICJ3ZWlnaHQiOiAzfQogICAgICAgICAgICApLmFkZFRvKG1hcF9hNjdjZWVhYjRhZjM0MTY0OTdiNjYwMjIxOGQ2ZDUzZCk7CiAgICAgICAgCiAgICAKICAgICAgICB2YXIgcG9wdXBfNGU2MTc3YWYzOGVkNDliN2JmNmVlMjg0NmM1OTUyZjMgPSBMLnBvcHVwKHsibWF4V2lkdGgiOiAiMTAwJSJ9KTsKCiAgICAgICAgCiAgICAgICAgICAgIHZhciBodG1sXzQ2MzQxZGI3MTUxNzQwYTI5MDhhYTY5NGZmNDUyMjE2ID0gJChgPGRpdiBpZD0iaHRtbF80NjM0MWRiNzE1MTc0MGEyOTA4YWE2OTRmZjQ1MjIxNiIgc3R5bGU9IndpZHRoOiAxMDAuMCU7IGhlaWdodDogMTAwLjAlOyI+Q2hyaXN0aWUsIERvd250b3duIFRvcm9udG88L2Rpdj5gKVswXTsKICAgICAgICAgICAgcG9wdXBfNGU2MTc3YWYzOGVkNDliN2JmNmVlMjg0NmM1OTUyZjMuc2V0Q29udGVudChodG1sXzQ2MzQxZGI3MTUxNzQwYTI5MDhhYTY5NGZmNDUyMjE2KTsKICAgICAgICAKCiAgICAgICAgY2lyY2xlX21hcmtlcl83NGRjNDk1MTUyYTE0MTgyYjljNWI0YjhjNmJkYzhkOS5iaW5kUG9wdXAocG9wdXBfNGU2MTc3YWYzOGVkNDliN2JmNmVlMjg0NmM1OTUyZjMpCiAgICAgICAgOwoKICAgICAgICAKICAgIAogICAgCiAgICAgICAgICAgIHZhciBjaXJjbGVfbWFya2VyX2U2MjhhYmFlNWUyNTRjNmY4MTAzZDAzMjdmZDJjNGZhID0gTC5jaXJjbGVNYXJrZXIoCiAgICAgICAgICAgICAgICBbNDMuNzczMTM2LCAtNzkuMjM5NDc2MDk5OTk5OTldLAogICAgICAgICAgICAgICAgeyJidWJibGluZ01vdXNlRXZlbnRzIjogdHJ1ZSwgImNvbG9yIjogImJsdWUiLCAiZGFzaEFycmF5IjogbnVsbCwgImRhc2hPZmZzZXQiOiBudWxsLCAiZmlsbCI6IHRydWUsICJmaWxsQ29sb3IiOiAiIzMxODZjYyIsICJmaWxsT3BhY2l0eSI6IDAuNywgImZpbGxSdWxlIjogImV2ZW5vZGQiLCAibGluZUNhcCI6ICJyb3VuZCIsICJsaW5lSm9pbiI6ICJyb3VuZCIsICJvcGFjaXR5IjogMS4wLCAicmFkaXVzIjogNSwgInN0cm9rZSI6IHRydWUsICJ3ZWlnaHQiOiAzfQogICAgICAgICAgICApLmFkZFRvKG1hcF9hNjdjZWVhYjRhZjM0MTY0OTdiNjYwMjIxOGQ2ZDUzZCk7CiAgICAgICAgCiAgICAKICAgICAgICB2YXIgcG9wdXBfOTExM2Q3ZGI1ZTMyNDQwN2EzZWRhYWQ5NjljZTAwMGUgPSBMLnBvcHVwKHsibWF4V2lkdGgiOiAiMTAwJSJ9KTsKCiAgICAgICAgCiAgICAgICAgICAgIHZhciBodG1sXzRhMjNiMmQzOWJmODQwNWRhYzY2NDRkMzkzYTQ0YzA0ID0gJChgPGRpdiBpZD0iaHRtbF80YTIzYjJkMzliZjg0MDVkYWM2NjQ0ZDM5M2E0NGMwNCIgc3R5bGU9IndpZHRoOiAxMDAuMCU7IGhlaWdodDogMTAwLjAlOyI+Q2VkYXJicmFlLCBTY2FyYm9yb3VnaDwvZGl2PmApWzBdOwogICAgICAgICAgICBwb3B1cF85MTEzZDdkYjVlMzI0NDA3YTNlZGFhZDk2OWNlMDAwZS5zZXRDb250ZW50KGh0bWxfNGEyM2IyZDM5YmY4NDA1ZGFjNjY0NGQzOTNhNDRjMDQpOwogICAgICAgIAoKICAgICAgICBjaXJjbGVfbWFya2VyX2U2MjhhYmFlNWUyNTRjNmY4MTAzZDAzMjdmZDJjNGZhLmJpbmRQb3B1cChwb3B1cF85MTEzZDdkYjVlMzI0NDA3YTNlZGFhZDk2OWNlMDAwZSkKICAgICAgICA7CgogICAgICAgIAogICAgCiAgICAKICAgICAgICAgICAgdmFyIGNpcmNsZV9tYXJrZXJfNDFmN2Y3NjFjNjk3NDQ5ODg0Mjc4NDdlNzA4NDViOTUgPSBMLmNpcmNsZU1hcmtlcigKICAgICAgICAgICAgICAgIFs0My44MDM3NjIyLCAtNzkuMzYzNDUxN10sCiAgICAgICAgICAgICAgICB7ImJ1YmJsaW5nTW91c2VFdmVudHMiOiB0cnVlLCAiY29sb3IiOiAiYmx1ZSIsICJkYXNoQXJyYXkiOiBudWxsLCAiZGFzaE9mZnNldCI6IG51bGwsICJmaWxsIjogdHJ1ZSwgImZpbGxDb2xvciI6ICIjMzE4NmNjIiwgImZpbGxPcGFjaXR5IjogMC43LCAiZmlsbFJ1bGUiOiAiZXZlbm9kZCIsICJsaW5lQ2FwIjogInJvdW5kIiwgImxpbmVKb2luIjogInJvdW5kIiwgIm9wYWNpdHkiOiAxLjAsICJyYWRpdXMiOiA1LCAic3Ryb2tlIjogdHJ1ZSwgIndlaWdodCI6IDN9CiAgICAgICAgICAgICkuYWRkVG8obWFwX2E2N2NlZWFiNGFmMzQxNjQ5N2I2NjAyMjE4ZDZkNTNkKTsKICAgICAgICAKICAgIAogICAgICAgIHZhciBwb3B1cF9mNzA0NmU3ZWNlMjM0YWUxOTFjNTg3MzdmMjAxN2UyNSA9IEwucG9wdXAoeyJtYXhXaWR0aCI6ICIxMDAlIn0pOwoKICAgICAgICAKICAgICAgICAgICAgdmFyIGh0bWxfZGViNjI3YjE3ZWM5NDM5OGFmMWUzMTdjN2RmNTI3NWUgPSAkKGA8ZGl2IGlkPSJodG1sX2RlYjYyN2IxN2VjOTQzOThhZjFlMzE3YzdkZjUyNzVlIiBzdHlsZT0id2lkdGg6IDEwMC4wJTsgaGVpZ2h0OiAxMDAuMCU7Ij5IaWxsY3Jlc3QgVmlsbGFnZSwgTm9ydGggWW9yazwvZGl2PmApWzBdOwogICAgICAgICAgICBwb3B1cF9mNzA0NmU3ZWNlMjM0YWUxOTFjNTg3MzdmMjAxN2UyNS5zZXRDb250ZW50KGh0bWxfZGViNjI3YjE3ZWM5NDM5OGFmMWUzMTdjN2RmNTI3NWUpOwogICAgICAgIAoKICAgICAgICBjaXJjbGVfbWFya2VyXzQxZjdmNzYxYzY5NzQ0OTg4NDI3ODQ3ZTcwODQ1Yjk1LmJpbmRQb3B1cChwb3B1cF9mNzA0NmU3ZWNlMjM0YWUxOTFjNTg3MzdmMjAxN2UyNSkKICAgICAgICA7CgogICAgICAgIAogICAgCiAgICAKICAgICAgICAgICAgdmFyIGNpcmNsZV9tYXJrZXJfODRhZDVmMTVkOWQwNGI5NWJmOTYyMDQ5Nzg3OGE0YzUgPSBMLmNpcmNsZU1hcmtlcigKICAgICAgICAgICAgICAgIFs0My43NTQzMjgzLCAtNzkuNDQyMjU5M10sCiAgICAgICAgICAgICAgICB7ImJ1YmJsaW5nTW91c2VFdmVudHMiOiB0cnVlLCAiY29sb3IiOiAiYmx1ZSIsICJkYXNoQXJyYXkiOiBudWxsLCAiZGFzaE9mZnNldCI6IG51bGwsICJmaWxsIjogdHJ1ZSwgImZpbGxDb2xvciI6ICIjMzE4NmNjIiwgImZpbGxPcGFjaXR5IjogMC43LCAiZmlsbFJ1bGUiOiAiZXZlbm9kZCIsICJsaW5lQ2FwIjogInJvdW5kIiwgImxpbmVKb2luIjogInJvdW5kIiwgIm9wYWNpdHkiOiAxLjAsICJyYWRpdXMiOiA1LCAic3Ryb2tlIjogdHJ1ZSwgIndlaWdodCI6IDN9CiAgICAgICAgICAgICkuYWRkVG8obWFwX2E2N2NlZWFiNGFmMzQxNjQ5N2I2NjAyMjE4ZDZkNTNkKTsKICAgICAgICAKICAgIAogICAgICAgIHZhciBwb3B1cF82YTFlNTBkYTEzZDI0YTI2OGNlOWExY2Q2NDU5YjEyMyA9IEwucG9wdXAoeyJtYXhXaWR0aCI6ICIxMDAlIn0pOwoKICAgICAgICAKICAgICAgICAgICAgdmFyIGh0bWxfMjlhMzEyZjVmMzllNDgzZWFiOWNiODdmOTViNTljOWQgPSAkKGA8ZGl2IGlkPSJodG1sXzI5YTMxMmY1ZjM5ZTQ4M2VhYjljYjg3Zjk1YjU5YzlkIiBzdHlsZT0id2lkdGg6IDEwMC4wJTsgaGVpZ2h0OiAxMDAuMCU7Ij5CYXRodXJzdCBNYW5vciwgV2lsc29uIEhlaWdodHMsIERvd25zdmlldyBOb3J0aCwgTm9ydGggWW9yazwvZGl2PmApWzBdOwogICAgICAgICAgICBwb3B1cF82YTFlNTBkYTEzZDI0YTI2OGNlOWExY2Q2NDU5YjEyMy5zZXRDb250ZW50KGh0bWxfMjlhMzEyZjVmMzllNDgzZWFiOWNiODdmOTViNTljOWQpOwogICAgICAgIAoKICAgICAgICBjaXJjbGVfbWFya2VyXzg0YWQ1ZjE1ZDlkMDRiOTViZjk2MjA0OTc4NzhhNGM1LmJpbmRQb3B1cChwb3B1cF82YTFlNTBkYTEzZDI0YTI2OGNlOWExY2Q2NDU5YjEyMykKICAgICAgICA7CgogICAgICAgIAogICAgCiAgICAKICAgICAgICAgICAgdmFyIGNpcmNsZV9tYXJrZXJfNWNmZjJiMzFjYzk5NDAwOWFmNzdkY2U0M2JhZWY3NTAgPSBMLmNpcmNsZU1hcmtlcigKICAgICAgICAgICAgICAgIFs0My43MDUzNjg5LCAtNzkuMzQ5MzcxOTAwMDAwMDFdLAogICAgICAgICAgICAgICAgeyJidWJibGluZ01vdXNlRXZlbnRzIjogdHJ1ZSwgImNvbG9yIjogImJsdWUiLCAiZGFzaEFycmF5IjogbnVsbCwgImRhc2hPZmZzZXQiOiBudWxsLCAiZmlsbCI6IHRydWUsICJmaWxsQ29sb3IiOiAiIzMxODZjYyIsICJmaWxsT3BhY2l0eSI6IDAuNywgImZpbGxSdWxlIjogImV2ZW5vZGQiLCAibGluZUNhcCI6ICJyb3VuZCIsICJsaW5lSm9pbiI6ICJyb3VuZCIsICJvcGFjaXR5IjogMS4wLCAicmFkaXVzIjogNSwgInN0cm9rZSI6IHRydWUsICJ3ZWlnaHQiOiAzfQogICAgICAgICAgICApLmFkZFRvKG1hcF9hNjdjZWVhYjRhZjM0MTY0OTdiNjYwMjIxOGQ2ZDUzZCk7CiAgICAgICAgCiAgICAKICAgICAgICB2YXIgcG9wdXBfMjk0MjdiZTcyZTA5NGQxOTgzNTVmZGRhYzkyMDQ0ZWMgPSBMLnBvcHVwKHsibWF4V2lkdGgiOiAiMTAwJSJ9KTsKCiAgICAgICAgCiAgICAgICAgICAgIHZhciBodG1sXzUyYWU4NTg2MTMyMTRhN2E4MGY1NTg4NmFkYmRjZTRlID0gJChgPGRpdiBpZD0iaHRtbF81MmFlODU4NjEzMjE0YTdhODBmNTU4ODZhZGJkY2U0ZSIgc3R5bGU9IndpZHRoOiAxMDAuMCU7IGhlaWdodDogMTAwLjAlOyI+VGhvcm5jbGlmZmUgUGFyaywgRWFzdCBZb3JrPC9kaXY+YClbMF07CiAgICAgICAgICAgIHBvcHVwXzI5NDI3YmU3MmUwOTRkMTk4MzU1ZmRkYWM5MjA0NGVjLnNldENvbnRlbnQoaHRtbF81MmFlODU4NjEzMjE0YTdhODBmNTU4ODZhZGJkY2U0ZSk7CiAgICAgICAgCgogICAgICAgIGNpcmNsZV9tYXJrZXJfNWNmZjJiMzFjYzk5NDAwOWFmNzdkY2U0M2JhZWY3NTAuYmluZFBvcHVwKHBvcHVwXzI5NDI3YmU3MmUwOTRkMTk4MzU1ZmRkYWM5MjA0NGVjKQogICAgICAgIDsKCiAgICAgICAgCiAgICAKICAgIAogICAgICAgICAgICB2YXIgY2lyY2xlX21hcmtlcl8xOWI3YTEwNzI2MWU0NTcwODk0NTUwMzE2NzYxNjFiYSA9IEwuY2lyY2xlTWFya2VyKAogICAgICAgICAgICAgICAgWzQzLjY1MDU3MTIwMDAwMDAxLCAtNzkuMzg0NTY3NV0sCiAgICAgICAgICAgICAgICB7ImJ1YmJsaW5nTW91c2VFdmVudHMiOiB0cnVlLCAiY29sb3IiOiAiYmx1ZSIsICJkYXNoQXJyYXkiOiBudWxsLCAiZGFzaE9mZnNldCI6IG51bGwsICJmaWxsIjogdHJ1ZSwgImZpbGxDb2xvciI6ICIjMzE4NmNjIiwgImZpbGxPcGFjaXR5IjogMC43LCAiZmlsbFJ1bGUiOiAiZXZlbm9kZCIsICJsaW5lQ2FwIjogInJvdW5kIiwgImxpbmVKb2luIjogInJvdW5kIiwgIm9wYWNpdHkiOiAxLjAsICJyYWRpdXMiOiA1LCAic3Ryb2tlIjogdHJ1ZSwgIndlaWdodCI6IDN9CiAgICAgICAgICAgICkuYWRkVG8obWFwX2E2N2NlZWFiNGFmMzQxNjQ5N2I2NjAyMjE4ZDZkNTNkKTsKICAgICAgICAKICAgIAogICAgICAgIHZhciBwb3B1cF83NTIxMWQ0NzIwZmM0ZGUxOTU1ZWI1ZTJkZjQzOTg4MSA9IEwucG9wdXAoeyJtYXhXaWR0aCI6ICIxMDAlIn0pOwoKICAgICAgICAKICAgICAgICAgICAgdmFyIGh0bWxfMWVmMWVmYTk3MWM4NGQ3MGIyYzdiNTMxMTA4YWNiOTAgPSAkKGA8ZGl2IGlkPSJodG1sXzFlZjFlZmE5NzFjODRkNzBiMmM3YjUzMTEwOGFjYjkwIiBzdHlsZT0id2lkdGg6IDEwMC4wJTsgaGVpZ2h0OiAxMDAuMCU7Ij5SaWNobW9uZCwgQWRlbGFpZGUsIEtpbmcsIERvd250b3duIFRvcm9udG88L2Rpdj5gKVswXTsKICAgICAgICAgICAgcG9wdXBfNzUyMTFkNDcyMGZjNGRlMTk1NWViNWUyZGY0Mzk4ODEuc2V0Q29udGVudChodG1sXzFlZjFlZmE5NzFjODRkNzBiMmM3YjUzMTEwOGFjYjkwKTsKICAgICAgICAKCiAgICAgICAgY2lyY2xlX21hcmtlcl8xOWI3YTEwNzI2MWU0NTcwODk0NTUwMzE2NzYxNjFiYS5iaW5kUG9wdXAocG9wdXBfNzUyMTFkNDcyMGZjNGRlMTk1NWViNWUyZGY0Mzk4ODEpCiAgICAgICAgOwoKICAgICAgICAKICAgIAogICAgCiAgICAgICAgICAgIHZhciBjaXJjbGVfbWFya2VyXzBhY2I4MzFlMTk4OTQ1ZTY5N2FhM2FkNzJiMjFlYzljID0gTC5jaXJjbGVNYXJrZXIoCiAgICAgICAgICAgICAgICBbNDMuNjY5MDA1MTAwMDAwMDEsIC03OS40NDIyNTkzXSwKICAgICAgICAgICAgICAgIHsiYnViYmxpbmdNb3VzZUV2ZW50cyI6IHRydWUsICJjb2xvciI6ICJibHVlIiwgImRhc2hBcnJheSI6IG51bGwsICJkYXNoT2Zmc2V0IjogbnVsbCwgImZpbGwiOiB0cnVlLCAiZmlsbENvbG9yIjogIiMzMTg2Y2MiLCAiZmlsbE9wYWNpdHkiOiAwLjcsICJmaWxsUnVsZSI6ICJldmVub2RkIiwgImxpbmVDYXAiOiAicm91bmQiLCAibGluZUpvaW4iOiAicm91bmQiLCAib3BhY2l0eSI6IDEuMCwgInJhZGl1cyI6IDUsICJzdHJva2UiOiB0cnVlLCAid2VpZ2h0IjogM30KICAgICAgICAgICAgKS5hZGRUbyhtYXBfYTY3Y2VlYWI0YWYzNDE2NDk3YjY2MDIyMThkNmQ1M2QpOwogICAgICAgIAogICAgCiAgICAgICAgdmFyIHBvcHVwXzFjZGJmZGRhMzE4ZTQ4MGI4NWQ1NTNmZDlhMDlhYjRhID0gTC5wb3B1cCh7Im1heFdpZHRoIjogIjEwMCUifSk7CgogICAgICAgIAogICAgICAgICAgICB2YXIgaHRtbF80NWI1Njc2MzQyNTA0MGEwYThlOGZhMmVmOGRiZGE1ZCA9ICQoYDxkaXYgaWQ9Imh0bWxfNDViNTY3NjM0MjUwNDBhMGE4ZThmYTJlZjhkYmRhNWQiIHN0eWxlPSJ3aWR0aDogMTAwLjAlOyBoZWlnaHQ6IDEwMC4wJTsiPkR1ZmZlcmluLCBEb3ZlcmNvdXJ0IFZpbGxhZ2UsIFdlc3QgVG9yb250bzwvZGl2PmApWzBdOwogICAgICAgICAgICBwb3B1cF8xY2RiZmRkYTMxOGU0ODBiODVkNTUzZmQ5YTA5YWI0YS5zZXRDb250ZW50KGh0bWxfNDViNTY3NjM0MjUwNDBhMGE4ZThmYTJlZjhkYmRhNWQpOwogICAgICAgIAoKICAgICAgICBjaXJjbGVfbWFya2VyXzBhY2I4MzFlMTk4OTQ1ZTY5N2FhM2FkNzJiMjFlYzljLmJpbmRQb3B1cChwb3B1cF8xY2RiZmRkYTMxOGU0ODBiODVkNTUzZmQ5YTA5YWI0YSkKICAgICAgICA7CgogICAgICAgIAogICAgCiAgICAKICAgICAgICAgICAgdmFyIGNpcmNsZV9tYXJrZXJfOTNmOTIxNDY0YTg4NDA4YTg5MmJhYTRlZjRkZDBiMjIgPSBMLmNpcmNsZU1hcmtlcigKICAgICAgICAgICAgICAgIFs0My43NDQ3MzQyLCAtNzkuMjM5NDc2MDk5OTk5OTldLAogICAgICAgICAgICAgICAgeyJidWJibGluZ01vdXNlRXZlbnRzIjogdHJ1ZSwgImNvbG9yIjogImJsdWUiLCAiZGFzaEFycmF5IjogbnVsbCwgImRhc2hPZmZzZXQiOiBudWxsLCAiZmlsbCI6IHRydWUsICJmaWxsQ29sb3IiOiAiIzMxODZjYyIsICJmaWxsT3BhY2l0eSI6IDAuNywgImZpbGxSdWxlIjogImV2ZW5vZGQiLCAibGluZUNhcCI6ICJyb3VuZCIsICJsaW5lSm9pbiI6ICJyb3VuZCIsICJvcGFjaXR5IjogMS4wLCAicmFkaXVzIjogNSwgInN0cm9rZSI6IHRydWUsICJ3ZWlnaHQiOiAzfQogICAgICAgICAgICApLmFkZFRvKG1hcF9hNjdjZWVhYjRhZjM0MTY0OTdiNjYwMjIxOGQ2ZDUzZCk7CiAgICAgICAgCiAgICAKICAgICAgICB2YXIgcG9wdXBfMWMxNTJmZjgxMzkxNDZkMDk5MWEzYmIxZDJiOTE1NTQgPSBMLnBvcHVwKHsibWF4V2lkdGgiOiAiMTAwJSJ9KTsKCiAgICAgICAgCiAgICAgICAgICAgIHZhciBodG1sXzZjZGMzM2QyMWNmMDRmOTI5YWNmMmM4OTQ5ZTE2ZTBhID0gJChgPGRpdiBpZD0iaHRtbF82Y2RjMzNkMjFjZjA0ZjkyOWFjZjJjODk0OWUxNmUwYSIgc3R5bGU9IndpZHRoOiAxMDAuMCU7IGhlaWdodDogMTAwLjAlOyI+U2NhcmJvcm91Z2ggVmlsbGFnZSwgU2NhcmJvcm91Z2g8L2Rpdj5gKVswXTsKICAgICAgICAgICAgcG9wdXBfMWMxNTJmZjgxMzkxNDZkMDk5MWEzYmIxZDJiOTE1NTQuc2V0Q29udGVudChodG1sXzZjZGMzM2QyMWNmMDRmOTI5YWNmMmM4OTQ5ZTE2ZTBhKTsKICAgICAgICAKCiAgICAgICAgY2lyY2xlX21hcmtlcl85M2Y5MjE0NjRhODg0MDhhODkyYmFhNGVmNGRkMGIyMi5iaW5kUG9wdXAocG9wdXBfMWMxNTJmZjgxMzkxNDZkMDk5MWEzYmIxZDJiOTE1NTQpCiAgICAgICAgOwoKICAgICAgICAKICAgIAogICAgCiAgICAgICAgICAgIHZhciBjaXJjbGVfbWFya2VyXzQ2MWVlODhjY2M1YjRhNDJiMTU2YWUzYTJmZWI3ODhhID0gTC5jaXJjbGVNYXJrZXIoCiAgICAgICAgICAgICAgICBbNDMuNzc4NTE3NSwgLTc5LjM0NjU1NTddLAogICAgICAgICAgICAgICAgeyJidWJibGluZ01vdXNlRXZlbnRzIjogdHJ1ZSwgImNvbG9yIjogImJsdWUiLCAiZGFzaEFycmF5IjogbnVsbCwgImRhc2hPZmZzZXQiOiBudWxsLCAiZmlsbCI6IHRydWUsICJmaWxsQ29sb3IiOiAiIzMxODZjYyIsICJmaWxsT3BhY2l0eSI6IDAuNywgImZpbGxSdWxlIjogImV2ZW5vZGQiLCAibGluZUNhcCI6ICJyb3VuZCIsICJsaW5lSm9pbiI6ICJyb3VuZCIsICJvcGFjaXR5IjogMS4wLCAicmFkaXVzIjogNSwgInN0cm9rZSI6IHRydWUsICJ3ZWlnaHQiOiAzfQogICAgICAgICAgICApLmFkZFRvKG1hcF9hNjdjZWVhYjRhZjM0MTY0OTdiNjYwMjIxOGQ2ZDUzZCk7CiAgICAgICAgCiAgICAKICAgICAgICB2YXIgcG9wdXBfYjJhMzFhOWE1N2NmNDdjNGEwYTU5OWU3YzU1YTc3YWUgPSBMLnBvcHVwKHsibWF4V2lkdGgiOiAiMTAwJSJ9KTsKCiAgICAgICAgCiAgICAgICAgICAgIHZhciBodG1sXzkzNjViMWI0ODMzYzRmMDY4ZjQzMmZmNTVmMjVmYWUzID0gJChgPGRpdiBpZD0iaHRtbF85MzY1YjFiNDgzM2M0ZjA2OGY0MzJmZjU1ZjI1ZmFlMyIgc3R5bGU9IndpZHRoOiAxMDAuMCU7IGhlaWdodDogMTAwLjAlOyI+RmFpcnZpZXcsIEhlbnJ5IEZhcm0sIE9yaW9sZSwgTm9ydGggWW9yazwvZGl2PmApWzBdOwogICAgICAgICAgICBwb3B1cF9iMmEzMWE5YTU3Y2Y0N2M0YTBhNTk5ZTdjNTVhNzdhZS5zZXRDb250ZW50KGh0bWxfOTM2NWIxYjQ4MzNjNGYwNjhmNDMyZmY1NWYyNWZhZTMpOwogICAgICAgIAoKICAgICAgICBjaXJjbGVfbWFya2VyXzQ2MWVlODhjY2M1YjRhNDJiMTU2YWUzYTJmZWI3ODhhLmJpbmRQb3B1cChwb3B1cF9iMmEzMWE5YTU3Y2Y0N2M0YTBhNTk5ZTdjNTVhNzdhZSkKICAgICAgICA7CgogICAgICAgIAogICAgCiAgICAKICAgICAgICAgICAgdmFyIGNpcmNsZV9tYXJrZXJfNGJjNTNiNmY0NTYzNDBmMGEzN2ViMzcxYTMzOTRlZjEgPSBMLmNpcmNsZU1hcmtlcigKICAgICAgICAgICAgICAgIFs0My43Njc5ODAzLCAtNzkuNDg3MjYxOTAwMDAwMDFdLAogICAgICAgICAgICAgICAgeyJidWJibGluZ01vdXNlRXZlbnRzIjogdHJ1ZSwgImNvbG9yIjogImJsdWUiLCAiZGFzaEFycmF5IjogbnVsbCwgImRhc2hPZmZzZXQiOiBudWxsLCAiZmlsbCI6IHRydWUsICJmaWxsQ29sb3IiOiAiIzMxODZjYyIsICJmaWxsT3BhY2l0eSI6IDAuNywgImZpbGxSdWxlIjogImV2ZW5vZGQiLCAibGluZUNhcCI6ICJyb3VuZCIsICJsaW5lSm9pbiI6ICJyb3VuZCIsICJvcGFjaXR5IjogMS4wLCAicmFkaXVzIjogNSwgInN0cm9rZSI6IHRydWUsICJ3ZWlnaHQiOiAzfQogICAgICAgICAgICApLmFkZFRvKG1hcF9hNjdjZWVhYjRhZjM0MTY0OTdiNjYwMjIxOGQ2ZDUzZCk7CiAgICAgICAgCiAgICAKICAgICAgICB2YXIgcG9wdXBfOGZjOTMxYjJhOGE2NGFlMjk1MTZhNGIyM2MxNjIyYmYgPSBMLnBvcHVwKHsibWF4V2lkdGgiOiAiMTAwJSJ9KTsKCiAgICAgICAgCiAgICAgICAgICAgIHZhciBodG1sX2ZmNzk5MjFmOGEwZjQ0ZjdhYjhiZTM3NjQ0MjUyNzMxID0gJChgPGRpdiBpZD0iaHRtbF9mZjc5OTIxZjhhMGY0NGY3YWI4YmUzNzY0NDI1MjczMSIgc3R5bGU9IndpZHRoOiAxMDAuMCU7IGhlaWdodDogMTAwLjAlOyI+Tm9ydGh3b29kIFBhcmssIFlvcmsgVW5pdmVyc2l0eSwgTm9ydGggWW9yazwvZGl2PmApWzBdOwogICAgICAgICAgICBwb3B1cF84ZmM5MzFiMmE4YTY0YWUyOTUxNmE0YjIzYzE2MjJiZi5zZXRDb250ZW50KGh0bWxfZmY3OTkyMWY4YTBmNDRmN2FiOGJlMzc2NDQyNTI3MzEpOwogICAgICAgIAoKICAgICAgICBjaXJjbGVfbWFya2VyXzRiYzUzYjZmNDU2MzQwZjBhMzdlYjM3MWEzMzk0ZWYxLmJpbmRQb3B1cChwb3B1cF84ZmM5MzFiMmE4YTY0YWUyOTUxNmE0YjIzYzE2MjJiZikKICAgICAgICA7CgogICAgICAgIAogICAgCiAgICAKICAgICAgICAgICAgdmFyIGNpcmNsZV9tYXJrZXJfMThiMjVjNTlhMDc0NGZlNjkwZGRmOTVlOGY1ZTYyNmUgPSBMLmNpcmNsZU1hcmtlcigKICAgICAgICAgICAgICAgIFs0My42ODUzNDcsIC03OS4zMzgxMDY1XSwKICAgICAgICAgICAgICAgIHsiYnViYmxpbmdNb3VzZUV2ZW50cyI6IHRydWUsICJjb2xvciI6ICJibHVlIiwgImRhc2hBcnJheSI6IG51bGwsICJkYXNoT2Zmc2V0IjogbnVsbCwgImZpbGwiOiB0cnVlLCAiZmlsbENvbG9yIjogIiMzMTg2Y2MiLCAiZmlsbE9wYWNpdHkiOiAwLjcsICJmaWxsUnVsZSI6ICJldmVub2RkIiwgImxpbmVDYXAiOiAicm91bmQiLCAibGluZUpvaW4iOiAicm91bmQiLCAib3BhY2l0eSI6IDEuMCwgInJhZGl1cyI6IDUsICJzdHJva2UiOiB0cnVlLCAid2VpZ2h0IjogM30KICAgICAgICAgICAgKS5hZGRUbyhtYXBfYTY3Y2VlYWI0YWYzNDE2NDk3YjY2MDIyMThkNmQ1M2QpOwogICAgICAgIAogICAgCiAgICAgICAgdmFyIHBvcHVwX2U1N2VjNjc4NDVhMDQ0NTJhNzBhYThkODVhZTA5ZmRjID0gTC5wb3B1cCh7Im1heFdpZHRoIjogIjEwMCUifSk7CgogICAgICAgIAogICAgICAgICAgICB2YXIgaHRtbF85ZTc4ZjE1NDUxMGQ0MDczOTNhMmQzMDZlNmQxOGEwNiA9ICQoYDxkaXYgaWQ9Imh0bWxfOWU3OGYxNTQ1MTBkNDA3MzkzYTJkMzA2ZTZkMThhMDYiIHN0eWxlPSJ3aWR0aDogMTAwLjAlOyBoZWlnaHQ6IDEwMC4wJTsiPkVhc3QgVG9yb250bywgRWFzdCBZb3JrPC9kaXY+YClbMF07CiAgICAgICAgICAgIHBvcHVwX2U1N2VjNjc4NDVhMDQ0NTJhNzBhYThkODVhZTA5ZmRjLnNldENvbnRlbnQoaHRtbF85ZTc4ZjE1NDUxMGQ0MDczOTNhMmQzMDZlNmQxOGEwNik7CiAgICAgICAgCgogICAgICAgIGNpcmNsZV9tYXJrZXJfMThiMjVjNTlhMDc0NGZlNjkwZGRmOTVlOGY1ZTYyNmUuYmluZFBvcHVwKHBvcHVwX2U1N2VjNjc4NDVhMDQ0NTJhNzBhYThkODVhZTA5ZmRjKQogICAgICAgIDsKCiAgICAgICAgCiAgICAKICAgIAogICAgICAgICAgICB2YXIgY2lyY2xlX21hcmtlcl9lMmY1OGEzNjIwMmY0NGE2OWRhNTYzYzc4NmU5YTk0NyA9IEwuY2lyY2xlTWFya2VyKAogICAgICAgICAgICAgICAgWzQzLjY0MDgxNTcsIC03OS4zODE3NTIyOTk5OTk5OV0sCiAgICAgICAgICAgICAgICB7ImJ1YmJsaW5nTW91c2VFdmVudHMiOiB0cnVlLCAiY29sb3IiOiAiYmx1ZSIsICJkYXNoQXJyYXkiOiBudWxsLCAiZGFzaE9mZnNldCI6IG51bGwsICJmaWxsIjogdHJ1ZSwgImZpbGxDb2xvciI6ICIjMzE4NmNjIiwgImZpbGxPcGFjaXR5IjogMC43LCAiZmlsbFJ1bGUiOiAiZXZlbm9kZCIsICJsaW5lQ2FwIjogInJvdW5kIiwgImxpbmVKb2luIjogInJvdW5kIiwgIm9wYWNpdHkiOiAxLjAsICJyYWRpdXMiOiA1LCAic3Ryb2tlIjogdHJ1ZSwgIndlaWdodCI6IDN9CiAgICAgICAgICAgICkuYWRkVG8obWFwX2E2N2NlZWFiNGFmMzQxNjQ5N2I2NjAyMjE4ZDZkNTNkKTsKICAgICAgICAKICAgIAogICAgICAgIHZhciBwb3B1cF8wZGEzOTUzMWQxZWM0MzUxYjZiMThmOGZhZjRkM2U3NCA9IEwucG9wdXAoeyJtYXhXaWR0aCI6ICIxMDAlIn0pOwoKICAgICAgICAKICAgICAgICAgICAgdmFyIGh0bWxfZWY4N2NiYWVmNDE4NDQwMjg5ZjRhMjMwYWQ0YjM1YzcgPSAkKGA8ZGl2IGlkPSJodG1sX2VmODdjYmFlZjQxODQ0MDI4OWY0YTIzMGFkNGIzNWM3IiBzdHlsZT0id2lkdGg6IDEwMC4wJTsgaGVpZ2h0OiAxMDAuMCU7Ij5IYXJib3VyZnJvbnQgRWFzdCwgVW5pb24gU3RhdGlvbiwgVG9yb250byBJc2xhbmRzLCBEb3dudG93biBUb3JvbnRvPC9kaXY+YClbMF07CiAgICAgICAgICAgIHBvcHVwXzBkYTM5NTMxZDFlYzQzNTFiNmIxOGY4ZmFmNGQzZTc0LnNldENvbnRlbnQoaHRtbF9lZjg3Y2JhZWY0MTg0NDAyODlmNGEyMzBhZDRiMzVjNyk7CiAgICAgICAgCgogICAgICAgIGNpcmNsZV9tYXJrZXJfZTJmNThhMzYyMDJmNDRhNjlkYTU2M2M3ODZlOWE5NDcuYmluZFBvcHVwKHBvcHVwXzBkYTM5NTMxZDFlYzQzNTFiNmIxOGY4ZmFmNGQzZTc0KQogICAgICAgIDsKCiAgICAgICAgCiAgICAKICAgIAogICAgICAgICAgICB2YXIgY2lyY2xlX21hcmtlcl8zYjkwOGRkMmIyZmQ0NGFmYjlhNjI5MjJkNDgxNzg0NyA9IEwuY2lyY2xlTWFya2VyKAogICAgICAgICAgICAgICAgWzQzLjY0NzkyNjcwMDAwMDAwNiwgLTc5LjQxOTc0OTddLAogICAgICAgICAgICAgICAgeyJidWJibGluZ01vdXNlRXZlbnRzIjogdHJ1ZSwgImNvbG9yIjogImJsdWUiLCAiZGFzaEFycmF5IjogbnVsbCwgImRhc2hPZmZzZXQiOiBudWxsLCAiZmlsbCI6IHRydWUsICJmaWxsQ29sb3IiOiAiIzMxODZjYyIsICJmaWxsT3BhY2l0eSI6IDAuNywgImZpbGxSdWxlIjogImV2ZW5vZGQiLCAibGluZUNhcCI6ICJyb3VuZCIsICJsaW5lSm9pbiI6ICJyb3VuZCIsICJvcGFjaXR5IjogMS4wLCAicmFkaXVzIjogNSwgInN0cm9rZSI6IHRydWUsICJ3ZWlnaHQiOiAzfQogICAgICAgICAgICApLmFkZFRvKG1hcF9hNjdjZWVhYjRhZjM0MTY0OTdiNjYwMjIxOGQ2ZDUzZCk7CiAgICAgICAgCiAgICAKICAgICAgICB2YXIgcG9wdXBfZmU3M2VmNWY5M2QyNGE4YmFhOTc5ZTcxMTM3NWI4YWIgPSBMLnBvcHVwKHsibWF4V2lkdGgiOiAiMTAwJSJ9KTsKCiAgICAgICAgCiAgICAgICAgICAgIHZhciBodG1sX2NmMWM5NWI4YjJmYjQxNDc5YWQwZTQ2MDA2OGI4ZDc0ID0gJChgPGRpdiBpZD0iaHRtbF9jZjFjOTViOGIyZmI0MTQ3OWFkMGU0NjAwNjhiOGQ3NCIgc3R5bGU9IndpZHRoOiAxMDAuMCU7IGhlaWdodDogMTAwLjAlOyI+TGl0dGxlIFBvcnR1Z2FsLCBUcmluaXR5LCBXZXN0IFRvcm9udG88L2Rpdj5gKVswXTsKICAgICAgICAgICAgcG9wdXBfZmU3M2VmNWY5M2QyNGE4YmFhOTc5ZTcxMTM3NWI4YWIuc2V0Q29udGVudChodG1sX2NmMWM5NWI4YjJmYjQxNDc5YWQwZTQ2MDA2OGI4ZDc0KTsKICAgICAgICAKCiAgICAgICAgY2lyY2xlX21hcmtlcl8zYjkwOGRkMmIyZmQ0NGFmYjlhNjI5MjJkNDgxNzg0Ny5iaW5kUG9wdXAocG9wdXBfZmU3M2VmNWY5M2QyNGE4YmFhOTc5ZTcxMTM3NWI4YWIpCiAgICAgICAgOwoKICAgICAgICAKICAgIAogICAgCiAgICAgICAgICAgIHZhciBjaXJjbGVfbWFya2VyX2UyZDIzYWEyYzA1NDQ3YjA4ZWRjNzc3NTgyZWE4OTg4ID0gTC5jaXJjbGVNYXJrZXIoCiAgICAgICAgICAgICAgICBbNDMuNzI3OTI5MiwgLTc5LjI2MjAyOTQwMDAwMDAyXSwKICAgICAgICAgICAgICAgIHsiYnViYmxpbmdNb3VzZUV2ZW50cyI6IHRydWUsICJjb2xvciI6ICJibHVlIiwgImRhc2hBcnJheSI6IG51bGwsICJkYXNoT2Zmc2V0IjogbnVsbCwgImZpbGwiOiB0cnVlLCAiZmlsbENvbG9yIjogIiMzMTg2Y2MiLCAiZmlsbE9wYWNpdHkiOiAwLjcsICJmaWxsUnVsZSI6ICJldmVub2RkIiwgImxpbmVDYXAiOiAicm91bmQiLCAibGluZUpvaW4iOiAicm91bmQiLCAib3BhY2l0eSI6IDEuMCwgInJhZGl1cyI6IDUsICJzdHJva2UiOiB0cnVlLCAid2VpZ2h0IjogM30KICAgICAgICAgICAgKS5hZGRUbyhtYXBfYTY3Y2VlYWI0YWYzNDE2NDk3YjY2MDIyMThkNmQ1M2QpOwogICAgICAgIAogICAgCiAgICAgICAgdmFyIHBvcHVwX2ZhNzAyYjIyOGVhNTQ3MjFhNDA2YjE0YzZhYzY5MGY1ID0gTC5wb3B1cCh7Im1heFdpZHRoIjogIjEwMCUifSk7CgogICAgICAgIAogICAgICAgICAgICB2YXIgaHRtbF83MTI4OGQxMzlhZTQ0ZTdiYjkxZDIzM2FjZGU1YmM0YSA9ICQoYDxkaXYgaWQ9Imh0bWxfNzEyODhkMTM5YWU0NGU3YmI5MWQyMzNhY2RlNWJjNGEiIHN0eWxlPSJ3aWR0aDogMTAwLjAlOyBoZWlnaHQ6IDEwMC4wJTsiPktlbm5lZHkgUGFyaywgSW9udmlldywgRWFzdCBCaXJjaG1vdW50IFBhcmssIFNjYXJib3JvdWdoPC9kaXY+YClbMF07CiAgICAgICAgICAgIHBvcHVwX2ZhNzAyYjIyOGVhNTQ3MjFhNDA2YjE0YzZhYzY5MGY1LnNldENvbnRlbnQoaHRtbF83MTI4OGQxMzlhZTQ0ZTdiYjkxZDIzM2FjZGU1YmM0YSk7CiAgICAgICAgCgogICAgICAgIGNpcmNsZV9tYXJrZXJfZTJkMjNhYTJjMDU0NDdiMDhlZGM3Nzc1ODJlYTg5ODguYmluZFBvcHVwKHBvcHVwX2ZhNzAyYjIyOGVhNTQ3MjFhNDA2YjE0YzZhYzY5MGY1KQogICAgICAgIDsKCiAgICAgICAgCiAgICAKICAgIAogICAgICAgICAgICB2YXIgY2lyY2xlX21hcmtlcl8xYjVjZjc0MDA4MGI0YjRiODc5OGMyYTk0MTIxNzQ4ZSA9IEwuY2lyY2xlTWFya2VyKAogICAgICAgICAgICAgICAgWzQzLjc4Njk0NzMsIC03OS4zODU5NzVdLAogICAgICAgICAgICAgICAgeyJidWJibGluZ01vdXNlRXZlbnRzIjogdHJ1ZSwgImNvbG9yIjogImJsdWUiLCAiZGFzaEFycmF5IjogbnVsbCwgImRhc2hPZmZzZXQiOiBudWxsLCAiZmlsbCI6IHRydWUsICJmaWxsQ29sb3IiOiAiIzMxODZjYyIsICJmaWxsT3BhY2l0eSI6IDAuNywgImZpbGxSdWxlIjogImV2ZW5vZGQiLCAibGluZUNhcCI6ICJyb3VuZCIsICJsaW5lSm9pbiI6ICJyb3VuZCIsICJvcGFjaXR5IjogMS4wLCAicmFkaXVzIjogNSwgInN0cm9rZSI6IHRydWUsICJ3ZWlnaHQiOiAzfQogICAgICAgICAgICApLmFkZFRvKG1hcF9hNjdjZWVhYjRhZjM0MTY0OTdiNjYwMjIxOGQ2ZDUzZCk7CiAgICAgICAgCiAgICAKICAgICAgICB2YXIgcG9wdXBfOGM3OGE5NTk5M2NkNDE2MDlmOWJmMDc0NGY4ZGNhMTQgPSBMLnBvcHVwKHsibWF4V2lkdGgiOiAiMTAwJSJ9KTsKCiAgICAgICAgCiAgICAgICAgICAgIHZhciBodG1sXzAxODI3MDUzOTJmZTQ3ZjViZWI3NzE1N2EzYWNiNzY0ID0gJChgPGRpdiBpZD0iaHRtbF8wMTgyNzA1MzkyZmU0N2Y1YmViNzcxNTdhM2FjYjc2NCIgc3R5bGU9IndpZHRoOiAxMDAuMCU7IGhlaWdodDogMTAwLjAlOyI+QmF5dmlldyBWaWxsYWdlLCBOb3J0aCBZb3JrPC9kaXY+YClbMF07CiAgICAgICAgICAgIHBvcHVwXzhjNzhhOTU5OTNjZDQxNjA5ZjliZjA3NDRmOGRjYTE0LnNldENvbnRlbnQoaHRtbF8wMTgyNzA1MzkyZmU0N2Y1YmViNzcxNTdhM2FjYjc2NCk7CiAgICAgICAgCgogICAgICAgIGNpcmNsZV9tYXJrZXJfMWI1Y2Y3NDAwODBiNGI0Yjg3OThjMmE5NDEyMTc0OGUuYmluZFBvcHVwKHBvcHVwXzhjNzhhOTU5OTNjZDQxNjA5ZjliZjA3NDRmOGRjYTE0KQogICAgICAgIDsKCiAgICAgICAgCiAgICAKICAgIAogICAgICAgICAgICB2YXIgY2lyY2xlX21hcmtlcl9kMzUzZGE3YzJiZmE0YTVlYmMyMjM3YmQ0YjAyN2I1YiA9IEwuY2lyY2xlTWFya2VyKAogICAgICAgICAgICAgICAgWzQzLjczNzQ3MzIwMDAwMDAwNCwgLTc5LjQ2NDc2MzI5OTk5OTk5XSwKICAgICAgICAgICAgICAgIHsiYnViYmxpbmdNb3VzZUV2ZW50cyI6IHRydWUsICJjb2xvciI6ICJibHVlIiwgImRhc2hBcnJheSI6IG51bGwsICJkYXNoT2Zmc2V0IjogbnVsbCwgImZpbGwiOiB0cnVlLCAiZmlsbENvbG9yIjogIiMzMTg2Y2MiLCAiZmlsbE9wYWNpdHkiOiAwLjcsICJmaWxsUnVsZSI6ICJldmVub2RkIiwgImxpbmVDYXAiOiAicm91bmQiLCAibGluZUpvaW4iOiAicm91bmQiLCAib3BhY2l0eSI6IDEuMCwgInJhZGl1cyI6IDUsICJzdHJva2UiOiB0cnVlLCAid2VpZ2h0IjogM30KICAgICAgICAgICAgKS5hZGRUbyhtYXBfYTY3Y2VlYWI0YWYzNDE2NDk3YjY2MDIyMThkNmQ1M2QpOwogICAgICAgIAogICAgCiAgICAgICAgdmFyIHBvcHVwXzBjZGJhMmQyYzM5MTRkMTZiNDFjNDRkYTBiZTEyYTkyID0gTC5wb3B1cCh7Im1heFdpZHRoIjogIjEwMCUifSk7CgogICAgICAgIAogICAgICAgICAgICB2YXIgaHRtbF8xZTdlMzZiNjAwZjU0MTYwODY3NGUxNjAyYWNlMzkyNyA9ICQoYDxkaXYgaWQ9Imh0bWxfMWU3ZTM2YjYwMGY1NDE2MDg2NzRlMTYwMmFjZTM5MjciIHN0eWxlPSJ3aWR0aDogMTAwLjAlOyBoZWlnaHQ6IDEwMC4wJTsiPkRvd25zdmlldywgTm9ydGggWW9yazwvZGl2PmApWzBdOwogICAgICAgICAgICBwb3B1cF8wY2RiYTJkMmMzOTE0ZDE2YjQxYzQ0ZGEwYmUxMmE5Mi5zZXRDb250ZW50KGh0bWxfMWU3ZTM2YjYwMGY1NDE2MDg2NzRlMTYwMmFjZTM5MjcpOwogICAgICAgIAoKICAgICAgICBjaXJjbGVfbWFya2VyX2QzNTNkYTdjMmJmYTRhNWViYzIyMzdiZDRiMDI3YjViLmJpbmRQb3B1cChwb3B1cF8wY2RiYTJkMmMzOTE0ZDE2YjQxYzQ0ZGEwYmUxMmE5MikKICAgICAgICA7CgogICAgICAgIAogICAgCiAgICAKICAgICAgICAgICAgdmFyIGNpcmNsZV9tYXJrZXJfNDUxMTE2ZThhOWMyNGViMWI4MzEyOGMxZjAxOWEwMzEgPSBMLmNpcmNsZU1hcmtlcigKICAgICAgICAgICAgICAgIFs0My42Nzk1NTcxLCAtNzkuMzUyMTg4XSwKICAgICAgICAgICAgICAgIHsiYnViYmxpbmdNb3VzZUV2ZW50cyI6IHRydWUsICJjb2xvciI6ICJibHVlIiwgImRhc2hBcnJheSI6IG51bGwsICJkYXNoT2Zmc2V0IjogbnVsbCwgImZpbGwiOiB0cnVlLCAiZmlsbENvbG9yIjogIiMzMTg2Y2MiLCAiZmlsbE9wYWNpdHkiOiAwLjcsICJmaWxsUnVsZSI6ICJldmVub2RkIiwgImxpbmVDYXAiOiAicm91bmQiLCAibGluZUpvaW4iOiAicm91bmQiLCAib3BhY2l0eSI6IDEuMCwgInJhZGl1cyI6IDUsICJzdHJva2UiOiB0cnVlLCAid2VpZ2h0IjogM30KICAgICAgICAgICAgKS5hZGRUbyhtYXBfYTY3Y2VlYWI0YWYzNDE2NDk3YjY2MDIyMThkNmQ1M2QpOwogICAgICAgIAogICAgCiAgICAgICAgdmFyIHBvcHVwXzVjZTY1ZTliOGZhYjRiMDE4NjZkMzUwMGM5MDgzOTZmID0gTC5wb3B1cCh7Im1heFdpZHRoIjogIjEwMCUifSk7CgogICAgICAgIAogICAgICAgICAgICB2YXIgaHRtbF9kYWJkODBkN2FmY2U0ZWUxODI1YmRkM2FhMDBmYmJhYiA9ICQoYDxkaXYgaWQ9Imh0bWxfZGFiZDgwZDdhZmNlNGVlMTgyNWJkZDNhYTAwZmJiYWIiIHN0eWxlPSJ3aWR0aDogMTAwLjAlOyBoZWlnaHQ6IDEwMC4wJTsiPlRoZSBEYW5mb3J0aCBXZXN0LCBSaXZlcmRhbGUsIEVhc3QgVG9yb250bzwvZGl2PmApWzBdOwogICAgICAgICAgICBwb3B1cF81Y2U2NWU5YjhmYWI0YjAxODY2ZDM1MDBjOTA4Mzk2Zi5zZXRDb250ZW50KGh0bWxfZGFiZDgwZDdhZmNlNGVlMTgyNWJkZDNhYTAwZmJiYWIpOwogICAgICAgIAoKICAgICAgICBjaXJjbGVfbWFya2VyXzQ1MTExNmU4YTljMjRlYjFiODMxMjhjMWYwMTlhMDMxLmJpbmRQb3B1cChwb3B1cF81Y2U2NWU5YjhmYWI0YjAxODY2ZDM1MDBjOTA4Mzk2ZikKICAgICAgICA7CgogICAgICAgIAogICAgCiAgICAKICAgICAgICAgICAgdmFyIGNpcmNsZV9tYXJrZXJfMmJlODIyMTRhY2YwNGMyYmIwZGUxZTIyNWQyZWFhOGIgPSBMLmNpcmNsZU1hcmtlcigKICAgICAgICAgICAgICAgIFs0My42NDcxNzY4LCAtNzkuMzgxNTc2NDAwMDAwMDFdLAogICAgICAgICAgICAgICAgeyJidWJibGluZ01vdXNlRXZlbnRzIjogdHJ1ZSwgImNvbG9yIjogImJsdWUiLCAiZGFzaEFycmF5IjogbnVsbCwgImRhc2hPZmZzZXQiOiBudWxsLCAiZmlsbCI6IHRydWUsICJmaWxsQ29sb3IiOiAiIzMxODZjYyIsICJmaWxsT3BhY2l0eSI6IDAuNywgImZpbGxSdWxlIjogImV2ZW5vZGQiLCAibGluZUNhcCI6ICJyb3VuZCIsICJsaW5lSm9pbiI6ICJyb3VuZCIsICJvcGFjaXR5IjogMS4wLCAicmFkaXVzIjogNSwgInN0cm9rZSI6IHRydWUsICJ3ZWlnaHQiOiAzfQogICAgICAgICAgICApLmFkZFRvKG1hcF9hNjdjZWVhYjRhZjM0MTY0OTdiNjYwMjIxOGQ2ZDUzZCk7CiAgICAgICAgCiAgICAKICAgICAgICB2YXIgcG9wdXBfOWJhODAwNTFhMjAxNGYzYWE0YmUwYmQ4NzExZTNhNjEgPSBMLnBvcHVwKHsibWF4V2lkdGgiOiAiMTAwJSJ9KTsKCiAgICAgICAgCiAgICAgICAgICAgIHZhciBodG1sXzVkOGI5ODVhODFmZTQzN2FiYjMzNDI1N2NkYWM0MjExID0gJChgPGRpdiBpZD0iaHRtbF81ZDhiOTg1YTgxZmU0MzdhYmIzMzQyNTdjZGFjNDIxMSIgc3R5bGU9IndpZHRoOiAxMDAuMCU7IGhlaWdodDogMTAwLjAlOyI+VG9yb250byBEb21pbmlvbiBDZW50cmUsIERlc2lnbiBFeGNoYW5nZSwgRG93bnRvd24gVG9yb250bzwvZGl2PmApWzBdOwogICAgICAgICAgICBwb3B1cF85YmE4MDA1MWEyMDE0ZjNhYTRiZTBiZDg3MTFlM2E2MS5zZXRDb250ZW50KGh0bWxfNWQ4Yjk4NWE4MWZlNDM3YWJiMzM0MjU3Y2RhYzQyMTEpOwogICAgICAgIAoKICAgICAgICBjaXJjbGVfbWFya2VyXzJiZTgyMjE0YWNmMDRjMmJiMGRlMWUyMjVkMmVhYThiLmJpbmRQb3B1cChwb3B1cF85YmE4MDA1MWEyMDE0ZjNhYTRiZTBiZDg3MTFlM2E2MSkKICAgICAgICA7CgogICAgICAgIAogICAgCiAgICAKICAgICAgICAgICAgdmFyIGNpcmNsZV9tYXJrZXJfMzZlODg3NmI4ZDgxNGE3MDkxY2I2Y2EyMTczZmYxZDEgPSBMLmNpcmNsZU1hcmtlcigKICAgICAgICAgICAgICAgIFs0My42MzY4NDcyLCAtNzkuNDI4MTkxNDAwMDAwMDJdLAogICAgICAgICAgICAgICAgeyJidWJibGluZ01vdXNlRXZlbnRzIjogdHJ1ZSwgImNvbG9yIjogImJsdWUiLCAiZGFzaEFycmF5IjogbnVsbCwgImRhc2hPZmZzZXQiOiBudWxsLCAiZmlsbCI6IHRydWUsICJmaWxsQ29sb3IiOiAiIzMxODZjYyIsICJmaWxsT3BhY2l0eSI6IDAuNywgImZpbGxSdWxlIjogImV2ZW5vZGQiLCAibGluZUNhcCI6ICJyb3VuZCIsICJsaW5lSm9pbiI6ICJyb3VuZCIsICJvcGFjaXR5IjogMS4wLCAicmFkaXVzIjogNSwgInN0cm9rZSI6IHRydWUsICJ3ZWlnaHQiOiAzfQogICAgICAgICAgICApLmFkZFRvKG1hcF9hNjdjZWVhYjRhZjM0MTY0OTdiNjYwMjIxOGQ2ZDUzZCk7CiAgICAgICAgCiAgICAKICAgICAgICB2YXIgcG9wdXBfYWMxNTYyMWNmOGMxNDQ2MThhNDM4MzgxZWJkZmU5MTAgPSBMLnBvcHVwKHsibWF4V2lkdGgiOiAiMTAwJSJ9KTsKCiAgICAgICAgCiAgICAgICAgICAgIHZhciBodG1sXzkzNDNmMjBhZmJiYzQ5MTViOWFjNDU0NTBlNzdjZWEwID0gJChgPGRpdiBpZD0iaHRtbF85MzQzZjIwYWZiYmM0OTE1YjlhYzQ1NDUwZTc3Y2VhMCIgc3R5bGU9IndpZHRoOiAxMDAuMCU7IGhlaWdodDogMTAwLjAlOyI+QnJvY2t0b24sIFBhcmtkYWxlIFZpbGxhZ2UsIEV4aGliaXRpb24gUGxhY2UsIFdlc3QgVG9yb250bzwvZGl2PmApWzBdOwogICAgICAgICAgICBwb3B1cF9hYzE1NjIxY2Y4YzE0NDYxOGE0MzgzODFlYmRmZTkxMC5zZXRDb250ZW50KGh0bWxfOTM0M2YyMGFmYmJjNDkxNWI5YWM0NTQ1MGU3N2NlYTApOwogICAgICAgIAoKICAgICAgICBjaXJjbGVfbWFya2VyXzM2ZTg4NzZiOGQ4MTRhNzA5MWNiNmNhMjE3M2ZmMWQxLmJpbmRQb3B1cChwb3B1cF9hYzE1NjIxY2Y4YzE0NDYxOGE0MzgzODFlYmRmZTkxMCkKICAgICAgICA7CgogICAgICAgIAogICAgCiAgICAKICAgICAgICAgICAgdmFyIGNpcmNsZV9tYXJrZXJfM2RmMzc1NzFmYTQ3NDg0MDk3YTUwYzYyN2E2OTgwZmUgPSBMLmNpcmNsZU1hcmtlcigKICAgICAgICAgICAgICAgIFs0My43MTExMTE3MDAwMDAwMDQsIC03OS4yODQ1NzcyXSwKICAgICAgICAgICAgICAgIHsiYnViYmxpbmdNb3VzZUV2ZW50cyI6IHRydWUsICJjb2xvciI6ICJibHVlIiwgImRhc2hBcnJheSI6IG51bGwsICJkYXNoT2Zmc2V0IjogbnVsbCwgImZpbGwiOiB0cnVlLCAiZmlsbENvbG9yIjogIiMzMTg2Y2MiLCAiZmlsbE9wYWNpdHkiOiAwLjcsICJmaWxsUnVsZSI6ICJldmVub2RkIiwgImxpbmVDYXAiOiAicm91bmQiLCAibGluZUpvaW4iOiAicm91bmQiLCAib3BhY2l0eSI6IDEuMCwgInJhZGl1cyI6IDUsICJzdHJva2UiOiB0cnVlLCAid2VpZ2h0IjogM30KICAgICAgICAgICAgKS5hZGRUbyhtYXBfYTY3Y2VlYWI0YWYzNDE2NDk3YjY2MDIyMThkNmQ1M2QpOwogICAgICAgIAogICAgCiAgICAgICAgdmFyIHBvcHVwXzc3NDBlNmU2YzkzNzRlZjViOTkxMWNiN2UzMmQ1MDE3ID0gTC5wb3B1cCh7Im1heFdpZHRoIjogIjEwMCUifSk7CgogICAgICAgIAogICAgICAgICAgICB2YXIgaHRtbF82YWFiNmE1YzNlMmU0MDRkYmZmNjMyMmNlYmJjOTM4NSA9ICQoYDxkaXYgaWQ9Imh0bWxfNmFhYjZhNWMzZTJlNDA0ZGJmZjYzMjJjZWJiYzkzODUiIHN0eWxlPSJ3aWR0aDogMTAwLjAlOyBoZWlnaHQ6IDEwMC4wJTsiPkdvbGRlbiBNaWxlLCBDbGFpcmxlYSwgT2FrcmlkZ2UsIFNjYXJib3JvdWdoPC9kaXY+YClbMF07CiAgICAgICAgICAgIHBvcHVwXzc3NDBlNmU2YzkzNzRlZjViOTkxMWNiN2UzMmQ1MDE3LnNldENvbnRlbnQoaHRtbF82YWFiNmE1YzNlMmU0MDRkYmZmNjMyMmNlYmJjOTM4NSk7CiAgICAgICAgCgogICAgICAgIGNpcmNsZV9tYXJrZXJfM2RmMzc1NzFmYTQ3NDg0MDk3YTUwYzYyN2E2OTgwZmUuYmluZFBvcHVwKHBvcHVwXzc3NDBlNmU2YzkzNzRlZjViOTkxMWNiN2UzMmQ1MDE3KQogICAgICAgIDsKCiAgICAgICAgCiAgICAKICAgIAogICAgICAgICAgICB2YXIgY2lyY2xlX21hcmtlcl8xZWY1ZDc3YmY0ODc0M2JmYjViN2U3N2U3YWMyM2RlNCA9IEwuY2lyY2xlTWFya2VyKAogICAgICAgICAgICAgICAgWzQzLjc1NzQ5MDIsIC03OS4zNzQ3MTQwOTk5OTk5OV0sCiAgICAgICAgICAgICAgICB7ImJ1YmJsaW5nTW91c2VFdmVudHMiOiB0cnVlLCAiY29sb3IiOiAiYmx1ZSIsICJkYXNoQXJyYXkiOiBudWxsLCAiZGFzaE9mZnNldCI6IG51bGwsICJmaWxsIjogdHJ1ZSwgImZpbGxDb2xvciI6ICIjMzE4NmNjIiwgImZpbGxPcGFjaXR5IjogMC43LCAiZmlsbFJ1bGUiOiAiZXZlbm9kZCIsICJsaW5lQ2FwIjogInJvdW5kIiwgImxpbmVKb2luIjogInJvdW5kIiwgIm9wYWNpdHkiOiAxLjAsICJyYWRpdXMiOiA1LCAic3Ryb2tlIjogdHJ1ZSwgIndlaWdodCI6IDN9CiAgICAgICAgICAgICkuYWRkVG8obWFwX2E2N2NlZWFiNGFmMzQxNjQ5N2I2NjAyMjE4ZDZkNTNkKTsKICAgICAgICAKICAgIAogICAgICAgIHZhciBwb3B1cF9kYTBlNzM2OTExMTA0ZWRkOTgwYzU1MWE1ZGM0MGQzYyA9IEwucG9wdXAoeyJtYXhXaWR0aCI6ICIxMDAlIn0pOwoKICAgICAgICAKICAgICAgICAgICAgdmFyIGh0bWxfODcyNTU0OTU2MWUwNDk3ZTk1MGE3NTI5NGRhMTc4YzUgPSAkKGA8ZGl2IGlkPSJodG1sXzg3MjU1NDk1NjFlMDQ5N2U5NTBhNzUyOTRkYTE3OGM1IiBzdHlsZT0id2lkdGg6IDEwMC4wJTsgaGVpZ2h0OiAxMDAuMCU7Ij5Zb3JrIE1pbGxzLCBTaWx2ZXIgSGlsbHMsIE5vcnRoIFlvcms8L2Rpdj5gKVswXTsKICAgICAgICAgICAgcG9wdXBfZGEwZTczNjkxMTEwNGVkZDk4MGM1NTFhNWRjNDBkM2Muc2V0Q29udGVudChodG1sXzg3MjU1NDk1NjFlMDQ5N2U5NTBhNzUyOTRkYTE3OGM1KTsKICAgICAgICAKCiAgICAgICAgY2lyY2xlX21hcmtlcl8xZWY1ZDc3YmY0ODc0M2JmYjViN2U3N2U3YWMyM2RlNC5iaW5kUG9wdXAocG9wdXBfZGEwZTczNjkxMTEwNGVkZDk4MGM1NTFhNWRjNDBkM2MpCiAgICAgICAgOwoKICAgICAgICAKICAgIAogICAgCiAgICAgICAgICAgIHZhciBjaXJjbGVfbWFya2VyX2VlNGU0NDM3M2UxMzRmYTQ4ODIwMDViOWNmMjUwZmUwID0gTC5jaXJjbGVNYXJrZXIoCiAgICAgICAgICAgICAgICBbNDMuNzM5MDE0NiwgLTc5LjUwNjk0MzZdLAogICAgICAgICAgICAgICAgeyJidWJibGluZ01vdXNlRXZlbnRzIjogdHJ1ZSwgImNvbG9yIjogImJsdWUiLCAiZGFzaEFycmF5IjogbnVsbCwgImRhc2hPZmZzZXQiOiBudWxsLCAiZmlsbCI6IHRydWUsICJmaWxsQ29sb3IiOiAiIzMxODZjYyIsICJmaWxsT3BhY2l0eSI6IDAuNywgImZpbGxSdWxlIjogImV2ZW5vZGQiLCAibGluZUNhcCI6ICJyb3VuZCIsICJsaW5lSm9pbiI6ICJyb3VuZCIsICJvcGFjaXR5IjogMS4wLCAicmFkaXVzIjogNSwgInN0cm9rZSI6IHRydWUsICJ3ZWlnaHQiOiAzfQogICAgICAgICAgICApLmFkZFRvKG1hcF9hNjdjZWVhYjRhZjM0MTY0OTdiNjYwMjIxOGQ2ZDUzZCk7CiAgICAgICAgCiAgICAKICAgICAgICB2YXIgcG9wdXBfOTFlMDI4ZmMwMWUzNDcwYzliYWM1ODBmY2QzNWNkMWQgPSBMLnBvcHVwKHsibWF4V2lkdGgiOiAiMTAwJSJ9KTsKCiAgICAgICAgCiAgICAgICAgICAgIHZhciBodG1sX2IxYWJhZmFkMTIzODRhZWNiZmJhNzNmM2Y3MGViOGI3ID0gJChgPGRpdiBpZD0iaHRtbF9iMWFiYWZhZDEyMzg0YWVjYmZiYTczZjNmNzBlYjhiNyIgc3R5bGU9IndpZHRoOiAxMDAuMCU7IGhlaWdodDogMTAwLjAlOyI+RG93bnN2aWV3LCBOb3J0aCBZb3JrPC9kaXY+YClbMF07CiAgICAgICAgICAgIHBvcHVwXzkxZTAyOGZjMDFlMzQ3MGM5YmFjNTgwZmNkMzVjZDFkLnNldENvbnRlbnQoaHRtbF9iMWFiYWZhZDEyMzg0YWVjYmZiYTczZjNmNzBlYjhiNyk7CiAgICAgICAgCgogICAgICAgIGNpcmNsZV9tYXJrZXJfZWU0ZTQ0MzczZTEzNGZhNDg4MjAwNWI5Y2YyNTBmZTAuYmluZFBvcHVwKHBvcHVwXzkxZTAyOGZjMDFlMzQ3MGM5YmFjNTgwZmNkMzVjZDFkKQogICAgICAgIDsKCiAgICAgICAgCiAgICAKICAgIAogICAgICAgICAgICB2YXIgY2lyY2xlX21hcmtlcl82MWY1ZjZmYjhjNmY0MGRiOGVmYmY0YjQzN2M1N2RlNiA9IEwuY2lyY2xlTWFya2VyKAogICAgICAgICAgICAgICAgWzQzLjY2ODk5ODUsIC03OS4zMTU1NzE1OTk5OTk5OF0sCiAgICAgICAgICAgICAgICB7ImJ1YmJsaW5nTW91c2VFdmVudHMiOiB0cnVlLCAiY29sb3IiOiAiYmx1ZSIsICJkYXNoQXJyYXkiOiBudWxsLCAiZGFzaE9mZnNldCI6IG51bGwsICJmaWxsIjogdHJ1ZSwgImZpbGxDb2xvciI6ICIjMzE4NmNjIiwgImZpbGxPcGFjaXR5IjogMC43LCAiZmlsbFJ1bGUiOiAiZXZlbm9kZCIsICJsaW5lQ2FwIjogInJvdW5kIiwgImxpbmVKb2luIjogInJvdW5kIiwgIm9wYWNpdHkiOiAxLjAsICJyYWRpdXMiOiA1LCAic3Ryb2tlIjogdHJ1ZSwgIndlaWdodCI6IDN9CiAgICAgICAgICAgICkuYWRkVG8obWFwX2E2N2NlZWFiNGFmMzQxNjQ5N2I2NjAyMjE4ZDZkNTNkKTsKICAgICAgICAKICAgIAogICAgICAgIHZhciBwb3B1cF84MTY5ZDI4MDFlOGY0OTRlYjliNjFlMmE1MDgxNWQ2YyA9IEwucG9wdXAoeyJtYXhXaWR0aCI6ICIxMDAlIn0pOwoKICAgICAgICAKICAgICAgICAgICAgdmFyIGh0bWxfMWRiYzllZWQzZjVhNDM0MDhlMDA2ZDZkNzRjOWUxNGUgPSAkKGA8ZGl2IGlkPSJodG1sXzFkYmM5ZWVkM2Y1YTQzNDA4ZTAwNmQ2ZDc0YzllMTRlIiBzdHlsZT0id2lkdGg6IDEwMC4wJTsgaGVpZ2h0OiAxMDAuMCU7Ij5JbmRpYSBCYXphYXIsIFRoZSBCZWFjaGVzIFdlc3QsIEVhc3QgVG9yb250bzwvZGl2PmApWzBdOwogICAgICAgICAgICBwb3B1cF84MTY5ZDI4MDFlOGY0OTRlYjliNjFlMmE1MDgxNWQ2Yy5zZXRDb250ZW50KGh0bWxfMWRiYzllZWQzZjVhNDM0MDhlMDA2ZDZkNzRjOWUxNGUpOwogICAgICAgIAoKICAgICAgICBjaXJjbGVfbWFya2VyXzYxZjVmNmZiOGM2ZjQwZGI4ZWZiZjRiNDM3YzU3ZGU2LmJpbmRQb3B1cChwb3B1cF84MTY5ZDI4MDFlOGY0OTRlYjliNjFlMmE1MDgxNWQ2YykKICAgICAgICA7CgogICAgICAgIAogICAgCiAgICAKICAgICAgICAgICAgdmFyIGNpcmNsZV9tYXJrZXJfYTAwNjVlMDgwYTQ1NDNiMjliMjNjZjQ3ODEzYmVkZWUgPSBMLmNpcmNsZU1hcmtlcigKICAgICAgICAgICAgICAgIFs0My42NDgxOTg1LCAtNzkuMzc5ODE2OTAwMDAwMDFdLAogICAgICAgICAgICAgICAgeyJidWJibGluZ01vdXNlRXZlbnRzIjogdHJ1ZSwgImNvbG9yIjogImJsdWUiLCAiZGFzaEFycmF5IjogbnVsbCwgImRhc2hPZmZzZXQiOiBudWxsLCAiZmlsbCI6IHRydWUsICJmaWxsQ29sb3IiOiAiIzMxODZjYyIsICJmaWxsT3BhY2l0eSI6IDAuNywgImZpbGxSdWxlIjogImV2ZW5vZGQiLCAibGluZUNhcCI6ICJyb3VuZCIsICJsaW5lSm9pbiI6ICJyb3VuZCIsICJvcGFjaXR5IjogMS4wLCAicmFkaXVzIjogNSwgInN0cm9rZSI6IHRydWUsICJ3ZWlnaHQiOiAzfQogICAgICAgICAgICApLmFkZFRvKG1hcF9hNjdjZWVhYjRhZjM0MTY0OTdiNjYwMjIxOGQ2ZDUzZCk7CiAgICAgICAgCiAgICAKICAgICAgICB2YXIgcG9wdXBfOTVkNzdjODU1ZmRhNGJhNzgyZjVkNWVhMTk5NWRiYjAgPSBMLnBvcHVwKHsibWF4V2lkdGgiOiAiMTAwJSJ9KTsKCiAgICAgICAgCiAgICAgICAgICAgIHZhciBodG1sXzMxNThjOTRhMzg2MTRiNWY5Y2ExNjJkNTc0NjkyYjE0ID0gJChgPGRpdiBpZD0iaHRtbF8zMTU4Yzk0YTM4NjE0YjVmOWNhMTYyZDU3NDY5MmIxNCIgc3R5bGU9IndpZHRoOiAxMDAuMCU7IGhlaWdodDogMTAwLjAlOyI+Q29tbWVyY2UgQ291cnQsIFZpY3RvcmlhIEhvdGVsLCBEb3dudG93biBUb3JvbnRvPC9kaXY+YClbMF07CiAgICAgICAgICAgIHBvcHVwXzk1ZDc3Yzg1NWZkYTRiYTc4MmY1ZDVlYTE5OTVkYmIwLnNldENvbnRlbnQoaHRtbF8zMTU4Yzk0YTM4NjE0YjVmOWNhMTYyZDU3NDY5MmIxNCk7CiAgICAgICAgCgogICAgICAgIGNpcmNsZV9tYXJrZXJfYTAwNjVlMDgwYTQ1NDNiMjliMjNjZjQ3ODEzYmVkZWUuYmluZFBvcHVwKHBvcHVwXzk1ZDc3Yzg1NWZkYTRiYTc4MmY1ZDVlYTE5OTVkYmIwKQogICAgICAgIDsKCiAgICAgICAgCiAgICAKICAgIAogICAgICAgICAgICB2YXIgY2lyY2xlX21hcmtlcl8wZDBmYzhjYzNkNmU0MzE3YTlhN2E0MWRkOGJhN2VkNyA9IEwuY2lyY2xlTWFya2VyKAogICAgICAgICAgICAgICAgWzQzLjcxMzc1NjIwMDAwMDAwNiwgLTc5LjQ5MDA3MzhdLAogICAgICAgICAgICAgICAgeyJidWJibGluZ01vdXNlRXZlbnRzIjogdHJ1ZSwgImNvbG9yIjogImJsdWUiLCAiZGFzaEFycmF5IjogbnVsbCwgImRhc2hPZmZzZXQiOiBudWxsLCAiZmlsbCI6IHRydWUsICJmaWxsQ29sb3IiOiAiIzMxODZjYyIsICJmaWxsT3BhY2l0eSI6IDAuNywgImZpbGxSdWxlIjogImV2ZW5vZGQiLCAibGluZUNhcCI6ICJyb3VuZCIsICJsaW5lSm9pbiI6ICJyb3VuZCIsICJvcGFjaXR5IjogMS4wLCAicmFkaXVzIjogNSwgInN0cm9rZSI6IHRydWUsICJ3ZWlnaHQiOiAzfQogICAgICAgICAgICApLmFkZFRvKG1hcF9hNjdjZWVhYjRhZjM0MTY0OTdiNjYwMjIxOGQ2ZDUzZCk7CiAgICAgICAgCiAgICAKICAgICAgICB2YXIgcG9wdXBfODg0ZDkxYWViOWRiNGVkNGI2NmI4Yzc0Zjg3MjVhODIgPSBMLnBvcHVwKHsibWF4V2lkdGgiOiAiMTAwJSJ9KTsKCiAgICAgICAgCiAgICAgICAgICAgIHZhciBodG1sX2M0YTY2ZDM0ZGYwOTRmMTE4ZDViNmI2N2FiMThkZDNkID0gJChgPGRpdiBpZD0iaHRtbF9jNGE2NmQzNGRmMDk0ZjExOGQ1YjZiNjdhYjE4ZGQzZCIgc3R5bGU9IndpZHRoOiAxMDAuMCU7IGhlaWdodDogMTAwLjAlOyI+Tm9ydGggUGFyaywgTWFwbGUgTGVhZiBQYXJrLCBVcHdvb2QgUGFyaywgTm9ydGggWW9yazwvZGl2PmApWzBdOwogICAgICAgICAgICBwb3B1cF84ODRkOTFhZWI5ZGI0ZWQ0YjY2YjhjNzRmODcyNWE4Mi5zZXRDb250ZW50KGh0bWxfYzRhNjZkMzRkZjA5NGYxMThkNWI2YjY3YWIxOGRkM2QpOwogICAgICAgIAoKICAgICAgICBjaXJjbGVfbWFya2VyXzBkMGZjOGNjM2Q2ZTQzMTdhOWE3YTQxZGQ4YmE3ZWQ3LmJpbmRQb3B1cChwb3B1cF84ODRkOTFhZWI5ZGI0ZWQ0YjY2YjhjNzRmODcyNWE4MikKICAgICAgICA7CgogICAgICAgIAogICAgCiAgICAKICAgICAgICAgICAgdmFyIGNpcmNsZV9tYXJrZXJfMTNlMDU4YTZlNjNiNDAzMThhMmRjMGYzZTZhOTk2NzEgPSBMLmNpcmNsZU1hcmtlcigKICAgICAgICAgICAgICAgIFs0My43NTYzMDMzLCAtNzkuNTY1OTYzMjk5OTk5OTldLAogICAgICAgICAgICAgICAgeyJidWJibGluZ01vdXNlRXZlbnRzIjogdHJ1ZSwgImNvbG9yIjogImJsdWUiLCAiZGFzaEFycmF5IjogbnVsbCwgImRhc2hPZmZzZXQiOiBudWxsLCAiZmlsbCI6IHRydWUsICJmaWxsQ29sb3IiOiAiIzMxODZjYyIsICJmaWxsT3BhY2l0eSI6IDAuNywgImZpbGxSdWxlIjogImV2ZW5vZGQiLCAibGluZUNhcCI6ICJyb3VuZCIsICJsaW5lSm9pbiI6ICJyb3VuZCIsICJvcGFjaXR5IjogMS4wLCAicmFkaXVzIjogNSwgInN0cm9rZSI6IHRydWUsICJ3ZWlnaHQiOiAzfQogICAgICAgICAgICApLmFkZFRvKG1hcF9hNjdjZWVhYjRhZjM0MTY0OTdiNjYwMjIxOGQ2ZDUzZCk7CiAgICAgICAgCiAgICAKICAgICAgICB2YXIgcG9wdXBfZjY2MTE5ODI3MzJhNDdjNTg1Yzc1YWFiNThjMTU5MTcgPSBMLnBvcHVwKHsibWF4V2lkdGgiOiAiMTAwJSJ9KTsKCiAgICAgICAgCiAgICAgICAgICAgIHZhciBodG1sXzk3MGE5OGMwZGRjODQyZTk4MTE4YThiMWZjZGViNDQzID0gJChgPGRpdiBpZD0iaHRtbF85NzBhOThjMGRkYzg0MmU5ODExOGE4YjFmY2RlYjQ0MyIgc3R5bGU9IndpZHRoOiAxMDAuMCU7IGhlaWdodDogMTAwLjAlOyI+SHVtYmVyIFN1bW1pdCwgTm9ydGggWW9yazwvZGl2PmApWzBdOwogICAgICAgICAgICBwb3B1cF9mNjYxMTk4MjczMmE0N2M1ODVjNzVhYWI1OGMxNTkxNy5zZXRDb250ZW50KGh0bWxfOTcwYTk4YzBkZGM4NDJlOTgxMThhOGIxZmNkZWI0NDMpOwogICAgICAgIAoKICAgICAgICBjaXJjbGVfbWFya2VyXzEzZTA1OGE2ZTYzYjQwMzE4YTJkYzBmM2U2YTk5NjcxLmJpbmRQb3B1cChwb3B1cF9mNjYxMTk4MjczMmE0N2M1ODVjNzVhYWI1OGMxNTkxNykKICAgICAgICA7CgogICAgICAgIAogICAgCiAgICAKICAgICAgICAgICAgdmFyIGNpcmNsZV9tYXJrZXJfYWU3MmMxN2FmODIzNGYwMGJjNzVhODFlOTAwZDg2MzkgPSBMLmNpcmNsZU1hcmtlcigKICAgICAgICAgICAgICAgIFs0My43MTYzMTYsIC03OS4yMzk0NzYwOTk5OTk5OV0sCiAgICAgICAgICAgICAgICB7ImJ1YmJsaW5nTW91c2VFdmVudHMiOiB0cnVlLCAiY29sb3IiOiAiYmx1ZSIsICJkYXNoQXJyYXkiOiBudWxsLCAiZGFzaE9mZnNldCI6IG51bGwsICJmaWxsIjogdHJ1ZSwgImZpbGxDb2xvciI6ICIjMzE4NmNjIiwgImZpbGxPcGFjaXR5IjogMC43LCAiZmlsbFJ1bGUiOiAiZXZlbm9kZCIsICJsaW5lQ2FwIjogInJvdW5kIiwgImxpbmVKb2luIjogInJvdW5kIiwgIm9wYWNpdHkiOiAxLjAsICJyYWRpdXMiOiA1LCAic3Ryb2tlIjogdHJ1ZSwgIndlaWdodCI6IDN9CiAgICAgICAgICAgICkuYWRkVG8obWFwX2E2N2NlZWFiNGFmMzQxNjQ5N2I2NjAyMjE4ZDZkNTNkKTsKICAgICAgICAKICAgIAogICAgICAgIHZhciBwb3B1cF9lZmY5ZmJjMmE1NmQ0N2QxODg0NzExNGRlMTJkMzNiMCA9IEwucG9wdXAoeyJtYXhXaWR0aCI6ICIxMDAlIn0pOwoKICAgICAgICAKICAgICAgICAgICAgdmFyIGh0bWxfMzZhNTdiZTIyMTVlNGU3OTgyNmRmZGYwZjcwMzA0YzcgPSAkKGA8ZGl2IGlkPSJodG1sXzM2YTU3YmUyMjE1ZTRlNzk4MjZkZmRmMGY3MDMwNGM3IiBzdHlsZT0id2lkdGg6IDEwMC4wJTsgaGVpZ2h0OiAxMDAuMCU7Ij5DbGlmZnNpZGUsIENsaWZmY3Jlc3QsIFNjYXJib3JvdWdoIFZpbGxhZ2UgV2VzdCwgU2NhcmJvcm91Z2g8L2Rpdj5gKVswXTsKICAgICAgICAgICAgcG9wdXBfZWZmOWZiYzJhNTZkNDdkMTg4NDcxMTRkZTEyZDMzYjAuc2V0Q29udGVudChodG1sXzM2YTU3YmUyMjE1ZTRlNzk4MjZkZmRmMGY3MDMwNGM3KTsKICAgICAgICAKCiAgICAgICAgY2lyY2xlX21hcmtlcl9hZTcyYzE3YWY4MjM0ZjAwYmM3NWE4MWU5MDBkODYzOS5iaW5kUG9wdXAocG9wdXBfZWZmOWZiYzJhNTZkNDdkMTg4NDcxMTRkZTEyZDMzYjApCiAgICAgICAgOwoKICAgICAgICAKICAgIAogICAgCiAgICAgICAgICAgIHZhciBjaXJjbGVfbWFya2VyX2QxYmE5Mzg4MmYyYzQ2Nzg5ZjBhY2FiODJiOTAzYjQzID0gTC5jaXJjbGVNYXJrZXIoCiAgICAgICAgICAgICAgICBbNDMuNzg5MDUzLCAtNzkuNDA4NDkyNzk5OTk5OTldLAogICAgICAgICAgICAgICAgeyJidWJibGluZ01vdXNlRXZlbnRzIjogdHJ1ZSwgImNvbG9yIjogImJsdWUiLCAiZGFzaEFycmF5IjogbnVsbCwgImRhc2hPZmZzZXQiOiBudWxsLCAiZmlsbCI6IHRydWUsICJmaWxsQ29sb3IiOiAiIzMxODZjYyIsICJmaWxsT3BhY2l0eSI6IDAuNywgImZpbGxSdWxlIjogImV2ZW5vZGQiLCAibGluZUNhcCI6ICJyb3VuZCIsICJsaW5lSm9pbiI6ICJyb3VuZCIsICJvcGFjaXR5IjogMS4wLCAicmFkaXVzIjogNSwgInN0cm9rZSI6IHRydWUsICJ3ZWlnaHQiOiAzfQogICAgICAgICAgICApLmFkZFRvKG1hcF9hNjdjZWVhYjRhZjM0MTY0OTdiNjYwMjIxOGQ2ZDUzZCk7CiAgICAgICAgCiAgICAKICAgICAgICB2YXIgcG9wdXBfOWQ2MzgxNzVmZjY3NDJkOGEwY2FkODg1NWVmNjBkMDcgPSBMLnBvcHVwKHsibWF4V2lkdGgiOiAiMTAwJSJ9KTsKCiAgICAgICAgCiAgICAgICAgICAgIHZhciBodG1sXzU3M2VjMDI4NmIwZTQ3M2U5MGU0MmJmY2QxYzljMTQzID0gJChgPGRpdiBpZD0iaHRtbF81NzNlYzAyODZiMGU0NzNlOTBlNDJiZmNkMWM5YzE0MyIgc3R5bGU9IndpZHRoOiAxMDAuMCU7IGhlaWdodDogMTAwLjAlOyI+V2lsbG93ZGFsZSwgTmV3dG9uYnJvb2ssIE5vcnRoIFlvcms8L2Rpdj5gKVswXTsKICAgICAgICAgICAgcG9wdXBfOWQ2MzgxNzVmZjY3NDJkOGEwY2FkODg1NWVmNjBkMDcuc2V0Q29udGVudChodG1sXzU3M2VjMDI4NmIwZTQ3M2U5MGU0MmJmY2QxYzljMTQzKTsKICAgICAgICAKCiAgICAgICAgY2lyY2xlX21hcmtlcl9kMWJhOTM4ODJmMmM0Njc4OWYwYWNhYjgyYjkwM2I0My5iaW5kUG9wdXAocG9wdXBfOWQ2MzgxNzVmZjY3NDJkOGEwY2FkODg1NWVmNjBkMDcpCiAgICAgICAgOwoKICAgICAgICAKICAgIAogICAgCiAgICAgICAgICAgIHZhciBjaXJjbGVfbWFya2VyXzBjMzdiNjIzZTFkNTRkNWU4N2E1YjYxODBjNzc4NWM4ID0gTC5jaXJjbGVNYXJrZXIoCiAgICAgICAgICAgICAgICBbNDMuNzI4NDk2NCwgLTc5LjQ5NTY5NzQwMDAwMDAxXSwKICAgICAgICAgICAgICAgIHsiYnViYmxpbmdNb3VzZUV2ZW50cyI6IHRydWUsICJjb2xvciI6ICJibHVlIiwgImRhc2hBcnJheSI6IG51bGwsICJkYXNoT2Zmc2V0IjogbnVsbCwgImZpbGwiOiB0cnVlLCAiZmlsbENvbG9yIjogIiMzMTg2Y2MiLCAiZmlsbE9wYWNpdHkiOiAwLjcsICJmaWxsUnVsZSI6ICJldmVub2RkIiwgImxpbmVDYXAiOiAicm91bmQiLCAibGluZUpvaW4iOiAicm91bmQiLCAib3BhY2l0eSI6IDEuMCwgInJhZGl1cyI6IDUsICJzdHJva2UiOiB0cnVlLCAid2VpZ2h0IjogM30KICAgICAgICAgICAgKS5hZGRUbyhtYXBfYTY3Y2VlYWI0YWYzNDE2NDk3YjY2MDIyMThkNmQ1M2QpOwogICAgICAgIAogICAgCiAgICAgICAgdmFyIHBvcHVwX2RlNjVhY2E3ODk3YTRiNDY4YmJjMTBmY2IyYmRmZmZlID0gTC5wb3B1cCh7Im1heFdpZHRoIjogIjEwMCUifSk7CgogICAgICAgIAogICAgICAgICAgICB2YXIgaHRtbF8wY2ViOTgyZTZiZjM0YWUwYjA0MTQyNTEwMTYwYzA4NCA9ICQoYDxkaXYgaWQ9Imh0bWxfMGNlYjk4MmU2YmYzNGFlMGIwNDE0MjUxMDE2MGMwODQiIHN0eWxlPSJ3aWR0aDogMTAwLjAlOyBoZWlnaHQ6IDEwMC4wJTsiPkRvd25zdmlldywgTm9ydGggWW9yazwvZGl2PmApWzBdOwogICAgICAgICAgICBwb3B1cF9kZTY1YWNhNzg5N2E0YjQ2OGJiYzEwZmNiMmJkZmZmZS5zZXRDb250ZW50KGh0bWxfMGNlYjk4MmU2YmYzNGFlMGIwNDE0MjUxMDE2MGMwODQpOwogICAgICAgIAoKICAgICAgICBjaXJjbGVfbWFya2VyXzBjMzdiNjIzZTFkNTRkNWU4N2E1YjYxODBjNzc4NWM4LmJpbmRQb3B1cChwb3B1cF9kZTY1YWNhNzg5N2E0YjQ2OGJiYzEwZmNiMmJkZmZmZSkKICAgICAgICA7CgogICAgICAgIAogICAgCiAgICAKICAgICAgICAgICAgdmFyIGNpcmNsZV9tYXJrZXJfMTZlMTc4ODViMmFiNDQ5MDhlY2UxZGZlOTZiM2E3NGMgPSBMLmNpcmNsZU1hcmtlcigKICAgICAgICAgICAgICAgIFs0My42NTk1MjU1LCAtNzkuMzQwOTIzXSwKICAgICAgICAgICAgICAgIHsiYnViYmxpbmdNb3VzZUV2ZW50cyI6IHRydWUsICJjb2xvciI6ICJibHVlIiwgImRhc2hBcnJheSI6IG51bGwsICJkYXNoT2Zmc2V0IjogbnVsbCwgImZpbGwiOiB0cnVlLCAiZmlsbENvbG9yIjogIiMzMTg2Y2MiLCAiZmlsbE9wYWNpdHkiOiAwLjcsICJmaWxsUnVsZSI6ICJldmVub2RkIiwgImxpbmVDYXAiOiAicm91bmQiLCAibGluZUpvaW4iOiAicm91bmQiLCAib3BhY2l0eSI6IDEuMCwgInJhZGl1cyI6IDUsICJzdHJva2UiOiB0cnVlLCAid2VpZ2h0IjogM30KICAgICAgICAgICAgKS5hZGRUbyhtYXBfYTY3Y2VlYWI0YWYzNDE2NDk3YjY2MDIyMThkNmQ1M2QpOwogICAgICAgIAogICAgCiAgICAgICAgdmFyIHBvcHVwX2ZkNzEwNGJlNGJjNjQ4Y2JiYjQwZDIyMWQ3OTQwZTM0ID0gTC5wb3B1cCh7Im1heFdpZHRoIjogIjEwMCUifSk7CgogICAgICAgIAogICAgICAgICAgICB2YXIgaHRtbF9iOGQ5MDNlNjk3NTQ0MzI5ODIxNjQ5NDBjNzIwZTBiMiA9ICQoYDxkaXYgaWQ9Imh0bWxfYjhkOTAzZTY5NzU0NDMyOTgyMTY0OTQwYzcyMGUwYjIiIHN0eWxlPSJ3aWR0aDogMTAwLjAlOyBoZWlnaHQ6IDEwMC4wJTsiPlN0dWRpbyBEaXN0cmljdCwgRWFzdCBUb3JvbnRvPC9kaXY+YClbMF07CiAgICAgICAgICAgIHBvcHVwX2ZkNzEwNGJlNGJjNjQ4Y2JiYjQwZDIyMWQ3OTQwZTM0LnNldENvbnRlbnQoaHRtbF9iOGQ5MDNlNjk3NTQ0MzI5ODIxNjQ5NDBjNzIwZTBiMik7CiAgICAgICAgCgogICAgICAgIGNpcmNsZV9tYXJrZXJfMTZlMTc4ODViMmFiNDQ5MDhlY2UxZGZlOTZiM2E3NGMuYmluZFBvcHVwKHBvcHVwX2ZkNzEwNGJlNGJjNjQ4Y2JiYjQwZDIyMWQ3OTQwZTM0KQogICAgICAgIDsKCiAgICAgICAgCiAgICAKICAgIAogICAgICAgICAgICB2YXIgY2lyY2xlX21hcmtlcl9lN2VmN2MxNDc0MDE0ZDRmOTFhNDQwNjZmMDQzYjI4MiA9IEwuY2lyY2xlTWFya2VyKAogICAgICAgICAgICAgICAgWzQzLjczMzI4MjUsIC03OS40MTk3NDk3XSwKICAgICAgICAgICAgICAgIHsiYnViYmxpbmdNb3VzZUV2ZW50cyI6IHRydWUsICJjb2xvciI6ICJibHVlIiwgImRhc2hBcnJheSI6IG51bGwsICJkYXNoT2Zmc2V0IjogbnVsbCwgImZpbGwiOiB0cnVlLCAiZmlsbENvbG9yIjogIiMzMTg2Y2MiLCAiZmlsbE9wYWNpdHkiOiAwLjcsICJmaWxsUnVsZSI6ICJldmVub2RkIiwgImxpbmVDYXAiOiAicm91bmQiLCAibGluZUpvaW4iOiAicm91bmQiLCAib3BhY2l0eSI6IDEuMCwgInJhZGl1cyI6IDUsICJzdHJva2UiOiB0cnVlLCAid2VpZ2h0IjogM30KICAgICAgICAgICAgKS5hZGRUbyhtYXBfYTY3Y2VlYWI0YWYzNDE2NDk3YjY2MDIyMThkNmQ1M2QpOwogICAgICAgIAogICAgCiAgICAgICAgdmFyIHBvcHVwXzFlNmZmNDBhODgyMzRmNDZiNThhNDI2OWE2ZjkxMTkyID0gTC5wb3B1cCh7Im1heFdpZHRoIjogIjEwMCUifSk7CgogICAgICAgIAogICAgICAgICAgICB2YXIgaHRtbF9kYzgwOGJkYzEwM2Y0YzdmYmMzZjExM2Q2MDA3ZTkzYyA9ICQoYDxkaXYgaWQ9Imh0bWxfZGM4MDhiZGMxMDNmNGM3ZmJjM2YxMTNkNjAwN2U5M2MiIHN0eWxlPSJ3aWR0aDogMTAwLjAlOyBoZWlnaHQ6IDEwMC4wJTsiPkJlZGZvcmQgUGFyaywgTGF3cmVuY2UgTWFub3IgRWFzdCwgTm9ydGggWW9yazwvZGl2PmApWzBdOwogICAgICAgICAgICBwb3B1cF8xZTZmZjQwYTg4MjM0ZjQ2YjU4YTQyNjlhNmY5MTE5Mi5zZXRDb250ZW50KGh0bWxfZGM4MDhiZGMxMDNmNGM3ZmJjM2YxMTNkNjAwN2U5M2MpOwogICAgICAgIAoKICAgICAgICBjaXJjbGVfbWFya2VyX2U3ZWY3YzE0NzQwMTRkNGY5MWE0NDA2NmYwNDNiMjgyLmJpbmRQb3B1cChwb3B1cF8xZTZmZjQwYTg4MjM0ZjQ2YjU4YTQyNjlhNmY5MTE5MikKICAgICAgICA7CgogICAgICAgIAogICAgCiAgICAKICAgICAgICAgICAgdmFyIGNpcmNsZV9tYXJrZXJfODljY2YyYTU1OWM1NDVmMzg5YTBlNTNlYjAxZjEzNzIgPSBMLmNpcmNsZU1hcmtlcigKICAgICAgICAgICAgICAgIFs0My42OTExMTU4LCAtNzkuNDc2MDEzMjk5OTk5OTldLAogICAgICAgICAgICAgICAgeyJidWJibGluZ01vdXNlRXZlbnRzIjogdHJ1ZSwgImNvbG9yIjogImJsdWUiLCAiZGFzaEFycmF5IjogbnVsbCwgImRhc2hPZmZzZXQiOiBudWxsLCAiZmlsbCI6IHRydWUsICJmaWxsQ29sb3IiOiAiIzMxODZjYyIsICJmaWxsT3BhY2l0eSI6IDAuNywgImZpbGxSdWxlIjogImV2ZW5vZGQiLCAibGluZUNhcCI6ICJyb3VuZCIsICJsaW5lSm9pbiI6ICJyb3VuZCIsICJvcGFjaXR5IjogMS4wLCAicmFkaXVzIjogNSwgInN0cm9rZSI6IHRydWUsICJ3ZWlnaHQiOiAzfQogICAgICAgICAgICApLmFkZFRvKG1hcF9hNjdjZWVhYjRhZjM0MTY0OTdiNjYwMjIxOGQ2ZDUzZCk7CiAgICAgICAgCiAgICAKICAgICAgICB2YXIgcG9wdXBfNDgzOWUyOGRmNTRiNDFjNTkzYjRmYTU3NDYwOWY2MTggPSBMLnBvcHVwKHsibWF4V2lkdGgiOiAiMTAwJSJ9KTsKCiAgICAgICAgCiAgICAgICAgICAgIHZhciBodG1sX2Q2NTEwMDYyOGFjOTQ2YWRiYWUwNjc2MjUxNTJkMTQyID0gJChgPGRpdiBpZD0iaHRtbF9kNjUxMDA2MjhhYzk0NmFkYmFlMDY3NjI1MTUyZDE0MiIgc3R5bGU9IndpZHRoOiAxMDAuMCU7IGhlaWdodDogMTAwLjAlOyI+RGVsIFJheSwgTW91bnQgRGVubmlzLCBLZWVsc2RhbGUgYW5kIFNpbHZlcnRob3JuLCBZb3JrPC9kaXY+YClbMF07CiAgICAgICAgICAgIHBvcHVwXzQ4MzllMjhkZjU0YjQxYzU5M2I0ZmE1NzQ2MDlmNjE4LnNldENvbnRlbnQoaHRtbF9kNjUxMDA2MjhhYzk0NmFkYmFlMDY3NjI1MTUyZDE0Mik7CiAgICAgICAgCgogICAgICAgIGNpcmNsZV9tYXJrZXJfODljY2YyYTU1OWM1NDVmMzg5YTBlNTNlYjAxZjEzNzIuYmluZFBvcHVwKHBvcHVwXzQ4MzllMjhkZjU0YjQxYzU5M2I0ZmE1NzQ2MDlmNjE4KQogICAgICAgIDsKCiAgICAgICAgCiAgICAKICAgIAogICAgICAgICAgICB2YXIgY2lyY2xlX21hcmtlcl8yODFkMDQ4Y2NmNWM0NjY2YTc4NjU3MDg4ZWRiNTBjZSA9IEwuY2lyY2xlTWFya2VyKAogICAgICAgICAgICAgICAgWzQzLjcyNDc2NTksIC03OS41MzIyNDI0MDAwMDAwMl0sCiAgICAgICAgICAgICAgICB7ImJ1YmJsaW5nTW91c2VFdmVudHMiOiB0cnVlLCAiY29sb3IiOiAiYmx1ZSIsICJkYXNoQXJyYXkiOiBudWxsLCAiZGFzaE9mZnNldCI6IG51bGwsICJmaWxsIjogdHJ1ZSwgImZpbGxDb2xvciI6ICIjMzE4NmNjIiwgImZpbGxPcGFjaXR5IjogMC43LCAiZmlsbFJ1bGUiOiAiZXZlbm9kZCIsICJsaW5lQ2FwIjogInJvdW5kIiwgImxpbmVKb2luIjogInJvdW5kIiwgIm9wYWNpdHkiOiAxLjAsICJyYWRpdXMiOiA1LCAic3Ryb2tlIjogdHJ1ZSwgIndlaWdodCI6IDN9CiAgICAgICAgICAgICkuYWRkVG8obWFwX2E2N2NlZWFiNGFmMzQxNjQ5N2I2NjAyMjE4ZDZkNTNkKTsKICAgICAgICAKICAgIAogICAgICAgIHZhciBwb3B1cF85MzkzYWQ1ZGVlZWE0ZGUzOTc2ZmE5NWViYzc0ZTk1YyA9IEwucG9wdXAoeyJtYXhXaWR0aCI6ICIxMDAlIn0pOwoKICAgICAgICAKICAgICAgICAgICAgdmFyIGh0bWxfN2E2Mjg3YjQxMmFlNGQzOGFhOTI4Yjc5ODMxOTE2YmUgPSAkKGA8ZGl2IGlkPSJodG1sXzdhNjI4N2I0MTJhZTRkMzhhYTkyOGI3OTgzMTkxNmJlIiBzdHlsZT0id2lkdGg6IDEwMC4wJTsgaGVpZ2h0OiAxMDAuMCU7Ij5IdW1iZXJsZWEsIEVtZXJ5LCBOb3J0aCBZb3JrPC9kaXY+YClbMF07CiAgICAgICAgICAgIHBvcHVwXzkzOTNhZDVkZWVlYTRkZTM5NzZmYTk1ZWJjNzRlOTVjLnNldENvbnRlbnQoaHRtbF83YTYyODdiNDEyYWU0ZDM4YWE5MjhiNzk4MzE5MTZiZSk7CiAgICAgICAgCgogICAgICAgIGNpcmNsZV9tYXJrZXJfMjgxZDA0OGNjZjVjNDY2NmE3ODY1NzA4OGVkYjUwY2UuYmluZFBvcHVwKHBvcHVwXzkzOTNhZDVkZWVlYTRkZTM5NzZmYTk1ZWJjNzRlOTVjKQogICAgICAgIDsKCiAgICAgICAgCiAgICAKICAgIAogICAgICAgICAgICB2YXIgY2lyY2xlX21hcmtlcl8yMjY5NTZmOWY5MjI0NmU4YmM3ZDgwN2Q2YjM0MjMzNSA9IEwuY2lyY2xlTWFya2VyKAogICAgICAgICAgICAgICAgWzQzLjY5MjY1NzAwMDAwMDAwNCwgLTc5LjI2NDg0ODFdLAogICAgICAgICAgICAgICAgeyJidWJibGluZ01vdXNlRXZlbnRzIjogdHJ1ZSwgImNvbG9yIjogImJsdWUiLCAiZGFzaEFycmF5IjogbnVsbCwgImRhc2hPZmZzZXQiOiBudWxsLCAiZmlsbCI6IHRydWUsICJmaWxsQ29sb3IiOiAiIzMxODZjYyIsICJmaWxsT3BhY2l0eSI6IDAuNywgImZpbGxSdWxlIjogImV2ZW5vZGQiLCAibGluZUNhcCI6ICJyb3VuZCIsICJsaW5lSm9pbiI6ICJyb3VuZCIsICJvcGFjaXR5IjogMS4wLCAicmFkaXVzIjogNSwgInN0cm9rZSI6IHRydWUsICJ3ZWlnaHQiOiAzfQogICAgICAgICAgICApLmFkZFRvKG1hcF9hNjdjZWVhYjRhZjM0MTY0OTdiNjYwMjIxOGQ2ZDUzZCk7CiAgICAgICAgCiAgICAKICAgICAgICB2YXIgcG9wdXBfYzFkZGZlOGY0ODI1NGI2YzgzYmJkMjA2OWYwNGEyNGIgPSBMLnBvcHVwKHsibWF4V2lkdGgiOiAiMTAwJSJ9KTsKCiAgICAgICAgCiAgICAgICAgICAgIHZhciBodG1sXzRmZDM3MDNkOTY5NTQ0MWNhNGM2OGVkMWRhYjg3YmM5ID0gJChgPGRpdiBpZD0iaHRtbF80ZmQzNzAzZDk2OTU0NDFjYTRjNjhlZDFkYWI4N2JjOSIgc3R5bGU9IndpZHRoOiAxMDAuMCU7IGhlaWdodDogMTAwLjAlOyI+QmlyY2ggQ2xpZmYsIENsaWZmc2lkZSBXZXN0LCBTY2FyYm9yb3VnaDwvZGl2PmApWzBdOwogICAgICAgICAgICBwb3B1cF9jMWRkZmU4ZjQ4MjU0YjZjODNiYmQyMDY5ZjA0YTI0Yi5zZXRDb250ZW50KGh0bWxfNGZkMzcwM2Q5Njk1NDQxY2E0YzY4ZWQxZGFiODdiYzkpOwogICAgICAgIAoKICAgICAgICBjaXJjbGVfbWFya2VyXzIyNjk1NmY5ZjkyMjQ2ZThiYzdkODA3ZDZiMzQyMzM1LmJpbmRQb3B1cChwb3B1cF9jMWRkZmU4ZjQ4MjU0YjZjODNiYmQyMDY5ZjA0YTI0YikKICAgICAgICA7CgogICAgICAgIAogICAgCiAgICAKICAgICAgICAgICAgdmFyIGNpcmNsZV9tYXJrZXJfMjE5NzUxZmRkYjg4NDk3MDk0ZGU4ZTk3Mjk4NTg5NDEgPSBMLmNpcmNsZU1hcmtlcigKICAgICAgICAgICAgICAgIFs0My43NzAxMTk5LCAtNzkuNDA4NDkyNzk5OTk5OTldLAogICAgICAgICAgICAgICAgeyJidWJibGluZ01vdXNlRXZlbnRzIjogdHJ1ZSwgImNvbG9yIjogImJsdWUiLCAiZGFzaEFycmF5IjogbnVsbCwgImRhc2hPZmZzZXQiOiBudWxsLCAiZmlsbCI6IHRydWUsICJmaWxsQ29sb3IiOiAiIzMxODZjYyIsICJmaWxsT3BhY2l0eSI6IDAuNywgImZpbGxSdWxlIjogImV2ZW5vZGQiLCAibGluZUNhcCI6ICJyb3VuZCIsICJsaW5lSm9pbiI6ICJyb3VuZCIsICJvcGFjaXR5IjogMS4wLCAicmFkaXVzIjogNSwgInN0cm9rZSI6IHRydWUsICJ3ZWlnaHQiOiAzfQogICAgICAgICAgICApLmFkZFRvKG1hcF9hNjdjZWVhYjRhZjM0MTY0OTdiNjYwMjIxOGQ2ZDUzZCk7CiAgICAgICAgCiAgICAKICAgICAgICB2YXIgcG9wdXBfYTRlMmI2ZDFmZGY1NDRhYmFiYTI2MjQ2MDI0ZjI4NWYgPSBMLnBvcHVwKHsibWF4V2lkdGgiOiAiMTAwJSJ9KTsKCiAgICAgICAgCiAgICAgICAgICAgIHZhciBodG1sXzAwMmM2NDMzNGI1NjQ3NDc4OTAxNWQ2YTA3NmM3NTgxID0gJChgPGRpdiBpZD0iaHRtbF8wMDJjNjQzMzRiNTY0NzQ3ODkwMTVkNmEwNzZjNzU4MSIgc3R5bGU9IndpZHRoOiAxMDAuMCU7IGhlaWdodDogMTAwLjAlOyI+V2lsbG93ZGFsZSwgTm9ydGggWW9yazwvZGl2PmApWzBdOwogICAgICAgICAgICBwb3B1cF9hNGUyYjZkMWZkZjU0NGFiYWJhMjYyNDYwMjRmMjg1Zi5zZXRDb250ZW50KGh0bWxfMDAyYzY0MzM0YjU2NDc0Nzg5MDE1ZDZhMDc2Yzc1ODEpOwogICAgICAgIAoKICAgICAgICBjaXJjbGVfbWFya2VyXzIxOTc1MWZkZGI4ODQ5NzA5NGRlOGU5NzI5ODU4OTQxLmJpbmRQb3B1cChwb3B1cF9hNGUyYjZkMWZkZjU0NGFiYWJhMjYyNDYwMjRmMjg1ZikKICAgICAgICA7CgogICAgICAgIAogICAgCiAgICAKICAgICAgICAgICAgdmFyIGNpcmNsZV9tYXJrZXJfZDJjZjk3NmFiNGMwNDNkODkxMjU1ZDNkZDlkNDVhZWMgPSBMLmNpcmNsZU1hcmtlcigKICAgICAgICAgICAgICAgIFs0My43NjE2MzEzLCAtNzkuNTIwOTk5NDAwMDAwMDFdLAogICAgICAgICAgICAgICAgeyJidWJibGluZ01vdXNlRXZlbnRzIjogdHJ1ZSwgImNvbG9yIjogImJsdWUiLCAiZGFzaEFycmF5IjogbnVsbCwgImRhc2hPZmZzZXQiOiBudWxsLCAiZmlsbCI6IHRydWUsICJmaWxsQ29sb3IiOiAiIzMxODZjYyIsICJmaWxsT3BhY2l0eSI6IDAuNywgImZpbGxSdWxlIjogImV2ZW5vZGQiLCAibGluZUNhcCI6ICJyb3VuZCIsICJsaW5lSm9pbiI6ICJyb3VuZCIsICJvcGFjaXR5IjogMS4wLCAicmFkaXVzIjogNSwgInN0cm9rZSI6IHRydWUsICJ3ZWlnaHQiOiAzfQogICAgICAgICAgICApLmFkZFRvKG1hcF9hNjdjZWVhYjRhZjM0MTY0OTdiNjYwMjIxOGQ2ZDUzZCk7CiAgICAgICAgCiAgICAKICAgICAgICB2YXIgcG9wdXBfMTRlYmYzOWY0Yzg1NDk3OWI3MTA1M2VkY2Y0ZmMwYzggPSBMLnBvcHVwKHsibWF4V2lkdGgiOiAiMTAwJSJ9KTsKCiAgICAgICAgCiAgICAgICAgICAgIHZhciBodG1sX2QxYTVhODkxODM4MjQxMGM5Mzc5MWQ3M2MwM2QxZmRkID0gJChgPGRpdiBpZD0iaHRtbF9kMWE1YTg5MTgzODI0MTBjOTM3OTFkNzNjMDNkMWZkZCIgc3R5bGU9IndpZHRoOiAxMDAuMCU7IGhlaWdodDogMTAwLjAlOyI+RG93bnN2aWV3LCBOb3J0aCBZb3JrPC9kaXY+YClbMF07CiAgICAgICAgICAgIHBvcHVwXzE0ZWJmMzlmNGM4NTQ5NzliNzEwNTNlZGNmNGZjMGM4LnNldENvbnRlbnQoaHRtbF9kMWE1YTg5MTgzODI0MTBjOTM3OTFkNzNjMDNkMWZkZCk7CiAgICAgICAgCgogICAgICAgIGNpcmNsZV9tYXJrZXJfZDJjZjk3NmFiNGMwNDNkODkxMjU1ZDNkZDlkNDVhZWMuYmluZFBvcHVwKHBvcHVwXzE0ZWJmMzlmNGM4NTQ5NzliNzEwNTNlZGNmNGZjMGM4KQogICAgICAgIDsKCiAgICAgICAgCiAgICAKICAgIAogICAgICAgICAgICB2YXIgY2lyY2xlX21hcmtlcl84ZjhlNWMzZGQwZDY0OGQyOTFhOTkxODllYTY3NjVmNCA9IEwuY2lyY2xlTWFya2VyKAogICAgICAgICAgICAgICAgWzQzLjcyODAyMDUsIC03OS4zODg3OTAxXSwKICAgICAgICAgICAgICAgIHsiYnViYmxpbmdNb3VzZUV2ZW50cyI6IHRydWUsICJjb2xvciI6ICJibHVlIiwgImRhc2hBcnJheSI6IG51bGwsICJkYXNoT2Zmc2V0IjogbnVsbCwgImZpbGwiOiB0cnVlLCAiZmlsbENvbG9yIjogIiMzMTg2Y2MiLCAiZmlsbE9wYWNpdHkiOiAwLjcsICJmaWxsUnVsZSI6ICJldmVub2RkIiwgImxpbmVDYXAiOiAicm91bmQiLCAibGluZUpvaW4iOiAicm91bmQiLCAib3BhY2l0eSI6IDEuMCwgInJhZGl1cyI6IDUsICJzdHJva2UiOiB0cnVlLCAid2VpZ2h0IjogM30KICAgICAgICAgICAgKS5hZGRUbyhtYXBfYTY3Y2VlYWI0YWYzNDE2NDk3YjY2MDIyMThkNmQ1M2QpOwogICAgICAgIAogICAgCiAgICAgICAgdmFyIHBvcHVwXzk4MWI3ZTI0YmYxYTQ3N2Q5NTM3MzE1NGE3MDM2OGY3ID0gTC5wb3B1cCh7Im1heFdpZHRoIjogIjEwMCUifSk7CgogICAgICAgIAogICAgICAgICAgICB2YXIgaHRtbF8wYjUwNTc4MTA1Zjg0MmJlOTgyYjU2MzFjNTU4NmIxMiA9ICQoYDxkaXYgaWQ9Imh0bWxfMGI1MDU3ODEwNWY4NDJiZTk4MmI1NjMxYzU1ODZiMTIiIHN0eWxlPSJ3aWR0aDogMTAwLjAlOyBoZWlnaHQ6IDEwMC4wJTsiPkxhd3JlbmNlIFBhcmssIENlbnRyYWwgVG9yb250bzwvZGl2PmApWzBdOwogICAgICAgICAgICBwb3B1cF85ODFiN2UyNGJmMWE0NzdkOTUzNzMxNTRhNzAzNjhmNy5zZXRDb250ZW50KGh0bWxfMGI1MDU3ODEwNWY4NDJiZTk4MmI1NjMxYzU1ODZiMTIpOwogICAgICAgIAoKICAgICAgICBjaXJjbGVfbWFya2VyXzhmOGU1YzNkZDBkNjQ4ZDI5MWE5OTE4OWVhNjc2NWY0LmJpbmRQb3B1cChwb3B1cF85ODFiN2UyNGJmMWE0NzdkOTUzNzMxNTRhNzAzNjhmNykKICAgICAgICA7CgogICAgICAgIAogICAgCiAgICAKICAgICAgICAgICAgdmFyIGNpcmNsZV9tYXJrZXJfZTZiYmYyYTRlMDNiNDI3NTg4MDllMjIyYWZiZDk5MDggPSBMLmNpcmNsZU1hcmtlcigKICAgICAgICAgICAgICAgIFs0My43MTE2OTQ4LCAtNzkuNDE2OTM1NTk5OTk5OTldLAogICAgICAgICAgICAgICAgeyJidWJibGluZ01vdXNlRXZlbnRzIjogdHJ1ZSwgImNvbG9yIjogImJsdWUiLCAiZGFzaEFycmF5IjogbnVsbCwgImRhc2hPZmZzZXQiOiBudWxsLCAiZmlsbCI6IHRydWUsICJmaWxsQ29sb3IiOiAiIzMxODZjYyIsICJmaWxsT3BhY2l0eSI6IDAuNywgImZpbGxSdWxlIjogImV2ZW5vZGQiLCAibGluZUNhcCI6ICJyb3VuZCIsICJsaW5lSm9pbiI6ICJyb3VuZCIsICJvcGFjaXR5IjogMS4wLCAicmFkaXVzIjogNSwgInN0cm9rZSI6IHRydWUsICJ3ZWlnaHQiOiAzfQogICAgICAgICAgICApLmFkZFRvKG1hcF9hNjdjZWVhYjRhZjM0MTY0OTdiNjYwMjIxOGQ2ZDUzZCk7CiAgICAgICAgCiAgICAKICAgICAgICB2YXIgcG9wdXBfOTEyN2MwNjYzMGUyNDc3MjkyNjgxZDdkODZjMjVlOTIgPSBMLnBvcHVwKHsibWF4V2lkdGgiOiAiMTAwJSJ9KTsKCiAgICAgICAgCiAgICAgICAgICAgIHZhciBodG1sXzE4NDI4ZWZkMjk2NDQxNmRhYzExYmI5MmNiYWFiZTM3ID0gJChgPGRpdiBpZD0iaHRtbF8xODQyOGVmZDI5NjQ0MTZkYWMxMWJiOTJjYmFhYmUzNyIgc3R5bGU9IndpZHRoOiAxMDAuMCU7IGhlaWdodDogMTAwLjAlOyI+Um9zZWxhd24sIENlbnRyYWwgVG9yb250bzwvZGl2PmApWzBdOwogICAgICAgICAgICBwb3B1cF85MTI3YzA2NjMwZTI0NzcyOTI2ODFkN2Q4NmMyNWU5Mi5zZXRDb250ZW50KGh0bWxfMTg0MjhlZmQyOTY0NDE2ZGFjMTFiYjkyY2JhYWJlMzcpOwogICAgICAgIAoKICAgICAgICBjaXJjbGVfbWFya2VyX2U2YmJmMmE0ZTAzYjQyNzU4ODA5ZTIyMmFmYmQ5OTA4LmJpbmRQb3B1cChwb3B1cF85MTI3YzA2NjMwZTI0NzcyOTI2ODFkN2Q4NmMyNWU5MikKICAgICAgICA7CgogICAgICAgIAogICAgCiAgICAKICAgICAgICAgICAgdmFyIGNpcmNsZV9tYXJrZXJfNmRlMGFkMWU4ZDFkNGIzNmE0OTUyN2E2MTNhMzVjMjEgPSBMLmNpcmNsZU1hcmtlcigKICAgICAgICAgICAgICAgIFs0My42NzMxODUyOTk5OTk5OSwgLTc5LjQ4NzI2MTkwMDAwMDAxXSwKICAgICAgICAgICAgICAgIHsiYnViYmxpbmdNb3VzZUV2ZW50cyI6IHRydWUsICJjb2xvciI6ICJibHVlIiwgImRhc2hBcnJheSI6IG51bGwsICJkYXNoT2Zmc2V0IjogbnVsbCwgImZpbGwiOiB0cnVlLCAiZmlsbENvbG9yIjogIiMzMTg2Y2MiLCAiZmlsbE9wYWNpdHkiOiAwLjcsICJmaWxsUnVsZSI6ICJldmVub2RkIiwgImxpbmVDYXAiOiAicm91bmQiLCAibGluZUpvaW4iOiAicm91bmQiLCAib3BhY2l0eSI6IDEuMCwgInJhZGl1cyI6IDUsICJzdHJva2UiOiB0cnVlLCAid2VpZ2h0IjogM30KICAgICAgICAgICAgKS5hZGRUbyhtYXBfYTY3Y2VlYWI0YWYzNDE2NDk3YjY2MDIyMThkNmQ1M2QpOwogICAgICAgIAogICAgCiAgICAgICAgdmFyIHBvcHVwX2QzNDY1MTg3ZTYzODQ2M2RhZGI4YWI5MWExZDY0ODUzID0gTC5wb3B1cCh7Im1heFdpZHRoIjogIjEwMCUifSk7CgogICAgICAgIAogICAgICAgICAgICB2YXIgaHRtbF9jMzU0Y2E0OGM2OTE0M2ViOWY2MjU4MWZlZjgzMTI2OSA9ICQoYDxkaXYgaWQ9Imh0bWxfYzM1NGNhNDhjNjkxNDNlYjlmNjI1ODFmZWY4MzEyNjkiIHN0eWxlPSJ3aWR0aDogMTAwLjAlOyBoZWlnaHQ6IDEwMC4wJTsiPlJ1bm55bWVkZSwgVGhlIEp1bmN0aW9uIE5vcnRoLCBZb3JrPC9kaXY+YClbMF07CiAgICAgICAgICAgIHBvcHVwX2QzNDY1MTg3ZTYzODQ2M2RhZGI4YWI5MWExZDY0ODUzLnNldENvbnRlbnQoaHRtbF9jMzU0Y2E0OGM2OTE0M2ViOWY2MjU4MWZlZjgzMTI2OSk7CiAgICAgICAgCgogICAgICAgIGNpcmNsZV9tYXJrZXJfNmRlMGFkMWU4ZDFkNGIzNmE0OTUyN2E2MTNhMzVjMjEuYmluZFBvcHVwKHBvcHVwX2QzNDY1MTg3ZTYzODQ2M2RhZGI4YWI5MWExZDY0ODUzKQogICAgICAgIDsKCiAgICAgICAgCiAgICAKICAgIAogICAgICAgICAgICB2YXIgY2lyY2xlX21hcmtlcl9kYmZiMmE2NmI5NjA0ZmQ4YjMwNDk0ZDVhNTIxOWUzMiA9IEwuY2lyY2xlTWFya2VyKAogICAgICAgICAgICAgICAgWzQzLjcwNjg3NiwgLTc5LjUxODE4ODQwMDAwMDAxXSwKICAgICAgICAgICAgICAgIHsiYnViYmxpbmdNb3VzZUV2ZW50cyI6IHRydWUsICJjb2xvciI6ICJibHVlIiwgImRhc2hBcnJheSI6IG51bGwsICJkYXNoT2Zmc2V0IjogbnVsbCwgImZpbGwiOiB0cnVlLCAiZmlsbENvbG9yIjogIiMzMTg2Y2MiLCAiZmlsbE9wYWNpdHkiOiAwLjcsICJmaWxsUnVsZSI6ICJldmVub2RkIiwgImxpbmVDYXAiOiAicm91bmQiLCAibGluZUpvaW4iOiAicm91bmQiLCAib3BhY2l0eSI6IDEuMCwgInJhZGl1cyI6IDUsICJzdHJva2UiOiB0cnVlLCAid2VpZ2h0IjogM30KICAgICAgICAgICAgKS5hZGRUbyhtYXBfYTY3Y2VlYWI0YWYzNDE2NDk3YjY2MDIyMThkNmQ1M2QpOwogICAgICAgIAogICAgCiAgICAgICAgdmFyIHBvcHVwXzdlNDdmZjIyOTg4YjQzOGViOTZlNTVjM2IzYjMyOTAzID0gTC5wb3B1cCh7Im1heFdpZHRoIjogIjEwMCUifSk7CgogICAgICAgIAogICAgICAgICAgICB2YXIgaHRtbF83YmEyMjI2YWUyOTc0MjJmODMyNjBhMTY1ZTFjYzgwZCA9ICQoYDxkaXYgaWQ9Imh0bWxfN2JhMjIyNmFlMjk3NDIyZjgzMjYwYTE2NWUxY2M4MGQiIHN0eWxlPSJ3aWR0aDogMTAwLjAlOyBoZWlnaHQ6IDEwMC4wJTsiPldlc3RvbiwgWW9yazwvZGl2PmApWzBdOwogICAgICAgICAgICBwb3B1cF83ZTQ3ZmYyMjk4OGI0MzhlYjk2ZTU1YzNiM2IzMjkwMy5zZXRDb250ZW50KGh0bWxfN2JhMjIyNmFlMjk3NDIyZjgzMjYwYTE2NWUxY2M4MGQpOwogICAgICAgIAoKICAgICAgICBjaXJjbGVfbWFya2VyX2RiZmIyYTY2Yjk2MDRmZDhiMzA0OTRkNWE1MjE5ZTMyLmJpbmRQb3B1cChwb3B1cF83ZTQ3ZmYyMjk4OGI0MzhlYjk2ZTU1YzNiM2IzMjkwMykKICAgICAgICA7CgogICAgICAgIAogICAgCiAgICAKICAgICAgICAgICAgdmFyIGNpcmNsZV9tYXJrZXJfNGFjYWYzYjYxYTQzNDA1ZThmMzUxYjc1NjRhNDRlNjMgPSBMLmNpcmNsZU1hcmtlcigKICAgICAgICAgICAgICAgIFs0My43NTc0MDk2LCAtNzkuMjczMzA0MDAwMDAwMDFdLAogICAgICAgICAgICAgICAgeyJidWJibGluZ01vdXNlRXZlbnRzIjogdHJ1ZSwgImNvbG9yIjogImJsdWUiLCAiZGFzaEFycmF5IjogbnVsbCwgImRhc2hPZmZzZXQiOiBudWxsLCAiZmlsbCI6IHRydWUsICJmaWxsQ29sb3IiOiAiIzMxODZjYyIsICJmaWxsT3BhY2l0eSI6IDAuNywgImZpbGxSdWxlIjogImV2ZW5vZGQiLCAibGluZUNhcCI6ICJyb3VuZCIsICJsaW5lSm9pbiI6ICJyb3VuZCIsICJvcGFjaXR5IjogMS4wLCAicmFkaXVzIjogNSwgInN0cm9rZSI6IHRydWUsICJ3ZWlnaHQiOiAzfQogICAgICAgICAgICApLmFkZFRvKG1hcF9hNjdjZWVhYjRhZjM0MTY0OTdiNjYwMjIxOGQ2ZDUzZCk7CiAgICAgICAgCiAgICAKICAgICAgICB2YXIgcG9wdXBfYmY0MjM0MjBmODg5NDZjNDgxZWNiMTg0MzEzZWJmYjAgPSBMLnBvcHVwKHsibWF4V2lkdGgiOiAiMTAwJSJ9KTsKCiAgICAgICAgCiAgICAgICAgICAgIHZhciBodG1sX2JkOTM4MGQ2Mjg3MTQ0YTFhMGE1YzdiMTQwY2ZmYTM2ID0gJChgPGRpdiBpZD0iaHRtbF9iZDkzODBkNjI4NzE0NGExYTBhNWM3YjE0MGNmZmEzNiIgc3R5bGU9IndpZHRoOiAxMDAuMCU7IGhlaWdodDogMTAwLjAlOyI+RG9yc2V0IFBhcmssIFdleGZvcmQgSGVpZ2h0cywgU2NhcmJvcm91Z2ggVG93biBDZW50cmUsIFNjYXJib3JvdWdoPC9kaXY+YClbMF07CiAgICAgICAgICAgIHBvcHVwX2JmNDIzNDIwZjg4OTQ2YzQ4MWVjYjE4NDMxM2ViZmIwLnNldENvbnRlbnQoaHRtbF9iZDkzODBkNjI4NzE0NGExYTBhNWM3YjE0MGNmZmEzNik7CiAgICAgICAgCgogICAgICAgIGNpcmNsZV9tYXJrZXJfNGFjYWYzYjYxYTQzNDA1ZThmMzUxYjc1NjRhNDRlNjMuYmluZFBvcHVwKHBvcHVwX2JmNDIzNDIwZjg4OTQ2YzQ4MWVjYjE4NDMxM2ViZmIwKQogICAgICAgIDsKCiAgICAgICAgCiAgICAKICAgIAogICAgICAgICAgICB2YXIgY2lyY2xlX21hcmtlcl84MDE2ZjUxZWI3OTM0ZWJmODYwZmJmNTlmZDg5YjdhZiA9IEwuY2lyY2xlTWFya2VyKAogICAgICAgICAgICAgICAgWzQzLjc1Mjc1ODI5OTk5OTk5NiwgLTc5LjQwMDA0OTNdLAogICAgICAgICAgICAgICAgeyJidWJibGluZ01vdXNlRXZlbnRzIjogdHJ1ZSwgImNvbG9yIjogImJsdWUiLCAiZGFzaEFycmF5IjogbnVsbCwgImRhc2hPZmZzZXQiOiBudWxsLCAiZmlsbCI6IHRydWUsICJmaWxsQ29sb3IiOiAiIzMxODZjYyIsICJmaWxsT3BhY2l0eSI6IDAuNywgImZpbGxSdWxlIjogImV2ZW5vZGQiLCAibGluZUNhcCI6ICJyb3VuZCIsICJsaW5lSm9pbiI6ICJyb3VuZCIsICJvcGFjaXR5IjogMS4wLCAicmFkaXVzIjogNSwgInN0cm9rZSI6IHRydWUsICJ3ZWlnaHQiOiAzfQogICAgICAgICAgICApLmFkZFRvKG1hcF9hNjdjZWVhYjRhZjM0MTY0OTdiNjYwMjIxOGQ2ZDUzZCk7CiAgICAgICAgCiAgICAKICAgICAgICB2YXIgcG9wdXBfN2M4ODVmZjViNzkyNGViZWFmNzg5ZjBhMzYyZDBjMDEgPSBMLnBvcHVwKHsibWF4V2lkdGgiOiAiMTAwJSJ9KTsKCiAgICAgICAgCiAgICAgICAgICAgIHZhciBodG1sX2RjNzU2ZDJjMzBiODQ0YTU4YjFmYWI2Mjc5NWE2NmFjID0gJChgPGRpdiBpZD0iaHRtbF9kYzc1NmQyYzMwYjg0NGE1OGIxZmFiNjI3OTVhNjZhYyIgc3R5bGU9IndpZHRoOiAxMDAuMCU7IGhlaWdodDogMTAwLjAlOyI+WW9yayBNaWxscyBXZXN0LCBOb3J0aCBZb3JrPC9kaXY+YClbMF07CiAgICAgICAgICAgIHBvcHVwXzdjODg1ZmY1Yjc5MjRlYmVhZjc4OWYwYTM2MmQwYzAxLnNldENvbnRlbnQoaHRtbF9kYzc1NmQyYzMwYjg0NGE1OGIxZmFiNjI3OTVhNjZhYyk7CiAgICAgICAgCgogICAgICAgIGNpcmNsZV9tYXJrZXJfODAxNmY1MWViNzkzNGViZjg2MGZiZjU5ZmQ4OWI3YWYuYmluZFBvcHVwKHBvcHVwXzdjODg1ZmY1Yjc5MjRlYmVhZjc4OWYwYTM2MmQwYzAxKQogICAgICAgIDsKCiAgICAgICAgCiAgICAKICAgIAogICAgICAgICAgICB2YXIgY2lyY2xlX21hcmtlcl8xZmZkNDY0NmQxOWE0ZDkxYTA4MzAzYWQ2NTcxNzNlMCA9IEwuY2lyY2xlTWFya2VyKAogICAgICAgICAgICAgICAgWzQzLjcxMjc1MTEsIC03OS4zOTAxOTc1XSwKICAgICAgICAgICAgICAgIHsiYnViYmxpbmdNb3VzZUV2ZW50cyI6IHRydWUsICJjb2xvciI6ICJibHVlIiwgImRhc2hBcnJheSI6IG51bGwsICJkYXNoT2Zmc2V0IjogbnVsbCwgImZpbGwiOiB0cnVlLCAiZmlsbENvbG9yIjogIiMzMTg2Y2MiLCAiZmlsbE9wYWNpdHkiOiAwLjcsICJmaWxsUnVsZSI6ICJldmVub2RkIiwgImxpbmVDYXAiOiAicm91bmQiLCAibGluZUpvaW4iOiAicm91bmQiLCAib3BhY2l0eSI6IDEuMCwgInJhZGl1cyI6IDUsICJzdHJva2UiOiB0cnVlLCAid2VpZ2h0IjogM30KICAgICAgICAgICAgKS5hZGRUbyhtYXBfYTY3Y2VlYWI0YWYzNDE2NDk3YjY2MDIyMThkNmQ1M2QpOwogICAgICAgIAogICAgCiAgICAgICAgdmFyIHBvcHVwX2I1NzMwNTZhZWFiMzQ1ZjY5OWMyMmNlNDI4MWFmNGIwID0gTC5wb3B1cCh7Im1heFdpZHRoIjogIjEwMCUifSk7CgogICAgICAgIAogICAgICAgICAgICB2YXIgaHRtbF85ODg5NmYxZGE2Njg0MzBmYWQ0OGE3MjljYWFiZTczMSA9ICQoYDxkaXYgaWQ9Imh0bWxfOTg4OTZmMWRhNjY4NDMwZmFkNDhhNzI5Y2FhYmU3MzEiIHN0eWxlPSJ3aWR0aDogMTAwLjAlOyBoZWlnaHQ6IDEwMC4wJTsiPkRhdmlzdmlsbGUgTm9ydGgsIENlbnRyYWwgVG9yb250bzwvZGl2PmApWzBdOwogICAgICAgICAgICBwb3B1cF9iNTczMDU2YWVhYjM0NWY2OTljMjJjZTQyODFhZjRiMC5zZXRDb250ZW50KGh0bWxfOTg4OTZmMWRhNjY4NDMwZmFkNDhhNzI5Y2FhYmU3MzEpOwogICAgICAgIAoKICAgICAgICBjaXJjbGVfbWFya2VyXzFmZmQ0NjQ2ZDE5YTRkOTFhMDgzMDNhZDY1NzE3M2UwLmJpbmRQb3B1cChwb3B1cF9iNTczMDU2YWVhYjM0NWY2OTljMjJjZTQyODFhZjRiMCkKICAgICAgICA7CgogICAgICAgIAogICAgCiAgICAKICAgICAgICAgICAgdmFyIGNpcmNsZV9tYXJrZXJfZDQ2YjhjMGYxNDFmNGU4YWE2NDdjOWNlOGZmZDhmN2UgPSBMLmNpcmNsZU1hcmtlcigKICAgICAgICAgICAgICAgIFs0My42OTY5NDc2LCAtNzkuNDExMzA3MjAwMDAwMDFdLAogICAgICAgICAgICAgICAgeyJidWJibGluZ01vdXNlRXZlbnRzIjogdHJ1ZSwgImNvbG9yIjogImJsdWUiLCAiZGFzaEFycmF5IjogbnVsbCwgImRhc2hPZmZzZXQiOiBudWxsLCAiZmlsbCI6IHRydWUsICJmaWxsQ29sb3IiOiAiIzMxODZjYyIsICJmaWxsT3BhY2l0eSI6IDAuNywgImZpbGxSdWxlIjogImV2ZW5vZGQiLCAibGluZUNhcCI6ICJyb3VuZCIsICJsaW5lSm9pbiI6ICJyb3VuZCIsICJvcGFjaXR5IjogMS4wLCAicmFkaXVzIjogNSwgInN0cm9rZSI6IHRydWUsICJ3ZWlnaHQiOiAzfQogICAgICAgICAgICApLmFkZFRvKG1hcF9hNjdjZWVhYjRhZjM0MTY0OTdiNjYwMjIxOGQ2ZDUzZCk7CiAgICAgICAgCiAgICAKICAgICAgICB2YXIgcG9wdXBfNWFiYjJhZGQ5NmU1NGQwMmI2ZGYwYWM2ZDA1MmE4MDIgPSBMLnBvcHVwKHsibWF4V2lkdGgiOiAiMTAwJSJ9KTsKCiAgICAgICAgCiAgICAgICAgICAgIHZhciBodG1sXzU3NGNhNDY0ZjdhNTQ2ZThiOGE1YjhjYjM2NDRiZmJkID0gJChgPGRpdiBpZD0iaHRtbF81NzRjYTQ2NGY3YTU0NmU4YjhhNWI4Y2IzNjQ0YmZiZCIgc3R5bGU9IndpZHRoOiAxMDAuMCU7IGhlaWdodDogMTAwLjAlOyI+Rm9yZXN0IEhpbGwgTm9ydGggJmFtcDsgV2VzdCwgQ2VudHJhbCBUb3JvbnRvPC9kaXY+YClbMF07CiAgICAgICAgICAgIHBvcHVwXzVhYmIyYWRkOTZlNTRkMDJiNmRmMGFjNmQwNTJhODAyLnNldENvbnRlbnQoaHRtbF81NzRjYTQ2NGY3YTU0NmU4YjhhNWI4Y2IzNjQ0YmZiZCk7CiAgICAgICAgCgogICAgICAgIGNpcmNsZV9tYXJrZXJfZDQ2YjhjMGYxNDFmNGU4YWE2NDdjOWNlOGZmZDhmN2UuYmluZFBvcHVwKHBvcHVwXzVhYmIyYWRkOTZlNTRkMDJiNmRmMGFjNmQwNTJhODAyKQogICAgICAgIDsKCiAgICAgICAgCiAgICAKICAgIAogICAgICAgICAgICB2YXIgY2lyY2xlX21hcmtlcl8xN2QzZGE4ZGU0OTk0NmZhYjNlNzY3OGM5ZmRlNWVhMiA9IEwuY2lyY2xlTWFya2VyKAogICAgICAgICAgICAgICAgWzQzLjY2MTYwODMsIC03OS40NjQ3NjMyOTk5OTk5OV0sCiAgICAgICAgICAgICAgICB7ImJ1YmJsaW5nTW91c2VFdmVudHMiOiB0cnVlLCAiY29sb3IiOiAiYmx1ZSIsICJkYXNoQXJyYXkiOiBudWxsLCAiZGFzaE9mZnNldCI6IG51bGwsICJmaWxsIjogdHJ1ZSwgImZpbGxDb2xvciI6ICIjMzE4NmNjIiwgImZpbGxPcGFjaXR5IjogMC43LCAiZmlsbFJ1bGUiOiAiZXZlbm9kZCIsICJsaW5lQ2FwIjogInJvdW5kIiwgImxpbmVKb2luIjogInJvdW5kIiwgIm9wYWNpdHkiOiAxLjAsICJyYWRpdXMiOiA1LCAic3Ryb2tlIjogdHJ1ZSwgIndlaWdodCI6IDN9CiAgICAgICAgICAgICkuYWRkVG8obWFwX2E2N2NlZWFiNGFmMzQxNjQ5N2I2NjAyMjE4ZDZkNTNkKTsKICAgICAgICAKICAgIAogICAgICAgIHZhciBwb3B1cF9lM2ExOGNlOWI4NWM0YTVlODI4ZDJmYWZkZGUwNDQ0ZSA9IEwucG9wdXAoeyJtYXhXaWR0aCI6ICIxMDAlIn0pOwoKICAgICAgICAKICAgICAgICAgICAgdmFyIGh0bWxfN2VmMmY1MjZlMjdiNDRhM2I4YjkzZjk0NmFmMzVhY2UgPSAkKGA8ZGl2IGlkPSJodG1sXzdlZjJmNTI2ZTI3YjQ0YTNiOGI5M2Y5NDZhZjM1YWNlIiBzdHlsZT0id2lkdGg6IDEwMC4wJTsgaGVpZ2h0OiAxMDAuMCU7Ij5IaWdoIFBhcmssIFRoZSBKdW5jdGlvbiBTb3V0aCwgV2VzdCBUb3JvbnRvPC9kaXY+YClbMF07CiAgICAgICAgICAgIHBvcHVwX2UzYTE4Y2U5Yjg1YzRhNWU4MjhkMmZhZmRkZTA0NDRlLnNldENvbnRlbnQoaHRtbF83ZWYyZjUyNmUyN2I0NGEzYjhiOTNmOTQ2YWYzNWFjZSk7CiAgICAgICAgCgogICAgICAgIGNpcmNsZV9tYXJrZXJfMTdkM2RhOGRlNDk5NDZmYWIzZTc2NzhjOWZkZTVlYTIuYmluZFBvcHVwKHBvcHVwX2UzYTE4Y2U5Yjg1YzRhNWU4MjhkMmZhZmRkZTA0NDRlKQogICAgICAgIDsKCiAgICAgICAgCiAgICAKICAgIAogICAgICAgICAgICB2YXIgY2lyY2xlX21hcmtlcl9mYjI5OTI3ZDczMTQ0MDc3YTU0ZmI4YzdmNTg4MTllNCA9IEwuY2lyY2xlTWFya2VyKAogICAgICAgICAgICAgICAgWzQzLjY5NjMxOSwgLTc5LjUzMjI0MjQwMDAwMDAyXSwKICAgICAgICAgICAgICAgIHsiYnViYmxpbmdNb3VzZUV2ZW50cyI6IHRydWUsICJjb2xvciI6ICJibHVlIiwgImRhc2hBcnJheSI6IG51bGwsICJkYXNoT2Zmc2V0IjogbnVsbCwgImZpbGwiOiB0cnVlLCAiZmlsbENvbG9yIjogIiMzMTg2Y2MiLCAiZmlsbE9wYWNpdHkiOiAwLjcsICJmaWxsUnVsZSI6ICJldmVub2RkIiwgImxpbmVDYXAiOiAicm91bmQiLCAibGluZUpvaW4iOiAicm91bmQiLCAib3BhY2l0eSI6IDEuMCwgInJhZGl1cyI6IDUsICJzdHJva2UiOiB0cnVlLCAid2VpZ2h0IjogM30KICAgICAgICAgICAgKS5hZGRUbyhtYXBfYTY3Y2VlYWI0YWYzNDE2NDk3YjY2MDIyMThkNmQ1M2QpOwogICAgICAgIAogICAgCiAgICAgICAgdmFyIHBvcHVwX2Y5OWRmZmI2ZmE4NzRiZjE4YWJjZWE3OGZiZjVjOTJiID0gTC5wb3B1cCh7Im1heFdpZHRoIjogIjEwMCUifSk7CgogICAgICAgIAogICAgICAgICAgICB2YXIgaHRtbF83N2NjNGUwNDU0ODM0ZWVkYjZmYjYyYzM0ZDFiY2RmNiA9ICQoYDxkaXYgaWQ9Imh0bWxfNzdjYzRlMDQ1NDgzNGVlZGI2ZmI2MmMzNGQxYmNkZjYiIHN0eWxlPSJ3aWR0aDogMTAwLjAlOyBoZWlnaHQ6IDEwMC4wJTsiPldlc3Rtb3VudCwgRXRvYmljb2tlPC9kaXY+YClbMF07CiAgICAgICAgICAgIHBvcHVwX2Y5OWRmZmI2ZmE4NzRiZjE4YWJjZWE3OGZiZjVjOTJiLnNldENvbnRlbnQoaHRtbF83N2NjNGUwNDU0ODM0ZWVkYjZmYjYyYzM0ZDFiY2RmNik7CiAgICAgICAgCgogICAgICAgIGNpcmNsZV9tYXJrZXJfZmIyOTkyN2Q3MzE0NDA3N2E1NGZiOGM3ZjU4ODE5ZTQuYmluZFBvcHVwKHBvcHVwX2Y5OWRmZmI2ZmE4NzRiZjE4YWJjZWE3OGZiZjVjOTJiKQogICAgICAgIDsKCiAgICAgICAgCiAgICAKICAgIAogICAgICAgICAgICB2YXIgY2lyY2xlX21hcmtlcl81YmY5NzY3ZDA2N2I0OGViYjU2Yjk3YjdiZmUyMWM5ZiA9IEwuY2lyY2xlTWFya2VyKAogICAgICAgICAgICAgICAgWzQzLjc1MDA3MTUwMDAwMDAwNCwgLTc5LjI5NTg0OTFdLAogICAgICAgICAgICAgICAgeyJidWJibGluZ01vdXNlRXZlbnRzIjogdHJ1ZSwgImNvbG9yIjogImJsdWUiLCAiZGFzaEFycmF5IjogbnVsbCwgImRhc2hPZmZzZXQiOiBudWxsLCAiZmlsbCI6IHRydWUsICJmaWxsQ29sb3IiOiAiIzMxODZjYyIsICJmaWxsT3BhY2l0eSI6IDAuNywgImZpbGxSdWxlIjogImV2ZW5vZGQiLCAibGluZUNhcCI6ICJyb3VuZCIsICJsaW5lSm9pbiI6ICJyb3VuZCIsICJvcGFjaXR5IjogMS4wLCAicmFkaXVzIjogNSwgInN0cm9rZSI6IHRydWUsICJ3ZWlnaHQiOiAzfQogICAgICAgICAgICApLmFkZFRvKG1hcF9hNjdjZWVhYjRhZjM0MTY0OTdiNjYwMjIxOGQ2ZDUzZCk7CiAgICAgICAgCiAgICAKICAgICAgICB2YXIgcG9wdXBfZjhhZjA0NGQxZDBjNGY4Y2FiYjVkM2UwYmRiMDllM2MgPSBMLnBvcHVwKHsibWF4V2lkdGgiOiAiMTAwJSJ9KTsKCiAgICAgICAgCiAgICAgICAgICAgIHZhciBodG1sX2RhODYyZWVkYzcwOTRmYTdiZTY5ZTA2ODE2MTA5NjM3ID0gJChgPGRpdiBpZD0iaHRtbF9kYTg2MmVlZGM3MDk0ZmE3YmU2OWUwNjgxNjEwOTYzNyIgc3R5bGU9IndpZHRoOiAxMDAuMCU7IGhlaWdodDogMTAwLjAlOyI+V2V4Zm9yZCwgTWFyeXZhbGUsIFNjYXJib3JvdWdoPC9kaXY+YClbMF07CiAgICAgICAgICAgIHBvcHVwX2Y4YWYwNDRkMWQwYzRmOGNhYmI1ZDNlMGJkYjA5ZTNjLnNldENvbnRlbnQoaHRtbF9kYTg2MmVlZGM3MDk0ZmE3YmU2OWUwNjgxNjEwOTYzNyk7CiAgICAgICAgCgogICAgICAgIGNpcmNsZV9tYXJrZXJfNWJmOTc2N2QwNjdiNDhlYmI1NmI5N2I3YmZlMjFjOWYuYmluZFBvcHVwKHBvcHVwX2Y4YWYwNDRkMWQwYzRmOGNhYmI1ZDNlMGJkYjA5ZTNjKQogICAgICAgIDsKCiAgICAgICAgCiAgICAKICAgIAogICAgICAgICAgICB2YXIgY2lyY2xlX21hcmtlcl81OTRmZjFjMmQ4MDA0ZjIyYjVhNjFmYzdkOGJlZWM2NyA9IEwuY2lyY2xlTWFya2VyKAogICAgICAgICAgICAgICAgWzQzLjc4MjczNjQsIC03OS40NDIyNTkzXSwKICAgICAgICAgICAgICAgIHsiYnViYmxpbmdNb3VzZUV2ZW50cyI6IHRydWUsICJjb2xvciI6ICJibHVlIiwgImRhc2hBcnJheSI6IG51bGwsICJkYXNoT2Zmc2V0IjogbnVsbCwgImZpbGwiOiB0cnVlLCAiZmlsbENvbG9yIjogIiMzMTg2Y2MiLCAiZmlsbE9wYWNpdHkiOiAwLjcsICJmaWxsUnVsZSI6ICJldmVub2RkIiwgImxpbmVDYXAiOiAicm91bmQiLCAibGluZUpvaW4iOiAicm91bmQiLCAib3BhY2l0eSI6IDEuMCwgInJhZGl1cyI6IDUsICJzdHJva2UiOiB0cnVlLCAid2VpZ2h0IjogM30KICAgICAgICAgICAgKS5hZGRUbyhtYXBfYTY3Y2VlYWI0YWYzNDE2NDk3YjY2MDIyMThkNmQ1M2QpOwogICAgICAgIAogICAgCiAgICAgICAgdmFyIHBvcHVwXzNmZTE2YmY1MjM2ZTRlOGNiNTU1YWVmYzc5MGZkZWRkID0gTC5wb3B1cCh7Im1heFdpZHRoIjogIjEwMCUifSk7CgogICAgICAgIAogICAgICAgICAgICB2YXIgaHRtbF81YWQ0YzFkOWRiMDU0ZDgzOWU4M2ZjZGFjOTM2MDA4NyA9ICQoYDxkaXYgaWQ9Imh0bWxfNWFkNGMxZDlkYjA1NGQ4MzllODNmY2RhYzkzNjAwODciIHN0eWxlPSJ3aWR0aDogMTAwLjAlOyBoZWlnaHQ6IDEwMC4wJTsiPldpbGxvd2RhbGUsIE5vcnRoIFlvcms8L2Rpdj5gKVswXTsKICAgICAgICAgICAgcG9wdXBfM2ZlMTZiZjUyMzZlNGU4Y2I1NTVhZWZjNzkwZmRlZGQuc2V0Q29udGVudChodG1sXzVhZDRjMWQ5ZGIwNTRkODM5ZTgzZmNkYWM5MzYwMDg3KTsKICAgICAgICAKCiAgICAgICAgY2lyY2xlX21hcmtlcl81OTRmZjFjMmQ4MDA0ZjIyYjVhNjFmYzdkOGJlZWM2Ny5iaW5kUG9wdXAocG9wdXBfM2ZlMTZiZjUyMzZlNGU4Y2I1NTVhZWZjNzkwZmRlZGQpCiAgICAgICAgOwoKICAgICAgICAKICAgIAogICAgCiAgICAgICAgICAgIHZhciBjaXJjbGVfbWFya2VyX2MxYmM0OTk4MjBhMDQyYzU4NjE3NGI2MjU5ZTJjNWExID0gTC5jaXJjbGVNYXJrZXIoCiAgICAgICAgICAgICAgICBbNDMuNzE1MzgzNCwgLTc5LjQwNTY3ODQwMDAwMDAxXSwKICAgICAgICAgICAgICAgIHsiYnViYmxpbmdNb3VzZUV2ZW50cyI6IHRydWUsICJjb2xvciI6ICJibHVlIiwgImRhc2hBcnJheSI6IG51bGwsICJkYXNoT2Zmc2V0IjogbnVsbCwgImZpbGwiOiB0cnVlLCAiZmlsbENvbG9yIjogIiMzMTg2Y2MiLCAiZmlsbE9wYWNpdHkiOiAwLjcsICJmaWxsUnVsZSI6ICJldmVub2RkIiwgImxpbmVDYXAiOiAicm91bmQiLCAibGluZUpvaW4iOiAicm91bmQiLCAib3BhY2l0eSI6IDEuMCwgInJhZGl1cyI6IDUsICJzdHJva2UiOiB0cnVlLCAid2VpZ2h0IjogM30KICAgICAgICAgICAgKS5hZGRUbyhtYXBfYTY3Y2VlYWI0YWYzNDE2NDk3YjY2MDIyMThkNmQ1M2QpOwogICAgICAgIAogICAgCiAgICAgICAgdmFyIHBvcHVwXzVkZWQ4N2VkZWVlYzRmNTk5ZWZmOGM2Mjc4NGQ2Y2EyID0gTC5wb3B1cCh7Im1heFdpZHRoIjogIjEwMCUifSk7CgogICAgICAgIAogICAgICAgICAgICB2YXIgaHRtbF80MWFkMGQxODk0NTQ0Yjg3YjMxNDVjYjc4Zjc4YjhlNCA9ICQoYDxkaXYgaWQ9Imh0bWxfNDFhZDBkMTg5NDU0NGI4N2IzMTQ1Y2I3OGY3OGI4ZTQiIHN0eWxlPSJ3aWR0aDogMTAwLjAlOyBoZWlnaHQ6IDEwMC4wJTsiPk5vcnRoIFRvcm9udG8gV2VzdCwgQ2VudHJhbCBUb3JvbnRvPC9kaXY+YClbMF07CiAgICAgICAgICAgIHBvcHVwXzVkZWQ4N2VkZWVlYzRmNTk5ZWZmOGM2Mjc4NGQ2Y2EyLnNldENvbnRlbnQoaHRtbF80MWFkMGQxODk0NTQ0Yjg3YjMxNDVjYjc4Zjc4YjhlNCk7CiAgICAgICAgCgogICAgICAgIGNpcmNsZV9tYXJrZXJfYzFiYzQ5OTgyMGEwNDJjNTg2MTc0YjYyNTllMmM1YTEuYmluZFBvcHVwKHBvcHVwXzVkZWQ4N2VkZWVlYzRmNTk5ZWZmOGM2Mjc4NGQ2Y2EyKQogICAgICAgIDsKCiAgICAgICAgCiAgICAKICAgIAogICAgICAgICAgICB2YXIgY2lyY2xlX21hcmtlcl84NmU5ZDM5YzY0NTk0ZTU1ODExOGQzOTAzOWZkNzRiZCA9IEwuY2lyY2xlTWFya2VyKAogICAgICAgICAgICAgICAgWzQzLjY3MjcwOTcsIC03OS40MDU2Nzg0MDAwMDAwMV0sCiAgICAgICAgICAgICAgICB7ImJ1YmJsaW5nTW91c2VFdmVudHMiOiB0cnVlLCAiY29sb3IiOiAiYmx1ZSIsICJkYXNoQXJyYXkiOiBudWxsLCAiZGFzaE9mZnNldCI6IG51bGwsICJmaWxsIjogdHJ1ZSwgImZpbGxDb2xvciI6ICIjMzE4NmNjIiwgImZpbGxPcGFjaXR5IjogMC43LCAiZmlsbFJ1bGUiOiAiZXZlbm9kZCIsICJsaW5lQ2FwIjogInJvdW5kIiwgImxpbmVKb2luIjogInJvdW5kIiwgIm9wYWNpdHkiOiAxLjAsICJyYWRpdXMiOiA1LCAic3Ryb2tlIjogdHJ1ZSwgIndlaWdodCI6IDN9CiAgICAgICAgICAgICkuYWRkVG8obWFwX2E2N2NlZWFiNGFmMzQxNjQ5N2I2NjAyMjE4ZDZkNTNkKTsKICAgICAgICAKICAgIAogICAgICAgIHZhciBwb3B1cF8zNmM1MTJkNGJiODU0MjVhYjY5YTIyM2U0YWY2YjVhOSA9IEwucG9wdXAoeyJtYXhXaWR0aCI6ICIxMDAlIn0pOwoKICAgICAgICAKICAgICAgICAgICAgdmFyIGh0bWxfNjFmZDgxNmFlOTNjNGYzYzgxOGEyMDBhZjIyNmFkM2QgPSAkKGA8ZGl2IGlkPSJodG1sXzYxZmQ4MTZhZTkzYzRmM2M4MThhMjAwYWYyMjZhZDNkIiBzdHlsZT0id2lkdGg6IDEwMC4wJTsgaGVpZ2h0OiAxMDAuMCU7Ij5UaGUgQW5uZXgsIE5vcnRoIE1pZHRvd24sIFlvcmt2aWxsZSwgQ2VudHJhbCBUb3JvbnRvPC9kaXY+YClbMF07CiAgICAgICAgICAgIHBvcHVwXzM2YzUxMmQ0YmI4NTQyNWFiNjlhMjIzZTRhZjZiNWE5LnNldENvbnRlbnQoaHRtbF82MWZkODE2YWU5M2M0ZjNjODE4YTIwMGFmMjI2YWQzZCk7CiAgICAgICAgCgogICAgICAgIGNpcmNsZV9tYXJrZXJfODZlOWQzOWM2NDU5NGU1NTgxMThkMzkwMzlmZDc0YmQuYmluZFBvcHVwKHBvcHVwXzM2YzUxMmQ0YmI4NTQyNWFiNjlhMjIzZTRhZjZiNWE5KQogICAgICAgIDsKCiAgICAgICAgCiAgICAKICAgIAogICAgICAgICAgICB2YXIgY2lyY2xlX21hcmtlcl8zMWRkNjkxNmM1ODk0NjQ4Yjk2YWViNjNhM2I4MTg2NyA9IEwuY2lyY2xlTWFya2VyKAogICAgICAgICAgICAgICAgWzQzLjY0ODk1OTcsIC03OS40NTYzMjVdLAogICAgICAgICAgICAgICAgeyJidWJibGluZ01vdXNlRXZlbnRzIjogdHJ1ZSwgImNvbG9yIjogImJsdWUiLCAiZGFzaEFycmF5IjogbnVsbCwgImRhc2hPZmZzZXQiOiBudWxsLCAiZmlsbCI6IHRydWUsICJmaWxsQ29sb3IiOiAiIzMxODZjYyIsICJmaWxsT3BhY2l0eSI6IDAuNywgImZpbGxSdWxlIjogImV2ZW5vZGQiLCAibGluZUNhcCI6ICJyb3VuZCIsICJsaW5lSm9pbiI6ICJyb3VuZCIsICJvcGFjaXR5IjogMS4wLCAicmFkaXVzIjogNSwgInN0cm9rZSI6IHRydWUsICJ3ZWlnaHQiOiAzfQogICAgICAgICAgICApLmFkZFRvKG1hcF9hNjdjZWVhYjRhZjM0MTY0OTdiNjYwMjIxOGQ2ZDUzZCk7CiAgICAgICAgCiAgICAKICAgICAgICB2YXIgcG9wdXBfNzEyMDBkZjAxZmU5NGExMTgxMjhmZDIwMDgxNDdkZTcgPSBMLnBvcHVwKHsibWF4V2lkdGgiOiAiMTAwJSJ9KTsKCiAgICAgICAgCiAgICAgICAgICAgIHZhciBodG1sX2I1ODdkNTY2MTE3ZDQ2NTg5ZmM2YjY3ZjIzOGU4NDA2ID0gJChgPGRpdiBpZD0iaHRtbF9iNTg3ZDU2NjExN2Q0NjU4OWZjNmI2N2YyMzhlODQwNiIgc3R5bGU9IndpZHRoOiAxMDAuMCU7IGhlaWdodDogMTAwLjAlOyI+UGFya2RhbGUsIFJvbmNlc3ZhbGxlcywgV2VzdCBUb3JvbnRvPC9kaXY+YClbMF07CiAgICAgICAgICAgIHBvcHVwXzcxMjAwZGYwMWZlOTRhMTE4MTI4ZmQyMDA4MTQ3ZGU3LnNldENvbnRlbnQoaHRtbF9iNTg3ZDU2NjExN2Q0NjU4OWZjNmI2N2YyMzhlODQwNik7CiAgICAgICAgCgogICAgICAgIGNpcmNsZV9tYXJrZXJfMzFkZDY5MTZjNTg5NDY0OGI5NmFlYjYzYTNiODE4NjcuYmluZFBvcHVwKHBvcHVwXzcxMjAwZGYwMWZlOTRhMTE4MTI4ZmQyMDA4MTQ3ZGU3KQogICAgICAgIDsKCiAgICAgICAgCiAgICAKICAgIAogICAgICAgICAgICB2YXIgY2lyY2xlX21hcmtlcl8wZmQzNWZhNDgzNWI0MmE1YWExZjY1NThiZmE0NGMxMiA9IEwuY2lyY2xlTWFya2VyKAogICAgICAgICAgICAgICAgWzQzLjYzNjk2NTYsIC03OS42MTU4MTg5OTk5OTk5OV0sCiAgICAgICAgICAgICAgICB7ImJ1YmJsaW5nTW91c2VFdmVudHMiOiB0cnVlLCAiY29sb3IiOiAiYmx1ZSIsICJkYXNoQXJyYXkiOiBudWxsLCAiZGFzaE9mZnNldCI6IG51bGwsICJmaWxsIjogdHJ1ZSwgImZpbGxDb2xvciI6ICIjMzE4NmNjIiwgImZpbGxPcGFjaXR5IjogMC43LCAiZmlsbFJ1bGUiOiAiZXZlbm9kZCIsICJsaW5lQ2FwIjogInJvdW5kIiwgImxpbmVKb2luIjogInJvdW5kIiwgIm9wYWNpdHkiOiAxLjAsICJyYWRpdXMiOiA1LCAic3Ryb2tlIjogdHJ1ZSwgIndlaWdodCI6IDN9CiAgICAgICAgICAgICkuYWRkVG8obWFwX2E2N2NlZWFiNGFmMzQxNjQ5N2I2NjAyMjE4ZDZkNTNkKTsKICAgICAgICAKICAgIAogICAgICAgIHZhciBwb3B1cF9jZDc0MjU0YjA3NGU0ZTllYmZjZDYxM2E0ZTNmMDFjNiA9IEwucG9wdXAoeyJtYXhXaWR0aCI6ICIxMDAlIn0pOwoKICAgICAgICAKICAgICAgICAgICAgdmFyIGh0bWxfOWY5ZDAxNGIxYmEyNGIxNDg0ZDQ4YWNiY2NkMGNhM2MgPSAkKGA8ZGl2IGlkPSJodG1sXzlmOWQwMTRiMWJhMjRiMTQ4NGQ0OGFjYmNjZDBjYTNjIiBzdHlsZT0id2lkdGg6IDEwMC4wJTsgaGVpZ2h0OiAxMDAuMCU7Ij5DYW5hZGEgUG9zdCBHYXRld2F5IFByb2Nlc3NpbmcgQ2VudHJlLCBNaXNzaXNzYXVnYTwvZGl2PmApWzBdOwogICAgICAgICAgICBwb3B1cF9jZDc0MjU0YjA3NGU0ZTllYmZjZDYxM2E0ZTNmMDFjNi5zZXRDb250ZW50KGh0bWxfOWY5ZDAxNGIxYmEyNGIxNDg0ZDQ4YWNiY2NkMGNhM2MpOwogICAgICAgIAoKICAgICAgICBjaXJjbGVfbWFya2VyXzBmZDM1ZmE0ODM1YjQyYTVhYTFmNjU1OGJmYTQ0YzEyLmJpbmRQb3B1cChwb3B1cF9jZDc0MjU0YjA3NGU0ZTllYmZjZDYxM2E0ZTNmMDFjNikKICAgICAgICA7CgogICAgICAgIAogICAgCiAgICAKICAgICAgICAgICAgdmFyIGNpcmNsZV9tYXJrZXJfMjM0MjJmYzQ2ODEyNDA0YTlhZWZlYzg1NWE1ZDZmMDIgPSBMLmNpcmNsZU1hcmtlcigKICAgICAgICAgICAgICAgIFs0My42ODg5MDU0LCAtNzkuNTU0NzI0NDAwMDAwMDFdLAogICAgICAgICAgICAgICAgeyJidWJibGluZ01vdXNlRXZlbnRzIjogdHJ1ZSwgImNvbG9yIjogImJsdWUiLCAiZGFzaEFycmF5IjogbnVsbCwgImRhc2hPZmZzZXQiOiBudWxsLCAiZmlsbCI6IHRydWUsICJmaWxsQ29sb3IiOiAiIzMxODZjYyIsICJmaWxsT3BhY2l0eSI6IDAuNywgImZpbGxSdWxlIjogImV2ZW5vZGQiLCAibGluZUNhcCI6ICJyb3VuZCIsICJsaW5lSm9pbiI6ICJyb3VuZCIsICJvcGFjaXR5IjogMS4wLCAicmFkaXVzIjogNSwgInN0cm9rZSI6IHRydWUsICJ3ZWlnaHQiOiAzfQogICAgICAgICAgICApLmFkZFRvKG1hcF9hNjdjZWVhYjRhZjM0MTY0OTdiNjYwMjIxOGQ2ZDUzZCk7CiAgICAgICAgCiAgICAKICAgICAgICB2YXIgcG9wdXBfMmYwMGFkOGUxZWJkNGEwZThhNGI2ZjFlYTRiYjY5NjUgPSBMLnBvcHVwKHsibWF4V2lkdGgiOiAiMTAwJSJ9KTsKCiAgICAgICAgCiAgICAgICAgICAgIHZhciBodG1sXzRiZTFhZDdiODVkMTQwMGVhNTFjZWY5NGY0OWE5NWMxID0gJChgPGRpdiBpZD0iaHRtbF80YmUxYWQ3Yjg1ZDE0MDBlYTUxY2VmOTRmNDlhOTVjMSIgc3R5bGU9IndpZHRoOiAxMDAuMCU7IGhlaWdodDogMTAwLjAlOyI+S2luZ3N2aWV3IFZpbGxhZ2UsIFN0LiBQaGlsbGlwcywgTWFydGluIEdyb3ZlIEdhcmRlbnMsIFJpY2h2aWV3IEdhcmRlbnMsIEV0b2JpY29rZTwvZGl2PmApWzBdOwogICAgICAgICAgICBwb3B1cF8yZjAwYWQ4ZTFlYmQ0YTBlOGE0YjZmMWVhNGJiNjk2NS5zZXRDb250ZW50KGh0bWxfNGJlMWFkN2I4NWQxNDAwZWE1MWNlZjk0ZjQ5YTk1YzEpOwogICAgICAgIAoKICAgICAgICBjaXJjbGVfbWFya2VyXzIzNDIyZmM0NjgxMjQwNGE5YWVmZWM4NTVhNWQ2ZjAyLmJpbmRQb3B1cChwb3B1cF8yZjAwYWQ4ZTFlYmQ0YTBlOGE0YjZmMWVhNGJiNjk2NSkKICAgICAgICA7CgogICAgICAgIAogICAgCiAgICAKICAgICAgICAgICAgdmFyIGNpcmNsZV9tYXJrZXJfMmU4MDljZmQzZDc0NGYzOWE3MGZmNjUyM2U0NTVmNmEgPSBMLmNpcmNsZU1hcmtlcigKICAgICAgICAgICAgICAgIFs0My43OTQyMDAzLCAtNzkuMjYyMDI5NDAwMDAwMDJdLAogICAgICAgICAgICAgICAgeyJidWJibGluZ01vdXNlRXZlbnRzIjogdHJ1ZSwgImNvbG9yIjogImJsdWUiLCAiZGFzaEFycmF5IjogbnVsbCwgImRhc2hPZmZzZXQiOiBudWxsLCAiZmlsbCI6IHRydWUsICJmaWxsQ29sb3IiOiAiIzMxODZjYyIsICJmaWxsT3BhY2l0eSI6IDAuNywgImZpbGxSdWxlIjogImV2ZW5vZGQiLCAibGluZUNhcCI6ICJyb3VuZCIsICJsaW5lSm9pbiI6ICJyb3VuZCIsICJvcGFjaXR5IjogMS4wLCAicmFkaXVzIjogNSwgInN0cm9rZSI6IHRydWUsICJ3ZWlnaHQiOiAzfQogICAgICAgICAgICApLmFkZFRvKG1hcF9hNjdjZWVhYjRhZjM0MTY0OTdiNjYwMjIxOGQ2ZDUzZCk7CiAgICAgICAgCiAgICAKICAgICAgICB2YXIgcG9wdXBfMWEzYWQ2MzAxZTM2NGNmMGFlYTIzMzNkNTVmZTBiZjEgPSBMLnBvcHVwKHsibWF4V2lkdGgiOiAiMTAwJSJ9KTsKCiAgICAgICAgCiAgICAgICAgICAgIHZhciBodG1sXzAyYTdlZDhhZmQxYjQ2NzhiZTg5ZWE5MzI0ZDBhM2QzID0gJChgPGRpdiBpZD0iaHRtbF8wMmE3ZWQ4YWZkMWI0Njc4YmU4OWVhOTMyNGQwYTNkMyIgc3R5bGU9IndpZHRoOiAxMDAuMCU7IGhlaWdodDogMTAwLjAlOyI+QWdpbmNvdXJ0LCBTY2FyYm9yb3VnaDwvZGl2PmApWzBdOwogICAgICAgICAgICBwb3B1cF8xYTNhZDYzMDFlMzY0Y2YwYWVhMjMzM2Q1NWZlMGJmMS5zZXRDb250ZW50KGh0bWxfMDJhN2VkOGFmZDFiNDY3OGJlODllYTkzMjRkMGEzZDMpOwogICAgICAgIAoKICAgICAgICBjaXJjbGVfbWFya2VyXzJlODA5Y2ZkM2Q3NDRmMzlhNzBmZjY1MjNlNDU1ZjZhLmJpbmRQb3B1cChwb3B1cF8xYTNhZDYzMDFlMzY0Y2YwYWVhMjMzM2Q1NWZlMGJmMSkKICAgICAgICA7CgogICAgICAgIAogICAgCiAgICAKICAgICAgICAgICAgdmFyIGNpcmNsZV9tYXJrZXJfY2M1MDc1ODI5NjlhNDk5NzhlOGJiNzk5Y2VkMWE3ODYgPSBMLmNpcmNsZU1hcmtlcigKICAgICAgICAgICAgICAgIFs0My43MDQzMjQ0LCAtNzkuMzg4NzkwMV0sCiAgICAgICAgICAgICAgICB7ImJ1YmJsaW5nTW91c2VFdmVudHMiOiB0cnVlLCAiY29sb3IiOiAiYmx1ZSIsICJkYXNoQXJyYXkiOiBudWxsLCAiZGFzaE9mZnNldCI6IG51bGwsICJmaWxsIjogdHJ1ZSwgImZpbGxDb2xvciI6ICIjMzE4NmNjIiwgImZpbGxPcGFjaXR5IjogMC43LCAiZmlsbFJ1bGUiOiAiZXZlbm9kZCIsICJsaW5lQ2FwIjogInJvdW5kIiwgImxpbmVKb2luIjogInJvdW5kIiwgIm9wYWNpdHkiOiAxLjAsICJyYWRpdXMiOiA1LCAic3Ryb2tlIjogdHJ1ZSwgIndlaWdodCI6IDN9CiAgICAgICAgICAgICkuYWRkVG8obWFwX2E2N2NlZWFiNGFmMzQxNjQ5N2I2NjAyMjE4ZDZkNTNkKTsKICAgICAgICAKICAgIAogICAgICAgIHZhciBwb3B1cF9lN2QzYmQyODg2NmQ0NmFlYjk1NmE5NGNhNzU3YjRjNCA9IEwucG9wdXAoeyJtYXhXaWR0aCI6ICIxMDAlIn0pOwoKICAgICAgICAKICAgICAgICAgICAgdmFyIGh0bWxfN2RkNzE0NmU4ZTU0NDViMzllMzlhZWQzM2U0ZWZjNDQgPSAkKGA8ZGl2IGlkPSJodG1sXzdkZDcxNDZlOGU1NDQ1YjM5ZTM5YWVkMzNlNGVmYzQ0IiBzdHlsZT0id2lkdGg6IDEwMC4wJTsgaGVpZ2h0OiAxMDAuMCU7Ij5EYXZpc3ZpbGxlLCBDZW50cmFsIFRvcm9udG88L2Rpdj5gKVswXTsKICAgICAgICAgICAgcG9wdXBfZTdkM2JkMjg4NjZkNDZhZWI5NTZhOTRjYTc1N2I0YzQuc2V0Q29udGVudChodG1sXzdkZDcxNDZlOGU1NDQ1YjM5ZTM5YWVkMzNlNGVmYzQ0KTsKICAgICAgICAKCiAgICAgICAgY2lyY2xlX21hcmtlcl9jYzUwNzU4Mjk2OWE0OTk3OGU4YmI3OTljZWQxYTc4Ni5iaW5kUG9wdXAocG9wdXBfZTdkM2JkMjg4NjZkNDZhZWI5NTZhOTRjYTc1N2I0YzQpCiAgICAgICAgOwoKICAgICAgICAKICAgIAogICAgCiAgICAgICAgICAgIHZhciBjaXJjbGVfbWFya2VyXzZlZTA3YWRmNTI3MTQ3ZGI4NmQyMWEzODM0OWUzNjk0ID0gTC5jaXJjbGVNYXJrZXIoCiAgICAgICAgICAgICAgICBbNDMuNjYyNjk1NiwgLTc5LjQwMDA0OTNdLAogICAgICAgICAgICAgICAgeyJidWJibGluZ01vdXNlRXZlbnRzIjogdHJ1ZSwgImNvbG9yIjogImJsdWUiLCAiZGFzaEFycmF5IjogbnVsbCwgImRhc2hPZmZzZXQiOiBudWxsLCAiZmlsbCI6IHRydWUsICJmaWxsQ29sb3IiOiAiIzMxODZjYyIsICJmaWxsT3BhY2l0eSI6IDAuNywgImZpbGxSdWxlIjogImV2ZW5vZGQiLCAibGluZUNhcCI6ICJyb3VuZCIsICJsaW5lSm9pbiI6ICJyb3VuZCIsICJvcGFjaXR5IjogMS4wLCAicmFkaXVzIjogNSwgInN0cm9rZSI6IHRydWUsICJ3ZWlnaHQiOiAzfQogICAgICAgICAgICApLmFkZFRvKG1hcF9hNjdjZWVhYjRhZjM0MTY0OTdiNjYwMjIxOGQ2ZDUzZCk7CiAgICAgICAgCiAgICAKICAgICAgICB2YXIgcG9wdXBfNzc5YjA4OWExZGEzNDMwMmE3ODkzZWRiMmM1ZjZkM2IgPSBMLnBvcHVwKHsibWF4V2lkdGgiOiAiMTAwJSJ9KTsKCiAgICAgICAgCiAgICAgICAgICAgIHZhciBodG1sXzFjZmVjMjhlZDg4YzRjNzViMWRjN2IxOTA0YmZhNTQzID0gJChgPGRpdiBpZD0iaHRtbF8xY2ZlYzI4ZWQ4OGM0Yzc1YjFkYzdiMTkwNGJmYTU0MyIgc3R5bGU9IndpZHRoOiAxMDAuMCU7IGhlaWdodDogMTAwLjAlOyI+VW5pdmVyc2l0eSBvZiBUb3JvbnRvLCBIYXJib3JkLCBEb3dudG93biBUb3JvbnRvPC9kaXY+YClbMF07CiAgICAgICAgICAgIHBvcHVwXzc3OWIwODlhMWRhMzQzMDJhNzg5M2VkYjJjNWY2ZDNiLnNldENvbnRlbnQoaHRtbF8xY2ZlYzI4ZWQ4OGM0Yzc1YjFkYzdiMTkwNGJmYTU0Myk7CiAgICAgICAgCgogICAgICAgIGNpcmNsZV9tYXJrZXJfNmVlMDdhZGY1MjcxNDdkYjg2ZDIxYTM4MzQ5ZTM2OTQuYmluZFBvcHVwKHBvcHVwXzc3OWIwODlhMWRhMzQzMDJhNzg5M2VkYjJjNWY2ZDNiKQogICAgICAgIDsKCiAgICAgICAgCiAgICAKICAgIAogICAgICAgICAgICB2YXIgY2lyY2xlX21hcmtlcl81YTkyODEwMDZkNDY0YzM2YTIzZWU0NDE1YmNkYWVlMSA9IEwuY2lyY2xlTWFya2VyKAogICAgICAgICAgICAgICAgWzQzLjY1MTU3MDYsIC03OS40ODQ0NDk5XSwKICAgICAgICAgICAgICAgIHsiYnViYmxpbmdNb3VzZUV2ZW50cyI6IHRydWUsICJjb2xvciI6ICJibHVlIiwgImRhc2hBcnJheSI6IG51bGwsICJkYXNoT2Zmc2V0IjogbnVsbCwgImZpbGwiOiB0cnVlLCAiZmlsbENvbG9yIjogIiMzMTg2Y2MiLCAiZmlsbE9wYWNpdHkiOiAwLjcsICJmaWxsUnVsZSI6ICJldmVub2RkIiwgImxpbmVDYXAiOiAicm91bmQiLCAibGluZUpvaW4iOiAicm91bmQiLCAib3BhY2l0eSI6IDEuMCwgInJhZGl1cyI6IDUsICJzdHJva2UiOiB0cnVlLCAid2VpZ2h0IjogM30KICAgICAgICAgICAgKS5hZGRUbyhtYXBfYTY3Y2VlYWI0YWYzNDE2NDk3YjY2MDIyMThkNmQ1M2QpOwogICAgICAgIAogICAgCiAgICAgICAgdmFyIHBvcHVwXzk5Y2Y4MmMyMDAzYzRkMDBhM2Y3YmQyZTQ5MWU5ODUwID0gTC5wb3B1cCh7Im1heFdpZHRoIjogIjEwMCUifSk7CgogICAgICAgIAogICAgICAgICAgICB2YXIgaHRtbF9jOTRiNGE3OWIzNmY0ODI0OTJmZTI3ODI1NDdhMzMzYSA9ICQoYDxkaXYgaWQ9Imh0bWxfYzk0YjRhNzliMzZmNDgyNDkyZmUyNzgyNTQ3YTMzM2EiIHN0eWxlPSJ3aWR0aDogMTAwLjAlOyBoZWlnaHQ6IDEwMC4wJTsiPlJ1bm55bWVkZSwgU3dhbnNlYSwgV2VzdCBUb3JvbnRvPC9kaXY+YClbMF07CiAgICAgICAgICAgIHBvcHVwXzk5Y2Y4MmMyMDAzYzRkMDBhM2Y3YmQyZTQ5MWU5ODUwLnNldENvbnRlbnQoaHRtbF9jOTRiNGE3OWIzNmY0ODI0OTJmZTI3ODI1NDdhMzMzYSk7CiAgICAgICAgCgogICAgICAgIGNpcmNsZV9tYXJrZXJfNWE5MjgxMDA2ZDQ2NGMzNmEyM2VlNDQxNWJjZGFlZTEuYmluZFBvcHVwKHBvcHVwXzk5Y2Y4MmMyMDAzYzRkMDBhM2Y3YmQyZTQ5MWU5ODUwKQogICAgICAgIDsKCiAgICAgICAgCiAgICAKICAgIAogICAgICAgICAgICB2YXIgY2lyY2xlX21hcmtlcl8yOGM5OWQ1ZmNmNzA0Yjk2YmE3MDJiN2VmZjQwMTk0NyA9IEwuY2lyY2xlTWFya2VyKAogICAgICAgICAgICAgICAgWzQzLjc4MTYzNzUsIC03OS4zMDQzMDIxXSwKICAgICAgICAgICAgICAgIHsiYnViYmxpbmdNb3VzZUV2ZW50cyI6IHRydWUsICJjb2xvciI6ICJibHVlIiwgImRhc2hBcnJheSI6IG51bGwsICJkYXNoT2Zmc2V0IjogbnVsbCwgImZpbGwiOiB0cnVlLCAiZmlsbENvbG9yIjogIiMzMTg2Y2MiLCAiZmlsbE9wYWNpdHkiOiAwLjcsICJmaWxsUnVsZSI6ICJldmVub2RkIiwgImxpbmVDYXAiOiAicm91bmQiLCAibGluZUpvaW4iOiAicm91bmQiLCAib3BhY2l0eSI6IDEuMCwgInJhZGl1cyI6IDUsICJzdHJva2UiOiB0cnVlLCAid2VpZ2h0IjogM30KICAgICAgICAgICAgKS5hZGRUbyhtYXBfYTY3Y2VlYWI0YWYzNDE2NDk3YjY2MDIyMThkNmQ1M2QpOwogICAgICAgIAogICAgCiAgICAgICAgdmFyIHBvcHVwX2ExNTViNGEyZDIzYzQ1Nzg4ZjhlYzhhOTRjNDQ2YWMwID0gTC5wb3B1cCh7Im1heFdpZHRoIjogIjEwMCUifSk7CgogICAgICAgIAogICAgICAgICAgICB2YXIgaHRtbF9mMGUyODhiNWU1YWU0ZDY0YTM3ZjgzZjdlYWEzZTM1NiA9ICQoYDxkaXYgaWQ9Imh0bWxfZjBlMjg4YjVlNWFlNGQ2NGEzN2Y4M2Y3ZWFhM2UzNTYiIHN0eWxlPSJ3aWR0aDogMTAwLjAlOyBoZWlnaHQ6IDEwMC4wJTsiPkNsYXJrcyBDb3JuZXJzLCBUYW0gTyYjMzk7U2hhbnRlciwgU3VsbGl2YW4sIFNjYXJib3JvdWdoPC9kaXY+YClbMF07CiAgICAgICAgICAgIHBvcHVwX2ExNTViNGEyZDIzYzQ1Nzg4ZjhlYzhhOTRjNDQ2YWMwLnNldENvbnRlbnQoaHRtbF9mMGUyODhiNWU1YWU0ZDY0YTM3ZjgzZjdlYWEzZTM1Nik7CiAgICAgICAgCgogICAgICAgIGNpcmNsZV9tYXJrZXJfMjhjOTlkNWZjZjcwNGI5NmJhNzAyYjdlZmY0MDE5NDcuYmluZFBvcHVwKHBvcHVwX2ExNTViNGEyZDIzYzQ1Nzg4ZjhlYzhhOTRjNDQ2YWMwKQogICAgICAgIDsKCiAgICAgICAgCiAgICAKICAgIAogICAgICAgICAgICB2YXIgY2lyY2xlX21hcmtlcl82Y2E4MjE3YzhlMGU0ZTE0OWVlNDU1OWM5ZmM4MDAwNCA9IEwuY2lyY2xlTWFya2VyKAogICAgICAgICAgICAgICAgWzQzLjY4OTU3NDMsIC03OS4zODMxNTk5MDAwMDAwMV0sCiAgICAgICAgICAgICAgICB7ImJ1YmJsaW5nTW91c2VFdmVudHMiOiB0cnVlLCAiY29sb3IiOiAiYmx1ZSIsICJkYXNoQXJyYXkiOiBudWxsLCAiZGFzaE9mZnNldCI6IG51bGwsICJmaWxsIjogdHJ1ZSwgImZpbGxDb2xvciI6ICIjMzE4NmNjIiwgImZpbGxPcGFjaXR5IjogMC43LCAiZmlsbFJ1bGUiOiAiZXZlbm9kZCIsICJsaW5lQ2FwIjogInJvdW5kIiwgImxpbmVKb2luIjogInJvdW5kIiwgIm9wYWNpdHkiOiAxLjAsICJyYWRpdXMiOiA1LCAic3Ryb2tlIjogdHJ1ZSwgIndlaWdodCI6IDN9CiAgICAgICAgICAgICkuYWRkVG8obWFwX2E2N2NlZWFiNGFmMzQxNjQ5N2I2NjAyMjE4ZDZkNTNkKTsKICAgICAgICAKICAgIAogICAgICAgIHZhciBwb3B1cF9jYjY4ZDgwMDc5NDA0M2E4OTI0ZWFjYzgxMDAzOTAzNiA9IEwucG9wdXAoeyJtYXhXaWR0aCI6ICIxMDAlIn0pOwoKICAgICAgICAKICAgICAgICAgICAgdmFyIGh0bWxfMmQyNmMxZjc0MTlhNGRjYWI3MDA5YmNjMjgwNTlhMjIgPSAkKGA8ZGl2IGlkPSJodG1sXzJkMjZjMWY3NDE5YTRkY2FiNzAwOWJjYzI4MDU5YTIyIiBzdHlsZT0id2lkdGg6IDEwMC4wJTsgaGVpZ2h0OiAxMDAuMCU7Ij5Nb29yZSBQYXJrLCBTdW1tZXJoaWxsIEVhc3QsIENlbnRyYWwgVG9yb250bzwvZGl2PmApWzBdOwogICAgICAgICAgICBwb3B1cF9jYjY4ZDgwMDc5NDA0M2E4OTI0ZWFjYzgxMDAzOTAzNi5zZXRDb250ZW50KGh0bWxfMmQyNmMxZjc0MTlhNGRjYWI3MDA5YmNjMjgwNTlhMjIpOwogICAgICAgIAoKICAgICAgICBjaXJjbGVfbWFya2VyXzZjYTgyMTdjOGUwZTRlMTQ5ZWU0NTU5YzlmYzgwMDA0LmJpbmRQb3B1cChwb3B1cF9jYjY4ZDgwMDc5NDA0M2E4OTI0ZWFjYzgxMDAzOTAzNikKICAgICAgICA7CgogICAgICAgIAogICAgCiAgICAKICAgICAgICAgICAgdmFyIGNpcmNsZV9tYXJrZXJfMzEyMjdlNmQ1NDBjNDRkMDgyNDliODJmN2MxODdhYjYgPSBMLmNpcmNsZU1hcmtlcigKICAgICAgICAgICAgICAgIFs0My42NTMyMDU3LCAtNzkuNDAwMDQ5M10sCiAgICAgICAgICAgICAgICB7ImJ1YmJsaW5nTW91c2VFdmVudHMiOiB0cnVlLCAiY29sb3IiOiAiYmx1ZSIsICJkYXNoQXJyYXkiOiBudWxsLCAiZGFzaE9mZnNldCI6IG51bGwsICJmaWxsIjogdHJ1ZSwgImZpbGxDb2xvciI6ICIjMzE4NmNjIiwgImZpbGxPcGFjaXR5IjogMC43LCAiZmlsbFJ1bGUiOiAiZXZlbm9kZCIsICJsaW5lQ2FwIjogInJvdW5kIiwgImxpbmVKb2luIjogInJvdW5kIiwgIm9wYWNpdHkiOiAxLjAsICJyYWRpdXMiOiA1LCAic3Ryb2tlIjogdHJ1ZSwgIndlaWdodCI6IDN9CiAgICAgICAgICAgICkuYWRkVG8obWFwX2E2N2NlZWFiNGFmMzQxNjQ5N2I2NjAyMjE4ZDZkNTNkKTsKICAgICAgICAKICAgIAogICAgICAgIHZhciBwb3B1cF84OTJkYWNkYWU3YjY0ODg2YTE0N2NiMDBiYTMyNmZhMiA9IEwucG9wdXAoeyJtYXhXaWR0aCI6ICIxMDAlIn0pOwoKICAgICAgICAKICAgICAgICAgICAgdmFyIGh0bWxfMzY1MDNlYWNhMDI1NDVlYmE2ZWQ4ZGUxYjM1NDZjMTggPSAkKGA8ZGl2IGlkPSJodG1sXzM2NTAzZWFjYTAyNTQ1ZWJhNmVkOGRlMWIzNTQ2YzE4IiBzdHlsZT0id2lkdGg6IDEwMC4wJTsgaGVpZ2h0OiAxMDAuMCU7Ij5LZW5zaW5ndG9uIE1hcmtldCwgQ2hpbmF0b3duLCBHcmFuZ2UgUGFyaywgRG93bnRvd24gVG9yb250bzwvZGl2PmApWzBdOwogICAgICAgICAgICBwb3B1cF84OTJkYWNkYWU3YjY0ODg2YTE0N2NiMDBiYTMyNmZhMi5zZXRDb250ZW50KGh0bWxfMzY1MDNlYWNhMDI1NDVlYmE2ZWQ4ZGUxYjM1NDZjMTgpOwogICAgICAgIAoKICAgICAgICBjaXJjbGVfbWFya2VyXzMxMjI3ZTZkNTQwYzQ0ZDA4MjQ5YjgyZjdjMTg3YWI2LmJpbmRQb3B1cChwb3B1cF84OTJkYWNkYWU3YjY0ODg2YTE0N2NiMDBiYTMyNmZhMikKICAgICAgICA7CgogICAgICAgIAogICAgCiAgICAKICAgICAgICAgICAgdmFyIGNpcmNsZV9tYXJrZXJfOTg4MjU4OWU2MTUyNDMwODhlM2M2ZTJmOWFkYWMyYTYgPSBMLmNpcmNsZU1hcmtlcigKICAgICAgICAgICAgICAgIFs0My44MTUyNTIyLCAtNzkuMjg0NTc3Ml0sCiAgICAgICAgICAgICAgICB7ImJ1YmJsaW5nTW91c2VFdmVudHMiOiB0cnVlLCAiY29sb3IiOiAiYmx1ZSIsICJkYXNoQXJyYXkiOiBudWxsLCAiZGFzaE9mZnNldCI6IG51bGwsICJmaWxsIjogdHJ1ZSwgImZpbGxDb2xvciI6ICIjMzE4NmNjIiwgImZpbGxPcGFjaXR5IjogMC43LCAiZmlsbFJ1bGUiOiAiZXZlbm9kZCIsICJsaW5lQ2FwIjogInJvdW5kIiwgImxpbmVKb2luIjogInJvdW5kIiwgIm9wYWNpdHkiOiAxLjAsICJyYWRpdXMiOiA1LCAic3Ryb2tlIjogdHJ1ZSwgIndlaWdodCI6IDN9CiAgICAgICAgICAgICkuYWRkVG8obWFwX2E2N2NlZWFiNGFmMzQxNjQ5N2I2NjAyMjE4ZDZkNTNkKTsKICAgICAgICAKICAgIAogICAgICAgIHZhciBwb3B1cF9lYTkwNzRkMDMxODg0ODAyOWIyY2MwYmJhMDJjMmVjNyA9IEwucG9wdXAoeyJtYXhXaWR0aCI6ICIxMDAlIn0pOwoKICAgICAgICAKICAgICAgICAgICAgdmFyIGh0bWxfOTQ1MTkwMWJhNzk2NDMxNmFjNjQwYjJkNzJmYzczZTMgPSAkKGA8ZGl2IGlkPSJodG1sXzk0NTE5MDFiYTc5NjQzMTZhYzY0MGIyZDcyZmM3M2UzIiBzdHlsZT0id2lkdGg6IDEwMC4wJTsgaGVpZ2h0OiAxMDAuMCU7Ij5NaWxsaWtlbiwgQWdpbmNvdXJ0IE5vcnRoLCBTdGVlbGVzIEVhc3QsIEwmIzM5O0Ftb3JlYXV4IEVhc3QsIFNjYXJib3JvdWdoPC9kaXY+YClbMF07CiAgICAgICAgICAgIHBvcHVwX2VhOTA3NGQwMzE4ODQ4MDI5YjJjYzBiYmEwMmMyZWM3LnNldENvbnRlbnQoaHRtbF85NDUxOTAxYmE3OTY0MzE2YWM2NDBiMmQ3MmZjNzNlMyk7CiAgICAgICAgCgogICAgICAgIGNpcmNsZV9tYXJrZXJfOTg4MjU4OWU2MTUyNDMwODhlM2M2ZTJmOWFkYWMyYTYuYmluZFBvcHVwKHBvcHVwX2VhOTA3NGQwMzE4ODQ4MDI5YjJjYzBiYmEwMmMyZWM3KQogICAgICAgIDsKCiAgICAgICAgCiAgICAKICAgIAogICAgICAgICAgICB2YXIgY2lyY2xlX21hcmtlcl9mOGZjMzA1N2Q3Y2Q0OWRlYTZmMjZhNTUzNjE4OTNkMSA9IEwuY2lyY2xlTWFya2VyKAogICAgICAgICAgICAgICAgWzQzLjY4NjQxMjI5OTk5OTk5LCAtNzkuNDAwMDQ5M10sCiAgICAgICAgICAgICAgICB7ImJ1YmJsaW5nTW91c2VFdmVudHMiOiB0cnVlLCAiY29sb3IiOiAiYmx1ZSIsICJkYXNoQXJyYXkiOiBudWxsLCAiZGFzaE9mZnNldCI6IG51bGwsICJmaWxsIjogdHJ1ZSwgImZpbGxDb2xvciI6ICIjMzE4NmNjIiwgImZpbGxPcGFjaXR5IjogMC43LCAiZmlsbFJ1bGUiOiAiZXZlbm9kZCIsICJsaW5lQ2FwIjogInJvdW5kIiwgImxpbmVKb2luIjogInJvdW5kIiwgIm9wYWNpdHkiOiAxLjAsICJyYWRpdXMiOiA1LCAic3Ryb2tlIjogdHJ1ZSwgIndlaWdodCI6IDN9CiAgICAgICAgICAgICkuYWRkVG8obWFwX2E2N2NlZWFiNGFmMzQxNjQ5N2I2NjAyMjE4ZDZkNTNkKTsKICAgICAgICAKICAgIAogICAgICAgIHZhciBwb3B1cF85NzlhZGM2ZjdlZTQ0OWVlOTNiZjM4NGIwOTU2ZDVmYSA9IEwucG9wdXAoeyJtYXhXaWR0aCI6ICIxMDAlIn0pOwoKICAgICAgICAKICAgICAgICAgICAgdmFyIGh0bWxfZjEyOTY4NGIxZjg0NDVhOTgwZmQ3NTM3NTU1M2E1ZmMgPSAkKGA8ZGl2IGlkPSJodG1sX2YxMjk2ODRiMWY4NDQ1YTk4MGZkNzUzNzU1NTNhNWZjIiBzdHlsZT0id2lkdGg6IDEwMC4wJTsgaGVpZ2h0OiAxMDAuMCU7Ij5TdW1tZXJoaWxsIFdlc3QsIFJhdGhuZWxseSwgU291dGggSGlsbCwgRm9yZXN0IEhpbGwgU0UsIERlZXIgUGFyaywgQ2VudHJhbCBUb3JvbnRvPC9kaXY+YClbMF07CiAgICAgICAgICAgIHBvcHVwXzk3OWFkYzZmN2VlNDQ5ZWU5M2JmMzg0YjA5NTZkNWZhLnNldENvbnRlbnQoaHRtbF9mMTI5Njg0YjFmODQ0NWE5ODBmZDc1Mzc1NTUzYTVmYyk7CiAgICAgICAgCgogICAgICAgIGNpcmNsZV9tYXJrZXJfZjhmYzMwNTdkN2NkNDlkZWE2ZjI2YTU1MzYxODkzZDEuYmluZFBvcHVwKHBvcHVwXzk3OWFkYzZmN2VlNDQ5ZWU5M2JmMzg0YjA5NTZkNWZhKQogICAgICAgIDsKCiAgICAgICAgCiAgICAKICAgIAogICAgICAgICAgICB2YXIgY2lyY2xlX21hcmtlcl83MGYxYmM1MDllZjg0ZTYyYmFlODJlYTQzYTRhNDg3NSA9IEwuY2lyY2xlTWFya2VyKAogICAgICAgICAgICAgICAgWzQzLjYyODk0NjcsIC03OS4zOTQ0MTk5XSwKICAgICAgICAgICAgICAgIHsiYnViYmxpbmdNb3VzZUV2ZW50cyI6IHRydWUsICJjb2xvciI6ICJibHVlIiwgImRhc2hBcnJheSI6IG51bGwsICJkYXNoT2Zmc2V0IjogbnVsbCwgImZpbGwiOiB0cnVlLCAiZmlsbENvbG9yIjogIiMzMTg2Y2MiLCAiZmlsbE9wYWNpdHkiOiAwLjcsICJmaWxsUnVsZSI6ICJldmVub2RkIiwgImxpbmVDYXAiOiAicm91bmQiLCAibGluZUpvaW4iOiAicm91bmQiLCAib3BhY2l0eSI6IDEuMCwgInJhZGl1cyI6IDUsICJzdHJva2UiOiB0cnVlLCAid2VpZ2h0IjogM30KICAgICAgICAgICAgKS5hZGRUbyhtYXBfYTY3Y2VlYWI0YWYzNDE2NDk3YjY2MDIyMThkNmQ1M2QpOwogICAgICAgIAogICAgCiAgICAgICAgdmFyIHBvcHVwXzhjM2ZhMzRmYTVlMzQ2NWZhYjM2ODNhMTVhZmE1Y2EwID0gTC5wb3B1cCh7Im1heFdpZHRoIjogIjEwMCUifSk7CgogICAgICAgIAogICAgICAgICAgICB2YXIgaHRtbF82ZjAzNjEyZTc0MDU0NTZiODY0Y2FkOGE3Zjg1NzJiNSA9ICQoYDxkaXYgaWQ9Imh0bWxfNmYwMzYxMmU3NDA1NDU2Yjg2NGNhZDhhN2Y4NTcyYjUiIHN0eWxlPSJ3aWR0aDogMTAwLjAlOyBoZWlnaHQ6IDEwMC4wJTsiPkNOIFRvd2VyLCBLaW5nIGFuZCBTcGFkaW5hLCBSYWlsd2F5IExhbmRzLCBIYXJib3VyZnJvbnQgV2VzdCwgQmF0aHVyc3QgUXVheSwgU291dGggTmlhZ2FyYSwgSXNsYW5kIGFpcnBvcnQsIERvd250b3duIFRvcm9udG88L2Rpdj5gKVswXTsKICAgICAgICAgICAgcG9wdXBfOGMzZmEzNGZhNWUzNDY1ZmFiMzY4M2ExNWFmYTVjYTAuc2V0Q29udGVudChodG1sXzZmMDM2MTJlNzQwNTQ1NmI4NjRjYWQ4YTdmODU3MmI1KTsKICAgICAgICAKCiAgICAgICAgY2lyY2xlX21hcmtlcl83MGYxYmM1MDllZjg0ZTYyYmFlODJlYTQzYTRhNDg3NS5iaW5kUG9wdXAocG9wdXBfOGMzZmEzNGZhNWUzNDY1ZmFiMzY4M2ExNWFmYTVjYTApCiAgICAgICAgOwoKICAgICAgICAKICAgIAogICAgCiAgICAgICAgICAgIHZhciBjaXJjbGVfbWFya2VyXzRiOTU3Y2U4NjgyNTQ4NjJiNzNlYjQ4NGJlYjEzN2VkID0gTC5jaXJjbGVNYXJrZXIoCiAgICAgICAgICAgICAgICBbNDMuNjA1NjQ2NiwgLTc5LjUwMTMyMDcwMDAwMDAxXSwKICAgICAgICAgICAgICAgIHsiYnViYmxpbmdNb3VzZUV2ZW50cyI6IHRydWUsICJjb2xvciI6ICJibHVlIiwgImRhc2hBcnJheSI6IG51bGwsICJkYXNoT2Zmc2V0IjogbnVsbCwgImZpbGwiOiB0cnVlLCAiZmlsbENvbG9yIjogIiMzMTg2Y2MiLCAiZmlsbE9wYWNpdHkiOiAwLjcsICJmaWxsUnVsZSI6ICJldmVub2RkIiwgImxpbmVDYXAiOiAicm91bmQiLCAibGluZUpvaW4iOiAicm91bmQiLCAib3BhY2l0eSI6IDEuMCwgInJhZGl1cyI6IDUsICJzdHJva2UiOiB0cnVlLCAid2VpZ2h0IjogM30KICAgICAgICAgICAgKS5hZGRUbyhtYXBfYTY3Y2VlYWI0YWYzNDE2NDk3YjY2MDIyMThkNmQ1M2QpOwogICAgICAgIAogICAgCiAgICAgICAgdmFyIHBvcHVwXzkzYjlmNWFiZmQ3OTQ3ZGFhY2JmM2YzNjFhOTRjODZlID0gTC5wb3B1cCh7Im1heFdpZHRoIjogIjEwMCUifSk7CgogICAgICAgIAogICAgICAgICAgICB2YXIgaHRtbF81NTljNWVmMDAxODY0M2YzYWRhMTBjODY1YTVlMzQ4YyA9ICQoYDxkaXYgaWQ9Imh0bWxfNTU5YzVlZjAwMTg2NDNmM2FkYTEwYzg2NWE1ZTM0OGMiIHN0eWxlPSJ3aWR0aDogMTAwLjAlOyBoZWlnaHQ6IDEwMC4wJTsiPk5ldyBUb3JvbnRvLCBNaW1pY28gU291dGgsIEh1bWJlciBCYXkgU2hvcmVzLCBFdG9iaWNva2U8L2Rpdj5gKVswXTsKICAgICAgICAgICAgcG9wdXBfOTNiOWY1YWJmZDc5NDdkYWFjYmYzZjM2MWE5NGM4NmUuc2V0Q29udGVudChodG1sXzU1OWM1ZWYwMDE4NjQzZjNhZGExMGM4NjVhNWUzNDhjKTsKICAgICAgICAKCiAgICAgICAgY2lyY2xlX21hcmtlcl80Yjk1N2NlODY4MjU0ODYyYjczZWI0ODRiZWIxMzdlZC5iaW5kUG9wdXAocG9wdXBfOTNiOWY1YWJmZDc5NDdkYWFjYmYzZjM2MWE5NGM4NmUpCiAgICAgICAgOwoKICAgICAgICAKICAgIAogICAgCiAgICAgICAgICAgIHZhciBjaXJjbGVfbWFya2VyXzY0MDE0YjhiMDI0NzQ1NDZiNzdiM2FlOWNmN2ViZjA1ID0gTC5jaXJjbGVNYXJrZXIoCiAgICAgICAgICAgICAgICBbNDMuNzM5NDE2Mzk5OTk5OTk2LCAtNzkuNTg4NDM2OV0sCiAgICAgICAgICAgICAgICB7ImJ1YmJsaW5nTW91c2VFdmVudHMiOiB0cnVlLCAiY29sb3IiOiAiYmx1ZSIsICJkYXNoQXJyYXkiOiBudWxsLCAiZGFzaE9mZnNldCI6IG51bGwsICJmaWxsIjogdHJ1ZSwgImZpbGxDb2xvciI6ICIjMzE4NmNjIiwgImZpbGxPcGFjaXR5IjogMC43LCAiZmlsbFJ1bGUiOiAiZXZlbm9kZCIsICJsaW5lQ2FwIjogInJvdW5kIiwgImxpbmVKb2luIjogInJvdW5kIiwgIm9wYWNpdHkiOiAxLjAsICJyYWRpdXMiOiA1LCAic3Ryb2tlIjogdHJ1ZSwgIndlaWdodCI6IDN9CiAgICAgICAgICAgICkuYWRkVG8obWFwX2E2N2NlZWFiNGFmMzQxNjQ5N2I2NjAyMjE4ZDZkNTNkKTsKICAgICAgICAKICAgIAogICAgICAgIHZhciBwb3B1cF9iZDk4Nzg1YzQ2ODI0ZDU5YjAyNDkyMWMyMDRlYmIyOSA9IEwucG9wdXAoeyJtYXhXaWR0aCI6ICIxMDAlIn0pOwoKICAgICAgICAKICAgICAgICAgICAgdmFyIGh0bWxfMjc5NjhlMjA1OTZhNDJmYjk2ZDQxN2Y5YjZkNDQxYjQgPSAkKGA8ZGl2IGlkPSJodG1sXzI3OTY4ZTIwNTk2YTQyZmI5NmQ0MTdmOWI2ZDQ0MWI0IiBzdHlsZT0id2lkdGg6IDEwMC4wJTsgaGVpZ2h0OiAxMDAuMCU7Ij5Tb3V0aCBTdGVlbGVzLCBTaWx2ZXJzdG9uZSwgSHVtYmVyZ2F0ZSwgSmFtZXN0b3duLCBNb3VudCBPbGl2ZSwgQmVhdW1vbmQgSGVpZ2h0cywgVGhpc3RsZXRvd24sIEFsYmlvbiBHYXJkZW5zLCBFdG9iaWNva2U8L2Rpdj5gKVswXTsKICAgICAgICAgICAgcG9wdXBfYmQ5ODc4NWM0NjgyNGQ1OWIwMjQ5MjFjMjA0ZWJiMjkuc2V0Q29udGVudChodG1sXzI3OTY4ZTIwNTk2YTQyZmI5NmQ0MTdmOWI2ZDQ0MWI0KTsKICAgICAgICAKCiAgICAgICAgY2lyY2xlX21hcmtlcl82NDAxNGI4YjAyNDc0NTQ2Yjc3YjNhZTljZjdlYmYwNS5iaW5kUG9wdXAocG9wdXBfYmQ5ODc4NWM0NjgyNGQ1OWIwMjQ5MjFjMjA0ZWJiMjkpCiAgICAgICAgOwoKICAgICAgICAKICAgIAogICAgCiAgICAgICAgICAgIHZhciBjaXJjbGVfbWFya2VyXzYwMDc2YjdkMmU2YTQxYmY5OGIwZDEwN2IyNTI5ZTQ4ID0gTC5jaXJjbGVNYXJrZXIoCiAgICAgICAgICAgICAgICBbNDMuNzk5NTI1MjAwMDAwMDA1LCAtNzkuMzE4Mzg4N10sCiAgICAgICAgICAgICAgICB7ImJ1YmJsaW5nTW91c2VFdmVudHMiOiB0cnVlLCAiY29sb3IiOiAiYmx1ZSIsICJkYXNoQXJyYXkiOiBudWxsLCAiZGFzaE9mZnNldCI6IG51bGwsICJmaWxsIjogdHJ1ZSwgImZpbGxDb2xvciI6ICIjMzE4NmNjIiwgImZpbGxPcGFjaXR5IjogMC43LCAiZmlsbFJ1bGUiOiAiZXZlbm9kZCIsICJsaW5lQ2FwIjogInJvdW5kIiwgImxpbmVKb2luIjogInJvdW5kIiwgIm9wYWNpdHkiOiAxLjAsICJyYWRpdXMiOiA1LCAic3Ryb2tlIjogdHJ1ZSwgIndlaWdodCI6IDN9CiAgICAgICAgICAgICkuYWRkVG8obWFwX2E2N2NlZWFiNGFmMzQxNjQ5N2I2NjAyMjE4ZDZkNTNkKTsKICAgICAgICAKICAgIAogICAgICAgIHZhciBwb3B1cF8zZTgzZThhZjcxOTE0ZDFkOTRkMzY0NTEwNTk5NTRlMyA9IEwucG9wdXAoeyJtYXhXaWR0aCI6ICIxMDAlIn0pOwoKICAgICAgICAKICAgICAgICAgICAgdmFyIGh0bWxfYjc1Zjc5ZGI4NWQ0NDdjOGIyMTM1ZjMzZDJhYTllMWQgPSAkKGA8ZGl2IGlkPSJodG1sX2I3NWY3OWRiODVkNDQ3YzhiMjEzNWYzM2QyYWE5ZTFkIiBzdHlsZT0id2lkdGg6IDEwMC4wJTsgaGVpZ2h0OiAxMDAuMCU7Ij5TdGVlbGVzIFdlc3QsIEwmIzM5O0Ftb3JlYXV4IFdlc3QsIFNjYXJib3JvdWdoPC9kaXY+YClbMF07CiAgICAgICAgICAgIHBvcHVwXzNlODNlOGFmNzE5MTRkMWQ5NGQzNjQ1MTA1OTk1NGUzLnNldENvbnRlbnQoaHRtbF9iNzVmNzlkYjg1ZDQ0N2M4YjIxMzVmMzNkMmFhOWUxZCk7CiAgICAgICAgCgogICAgICAgIGNpcmNsZV9tYXJrZXJfNjAwNzZiN2QyZTZhNDFiZjk4YjBkMTA3YjI1MjllNDguYmluZFBvcHVwKHBvcHVwXzNlODNlOGFmNzE5MTRkMWQ5NGQzNjQ1MTA1OTk1NGUzKQogICAgICAgIDsKCiAgICAgICAgCiAgICAKICAgIAogICAgICAgICAgICB2YXIgY2lyY2xlX21hcmtlcl80OTZhYjhmMGMwNmI0OTk3YjdlZmFmODM0ODk4MWUyNCA9IEwuY2lyY2xlTWFya2VyKAogICAgICAgICAgICAgICAgWzQzLjY3OTU2MjYsIC03OS4zNzc1Mjk0MDAwMDAwMV0sCiAgICAgICAgICAgICAgICB7ImJ1YmJsaW5nTW91c2VFdmVudHMiOiB0cnVlLCAiY29sb3IiOiAiYmx1ZSIsICJkYXNoQXJyYXkiOiBudWxsLCAiZGFzaE9mZnNldCI6IG51bGwsICJmaWxsIjogdHJ1ZSwgImZpbGxDb2xvciI6ICIjMzE4NmNjIiwgImZpbGxPcGFjaXR5IjogMC43LCAiZmlsbFJ1bGUiOiAiZXZlbm9kZCIsICJsaW5lQ2FwIjogInJvdW5kIiwgImxpbmVKb2luIjogInJvdW5kIiwgIm9wYWNpdHkiOiAxLjAsICJyYWRpdXMiOiA1LCAic3Ryb2tlIjogdHJ1ZSwgIndlaWdodCI6IDN9CiAgICAgICAgICAgICkuYWRkVG8obWFwX2E2N2NlZWFiNGFmMzQxNjQ5N2I2NjAyMjE4ZDZkNTNkKTsKICAgICAgICAKICAgIAogICAgICAgIHZhciBwb3B1cF8yMGUyM2I2YTVkZDk0M2M4YWFkNTUzNGU3ZGFjNTE5YyA9IEwucG9wdXAoeyJtYXhXaWR0aCI6ICIxMDAlIn0pOwoKICAgICAgICAKICAgICAgICAgICAgdmFyIGh0bWxfZGIxMGZhMDVjZWQ4NDg4NGFjZTYyNTg5ZmUxYTg1ZDEgPSAkKGA8ZGl2IGlkPSJodG1sX2RiMTBmYTA1Y2VkODQ4ODRhY2U2MjU4OWZlMWE4NWQxIiBzdHlsZT0id2lkdGg6IDEwMC4wJTsgaGVpZ2h0OiAxMDAuMCU7Ij5Sb3NlZGFsZSwgRG93bnRvd24gVG9yb250bzwvZGl2PmApWzBdOwogICAgICAgICAgICBwb3B1cF8yMGUyM2I2YTVkZDk0M2M4YWFkNTUzNGU3ZGFjNTE5Yy5zZXRDb250ZW50KGh0bWxfZGIxMGZhMDVjZWQ4NDg4NGFjZTYyNTg5ZmUxYTg1ZDEpOwogICAgICAgIAoKICAgICAgICBjaXJjbGVfbWFya2VyXzQ5NmFiOGYwYzA2YjQ5OTdiN2VmYWY4MzQ4OTgxZTI0LmJpbmRQb3B1cChwb3B1cF8yMGUyM2I2YTVkZDk0M2M4YWFkNTUzNGU3ZGFjNTE5YykKICAgICAgICA7CgogICAgICAgIAogICAgCiAgICAKICAgICAgICAgICAgdmFyIGNpcmNsZV9tYXJrZXJfZWIzNWRkZmExZjc5NGRkNDgxNjJiM2Q2NGIwZjZiOTkgPSBMLmNpcmNsZU1hcmtlcigKICAgICAgICAgICAgICAgIFs0My42NDY0MzUyLCAtNzkuMzc0ODQ1OTk5OTk5OTldLAogICAgICAgICAgICAgICAgeyJidWJibGluZ01vdXNlRXZlbnRzIjogdHJ1ZSwgImNvbG9yIjogImJsdWUiLCAiZGFzaEFycmF5IjogbnVsbCwgImRhc2hPZmZzZXQiOiBudWxsLCAiZmlsbCI6IHRydWUsICJmaWxsQ29sb3IiOiAiIzMxODZjYyIsICJmaWxsT3BhY2l0eSI6IDAuNywgImZpbGxSdWxlIjogImV2ZW5vZGQiLCAibGluZUNhcCI6ICJyb3VuZCIsICJsaW5lSm9pbiI6ICJyb3VuZCIsICJvcGFjaXR5IjogMS4wLCAicmFkaXVzIjogNSwgInN0cm9rZSI6IHRydWUsICJ3ZWlnaHQiOiAzfQogICAgICAgICAgICApLmFkZFRvKG1hcF9hNjdjZWVhYjRhZjM0MTY0OTdiNjYwMjIxOGQ2ZDUzZCk7CiAgICAgICAgCiAgICAKICAgICAgICB2YXIgcG9wdXBfOGIyMzRiNmRmYTc0NDNlOWI3MTgwZDQ0YWM5YTg4OGIgPSBMLnBvcHVwKHsibWF4V2lkdGgiOiAiMTAwJSJ9KTsKCiAgICAgICAgCiAgICAgICAgICAgIHZhciBodG1sXzljZjVkZTRkMTVmNDRmYTdiM2MzMTM3Mjc1ZmFhNTFmID0gJChgPGRpdiBpZD0iaHRtbF85Y2Y1ZGU0ZDE1ZjQ0ZmE3YjNjMzEzNzI3NWZhYTUxZiIgc3R5bGU9IndpZHRoOiAxMDAuMCU7IGhlaWdodDogMTAwLjAlOyI+U3RuIEEgUE8gQm94ZXMsIERvd250b3duIFRvcm9udG88L2Rpdj5gKVswXTsKICAgICAgICAgICAgcG9wdXBfOGIyMzRiNmRmYTc0NDNlOWI3MTgwZDQ0YWM5YTg4OGIuc2V0Q29udGVudChodG1sXzljZjVkZTRkMTVmNDRmYTdiM2MzMTM3Mjc1ZmFhNTFmKTsKICAgICAgICAKCiAgICAgICAgY2lyY2xlX21hcmtlcl9lYjM1ZGRmYTFmNzk0ZGQ0ODE2MmIzZDY0YjBmNmI5OS5iaW5kUG9wdXAocG9wdXBfOGIyMzRiNmRmYTc0NDNlOWI3MTgwZDQ0YWM5YTg4OGIpCiAgICAgICAgOwoKICAgICAgICAKICAgIAogICAgCiAgICAgICAgICAgIHZhciBjaXJjbGVfbWFya2VyXzMzMDg1MDFjNGNlNTQ1MWJiOWJhMTkwNTIxN2I0ZTFmID0gTC5jaXJjbGVNYXJrZXIoCiAgICAgICAgICAgICAgICBbNDMuNjAyNDEzNzAwMDAwMDEsIC03OS41NDM0ODQwOTk5OTk5OV0sCiAgICAgICAgICAgICAgICB7ImJ1YmJsaW5nTW91c2VFdmVudHMiOiB0cnVlLCAiY29sb3IiOiAiYmx1ZSIsICJkYXNoQXJyYXkiOiBudWxsLCAiZGFzaE9mZnNldCI6IG51bGwsICJmaWxsIjogdHJ1ZSwgImZpbGxDb2xvciI6ICIjMzE4NmNjIiwgImZpbGxPcGFjaXR5IjogMC43LCAiZmlsbFJ1bGUiOiAiZXZlbm9kZCIsICJsaW5lQ2FwIjogInJvdW5kIiwgImxpbmVKb2luIjogInJvdW5kIiwgIm9wYWNpdHkiOiAxLjAsICJyYWRpdXMiOiA1LCAic3Ryb2tlIjogdHJ1ZSwgIndlaWdodCI6IDN9CiAgICAgICAgICAgICkuYWRkVG8obWFwX2E2N2NlZWFiNGFmMzQxNjQ5N2I2NjAyMjE4ZDZkNTNkKTsKICAgICAgICAKICAgIAogICAgICAgIHZhciBwb3B1cF9jZTg3ZGVlNjNiOGU0ZTVkODVhOTkzNTlhZGEyNjE1OCA9IEwucG9wdXAoeyJtYXhXaWR0aCI6ICIxMDAlIn0pOwoKICAgICAgICAKICAgICAgICAgICAgdmFyIGh0bWxfODk2YzBmYTFjMzdhNDg0MGI2ZWNmMzA4MmNhYjJhMDUgPSAkKGA8ZGl2IGlkPSJodG1sXzg5NmMwZmExYzM3YTQ4NDBiNmVjZjMwODJjYWIyYTA1IiBzdHlsZT0id2lkdGg6IDEwMC4wJTsgaGVpZ2h0OiAxMDAuMCU7Ij5BbGRlcndvb2QsIExvbmcgQnJhbmNoLCBFdG9iaWNva2U8L2Rpdj5gKVswXTsKICAgICAgICAgICAgcG9wdXBfY2U4N2RlZTYzYjhlNGU1ZDg1YTk5MzU5YWRhMjYxNTguc2V0Q29udGVudChodG1sXzg5NmMwZmExYzM3YTQ4NDBiNmVjZjMwODJjYWIyYTA1KTsKICAgICAgICAKCiAgICAgICAgY2lyY2xlX21hcmtlcl8zMzA4NTAxYzRjZTU0NTFiYjliYTE5MDUyMTdiNGUxZi5iaW5kUG9wdXAocG9wdXBfY2U4N2RlZTYzYjhlNGU1ZDg1YTk5MzU5YWRhMjYxNTgpCiAgICAgICAgOwoKICAgICAgICAKICAgIAogICAgCiAgICAgICAgICAgIHZhciBjaXJjbGVfbWFya2VyX2U3MDBmZGVjMmU5YTRkOTRiNDViM2YzMDQ4ZjI4ZmI4ID0gTC5jaXJjbGVNYXJrZXIoCiAgICAgICAgICAgICAgICBbNDMuNzA2NzQ4Mjk5OTk5OTk0LCAtNzkuNTk0MDU0NF0sCiAgICAgICAgICAgICAgICB7ImJ1YmJsaW5nTW91c2VFdmVudHMiOiB0cnVlLCAiY29sb3IiOiAiYmx1ZSIsICJkYXNoQXJyYXkiOiBudWxsLCAiZGFzaE9mZnNldCI6IG51bGwsICJmaWxsIjogdHJ1ZSwgImZpbGxDb2xvciI6ICIjMzE4NmNjIiwgImZpbGxPcGFjaXR5IjogMC43LCAiZmlsbFJ1bGUiOiAiZXZlbm9kZCIsICJsaW5lQ2FwIjogInJvdW5kIiwgImxpbmVKb2luIjogInJvdW5kIiwgIm9wYWNpdHkiOiAxLjAsICJyYWRpdXMiOiA1LCAic3Ryb2tlIjogdHJ1ZSwgIndlaWdodCI6IDN9CiAgICAgICAgICAgICkuYWRkVG8obWFwX2E2N2NlZWFiNGFmMzQxNjQ5N2I2NjAyMjE4ZDZkNTNkKTsKICAgICAgICAKICAgIAogICAgICAgIHZhciBwb3B1cF85ZjEzYTQ3OTkzMTk0M2RlYWU4NzQzM2FiNGMyZDM2NyA9IEwucG9wdXAoeyJtYXhXaWR0aCI6ICIxMDAlIn0pOwoKICAgICAgICAKICAgICAgICAgICAgdmFyIGh0bWxfZTZmMjhiZjcwYTkxNDhjNjk5ZmJkNGZiMWExMDdlNjkgPSAkKGA8ZGl2IGlkPSJodG1sX2U2ZjI4YmY3MGE5MTQ4YzY5OWZiZDRmYjFhMTA3ZTY5IiBzdHlsZT0id2lkdGg6IDEwMC4wJTsgaGVpZ2h0OiAxMDAuMCU7Ij5Ob3J0aHdlc3QsIEV0b2JpY29rZTwvZGl2PmApWzBdOwogICAgICAgICAgICBwb3B1cF85ZjEzYTQ3OTkzMTk0M2RlYWU4NzQzM2FiNGMyZDM2Ny5zZXRDb250ZW50KGh0bWxfZTZmMjhiZjcwYTkxNDhjNjk5ZmJkNGZiMWExMDdlNjkpOwogICAgICAgIAoKICAgICAgICBjaXJjbGVfbWFya2VyX2U3MDBmZGVjMmU5YTRkOTRiNDViM2YzMDQ4ZjI4ZmI4LmJpbmRQb3B1cChwb3B1cF85ZjEzYTQ3OTkzMTk0M2RlYWU4NzQzM2FiNGMyZDM2NykKICAgICAgICA7CgogICAgICAgIAogICAgCiAgICAKICAgICAgICAgICAgdmFyIGNpcmNsZV9tYXJrZXJfMmY4ZDRmODhkNWY5NDVkZGFkYTM2MzI2N2UxNGRjZmEgPSBMLmNpcmNsZU1hcmtlcigKICAgICAgICAgICAgICAgIFs0My44MzYxMjQ3MDAwMDAwMDYsIC03OS4yMDU2MzYwOTk5OTk5OV0sCiAgICAgICAgICAgICAgICB7ImJ1YmJsaW5nTW91c2VFdmVudHMiOiB0cnVlLCAiY29sb3IiOiAiYmx1ZSIsICJkYXNoQXJyYXkiOiBudWxsLCAiZGFzaE9mZnNldCI6IG51bGwsICJmaWxsIjogdHJ1ZSwgImZpbGxDb2xvciI6ICIjMzE4NmNjIiwgImZpbGxPcGFjaXR5IjogMC43LCAiZmlsbFJ1bGUiOiAiZXZlbm9kZCIsICJsaW5lQ2FwIjogInJvdW5kIiwgImxpbmVKb2luIjogInJvdW5kIiwgIm9wYWNpdHkiOiAxLjAsICJyYWRpdXMiOiA1LCAic3Ryb2tlIjogdHJ1ZSwgIndlaWdodCI6IDN9CiAgICAgICAgICAgICkuYWRkVG8obWFwX2E2N2NlZWFiNGFmMzQxNjQ5N2I2NjAyMjE4ZDZkNTNkKTsKICAgICAgICAKICAgIAogICAgICAgIHZhciBwb3B1cF8wYzJlMjE1MzlkZTI0Zjc3OGE3YTk0ZWFlMzNmODdiMCA9IEwucG9wdXAoeyJtYXhXaWR0aCI6ICIxMDAlIn0pOwoKICAgICAgICAKICAgICAgICAgICAgdmFyIGh0bWxfOGQ0YzBlOWU1NDgwNDVlYWE0ODhjZjI2MWFjMTVmNDIgPSAkKGA8ZGl2IGlkPSJodG1sXzhkNGMwZTllNTQ4MDQ1ZWFhNDg4Y2YyNjFhYzE1ZjQyIiBzdHlsZT0id2lkdGg6IDEwMC4wJTsgaGVpZ2h0OiAxMDAuMCU7Ij5VcHBlciBSb3VnZSwgU2NhcmJvcm91Z2g8L2Rpdj5gKVswXTsKICAgICAgICAgICAgcG9wdXBfMGMyZTIxNTM5ZGUyNGY3NzhhN2E5NGVhZTMzZjg3YjAuc2V0Q29udGVudChodG1sXzhkNGMwZTllNTQ4MDQ1ZWFhNDg4Y2YyNjFhYzE1ZjQyKTsKICAgICAgICAKCiAgICAgICAgY2lyY2xlX21hcmtlcl8yZjhkNGY4OGQ1Zjk0NWRkYWRhMzYzMjY3ZTE0ZGNmYS5iaW5kUG9wdXAocG9wdXBfMGMyZTIxNTM5ZGUyNGY3NzhhN2E5NGVhZTMzZjg3YjApCiAgICAgICAgOwoKICAgICAgICAKICAgIAogICAgCiAgICAgICAgICAgIHZhciBjaXJjbGVfbWFya2VyXzgxYWVlYzc3ZjBlODRjOGM4ZjIzMTk4YjA5YzBlMjk4ID0gTC5jaXJjbGVNYXJrZXIoCiAgICAgICAgICAgICAgICBbNDMuNjY3OTY3LCAtNzkuMzY3Njc1M10sCiAgICAgICAgICAgICAgICB7ImJ1YmJsaW5nTW91c2VFdmVudHMiOiB0cnVlLCAiY29sb3IiOiAiYmx1ZSIsICJkYXNoQXJyYXkiOiBudWxsLCAiZGFzaE9mZnNldCI6IG51bGwsICJmaWxsIjogdHJ1ZSwgImZpbGxDb2xvciI6ICIjMzE4NmNjIiwgImZpbGxPcGFjaXR5IjogMC43LCAiZmlsbFJ1bGUiOiAiZXZlbm9kZCIsICJsaW5lQ2FwIjogInJvdW5kIiwgImxpbmVKb2luIjogInJvdW5kIiwgIm9wYWNpdHkiOiAxLjAsICJyYWRpdXMiOiA1LCAic3Ryb2tlIjogdHJ1ZSwgIndlaWdodCI6IDN9CiAgICAgICAgICAgICkuYWRkVG8obWFwX2E2N2NlZWFiNGFmMzQxNjQ5N2I2NjAyMjE4ZDZkNTNkKTsKICAgICAgICAKICAgIAogICAgICAgIHZhciBwb3B1cF9kMjU3N2U5MzhlZmY0YzRhYTBjYjI3ZDk3NDk4YjM0NiA9IEwucG9wdXAoeyJtYXhXaWR0aCI6ICIxMDAlIn0pOwoKICAgICAgICAKICAgICAgICAgICAgdmFyIGh0bWxfMzhkNDBjZTMyOTJiNGJiMGJmZThjMDg3YTk5OWQ0MDkgPSAkKGA8ZGl2IGlkPSJodG1sXzM4ZDQwY2UzMjkyYjRiYjBiZmU4YzA4N2E5OTlkNDA5IiBzdHlsZT0id2lkdGg6IDEwMC4wJTsgaGVpZ2h0OiAxMDAuMCU7Ij5TdC4gSmFtZXMgVG93biwgQ2FiYmFnZXRvd24sIERvd250b3duIFRvcm9udG88L2Rpdj5gKVswXTsKICAgICAgICAgICAgcG9wdXBfZDI1NzdlOTM4ZWZmNGM0YWEwY2IyN2Q5NzQ5OGIzNDYuc2V0Q29udGVudChodG1sXzM4ZDQwY2UzMjkyYjRiYjBiZmU4YzA4N2E5OTlkNDA5KTsKICAgICAgICAKCiAgICAgICAgY2lyY2xlX21hcmtlcl84MWFlZWM3N2YwZTg0YzhjOGYyMzE5OGIwOWMwZTI5OC5iaW5kUG9wdXAocG9wdXBfZDI1NzdlOTM4ZWZmNGM0YWEwY2IyN2Q5NzQ5OGIzNDYpCiAgICAgICAgOwoKICAgICAgICAKICAgIAogICAgCiAgICAgICAgICAgIHZhciBjaXJjbGVfbWFya2VyXzUyYjBlOTZiODI5ZjQ0Mjk4NmVlZjhmNTcwZWUwNzU4ID0gTC5jaXJjbGVNYXJrZXIoCiAgICAgICAgICAgICAgICBbNDMuNjQ4NDI5MiwgLTc5LjM4MjI4MDJdLAogICAgICAgICAgICAgICAgeyJidWJibGluZ01vdXNlRXZlbnRzIjogdHJ1ZSwgImNvbG9yIjogImJsdWUiLCAiZGFzaEFycmF5IjogbnVsbCwgImRhc2hPZmZzZXQiOiBudWxsLCAiZmlsbCI6IHRydWUsICJmaWxsQ29sb3IiOiAiIzMxODZjYyIsICJmaWxsT3BhY2l0eSI6IDAuNywgImZpbGxSdWxlIjogImV2ZW5vZGQiLCAibGluZUNhcCI6ICJyb3VuZCIsICJsaW5lSm9pbiI6ICJyb3VuZCIsICJvcGFjaXR5IjogMS4wLCAicmFkaXVzIjogNSwgInN0cm9rZSI6IHRydWUsICJ3ZWlnaHQiOiAzfQogICAgICAgICAgICApLmFkZFRvKG1hcF9hNjdjZWVhYjRhZjM0MTY0OTdiNjYwMjIxOGQ2ZDUzZCk7CiAgICAgICAgCiAgICAKICAgICAgICB2YXIgcG9wdXBfZDdlMzEwNjQ1YWU2NGRjZTgwZGRiODQ4MWIzZDkwZDEgPSBMLnBvcHVwKHsibWF4V2lkdGgiOiAiMTAwJSJ9KTsKCiAgICAgICAgCiAgICAgICAgICAgIHZhciBodG1sXzcxOGFiZjk1ZmNjMTRlMTVhMDczODI3ZTBlYmNjYjFiID0gJChgPGRpdiBpZD0iaHRtbF83MThhYmY5NWZjYzE0ZTE1YTA3MzgyN2UwZWJjY2IxYiIgc3R5bGU9IndpZHRoOiAxMDAuMCU7IGhlaWdodDogMTAwLjAlOyI+Rmlyc3QgQ2FuYWRpYW4gUGxhY2UsIFVuZGVyZ3JvdW5kIGNpdHksIERvd250b3duIFRvcm9udG88L2Rpdj5gKVswXTsKICAgICAgICAgICAgcG9wdXBfZDdlMzEwNjQ1YWU2NGRjZTgwZGRiODQ4MWIzZDkwZDEuc2V0Q29udGVudChodG1sXzcxOGFiZjk1ZmNjMTRlMTVhMDczODI3ZTBlYmNjYjFiKTsKICAgICAgICAKCiAgICAgICAgY2lyY2xlX21hcmtlcl81MmIwZTk2YjgyOWY0NDI5ODZlZWY4ZjU3MGVlMDc1OC5iaW5kUG9wdXAocG9wdXBfZDdlMzEwNjQ1YWU2NGRjZTgwZGRiODQ4MWIzZDkwZDEpCiAgICAgICAgOwoKICAgICAgICAKICAgIAogICAgCiAgICAgICAgICAgIHZhciBjaXJjbGVfbWFya2VyXzBkMjQ1ZGJlNzdlYzQwZDc5NGRhOGUxNTAzZGYyMWYyID0gTC5jaXJjbGVNYXJrZXIoCiAgICAgICAgICAgICAgICBbNDMuNjUzNjUzNjAwMDAwMDA1LCAtNzkuNTA2OTQzNl0sCiAgICAgICAgICAgICAgICB7ImJ1YmJsaW5nTW91c2VFdmVudHMiOiB0cnVlLCAiY29sb3IiOiAiYmx1ZSIsICJkYXNoQXJyYXkiOiBudWxsLCAiZGFzaE9mZnNldCI6IG51bGwsICJmaWxsIjogdHJ1ZSwgImZpbGxDb2xvciI6ICIjMzE4NmNjIiwgImZpbGxPcGFjaXR5IjogMC43LCAiZmlsbFJ1bGUiOiAiZXZlbm9kZCIsICJsaW5lQ2FwIjogInJvdW5kIiwgImxpbmVKb2luIjogInJvdW5kIiwgIm9wYWNpdHkiOiAxLjAsICJyYWRpdXMiOiA1LCAic3Ryb2tlIjogdHJ1ZSwgIndlaWdodCI6IDN9CiAgICAgICAgICAgICkuYWRkVG8obWFwX2E2N2NlZWFiNGFmMzQxNjQ5N2I2NjAyMjE4ZDZkNTNkKTsKICAgICAgICAKICAgIAogICAgICAgIHZhciBwb3B1cF80NmU0NzY0YmQyZDk0ZmRhOThhYTRiNjlhMWYyNmIyNiA9IEwucG9wdXAoeyJtYXhXaWR0aCI6ICIxMDAlIn0pOwoKICAgICAgICAKICAgICAgICAgICAgdmFyIGh0bWxfNDg2ZmNhZTFlODRmNDY0YTk4OTZiN2JmMGFlYTAxNTYgPSAkKGA8ZGl2IGlkPSJodG1sXzQ4NmZjYWUxZTg0ZjQ2NGE5ODk2YjdiZjBhZWEwMTU2IiBzdHlsZT0id2lkdGg6IDEwMC4wJTsgaGVpZ2h0OiAxMDAuMCU7Ij5UaGUgS2luZ3N3YXksIE1vbnRnb21lcnkgUm9hZCAsIE9sZCBNaWxsIE5vcnRoLCBFdG9iaWNva2U8L2Rpdj5gKVswXTsKICAgICAgICAgICAgcG9wdXBfNDZlNDc2NGJkMmQ5NGZkYTk4YWE0YjY5YTFmMjZiMjYuc2V0Q29udGVudChodG1sXzQ4NmZjYWUxZTg0ZjQ2NGE5ODk2YjdiZjBhZWEwMTU2KTsKICAgICAgICAKCiAgICAgICAgY2lyY2xlX21hcmtlcl8wZDI0NWRiZTc3ZWM0MGQ3OTRkYThlMTUwM2RmMjFmMi5iaW5kUG9wdXAocG9wdXBfNDZlNDc2NGJkMmQ5NGZkYTk4YWE0YjY5YTFmMjZiMjYpCiAgICAgICAgOwoKICAgICAgICAKICAgIAogICAgCiAgICAgICAgICAgIHZhciBjaXJjbGVfbWFya2VyX2FlZTIwNmYwZGFkZjQzY2U5YzQxMGVhMzUzNDJhMzEyID0gTC5jaXJjbGVNYXJrZXIoCiAgICAgICAgICAgICAgICBbNDMuNjY1ODU5OSwgLTc5LjM4MzE1OTkwMDAwMDAxXSwKICAgICAgICAgICAgICAgIHsiYnViYmxpbmdNb3VzZUV2ZW50cyI6IHRydWUsICJjb2xvciI6ICJibHVlIiwgImRhc2hBcnJheSI6IG51bGwsICJkYXNoT2Zmc2V0IjogbnVsbCwgImZpbGwiOiB0cnVlLCAiZmlsbENvbG9yIjogIiMzMTg2Y2MiLCAiZmlsbE9wYWNpdHkiOiAwLjcsICJmaWxsUnVsZSI6ICJldmVub2RkIiwgImxpbmVDYXAiOiAicm91bmQiLCAibGluZUpvaW4iOiAicm91bmQiLCAib3BhY2l0eSI6IDEuMCwgInJhZGl1cyI6IDUsICJzdHJva2UiOiB0cnVlLCAid2VpZ2h0IjogM30KICAgICAgICAgICAgKS5hZGRUbyhtYXBfYTY3Y2VlYWI0YWYzNDE2NDk3YjY2MDIyMThkNmQ1M2QpOwogICAgICAgIAogICAgCiAgICAgICAgdmFyIHBvcHVwXzBlNmM5MGUyODA4YjQ3Y2VhMjExOGYyNzI5ZTEwNzcxID0gTC5wb3B1cCh7Im1heFdpZHRoIjogIjEwMCUifSk7CgogICAgICAgIAogICAgICAgICAgICB2YXIgaHRtbF84Y2IwZDAwZmJkZjg0OWI5OThiNTZiNGZlZjMyYTQ3NiA9ICQoYDxkaXYgaWQ9Imh0bWxfOGNiMGQwMGZiZGY4NDliOTk4YjU2YjRmZWYzMmE0NzYiIHN0eWxlPSJ3aWR0aDogMTAwLjAlOyBoZWlnaHQ6IDEwMC4wJTsiPkNodXJjaCBhbmQgV2VsbGVzbGV5LCBEb3dudG93biBUb3JvbnRvPC9kaXY+YClbMF07CiAgICAgICAgICAgIHBvcHVwXzBlNmM5MGUyODA4YjQ3Y2VhMjExOGYyNzI5ZTEwNzcxLnNldENvbnRlbnQoaHRtbF84Y2IwZDAwZmJkZjg0OWI5OThiNTZiNGZlZjMyYTQ3Nik7CiAgICAgICAgCgogICAgICAgIGNpcmNsZV9tYXJrZXJfYWVlMjA2ZjBkYWRmNDNjZTljNDEwZWEzNTM0MmEzMTIuYmluZFBvcHVwKHBvcHVwXzBlNmM5MGUyODA4YjQ3Y2VhMjExOGYyNzI5ZTEwNzcxKQogICAgICAgIDsKCiAgICAgICAgCiAgICAKICAgIAogICAgICAgICAgICB2YXIgY2lyY2xlX21hcmtlcl8zOWE4NWI1ZmYxNzE0MjU3ODE5MjNkNTAxM2FjOGY4MiA9IEwuY2lyY2xlTWFya2VyKAogICAgICAgICAgICAgICAgWzQzLjY2Mjc0MzksIC03OS4zMjE1NThdLAogICAgICAgICAgICAgICAgeyJidWJibGluZ01vdXNlRXZlbnRzIjogdHJ1ZSwgImNvbG9yIjogImJsdWUiLCAiZGFzaEFycmF5IjogbnVsbCwgImRhc2hPZmZzZXQiOiBudWxsLCAiZmlsbCI6IHRydWUsICJmaWxsQ29sb3IiOiAiIzMxODZjYyIsICJmaWxsT3BhY2l0eSI6IDAuNywgImZpbGxSdWxlIjogImV2ZW5vZGQiLCAibGluZUNhcCI6ICJyb3VuZCIsICJsaW5lSm9pbiI6ICJyb3VuZCIsICJvcGFjaXR5IjogMS4wLCAicmFkaXVzIjogNSwgInN0cm9rZSI6IHRydWUsICJ3ZWlnaHQiOiAzfQogICAgICAgICAgICApLmFkZFRvKG1hcF9hNjdjZWVhYjRhZjM0MTY0OTdiNjYwMjIxOGQ2ZDUzZCk7CiAgICAgICAgCiAgICAKICAgICAgICB2YXIgcG9wdXBfODgzN2VkZGQ1YmZkNDZhYzhiNTVlZDM3MjRlZTVlYmUgPSBMLnBvcHVwKHsibWF4V2lkdGgiOiAiMTAwJSJ9KTsKCiAgICAgICAgCiAgICAgICAgICAgIHZhciBodG1sXzY4ZDFlYmEwNzM0NTQ2OTBiMzMxMDM0ZjU1M2QzZDNhID0gJChgPGRpdiBpZD0iaHRtbF82OGQxZWJhMDczNDU0NjkwYjMzMTAzNGY1NTNkM2QzYSIgc3R5bGU9IndpZHRoOiAxMDAuMCU7IGhlaWdodDogMTAwLjAlOyI+QnVzaW5lc3MgcmVwbHkgbWFpbCBQcm9jZXNzaW5nIENlbnRyZSwgRWFzdCBUb3JvbnRvPC9kaXY+YClbMF07CiAgICAgICAgICAgIHBvcHVwXzg4MzdlZGRkNWJmZDQ2YWM4YjU1ZWQzNzI0ZWU1ZWJlLnNldENvbnRlbnQoaHRtbF82OGQxZWJhMDczNDU0NjkwYjMzMTAzNGY1NTNkM2QzYSk7CiAgICAgICAgCgogICAgICAgIGNpcmNsZV9tYXJrZXJfMzlhODViNWZmMTcxNDI1NzgxOTIzZDUwMTNhYzhmODIuYmluZFBvcHVwKHBvcHVwXzg4MzdlZGRkNWJmZDQ2YWM4YjU1ZWQzNzI0ZWU1ZWJlKQogICAgICAgIDsKCiAgICAgICAgCiAgICAKICAgIAogICAgICAgICAgICB2YXIgY2lyY2xlX21hcmtlcl81YWRiN2Q5MGZhNzk0Mzg5YjQ2ZWRjYmQxMmMxMTAwNyA9IEwuY2lyY2xlTWFya2VyKAogICAgICAgICAgICAgICAgWzQzLjYzNjI1NzksIC03OS40OTg1MDkwOTk5OTk5OV0sCiAgICAgICAgICAgICAgICB7ImJ1YmJsaW5nTW91c2VFdmVudHMiOiB0cnVlLCAiY29sb3IiOiAiYmx1ZSIsICJkYXNoQXJyYXkiOiBudWxsLCAiZGFzaE9mZnNldCI6IG51bGwsICJmaWxsIjogdHJ1ZSwgImZpbGxDb2xvciI6ICIjMzE4NmNjIiwgImZpbGxPcGFjaXR5IjogMC43LCAiZmlsbFJ1bGUiOiAiZXZlbm9kZCIsICJsaW5lQ2FwIjogInJvdW5kIiwgImxpbmVKb2luIjogInJvdW5kIiwgIm9wYWNpdHkiOiAxLjAsICJyYWRpdXMiOiA1LCAic3Ryb2tlIjogdHJ1ZSwgIndlaWdodCI6IDN9CiAgICAgICAgICAgICkuYWRkVG8obWFwX2E2N2NlZWFiNGFmMzQxNjQ5N2I2NjAyMjE4ZDZkNTNkKTsKICAgICAgICAKICAgIAogICAgICAgIHZhciBwb3B1cF8yNGJkMzIxOTJjMDU0YTI5YmZhMGFiNzk2ZGUwMjY4YSA9IEwucG9wdXAoeyJtYXhXaWR0aCI6ICIxMDAlIn0pOwoKICAgICAgICAKICAgICAgICAgICAgdmFyIGh0bWxfNTE0MDhjODYyYmEyNDM4MWJkNTA0ZTE1ZWRhYzBiODYgPSAkKGA8ZGl2IGlkPSJodG1sXzUxNDA4Yzg2MmJhMjQzODFiZDUwNGUxNWVkYWMwYjg2IiBzdHlsZT0id2lkdGg6IDEwMC4wJTsgaGVpZ2h0OiAxMDAuMCU7Ij5PbGQgTWlsbCBTb3V0aCwgS2luZyYjMzk7cyBNaWxsIFBhcmssIFN1bm55bGVhLCBIdW1iZXIgQmF5LCBNaW1pY28gTkUsIFRoZSBRdWVlbnN3YXkgRWFzdCwgUm95YWwgWW9yayBTb3V0aCBFYXN0LCBLaW5nc3dheSBQYXJrIFNvdXRoIEVhc3QsIEV0b2JpY29rZTwvZGl2PmApWzBdOwogICAgICAgICAgICBwb3B1cF8yNGJkMzIxOTJjMDU0YTI5YmZhMGFiNzk2ZGUwMjY4YS5zZXRDb250ZW50KGh0bWxfNTE0MDhjODYyYmEyNDM4MWJkNTA0ZTE1ZWRhYzBiODYpOwogICAgICAgIAoKICAgICAgICBjaXJjbGVfbWFya2VyXzVhZGI3ZDkwZmE3OTQzODliNDZlZGNiZDEyYzExMDA3LmJpbmRQb3B1cChwb3B1cF8yNGJkMzIxOTJjMDU0YTI5YmZhMGFiNzk2ZGUwMjY4YSkKICAgICAgICA7CgogICAgICAgIAogICAgCiAgICAKICAgICAgICAgICAgdmFyIGNpcmNsZV9tYXJrZXJfMjllYzYwN2Q1MmFmNDg0MWFjODcwYjIzMjRjOGEzZTIgPSBMLmNpcmNsZU1hcmtlcigKICAgICAgICAgICAgICAgIFs0My42Mjg4NDA4LCAtNzkuNTIwOTk5NDAwMDAwMDFdLAogICAgICAgICAgICAgICAgeyJidWJibGluZ01vdXNlRXZlbnRzIjogdHJ1ZSwgImNvbG9yIjogImJsdWUiLCAiZGFzaEFycmF5IjogbnVsbCwgImRhc2hPZmZzZXQiOiBudWxsLCAiZmlsbCI6IHRydWUsICJmaWxsQ29sb3IiOiAiIzMxODZjYyIsICJmaWxsT3BhY2l0eSI6IDAuNywgImZpbGxSdWxlIjogImV2ZW5vZGQiLCAibGluZUNhcCI6ICJyb3VuZCIsICJsaW5lSm9pbiI6ICJyb3VuZCIsICJvcGFjaXR5IjogMS4wLCAicmFkaXVzIjogNSwgInN0cm9rZSI6IHRydWUsICJ3ZWlnaHQiOiAzfQogICAgICAgICAgICApLmFkZFRvKG1hcF9hNjdjZWVhYjRhZjM0MTY0OTdiNjYwMjIxOGQ2ZDUzZCk7CiAgICAgICAgCiAgICAKICAgICAgICB2YXIgcG9wdXBfMWEwY2E1MmVmMjBiNDA3Njk3MjhhNGUwNzMwMGIyMzggPSBMLnBvcHVwKHsibWF4V2lkdGgiOiAiMTAwJSJ9KTsKCiAgICAgICAgCiAgICAgICAgICAgIHZhciBodG1sXzc2YzQ4YWNhNzUxMjRiMzliNzM4MjliNjA5ZDBlM2RiID0gJChgPGRpdiBpZD0iaHRtbF83NmM0OGFjYTc1MTI0YjM5YjczODI5YjYwOWQwZTNkYiIgc3R5bGU9IndpZHRoOiAxMDAuMCU7IGhlaWdodDogMTAwLjAlOyI+TWltaWNvIE5XLCBUaGUgUXVlZW5zd2F5IFdlc3QsIFNvdXRoIG9mIEJsb29yLCBLaW5nc3dheSBQYXJrIFNvdXRoIFdlc3QsIFJveWFsIFlvcmsgU291dGggV2VzdCwgRXRvYmljb2tlPC9kaXY+YClbMF07CiAgICAgICAgICAgIHBvcHVwXzFhMGNhNTJlZjIwYjQwNzY5NzI4YTRlMDczMDBiMjM4LnNldENvbnRlbnQoaHRtbF83NmM0OGFjYTc1MTI0YjM5YjczODI5YjYwOWQwZTNkYik7CiAgICAgICAgCgogICAgICAgIGNpcmNsZV9tYXJrZXJfMjllYzYwN2Q1MmFmNDg0MWFjODcwYjIzMjRjOGEzZTIuYmluZFBvcHVwKHBvcHVwXzFhMGNhNTJlZjIwYjQwNzY5NzI4YTRlMDczMDBiMjM4KQogICAgICAgIDsKCiAgICAgICAgCiAgICAKPC9zY3JpcHQ+ onload=\"this.contentDocument.open();this.contentDocument.write(atob(this.getAttribute('data-html')));this.contentDocument.close();\" allowfullscreen webkitallowfullscreen mozallowfullscreen></iframe></div></div>"
      ],
      "text/plain": [
       "<folium.folium.Map at 0x7fd5c734cd90>"
      ]
     },
     "execution_count": 11,
     "metadata": {},
     "output_type": "execute_result"
    }
   ],
   "source": [
    "map_newyork = folium.Map(location=[latitude, longitude], zoom_start=10)\n",
    "\n",
    "\n",
    "for lat, lng, borough, neighborhood in zip(df['Latitude'], df['Longitude'], df['Borough'], df['Neighborhood']):\n",
    "    label = '{}, {}'.format(neighborhood, borough)\n",
    "    label = folium.Popup(label, parse_html=True)\n",
    "    folium.CircleMarker(\n",
    "        [lat, lng],\n",
    "        radius=5,\n",
    "        popup=label,\n",
    "        color='blue',\n",
    "        fill=True,\n",
    "        fill_color='#3186cc',\n",
    "        fill_opacity=0.7,\n",
    "        parse_html=False).add_to(map_newyork)  \n",
    "    \n",
    "map_newyork"
   ]
  },
  {
   "cell_type": "markdown",
   "metadata": {},
   "source": [
    "## Part 4: Analyse neigborhoods that contains the word \"Toronto\""
   ]
  },
  {
   "cell_type": "code",
   "execution_count": 12,
   "metadata": {},
   "outputs": [],
   "source": [
    "toronto_df = df[df['Borough'].str.contains('Toronto')]"
   ]
  },
  {
   "cell_type": "code",
   "execution_count": 13,
   "metadata": {},
   "outputs": [],
   "source": [
    "# function to get the categories from the foursquare API\n",
    "def get_category_type(row):\n",
    "    try:\n",
    "        categories_list = row['categories']\n",
    "    except:\n",
    "        categories_list = row['venue.categories']\n",
    "        \n",
    "    if len(categories_list) == 0:\n",
    "        return None\n",
    "    else:\n",
    "        return categories_list[0]['name']"
   ]
  },
  {
   "cell_type": "code",
   "execution_count": 14,
   "metadata": {},
   "outputs": [],
   "source": [
    "# Perform the API call to all the intended neighborhoods\n",
    "def getNearbyVenues(names, latitudes, longitudes, radius=500):\n",
    "    \n",
    "    venues_list=[]\n",
    "    for name, lat, lng in zip(names, latitudes, longitudes):\n",
    "        print(name)\n",
    "            \n",
    "        # create the API request URL\n",
    "        url = 'https://api.foursquare.com/v2/venues/explore?&client_id={}&client_secret={}&v={}&ll={},{}&radius={}&limit={}'.format(\n",
    "            '2WJYBEXZCP0XPBZDN443MXT0XJZQ03FJMZAZ3LII4OOX2XSU', \n",
    "            'GXLXEKCACANYBJ03RI0WP4MXSVB2SVZERS1W5EGJKN2RJWAB', \n",
    "            '20200504', \n",
    "            lat, \n",
    "            lng, \n",
    "            radius, \n",
    "            30)\n",
    "            \n",
    "        # make the GET request\n",
    "        results = requests.get(url).json()[\"response\"]['groups'][0]['items']\n",
    "        \n",
    "        # return only relevant information for each nearby venue\n",
    "        venues_list.append([(\n",
    "            name, \n",
    "            lat, \n",
    "            lng, \n",
    "            v['venue']['name'], \n",
    "            v['venue']['location']['lat'], \n",
    "            v['venue']['location']['lng'],  \n",
    "            v['venue']['categories'][0]['name']) for v in results])\n",
    "\n",
    "    nearby_venues = pd.DataFrame([item for venue_list in venues_list for item in venue_list])\n",
    "    nearby_venues.columns = ['Neighborhood', \n",
    "                  'Neighborhood Latitude', \n",
    "                  'Neighborhood Longitude', \n",
    "                  'Venue', \n",
    "                  'Venue Latitude', \n",
    "                  'Venue Longitude', \n",
    "                  'Venue Category']\n",
    "    \n",
    "    return(nearby_venues)"
   ]
  },
  {
   "cell_type": "code",
   "execution_count": 15,
   "metadata": {},
   "outputs": [
    {
     "name": "stdout",
     "output_type": "stream",
     "text": [
      "Regent Park, Harbourfront\n",
      "Queen's Park, Ontario Provincial Government\n",
      "Garden District, Ryerson\n",
      "St. James Town\n",
      "The Beaches\n",
      "Berczy Park\n",
      "Central Bay Street\n",
      "Christie\n",
      "Richmond, Adelaide, King\n",
      "Dufferin, Dovercourt Village\n",
      "Harbourfront East, Union Station, Toronto Islands\n",
      "Little Portugal, Trinity\n",
      "The Danforth West, Riverdale\n",
      "Toronto Dominion Centre, Design Exchange\n",
      "Brockton, Parkdale Village, Exhibition Place\n",
      "India Bazaar, The Beaches West\n",
      "Commerce Court, Victoria Hotel\n",
      "Studio District\n",
      "Lawrence Park\n",
      "Roselawn\n",
      "Davisville North\n",
      "Forest Hill North & West\n",
      "High Park, The Junction South\n",
      "North Toronto West\n",
      "The Annex, North Midtown, Yorkville\n",
      "Parkdale, Roncesvalles\n",
      "Davisville\n",
      "University of Toronto, Harbord\n",
      "Runnymede, Swansea\n",
      "Moore Park, Summerhill East\n",
      "Kensington Market, Chinatown, Grange Park\n",
      "Summerhill West, Rathnelly, South Hill, Forest Hill SE, Deer Park\n",
      "CN Tower, King and Spadina, Railway Lands, Harbourfront West, Bathurst Quay, South Niagara, Island airport\n",
      "Rosedale\n",
      "Stn A PO Boxes\n",
      "St. James Town, Cabbagetown\n",
      "First Canadian Place, Underground city\n",
      "Church and Wellesley\n",
      "Business reply mail Processing Centre\n"
     ]
    }
   ],
   "source": [
    "toronto_venues = getNearbyVenues(names=toronto_df['Neighborhood'],\n",
    "                                   latitudes=toronto_df['Latitude'],\n",
    "                                   longitudes=toronto_df['Longitude']\n",
    "                                  )"
   ]
  },
  {
   "cell_type": "markdown",
   "metadata": {},
   "source": [
    "Here are presented how many venues there are in each neighborhood"
   ]
  },
  {
   "cell_type": "code",
   "execution_count": 16,
   "metadata": {},
   "outputs": [
    {
     "data": {
      "text/html": [
       "<div>\n",
       "<style scoped>\n",
       "    .dataframe tbody tr th:only-of-type {\n",
       "        vertical-align: middle;\n",
       "    }\n",
       "\n",
       "    .dataframe tbody tr th {\n",
       "        vertical-align: top;\n",
       "    }\n",
       "\n",
       "    .dataframe thead th {\n",
       "        text-align: right;\n",
       "    }\n",
       "</style>\n",
       "<table border=\"1\" class=\"dataframe\">\n",
       "  <thead>\n",
       "    <tr style=\"text-align: right;\">\n",
       "      <th></th>\n",
       "      <th>Neighborhood Latitude</th>\n",
       "      <th>Neighborhood Longitude</th>\n",
       "      <th>Venue</th>\n",
       "      <th>Venue Latitude</th>\n",
       "      <th>Venue Longitude</th>\n",
       "      <th>Venue Category</th>\n",
       "    </tr>\n",
       "    <tr>\n",
       "      <th>Neighborhood</th>\n",
       "      <th></th>\n",
       "      <th></th>\n",
       "      <th></th>\n",
       "      <th></th>\n",
       "      <th></th>\n",
       "      <th></th>\n",
       "    </tr>\n",
       "  </thead>\n",
       "  <tbody>\n",
       "    <tr>\n",
       "      <th>Berczy Park</th>\n",
       "      <td>30</td>\n",
       "      <td>30</td>\n",
       "      <td>30</td>\n",
       "      <td>30</td>\n",
       "      <td>30</td>\n",
       "      <td>30</td>\n",
       "    </tr>\n",
       "    <tr>\n",
       "      <th>Brockton, Parkdale Village, Exhibition Place</th>\n",
       "      <td>23</td>\n",
       "      <td>23</td>\n",
       "      <td>23</td>\n",
       "      <td>23</td>\n",
       "      <td>23</td>\n",
       "      <td>23</td>\n",
       "    </tr>\n",
       "    <tr>\n",
       "      <th>Business reply mail Processing Centre</th>\n",
       "      <td>18</td>\n",
       "      <td>18</td>\n",
       "      <td>18</td>\n",
       "      <td>18</td>\n",
       "      <td>18</td>\n",
       "      <td>18</td>\n",
       "    </tr>\n",
       "    <tr>\n",
       "      <th>CN Tower, King and Spadina, Railway Lands, Harbourfront West, Bathurst Quay, South Niagara, Island airport</th>\n",
       "      <td>17</td>\n",
       "      <td>17</td>\n",
       "      <td>17</td>\n",
       "      <td>17</td>\n",
       "      <td>17</td>\n",
       "      <td>17</td>\n",
       "    </tr>\n",
       "    <tr>\n",
       "      <th>Central Bay Street</th>\n",
       "      <td>30</td>\n",
       "      <td>30</td>\n",
       "      <td>30</td>\n",
       "      <td>30</td>\n",
       "      <td>30</td>\n",
       "      <td>30</td>\n",
       "    </tr>\n",
       "    <tr>\n",
       "      <th>Christie</th>\n",
       "      <td>17</td>\n",
       "      <td>17</td>\n",
       "      <td>17</td>\n",
       "      <td>17</td>\n",
       "      <td>17</td>\n",
       "      <td>17</td>\n",
       "    </tr>\n",
       "    <tr>\n",
       "      <th>Church and Wellesley</th>\n",
       "      <td>30</td>\n",
       "      <td>30</td>\n",
       "      <td>30</td>\n",
       "      <td>30</td>\n",
       "      <td>30</td>\n",
       "      <td>30</td>\n",
       "    </tr>\n",
       "    <tr>\n",
       "      <th>Commerce Court, Victoria Hotel</th>\n",
       "      <td>30</td>\n",
       "      <td>30</td>\n",
       "      <td>30</td>\n",
       "      <td>30</td>\n",
       "      <td>30</td>\n",
       "      <td>30</td>\n",
       "    </tr>\n",
       "    <tr>\n",
       "      <th>Davisville</th>\n",
       "      <td>30</td>\n",
       "      <td>30</td>\n",
       "      <td>30</td>\n",
       "      <td>30</td>\n",
       "      <td>30</td>\n",
       "      <td>30</td>\n",
       "    </tr>\n",
       "    <tr>\n",
       "      <th>Davisville North</th>\n",
       "      <td>8</td>\n",
       "      <td>8</td>\n",
       "      <td>8</td>\n",
       "      <td>8</td>\n",
       "      <td>8</td>\n",
       "      <td>8</td>\n",
       "    </tr>\n",
       "  </tbody>\n",
       "</table>\n",
       "</div>"
      ],
      "text/plain": [
       "                                                    Neighborhood Latitude  \\\n",
       "Neighborhood                                                                \n",
       "Berczy Park                                                            30   \n",
       "Brockton, Parkdale Village, Exhibition Place                           23   \n",
       "Business reply mail Processing Centre                                  18   \n",
       "CN Tower, King and Spadina, Railway Lands, Harb...                     17   \n",
       "Central Bay Street                                                     30   \n",
       "Christie                                                               17   \n",
       "Church and Wellesley                                                   30   \n",
       "Commerce Court, Victoria Hotel                                         30   \n",
       "Davisville                                                             30   \n",
       "Davisville North                                                        8   \n",
       "\n",
       "                                                    Neighborhood Longitude  \\\n",
       "Neighborhood                                                                 \n",
       "Berczy Park                                                             30   \n",
       "Brockton, Parkdale Village, Exhibition Place                            23   \n",
       "Business reply mail Processing Centre                                   18   \n",
       "CN Tower, King and Spadina, Railway Lands, Harb...                      17   \n",
       "Central Bay Street                                                      30   \n",
       "Christie                                                                17   \n",
       "Church and Wellesley                                                    30   \n",
       "Commerce Court, Victoria Hotel                                          30   \n",
       "Davisville                                                              30   \n",
       "Davisville North                                                         8   \n",
       "\n",
       "                                                    Venue  Venue Latitude  \\\n",
       "Neighborhood                                                                \n",
       "Berczy Park                                            30              30   \n",
       "Brockton, Parkdale Village, Exhibition Place           23              23   \n",
       "Business reply mail Processing Centre                  18              18   \n",
       "CN Tower, King and Spadina, Railway Lands, Harb...     17              17   \n",
       "Central Bay Street                                     30              30   \n",
       "Christie                                               17              17   \n",
       "Church and Wellesley                                   30              30   \n",
       "Commerce Court, Victoria Hotel                         30              30   \n",
       "Davisville                                             30              30   \n",
       "Davisville North                                        8               8   \n",
       "\n",
       "                                                    Venue Longitude  \\\n",
       "Neighborhood                                                          \n",
       "Berczy Park                                                      30   \n",
       "Brockton, Parkdale Village, Exhibition Place                     23   \n",
       "Business reply mail Processing Centre                            18   \n",
       "CN Tower, King and Spadina, Railway Lands, Harb...               17   \n",
       "Central Bay Street                                               30   \n",
       "Christie                                                         17   \n",
       "Church and Wellesley                                             30   \n",
       "Commerce Court, Victoria Hotel                                   30   \n",
       "Davisville                                                       30   \n",
       "Davisville North                                                  8   \n",
       "\n",
       "                                                    Venue Category  \n",
       "Neighborhood                                                        \n",
       "Berczy Park                                                     30  \n",
       "Brockton, Parkdale Village, Exhibition Place                    23  \n",
       "Business reply mail Processing Centre                           18  \n",
       "CN Tower, King and Spadina, Railway Lands, Harb...              17  \n",
       "Central Bay Street                                              30  \n",
       "Christie                                                        17  \n",
       "Church and Wellesley                                            30  \n",
       "Commerce Court, Victoria Hotel                                  30  \n",
       "Davisville                                                      30  \n",
       "Davisville North                                                 8  "
      ]
     },
     "execution_count": 16,
     "metadata": {},
     "output_type": "execute_result"
    }
   ],
   "source": [
    "toronto_venues.groupby('Neighborhood').count().head(10)"
   ]
  },
  {
   "cell_type": "code",
   "execution_count": 17,
   "metadata": {},
   "outputs": [
    {
     "name": "stdout",
     "output_type": "stream",
     "text": [
      "There are 192 uniques categories.\n"
     ]
    }
   ],
   "source": [
    "print('There are {} uniques categories.'.format(len(toronto_venues['Venue Category'].unique())))"
   ]
  },
  {
   "cell_type": "markdown",
   "metadata": {},
   "source": [
    "Prepare the dataset to run the K-means algorithm"
   ]
  },
  {
   "cell_type": "code",
   "execution_count": 18,
   "metadata": {},
   "outputs": [
    {
     "name": "stdout",
     "output_type": "stream",
     "text": [
      "(866, 192)\n",
      "(39, 192)\n"
     ]
    }
   ],
   "source": [
    "toronto_onehot = pd.get_dummies(toronto_venues[['Venue Category']], prefix=\"\", prefix_sep=\"\")\n",
    "toronto_onehot['Neighborhood'] = toronto_venues['Neighborhood'] \n",
    "fixed_columns = [toronto_onehot.columns[-1]] + list(toronto_onehot.columns[:-1])\n",
    "toronto_onehot = toronto_onehot[fixed_columns]\n",
    "print(toronto_onehot.shape)\n",
    "toronto_grouped = toronto_onehot.groupby('Neighborhood').mean().reset_index()\n",
    "print(toronto_grouped.shape)"
   ]
  },
  {
   "cell_type": "code",
   "execution_count": 20,
   "metadata": {},
   "outputs": [],
   "source": [
    "def return_most_common_venues(row, num_top_venues):\n",
    "    row_categories = row.iloc[1:]\n",
    "    row_categories_sorted = row_categories.sort_values(ascending=False)\n",
    "    \n",
    "    return row_categories_sorted.index.values[0:num_top_venues]"
   ]
  },
  {
   "cell_type": "code",
   "execution_count": 24,
   "metadata": {},
   "outputs": [
    {
     "data": {
      "text/html": [
       "<div>\n",
       "<style scoped>\n",
       "    .dataframe tbody tr th:only-of-type {\n",
       "        vertical-align: middle;\n",
       "    }\n",
       "\n",
       "    .dataframe tbody tr th {\n",
       "        vertical-align: top;\n",
       "    }\n",
       "\n",
       "    .dataframe thead th {\n",
       "        text-align: right;\n",
       "    }\n",
       "</style>\n",
       "<table border=\"1\" class=\"dataframe\">\n",
       "  <thead>\n",
       "    <tr style=\"text-align: right;\">\n",
       "      <th></th>\n",
       "      <th>Neighborhood</th>\n",
       "      <th>1st Most Common Venue</th>\n",
       "      <th>2nd Most Common Venue</th>\n",
       "      <th>3rd Most Common Venue</th>\n",
       "      <th>4th Most Common Venue</th>\n",
       "      <th>5th Most Common Venue</th>\n",
       "      <th>6th Most Common Venue</th>\n",
       "      <th>7th Most Common Venue</th>\n",
       "      <th>8th Most Common Venue</th>\n",
       "      <th>9th Most Common Venue</th>\n",
       "      <th>10th Most Common Venue</th>\n",
       "    </tr>\n",
       "  </thead>\n",
       "  <tbody>\n",
       "    <tr>\n",
       "      <th>0</th>\n",
       "      <td>Berczy Park</td>\n",
       "      <td>Seafood Restaurant</td>\n",
       "      <td>Coffee Shop</td>\n",
       "      <td>Cocktail Bar</td>\n",
       "      <td>Beer Bar</td>\n",
       "      <td>Café</td>\n",
       "      <td>Basketball Stadium</td>\n",
       "      <td>Bistro</td>\n",
       "      <td>Restaurant</td>\n",
       "      <td>Breakfast Spot</td>\n",
       "      <td>Jazz Club</td>\n",
       "    </tr>\n",
       "    <tr>\n",
       "      <th>1</th>\n",
       "      <td>Brockton, Parkdale Village, Exhibition Place</td>\n",
       "      <td>Café</td>\n",
       "      <td>Nightclub</td>\n",
       "      <td>Coffee Shop</td>\n",
       "      <td>Breakfast Spot</td>\n",
       "      <td>Italian Restaurant</td>\n",
       "      <td>Pet Store</td>\n",
       "      <td>Stadium</td>\n",
       "      <td>Bar</td>\n",
       "      <td>Burrito Place</td>\n",
       "      <td>Convenience Store</td>\n",
       "    </tr>\n",
       "    <tr>\n",
       "      <th>2</th>\n",
       "      <td>Business reply mail Processing Centre</td>\n",
       "      <td>Yoga Studio</td>\n",
       "      <td>Spa</td>\n",
       "      <td>Gym / Fitness Center</td>\n",
       "      <td>Fast Food Restaurant</td>\n",
       "      <td>Farmers Market</td>\n",
       "      <td>Light Rail Station</td>\n",
       "      <td>Comic Shop</td>\n",
       "      <td>Garden Center</td>\n",
       "      <td>Park</td>\n",
       "      <td>Pizza Place</td>\n",
       "    </tr>\n",
       "    <tr>\n",
       "      <th>3</th>\n",
       "      <td>CN Tower, King and Spadina, Railway Lands, Har...</td>\n",
       "      <td>Airport Service</td>\n",
       "      <td>Airport Lounge</td>\n",
       "      <td>Airport Terminal</td>\n",
       "      <td>Harbor / Marina</td>\n",
       "      <td>Plane</td>\n",
       "      <td>Sculpture Garden</td>\n",
       "      <td>Boat or Ferry</td>\n",
       "      <td>Rental Car Location</td>\n",
       "      <td>Bar</td>\n",
       "      <td>Boutique</td>\n",
       "    </tr>\n",
       "    <tr>\n",
       "      <th>4</th>\n",
       "      <td>Central Bay Street</td>\n",
       "      <td>Coffee Shop</td>\n",
       "      <td>Café</td>\n",
       "      <td>Italian Restaurant</td>\n",
       "      <td>Yoga Studio</td>\n",
       "      <td>Ramen Restaurant</td>\n",
       "      <td>Bubble Tea Shop</td>\n",
       "      <td>Bar</td>\n",
       "      <td>Hotel</td>\n",
       "      <td>Sushi Restaurant</td>\n",
       "      <td>Art Museum</td>\n",
       "    </tr>\n",
       "  </tbody>\n",
       "</table>\n",
       "</div>"
      ],
      "text/plain": [
       "                                        Neighborhood 1st Most Common Venue  \\\n",
       "0                                        Berczy Park    Seafood Restaurant   \n",
       "1       Brockton, Parkdale Village, Exhibition Place                  Café   \n",
       "2              Business reply mail Processing Centre           Yoga Studio   \n",
       "3  CN Tower, King and Spadina, Railway Lands, Har...       Airport Service   \n",
       "4                                 Central Bay Street           Coffee Shop   \n",
       "\n",
       "  2nd Most Common Venue 3rd Most Common Venue 4th Most Common Venue  \\\n",
       "0           Coffee Shop          Cocktail Bar              Beer Bar   \n",
       "1             Nightclub           Coffee Shop        Breakfast Spot   \n",
       "2                   Spa  Gym / Fitness Center  Fast Food Restaurant   \n",
       "3        Airport Lounge      Airport Terminal       Harbor / Marina   \n",
       "4                  Café    Italian Restaurant           Yoga Studio   \n",
       "\n",
       "  5th Most Common Venue 6th Most Common Venue 7th Most Common Venue  \\\n",
       "0                  Café    Basketball Stadium                Bistro   \n",
       "1    Italian Restaurant             Pet Store               Stadium   \n",
       "2        Farmers Market    Light Rail Station            Comic Shop   \n",
       "3                 Plane      Sculpture Garden         Boat or Ferry   \n",
       "4      Ramen Restaurant       Bubble Tea Shop                   Bar   \n",
       "\n",
       "  8th Most Common Venue 9th Most Common Venue 10th Most Common Venue  \n",
       "0            Restaurant        Breakfast Spot              Jazz Club  \n",
       "1                   Bar         Burrito Place      Convenience Store  \n",
       "2         Garden Center                  Park            Pizza Place  \n",
       "3   Rental Car Location                   Bar               Boutique  \n",
       "4                 Hotel      Sushi Restaurant             Art Museum  "
      ]
     },
     "execution_count": 24,
     "metadata": {},
     "output_type": "execute_result"
    }
   ],
   "source": [
    "num_top_venues = 10\n",
    "\n",
    "indicators = ['st', 'nd', 'rd']\n",
    "\n",
    "columns = ['Neighborhood']\n",
    "for ind in np.arange(num_top_venues):\n",
    "    try:\n",
    "        columns.append('{}{} Most Common Venue'.format(ind+1, indicators[ind]))\n",
    "    except:\n",
    "        columns.append('{}th Most Common Venue'.format(ind+1))\n",
    "\n",
    "# create a new dataframe\n",
    "neighborhoods_venues_sorted = pd.DataFrame(columns=columns)\n",
    "neighborhoods_venues_sorted['Neighborhood'] = toronto_grouped['Neighborhood']\n",
    "\n",
    "for ind in np.arange(toronto_grouped.shape[0]):\n",
    "    neighborhoods_venues_sorted.iloc[ind, 1:] = return_most_common_venues(toronto_grouped.iloc[ind, :], num_top_venues)\n",
    "\n",
    "neighborhoods_venues_sorted.head()"
   ]
  },
  {
   "cell_type": "markdown",
   "metadata": {},
   "source": [
    "Train and fit the K-means algorithm with 3 clusters"
   ]
  },
  {
   "cell_type": "code",
   "execution_count": 26,
   "metadata": {},
   "outputs": [
    {
     "data": {
      "text/plain": [
       "array([0, 0, 0, 0, 0, 0, 0, 0, 0, 0], dtype=int32)"
      ]
     },
     "execution_count": 26,
     "metadata": {},
     "output_type": "execute_result"
    }
   ],
   "source": [
    "# set number of clusters\n",
    "kclusters = 3\n",
    "\n",
    "toronto_grouped_clustering = toronto_grouped.drop('Neighborhood', 1)\n",
    "\n",
    "# run k-means clustering\n",
    "kmeans = KMeans(n_clusters=kclusters, random_state=0).fit(toronto_grouped_clustering)\n",
    "\n",
    "# check cluster labels generated for each row in the dataframe\n",
    "kmeans.labels_[0:10] "
   ]
  },
  {
   "cell_type": "code",
   "execution_count": 27,
   "metadata": {},
   "outputs": [],
   "source": [
    "# add clustering labels\n",
    "neighborhoods_venues_sorted.insert(0, 'Cluster Labels', kmeans.labels_)\n",
    "\n",
    "toronto_merged = toronto_df\n",
    "\n",
    "# merge toronto_grouped with toronto_data to add latitude/longitude for each neighborhood\n",
    "toronto_merged = toronto_merged.join(neighborhoods_venues_sorted.set_index('Neighborhood'), on='Neighborhood')"
   ]
  },
  {
   "cell_type": "markdown",
   "metadata": {},
   "source": [
    "Show the map with the clusters based on venues in Toronto"
   ]
  },
  {
   "cell_type": "code",
   "execution_count": 29,
   "metadata": {},
   "outputs": [
    {
     "data": {
      "text/html": [
       "<div style=\"width:100%;\"><div style=\"position:relative;width:100%;height:0;padding-bottom:60%;\"><iframe src=\"about:blank\" style=\"position:absolute;width:100%;height:100%;left:0;top:0;border:none !important;\" data-html=PCFET0NUWVBFIGh0bWw+CjxoZWFkPiAgICAKICAgIDxtZXRhIGh0dHAtZXF1aXY9ImNvbnRlbnQtdHlwZSIgY29udGVudD0idGV4dC9odG1sOyBjaGFyc2V0PVVURi04IiAvPgogICAgCiAgICAgICAgPHNjcmlwdD4KICAgICAgICAgICAgTF9OT19UT1VDSCA9IGZhbHNlOwogICAgICAgICAgICBMX0RJU0FCTEVfM0QgPSBmYWxzZTsKICAgICAgICA8L3NjcmlwdD4KICAgIAogICAgPHNjcmlwdCBzcmM9Imh0dHBzOi8vY2RuLmpzZGVsaXZyLm5ldC9ucG0vbGVhZmxldEAxLjUuMS9kaXN0L2xlYWZsZXQuanMiPjwvc2NyaXB0PgogICAgPHNjcmlwdCBzcmM9Imh0dHBzOi8vY29kZS5qcXVlcnkuY29tL2pxdWVyeS0xLjEyLjQubWluLmpzIj48L3NjcmlwdD4KICAgIDxzY3JpcHQgc3JjPSJodHRwczovL21heGNkbi5ib290c3RyYXBjZG4uY29tL2Jvb3RzdHJhcC8zLjIuMC9qcy9ib290c3RyYXAubWluLmpzIj48L3NjcmlwdD4KICAgIDxzY3JpcHQgc3JjPSJodHRwczovL2NkbmpzLmNsb3VkZmxhcmUuY29tL2FqYXgvbGlicy9MZWFmbGV0LmF3ZXNvbWUtbWFya2Vycy8yLjAuMi9sZWFmbGV0LmF3ZXNvbWUtbWFya2Vycy5qcyI+PC9zY3JpcHQ+CiAgICA8bGluayByZWw9InN0eWxlc2hlZXQiIGhyZWY9Imh0dHBzOi8vY2RuLmpzZGVsaXZyLm5ldC9ucG0vbGVhZmxldEAxLjUuMS9kaXN0L2xlYWZsZXQuY3NzIi8+CiAgICA8bGluayByZWw9InN0eWxlc2hlZXQiIGhyZWY9Imh0dHBzOi8vbWF4Y2RuLmJvb3RzdHJhcGNkbi5jb20vYm9vdHN0cmFwLzMuMi4wL2Nzcy9ib290c3RyYXAubWluLmNzcyIvPgogICAgPGxpbmsgcmVsPSJzdHlsZXNoZWV0IiBocmVmPSJodHRwczovL21heGNkbi5ib290c3RyYXBjZG4uY29tL2Jvb3RzdHJhcC8zLjIuMC9jc3MvYm9vdHN0cmFwLXRoZW1lLm1pbi5jc3MiLz4KICAgIDxsaW5rIHJlbD0ic3R5bGVzaGVldCIgaHJlZj0iaHR0cHM6Ly9tYXhjZG4uYm9vdHN0cmFwY2RuLmNvbS9mb250LWF3ZXNvbWUvNC42LjMvY3NzL2ZvbnQtYXdlc29tZS5taW4uY3NzIi8+CiAgICA8bGluayByZWw9InN0eWxlc2hlZXQiIGhyZWY9Imh0dHBzOi8vY2RuanMuY2xvdWRmbGFyZS5jb20vYWpheC9saWJzL0xlYWZsZXQuYXdlc29tZS1tYXJrZXJzLzIuMC4yL2xlYWZsZXQuYXdlc29tZS1tYXJrZXJzLmNzcyIvPgogICAgPGxpbmsgcmVsPSJzdHlsZXNoZWV0IiBocmVmPSJodHRwczovL3Jhd2Nkbi5naXRoYWNrLmNvbS9weXRob24tdmlzdWFsaXphdGlvbi9mb2xpdW0vbWFzdGVyL2ZvbGl1bS90ZW1wbGF0ZXMvbGVhZmxldC5hd2Vzb21lLnJvdGF0ZS5jc3MiLz4KICAgIDxzdHlsZT5odG1sLCBib2R5IHt3aWR0aDogMTAwJTtoZWlnaHQ6IDEwMCU7bWFyZ2luOiAwO3BhZGRpbmc6IDA7fTwvc3R5bGU+CiAgICA8c3R5bGU+I21hcCB7cG9zaXRpb246YWJzb2x1dGU7dG9wOjA7Ym90dG9tOjA7cmlnaHQ6MDtsZWZ0OjA7fTwvc3R5bGU+CiAgICAKICAgICAgICAgICAgPG1ldGEgbmFtZT0idmlld3BvcnQiIGNvbnRlbnQ9IndpZHRoPWRldmljZS13aWR0aCwKICAgICAgICAgICAgICAgIGluaXRpYWwtc2NhbGU9MS4wLCBtYXhpbXVtLXNjYWxlPTEuMCwgdXNlci1zY2FsYWJsZT1ubyIgLz4KICAgICAgICAgICAgPHN0eWxlPgogICAgICAgICAgICAgICAgI21hcF9mNjg3YTdkYzVjNmU0YTNkYTkyNmQ4ZjA2NzQ5ZTc0YSB7CiAgICAgICAgICAgICAgICAgICAgcG9zaXRpb246IHJlbGF0aXZlOwogICAgICAgICAgICAgICAgICAgIHdpZHRoOiAxMDAuMCU7CiAgICAgICAgICAgICAgICAgICAgaGVpZ2h0OiAxMDAuMCU7CiAgICAgICAgICAgICAgICAgICAgbGVmdDogMC4wJTsKICAgICAgICAgICAgICAgICAgICB0b3A6IDAuMCU7CiAgICAgICAgICAgICAgICB9CiAgICAgICAgICAgIDwvc3R5bGU+CiAgICAgICAgCjwvaGVhZD4KPGJvZHk+ICAgIAogICAgCiAgICAgICAgICAgIDxkaXYgY2xhc3M9ImZvbGl1bS1tYXAiIGlkPSJtYXBfZjY4N2E3ZGM1YzZlNGEzZGE5MjZkOGYwNjc0OWU3NGEiID48L2Rpdj4KICAgICAgICAKPC9ib2R5Pgo8c2NyaXB0PiAgICAKICAgIAogICAgICAgICAgICB2YXIgbWFwX2Y2ODdhN2RjNWM2ZTRhM2RhOTI2ZDhmMDY3NDllNzRhID0gTC5tYXAoCiAgICAgICAgICAgICAgICAibWFwX2Y2ODdhN2RjNWM2ZTRhM2RhOTI2ZDhmMDY3NDllNzRhIiwKICAgICAgICAgICAgICAgIHsKICAgICAgICAgICAgICAgICAgICBjZW50ZXI6IFs0My42NTM0ODE3LCAtNzkuMzgzOTM0N10sCiAgICAgICAgICAgICAgICAgICAgY3JzOiBMLkNSUy5FUFNHMzg1NywKICAgICAgICAgICAgICAgICAgICB6b29tOiAxMSwKICAgICAgICAgICAgICAgICAgICB6b29tQ29udHJvbDogdHJ1ZSwKICAgICAgICAgICAgICAgICAgICBwcmVmZXJDYW52YXM6IGZhbHNlLAogICAgICAgICAgICAgICAgfQogICAgICAgICAgICApOwoKICAgICAgICAgICAgCgogICAgICAgIAogICAgCiAgICAgICAgICAgIHZhciB0aWxlX2xheWVyXzc2ODJlNjcxMjQyZjQ3ZTU4YTJkNjc5MDliYTZkMDc3ID0gTC50aWxlTGF5ZXIoCiAgICAgICAgICAgICAgICAiaHR0cHM6Ly97c30udGlsZS5vcGVuc3RyZWV0bWFwLm9yZy97en0ve3h9L3t5fS5wbmciLAogICAgICAgICAgICAgICAgeyJhdHRyaWJ1dGlvbiI6ICJEYXRhIGJ5IFx1MDAyNmNvcHk7IFx1MDAzY2EgaHJlZj1cImh0dHA6Ly9vcGVuc3RyZWV0bWFwLm9yZ1wiXHUwMDNlT3BlblN0cmVldE1hcFx1MDAzYy9hXHUwMDNlLCB1bmRlciBcdTAwM2NhIGhyZWY9XCJodHRwOi8vd3d3Lm9wZW5zdHJlZXRtYXAub3JnL2NvcHlyaWdodFwiXHUwMDNlT0RiTFx1MDAzYy9hXHUwMDNlLiIsICJkZXRlY3RSZXRpbmEiOiBmYWxzZSwgIm1heE5hdGl2ZVpvb20iOiAxOCwgIm1heFpvb20iOiAxOCwgIm1pblpvb20iOiAwLCAibm9XcmFwIjogZmFsc2UsICJvcGFjaXR5IjogMSwgInN1YmRvbWFpbnMiOiAiYWJjIiwgInRtcyI6IGZhbHNlfQogICAgICAgICAgICApLmFkZFRvKG1hcF9mNjg3YTdkYzVjNmU0YTNkYTkyNmQ4ZjA2NzQ5ZTc0YSk7CiAgICAgICAgCiAgICAKICAgICAgICAgICAgdmFyIGNpcmNsZV9tYXJrZXJfYWM3YTc5MWMxNTMxNGJjZmJiZWVjYjZmNjgyZGZhODkgPSBMLmNpcmNsZU1hcmtlcigKICAgICAgICAgICAgICAgIFs0My42NTQyNTk5LCAtNzkuMzYwNjM1OV0sCiAgICAgICAgICAgICAgICB7ImJ1YmJsaW5nTW91c2VFdmVudHMiOiB0cnVlLCAiY29sb3IiOiAiI2ZmMDAwMCIsICJkYXNoQXJyYXkiOiBudWxsLCAiZGFzaE9mZnNldCI6IG51bGwsICJmaWxsIjogdHJ1ZSwgImZpbGxDb2xvciI6ICIjZmYwMDAwIiwgImZpbGxPcGFjaXR5IjogMC43LCAiZmlsbFJ1bGUiOiAiZXZlbm9kZCIsICJsaW5lQ2FwIjogInJvdW5kIiwgImxpbmVKb2luIjogInJvdW5kIiwgIm9wYWNpdHkiOiAxLjAsICJyYWRpdXMiOiA1LCAic3Ryb2tlIjogdHJ1ZSwgIndlaWdodCI6IDN9CiAgICAgICAgICAgICkuYWRkVG8obWFwX2Y2ODdhN2RjNWM2ZTRhM2RhOTI2ZDhmMDY3NDllNzRhKTsKICAgICAgICAKICAgIAogICAgICAgIHZhciBwb3B1cF85NWRjMGIwYTMwN2E0NGQxOTY1ZGM3NmE4ZDJiMDA3ZSA9IEwucG9wdXAoeyJtYXhXaWR0aCI6ICIxMDAlIn0pOwoKICAgICAgICAKICAgICAgICAgICAgdmFyIGh0bWxfZTc2MDExMzUzYzcwNGU4MzkzMmE1ODViMTk0ZDZiMDEgPSAkKGA8ZGl2IGlkPSJodG1sX2U3NjAxMTM1M2M3MDRlODM5MzJhNTg1YjE5NGQ2YjAxIiBzdHlsZT0id2lkdGg6IDEwMC4wJTsgaGVpZ2h0OiAxMDAuMCU7Ij5SZWdlbnQgUGFyaywgSGFyYm91cmZyb250IENsdXN0ZXIgMDwvZGl2PmApWzBdOwogICAgICAgICAgICBwb3B1cF85NWRjMGIwYTMwN2E0NGQxOTY1ZGM3NmE4ZDJiMDA3ZS5zZXRDb250ZW50KGh0bWxfZTc2MDExMzUzYzcwNGU4MzkzMmE1ODViMTk0ZDZiMDEpOwogICAgICAgIAoKICAgICAgICBjaXJjbGVfbWFya2VyX2FjN2E3OTFjMTUzMTRiY2ZiYmVlY2I2ZjY4MmRmYTg5LmJpbmRQb3B1cChwb3B1cF85NWRjMGIwYTMwN2E0NGQxOTY1ZGM3NmE4ZDJiMDA3ZSkKICAgICAgICA7CgogICAgICAgIAogICAgCiAgICAKICAgICAgICAgICAgdmFyIGNpcmNsZV9tYXJrZXJfMWI0OWY0NDQ4ZjExNDY0Y2JiMmNhYjdjMWMwODFjNTUgPSBMLmNpcmNsZU1hcmtlcigKICAgICAgICAgICAgICAgIFs0My42NjIzMDE1LCAtNzkuMzg5NDkzOF0sCiAgICAgICAgICAgICAgICB7ImJ1YmJsaW5nTW91c2VFdmVudHMiOiB0cnVlLCAiY29sb3IiOiAiI2ZmMDAwMCIsICJkYXNoQXJyYXkiOiBudWxsLCAiZGFzaE9mZnNldCI6IG51bGwsICJmaWxsIjogdHJ1ZSwgImZpbGxDb2xvciI6ICIjZmYwMDAwIiwgImZpbGxPcGFjaXR5IjogMC43LCAiZmlsbFJ1bGUiOiAiZXZlbm9kZCIsICJsaW5lQ2FwIjogInJvdW5kIiwgImxpbmVKb2luIjogInJvdW5kIiwgIm9wYWNpdHkiOiAxLjAsICJyYWRpdXMiOiA1LCAic3Ryb2tlIjogdHJ1ZSwgIndlaWdodCI6IDN9CiAgICAgICAgICAgICkuYWRkVG8obWFwX2Y2ODdhN2RjNWM2ZTRhM2RhOTI2ZDhmMDY3NDllNzRhKTsKICAgICAgICAKICAgIAogICAgICAgIHZhciBwb3B1cF8yZWE2MGJhYmJkYjY0NTY1OTgwYjRlYmRiZTUzMzIzOSA9IEwucG9wdXAoeyJtYXhXaWR0aCI6ICIxMDAlIn0pOwoKICAgICAgICAKICAgICAgICAgICAgdmFyIGh0bWxfZWYxZDFiNDc1Mzc2NDVmOGFmZTBhZGY0MDk0MmE1MjMgPSAkKGA8ZGl2IGlkPSJodG1sX2VmMWQxYjQ3NTM3NjQ1ZjhhZmUwYWRmNDA5NDJhNTIzIiBzdHlsZT0id2lkdGg6IDEwMC4wJTsgaGVpZ2h0OiAxMDAuMCU7Ij5RdWVlbiYjMzk7cyBQYXJrLCBPbnRhcmlvIFByb3ZpbmNpYWwgR292ZXJubWVudCBDbHVzdGVyIDA8L2Rpdj5gKVswXTsKICAgICAgICAgICAgcG9wdXBfMmVhNjBiYWJiZGI2NDU2NTk4MGI0ZWJkYmU1MzMyMzkuc2V0Q29udGVudChodG1sX2VmMWQxYjQ3NTM3NjQ1ZjhhZmUwYWRmNDA5NDJhNTIzKTsKICAgICAgICAKCiAgICAgICAgY2lyY2xlX21hcmtlcl8xYjQ5ZjQ0NDhmMTE0NjRjYmIyY2FiN2MxYzA4MWM1NS5iaW5kUG9wdXAocG9wdXBfMmVhNjBiYWJiZGI2NDU2NTk4MGI0ZWJkYmU1MzMyMzkpCiAgICAgICAgOwoKICAgICAgICAKICAgIAogICAgCiAgICAgICAgICAgIHZhciBjaXJjbGVfbWFya2VyXzIwNWI1YzYwY2FiMDQxMWZiZGU4NGNkZTM2ZDljZjA2ID0gTC5jaXJjbGVNYXJrZXIoCiAgICAgICAgICAgICAgICBbNDMuNjU3MTYxOCwgLTc5LjM3ODkzNzA5OTk5OTk5XSwKICAgICAgICAgICAgICAgIHsiYnViYmxpbmdNb3VzZUV2ZW50cyI6IHRydWUsICJjb2xvciI6ICIjZmYwMDAwIiwgImRhc2hBcnJheSI6IG51bGwsICJkYXNoT2Zmc2V0IjogbnVsbCwgImZpbGwiOiB0cnVlLCAiZmlsbENvbG9yIjogIiNmZjAwMDAiLCAiZmlsbE9wYWNpdHkiOiAwLjcsICJmaWxsUnVsZSI6ICJldmVub2RkIiwgImxpbmVDYXAiOiAicm91bmQiLCAibGluZUpvaW4iOiAicm91bmQiLCAib3BhY2l0eSI6IDEuMCwgInJhZGl1cyI6IDUsICJzdHJva2UiOiB0cnVlLCAid2VpZ2h0IjogM30KICAgICAgICAgICAgKS5hZGRUbyhtYXBfZjY4N2E3ZGM1YzZlNGEzZGE5MjZkOGYwNjc0OWU3NGEpOwogICAgICAgIAogICAgCiAgICAgICAgdmFyIHBvcHVwXzUzNzkwNzBlMjdhNDQ4ZDlhZjYxYzM4MTJlYjRjZjg4ID0gTC5wb3B1cCh7Im1heFdpZHRoIjogIjEwMCUifSk7CgogICAgICAgIAogICAgICAgICAgICB2YXIgaHRtbF9jYTlkODUwMjZmNjI0ZjU0OWNjYTQxNDI0MzU5ZTQyMSA9ICQoYDxkaXYgaWQ9Imh0bWxfY2E5ZDg1MDI2ZjYyNGY1NDljY2E0MTQyNDM1OWU0MjEiIHN0eWxlPSJ3aWR0aDogMTAwLjAlOyBoZWlnaHQ6IDEwMC4wJTsiPkdhcmRlbiBEaXN0cmljdCwgUnllcnNvbiBDbHVzdGVyIDA8L2Rpdj5gKVswXTsKICAgICAgICAgICAgcG9wdXBfNTM3OTA3MGUyN2E0NDhkOWFmNjFjMzgxMmViNGNmODguc2V0Q29udGVudChodG1sX2NhOWQ4NTAyNmY2MjRmNTQ5Y2NhNDE0MjQzNTllNDIxKTsKICAgICAgICAKCiAgICAgICAgY2lyY2xlX21hcmtlcl8yMDViNWM2MGNhYjA0MTFmYmRlODRjZGUzNmQ5Y2YwNi5iaW5kUG9wdXAocG9wdXBfNTM3OTA3MGUyN2E0NDhkOWFmNjFjMzgxMmViNGNmODgpCiAgICAgICAgOwoKICAgICAgICAKICAgIAogICAgCiAgICAgICAgICAgIHZhciBjaXJjbGVfbWFya2VyX2U2NTIzYWJmNTM2OTQ1Yzg5YzkxY2FhZjA2MDAzOTA0ID0gTC5jaXJjbGVNYXJrZXIoCiAgICAgICAgICAgICAgICBbNDMuNjUxNDkzOSwgLTc5LjM3NTQxNzldLAogICAgICAgICAgICAgICAgeyJidWJibGluZ01vdXNlRXZlbnRzIjogdHJ1ZSwgImNvbG9yIjogIiNmZjAwMDAiLCAiZGFzaEFycmF5IjogbnVsbCwgImRhc2hPZmZzZXQiOiBudWxsLCAiZmlsbCI6IHRydWUsICJmaWxsQ29sb3IiOiAiI2ZmMDAwMCIsICJmaWxsT3BhY2l0eSI6IDAuNywgImZpbGxSdWxlIjogImV2ZW5vZGQiLCAibGluZUNhcCI6ICJyb3VuZCIsICJsaW5lSm9pbiI6ICJyb3VuZCIsICJvcGFjaXR5IjogMS4wLCAicmFkaXVzIjogNSwgInN0cm9rZSI6IHRydWUsICJ3ZWlnaHQiOiAzfQogICAgICAgICAgICApLmFkZFRvKG1hcF9mNjg3YTdkYzVjNmU0YTNkYTkyNmQ4ZjA2NzQ5ZTc0YSk7CiAgICAgICAgCiAgICAKICAgICAgICB2YXIgcG9wdXBfM2RjNmJiMGM2MzFiNDAzMzhjZjYyYWUzZTFhOThiNWIgPSBMLnBvcHVwKHsibWF4V2lkdGgiOiAiMTAwJSJ9KTsKCiAgICAgICAgCiAgICAgICAgICAgIHZhciBodG1sXzYzYmFjZDZiMGU2MjQ3ODQ4NDkyMWViOWQzOTJiZjY0ID0gJChgPGRpdiBpZD0iaHRtbF82M2JhY2Q2YjBlNjI0Nzg0ODQ5MjFlYjlkMzkyYmY2NCIgc3R5bGU9IndpZHRoOiAxMDAuMCU7IGhlaWdodDogMTAwLjAlOyI+U3QuIEphbWVzIFRvd24gQ2x1c3RlciAwPC9kaXY+YClbMF07CiAgICAgICAgICAgIHBvcHVwXzNkYzZiYjBjNjMxYjQwMzM4Y2Y2MmFlM2UxYTk4YjViLnNldENvbnRlbnQoaHRtbF82M2JhY2Q2YjBlNjI0Nzg0ODQ5MjFlYjlkMzkyYmY2NCk7CiAgICAgICAgCgogICAgICAgIGNpcmNsZV9tYXJrZXJfZTY1MjNhYmY1MzY5NDVjODljOTFjYWFmMDYwMDM5MDQuYmluZFBvcHVwKHBvcHVwXzNkYzZiYjBjNjMxYjQwMzM4Y2Y2MmFlM2UxYTk4YjViKQogICAgICAgIDsKCiAgICAgICAgCiAgICAKICAgIAogICAgICAgICAgICB2YXIgY2lyY2xlX21hcmtlcl80ZjY1NGI4NzA1NTU0ZTgzOTdkNzFkZDE4ZDIxMjFmMyA9IEwuY2lyY2xlTWFya2VyKAogICAgICAgICAgICAgICAgWzQzLjY3NjM1NzM5OTk5OTk5LCAtNzkuMjkzMDMxMl0sCiAgICAgICAgICAgICAgICB7ImJ1YmJsaW5nTW91c2VFdmVudHMiOiB0cnVlLCAiY29sb3IiOiAiI2ZmMDAwMCIsICJkYXNoQXJyYXkiOiBudWxsLCAiZGFzaE9mZnNldCI6IG51bGwsICJmaWxsIjogdHJ1ZSwgImZpbGxDb2xvciI6ICIjZmYwMDAwIiwgImZpbGxPcGFjaXR5IjogMC43LCAiZmlsbFJ1bGUiOiAiZXZlbm9kZCIsICJsaW5lQ2FwIjogInJvdW5kIiwgImxpbmVKb2luIjogInJvdW5kIiwgIm9wYWNpdHkiOiAxLjAsICJyYWRpdXMiOiA1LCAic3Ryb2tlIjogdHJ1ZSwgIndlaWdodCI6IDN9CiAgICAgICAgICAgICkuYWRkVG8obWFwX2Y2ODdhN2RjNWM2ZTRhM2RhOTI2ZDhmMDY3NDllNzRhKTsKICAgICAgICAKICAgIAogICAgICAgIHZhciBwb3B1cF9iYzQzODIxMTM0NDM0YzU0YmIzMWY0MDY2YjE1YTcyMSA9IEwucG9wdXAoeyJtYXhXaWR0aCI6ICIxMDAlIn0pOwoKICAgICAgICAKICAgICAgICAgICAgdmFyIGh0bWxfNjdjZTQzMDcxMmNmNGFjNGFkMGRmZmJlNjJhZDhiMzkgPSAkKGA8ZGl2IGlkPSJodG1sXzY3Y2U0MzA3MTJjZjRhYzRhZDBkZmZiZTYyYWQ4YjM5IiBzdHlsZT0id2lkdGg6IDEwMC4wJTsgaGVpZ2h0OiAxMDAuMCU7Ij5UaGUgQmVhY2hlcyBDbHVzdGVyIDA8L2Rpdj5gKVswXTsKICAgICAgICAgICAgcG9wdXBfYmM0MzgyMTEzNDQzNGM1NGJiMzFmNDA2NmIxNWE3MjEuc2V0Q29udGVudChodG1sXzY3Y2U0MzA3MTJjZjRhYzRhZDBkZmZiZTYyYWQ4YjM5KTsKICAgICAgICAKCiAgICAgICAgY2lyY2xlX21hcmtlcl80ZjY1NGI4NzA1NTU0ZTgzOTdkNzFkZDE4ZDIxMjFmMy5iaW5kUG9wdXAocG9wdXBfYmM0MzgyMTEzNDQzNGM1NGJiMzFmNDA2NmIxNWE3MjEpCiAgICAgICAgOwoKICAgICAgICAKICAgIAogICAgCiAgICAgICAgICAgIHZhciBjaXJjbGVfbWFya2VyX2EzNThiYzk0MGE2ODRmY2M5MjFkNWM1YjNkZmVlMzJlID0gTC5jaXJjbGVNYXJrZXIoCiAgICAgICAgICAgICAgICBbNDMuNjQ0NzcwNzk5OTk5OTk2LCAtNzkuMzczMzA2NF0sCiAgICAgICAgICAgICAgICB7ImJ1YmJsaW5nTW91c2VFdmVudHMiOiB0cnVlLCAiY29sb3IiOiAiI2ZmMDAwMCIsICJkYXNoQXJyYXkiOiBudWxsLCAiZGFzaE9mZnNldCI6IG51bGwsICJmaWxsIjogdHJ1ZSwgImZpbGxDb2xvciI6ICIjZmYwMDAwIiwgImZpbGxPcGFjaXR5IjogMC43LCAiZmlsbFJ1bGUiOiAiZXZlbm9kZCIsICJsaW5lQ2FwIjogInJvdW5kIiwgImxpbmVKb2luIjogInJvdW5kIiwgIm9wYWNpdHkiOiAxLjAsICJyYWRpdXMiOiA1LCAic3Ryb2tlIjogdHJ1ZSwgIndlaWdodCI6IDN9CiAgICAgICAgICAgICkuYWRkVG8obWFwX2Y2ODdhN2RjNWM2ZTRhM2RhOTI2ZDhmMDY3NDllNzRhKTsKICAgICAgICAKICAgIAogICAgICAgIHZhciBwb3B1cF85MjcwZmQ0ZTBhYTA0NzIzYjhlMWJlYTUyNTg0NGVjYyA9IEwucG9wdXAoeyJtYXhXaWR0aCI6ICIxMDAlIn0pOwoKICAgICAgICAKICAgICAgICAgICAgdmFyIGh0bWxfYzcxNzA5NTlkZGZkNGRjMGIxNmExMmQyOTM5YjZjOTAgPSAkKGA8ZGl2IGlkPSJodG1sX2M3MTcwOTU5ZGRmZDRkYzBiMTZhMTJkMjkzOWI2YzkwIiBzdHlsZT0id2lkdGg6IDEwMC4wJTsgaGVpZ2h0OiAxMDAuMCU7Ij5CZXJjenkgUGFyayBDbHVzdGVyIDA8L2Rpdj5gKVswXTsKICAgICAgICAgICAgcG9wdXBfOTI3MGZkNGUwYWEwNDcyM2I4ZTFiZWE1MjU4NDRlY2Muc2V0Q29udGVudChodG1sX2M3MTcwOTU5ZGRmZDRkYzBiMTZhMTJkMjkzOWI2YzkwKTsKICAgICAgICAKCiAgICAgICAgY2lyY2xlX21hcmtlcl9hMzU4YmM5NDBhNjg0ZmNjOTIxZDVjNWIzZGZlZTMyZS5iaW5kUG9wdXAocG9wdXBfOTI3MGZkNGUwYWEwNDcyM2I4ZTFiZWE1MjU4NDRlY2MpCiAgICAgICAgOwoKICAgICAgICAKICAgIAogICAgCiAgICAgICAgICAgIHZhciBjaXJjbGVfbWFya2VyX2QxYjMxYjhiZDI3MDRkMmViOGNiMjcyNTVlMzM4ODE1ID0gTC5jaXJjbGVNYXJrZXIoCiAgICAgICAgICAgICAgICBbNDMuNjU3OTUyNCwgLTc5LjM4NzM4MjZdLAogICAgICAgICAgICAgICAgeyJidWJibGluZ01vdXNlRXZlbnRzIjogdHJ1ZSwgImNvbG9yIjogIiNmZjAwMDAiLCAiZGFzaEFycmF5IjogbnVsbCwgImRhc2hPZmZzZXQiOiBudWxsLCAiZmlsbCI6IHRydWUsICJmaWxsQ29sb3IiOiAiI2ZmMDAwMCIsICJmaWxsT3BhY2l0eSI6IDAuNywgImZpbGxSdWxlIjogImV2ZW5vZGQiLCAibGluZUNhcCI6ICJyb3VuZCIsICJsaW5lSm9pbiI6ICJyb3VuZCIsICJvcGFjaXR5IjogMS4wLCAicmFkaXVzIjogNSwgInN0cm9rZSI6IHRydWUsICJ3ZWlnaHQiOiAzfQogICAgICAgICAgICApLmFkZFRvKG1hcF9mNjg3YTdkYzVjNmU0YTNkYTkyNmQ4ZjA2NzQ5ZTc0YSk7CiAgICAgICAgCiAgICAKICAgICAgICB2YXIgcG9wdXBfZWIxMTZlZGFiOTI0NDk3MGFmZDdkODRiNzA4ODA2NDMgPSBMLnBvcHVwKHsibWF4V2lkdGgiOiAiMTAwJSJ9KTsKCiAgICAgICAgCiAgICAgICAgICAgIHZhciBodG1sX2M0NWMzOTY2YzllYzQ4N2NiY2IyOWM4ZjJlMTA0MDgwID0gJChgPGRpdiBpZD0iaHRtbF9jNDVjMzk2NmM5ZWM0ODdjYmNiMjljOGYyZTEwNDA4MCIgc3R5bGU9IndpZHRoOiAxMDAuMCU7IGhlaWdodDogMTAwLjAlOyI+Q2VudHJhbCBCYXkgU3RyZWV0IENsdXN0ZXIgMDwvZGl2PmApWzBdOwogICAgICAgICAgICBwb3B1cF9lYjExNmVkYWI5MjQ0OTcwYWZkN2Q4NGI3MDg4MDY0My5zZXRDb250ZW50KGh0bWxfYzQ1YzM5NjZjOWVjNDg3Y2JjYjI5YzhmMmUxMDQwODApOwogICAgICAgIAoKICAgICAgICBjaXJjbGVfbWFya2VyX2QxYjMxYjhiZDI3MDRkMmViOGNiMjcyNTVlMzM4ODE1LmJpbmRQb3B1cChwb3B1cF9lYjExNmVkYWI5MjQ0OTcwYWZkN2Q4NGI3MDg4MDY0MykKICAgICAgICA7CgogICAgICAgIAogICAgCiAgICAKICAgICAgICAgICAgdmFyIGNpcmNsZV9tYXJrZXJfZTQxODBjMjI3MzY0NGY2M2FjNWMzYTYxYzlkZTA5YjYgPSBMLmNpcmNsZU1hcmtlcigKICAgICAgICAgICAgICAgIFs0My42Njk1NDIsIC03OS40MjI1NjM3XSwKICAgICAgICAgICAgICAgIHsiYnViYmxpbmdNb3VzZUV2ZW50cyI6IHRydWUsICJjb2xvciI6ICIjZmYwMDAwIiwgImRhc2hBcnJheSI6IG51bGwsICJkYXNoT2Zmc2V0IjogbnVsbCwgImZpbGwiOiB0cnVlLCAiZmlsbENvbG9yIjogIiNmZjAwMDAiLCAiZmlsbE9wYWNpdHkiOiAwLjcsICJmaWxsUnVsZSI6ICJldmVub2RkIiwgImxpbmVDYXAiOiAicm91bmQiLCAibGluZUpvaW4iOiAicm91bmQiLCAib3BhY2l0eSI6IDEuMCwgInJhZGl1cyI6IDUsICJzdHJva2UiOiB0cnVlLCAid2VpZ2h0IjogM30KICAgICAgICAgICAgKS5hZGRUbyhtYXBfZjY4N2E3ZGM1YzZlNGEzZGE5MjZkOGYwNjc0OWU3NGEpOwogICAgICAgIAogICAgCiAgICAgICAgdmFyIHBvcHVwX2VlOWM1ODEwODdkYTRmM2FiZjAyMWUyMThhOWQwYjg5ID0gTC5wb3B1cCh7Im1heFdpZHRoIjogIjEwMCUifSk7CgogICAgICAgIAogICAgICAgICAgICB2YXIgaHRtbF84M2U4YWRiOTVmZWE0NjhlYWY4YWM0YTUxZGIxN2FmZSA9ICQoYDxkaXYgaWQ9Imh0bWxfODNlOGFkYjk1ZmVhNDY4ZWFmOGFjNGE1MWRiMTdhZmUiIHN0eWxlPSJ3aWR0aDogMTAwLjAlOyBoZWlnaHQ6IDEwMC4wJTsiPkNocmlzdGllIENsdXN0ZXIgMDwvZGl2PmApWzBdOwogICAgICAgICAgICBwb3B1cF9lZTljNTgxMDg3ZGE0ZjNhYmYwMjFlMjE4YTlkMGI4OS5zZXRDb250ZW50KGh0bWxfODNlOGFkYjk1ZmVhNDY4ZWFmOGFjNGE1MWRiMTdhZmUpOwogICAgICAgIAoKICAgICAgICBjaXJjbGVfbWFya2VyX2U0MTgwYzIyNzM2NDRmNjNhYzVjM2E2MWM5ZGUwOWI2LmJpbmRQb3B1cChwb3B1cF9lZTljNTgxMDg3ZGE0ZjNhYmYwMjFlMjE4YTlkMGI4OSkKICAgICAgICA7CgogICAgICAgIAogICAgCiAgICAKICAgICAgICAgICAgdmFyIGNpcmNsZV9tYXJrZXJfOTVmNDM5OTk3MTU1NGI0NWI3NzdiZTZlNzAyOTJiMGEgPSBMLmNpcmNsZU1hcmtlcigKICAgICAgICAgICAgICAgIFs0My42NTA1NzEyMDAwMDAwMSwgLTc5LjM4NDU2NzVdLAogICAgICAgICAgICAgICAgeyJidWJibGluZ01vdXNlRXZlbnRzIjogdHJ1ZSwgImNvbG9yIjogIiNmZjAwMDAiLCAiZGFzaEFycmF5IjogbnVsbCwgImRhc2hPZmZzZXQiOiBudWxsLCAiZmlsbCI6IHRydWUsICJmaWxsQ29sb3IiOiAiI2ZmMDAwMCIsICJmaWxsT3BhY2l0eSI6IDAuNywgImZpbGxSdWxlIjogImV2ZW5vZGQiLCAibGluZUNhcCI6ICJyb3VuZCIsICJsaW5lSm9pbiI6ICJyb3VuZCIsICJvcGFjaXR5IjogMS4wLCAicmFkaXVzIjogNSwgInN0cm9rZSI6IHRydWUsICJ3ZWlnaHQiOiAzfQogICAgICAgICAgICApLmFkZFRvKG1hcF9mNjg3YTdkYzVjNmU0YTNkYTkyNmQ4ZjA2NzQ5ZTc0YSk7CiAgICAgICAgCiAgICAKICAgICAgICB2YXIgcG9wdXBfNzg1MDZhM2FlOGQ3NDJlM2IxNzUzMzgxZDJkNmNiZjMgPSBMLnBvcHVwKHsibWF4V2lkdGgiOiAiMTAwJSJ9KTsKCiAgICAgICAgCiAgICAgICAgICAgIHZhciBodG1sXzBmYTY2NmVjZDY0NzRiMTdiZjRlNDRkYWI0OGQwNGMzID0gJChgPGRpdiBpZD0iaHRtbF8wZmE2NjZlY2Q2NDc0YjE3YmY0ZTQ0ZGFiNDhkMDRjMyIgc3R5bGU9IndpZHRoOiAxMDAuMCU7IGhlaWdodDogMTAwLjAlOyI+UmljaG1vbmQsIEFkZWxhaWRlLCBLaW5nIENsdXN0ZXIgMDwvZGl2PmApWzBdOwogICAgICAgICAgICBwb3B1cF83ODUwNmEzYWU4ZDc0MmUzYjE3NTMzODFkMmQ2Y2JmMy5zZXRDb250ZW50KGh0bWxfMGZhNjY2ZWNkNjQ3NGIxN2JmNGU0NGRhYjQ4ZDA0YzMpOwogICAgICAgIAoKICAgICAgICBjaXJjbGVfbWFya2VyXzk1ZjQzOTk5NzE1NTRiNDViNzc3YmU2ZTcwMjkyYjBhLmJpbmRQb3B1cChwb3B1cF83ODUwNmEzYWU4ZDc0MmUzYjE3NTMzODFkMmQ2Y2JmMykKICAgICAgICA7CgogICAgICAgIAogICAgCiAgICAKICAgICAgICAgICAgdmFyIGNpcmNsZV9tYXJrZXJfMmE1YWE4MDMxYzI2NDM4MmI2YmRmZDk0ZDk5MDA2YjIgPSBMLmNpcmNsZU1hcmtlcigKICAgICAgICAgICAgICAgIFs0My42NjkwMDUxMDAwMDAwMSwgLTc5LjQ0MjI1OTNdLAogICAgICAgICAgICAgICAgeyJidWJibGluZ01vdXNlRXZlbnRzIjogdHJ1ZSwgImNvbG9yIjogIiNmZjAwMDAiLCAiZGFzaEFycmF5IjogbnVsbCwgImRhc2hPZmZzZXQiOiBudWxsLCAiZmlsbCI6IHRydWUsICJmaWxsQ29sb3IiOiAiI2ZmMDAwMCIsICJmaWxsT3BhY2l0eSI6IDAuNywgImZpbGxSdWxlIjogImV2ZW5vZGQiLCAibGluZUNhcCI6ICJyb3VuZCIsICJsaW5lSm9pbiI6ICJyb3VuZCIsICJvcGFjaXR5IjogMS4wLCAicmFkaXVzIjogNSwgInN0cm9rZSI6IHRydWUsICJ3ZWlnaHQiOiAzfQogICAgICAgICAgICApLmFkZFRvKG1hcF9mNjg3YTdkYzVjNmU0YTNkYTkyNmQ4ZjA2NzQ5ZTc0YSk7CiAgICAgICAgCiAgICAKICAgICAgICB2YXIgcG9wdXBfZjlmMjg0MzBiN2NjNDA0OWIzODQ1ZDhiN2E3M2U3OWYgPSBMLnBvcHVwKHsibWF4V2lkdGgiOiAiMTAwJSJ9KTsKCiAgICAgICAgCiAgICAgICAgICAgIHZhciBodG1sX2NmMWNhMjdmMTE5MjRhOTZhZDYxMjI0YmZmZjFjMTU3ID0gJChgPGRpdiBpZD0iaHRtbF9jZjFjYTI3ZjExOTI0YTk2YWQ2MTIyNGJmZmYxYzE1NyIgc3R5bGU9IndpZHRoOiAxMDAuMCU7IGhlaWdodDogMTAwLjAlOyI+RHVmZmVyaW4sIERvdmVyY291cnQgVmlsbGFnZSBDbHVzdGVyIDA8L2Rpdj5gKVswXTsKICAgICAgICAgICAgcG9wdXBfZjlmMjg0MzBiN2NjNDA0OWIzODQ1ZDhiN2E3M2U3OWYuc2V0Q29udGVudChodG1sX2NmMWNhMjdmMTE5MjRhOTZhZDYxMjI0YmZmZjFjMTU3KTsKICAgICAgICAKCiAgICAgICAgY2lyY2xlX21hcmtlcl8yYTVhYTgwMzFjMjY0MzgyYjZiZGZkOTRkOTkwMDZiMi5iaW5kUG9wdXAocG9wdXBfZjlmMjg0MzBiN2NjNDA0OWIzODQ1ZDhiN2E3M2U3OWYpCiAgICAgICAgOwoKICAgICAgICAKICAgIAogICAgCiAgICAgICAgICAgIHZhciBjaXJjbGVfbWFya2VyXzcxMTNlZDNmMjJjNTQ5ZjJhY2E0YjkwYTc2MTNmMmE2ID0gTC5jaXJjbGVNYXJrZXIoCiAgICAgICAgICAgICAgICBbNDMuNjQwODE1NywgLTc5LjM4MTc1MjI5OTk5OTk5XSwKICAgICAgICAgICAgICAgIHsiYnViYmxpbmdNb3VzZUV2ZW50cyI6IHRydWUsICJjb2xvciI6ICIjZmYwMDAwIiwgImRhc2hBcnJheSI6IG51bGwsICJkYXNoT2Zmc2V0IjogbnVsbCwgImZpbGwiOiB0cnVlLCAiZmlsbENvbG9yIjogIiNmZjAwMDAiLCAiZmlsbE9wYWNpdHkiOiAwLjcsICJmaWxsUnVsZSI6ICJldmVub2RkIiwgImxpbmVDYXAiOiAicm91bmQiLCAibGluZUpvaW4iOiAicm91bmQiLCAib3BhY2l0eSI6IDEuMCwgInJhZGl1cyI6IDUsICJzdHJva2UiOiB0cnVlLCAid2VpZ2h0IjogM30KICAgICAgICAgICAgKS5hZGRUbyhtYXBfZjY4N2E3ZGM1YzZlNGEzZGE5MjZkOGYwNjc0OWU3NGEpOwogICAgICAgIAogICAgCiAgICAgICAgdmFyIHBvcHVwX2RlZjdkOTFkZDQyMzQyMzg5NGVlYjkwZjQzNjZjMjBjID0gTC5wb3B1cCh7Im1heFdpZHRoIjogIjEwMCUifSk7CgogICAgICAgIAogICAgICAgICAgICB2YXIgaHRtbF9iODIyOGMzNTc4MWY0ODQ5YmFmY2JmOGI5YjBhZGVmMyA9ICQoYDxkaXYgaWQ9Imh0bWxfYjgyMjhjMzU3ODFmNDg0OWJhZmNiZjhiOWIwYWRlZjMiIHN0eWxlPSJ3aWR0aDogMTAwLjAlOyBoZWlnaHQ6IDEwMC4wJTsiPkhhcmJvdXJmcm9udCBFYXN0LCBVbmlvbiBTdGF0aW9uLCBUb3JvbnRvIElzbGFuZHMgQ2x1c3RlciAwPC9kaXY+YClbMF07CiAgICAgICAgICAgIHBvcHVwX2RlZjdkOTFkZDQyMzQyMzg5NGVlYjkwZjQzNjZjMjBjLnNldENvbnRlbnQoaHRtbF9iODIyOGMzNTc4MWY0ODQ5YmFmY2JmOGI5YjBhZGVmMyk7CiAgICAgICAgCgogICAgICAgIGNpcmNsZV9tYXJrZXJfNzExM2VkM2YyMmM1NDlmMmFjYTRiOTBhNzYxM2YyYTYuYmluZFBvcHVwKHBvcHVwX2RlZjdkOTFkZDQyMzQyMzg5NGVlYjkwZjQzNjZjMjBjKQogICAgICAgIDsKCiAgICAgICAgCiAgICAKICAgIAogICAgICAgICAgICB2YXIgY2lyY2xlX21hcmtlcl9jZjBjYjliMzcyY2I0NTIxOGJhZjYyYzg4MDgwMDAzZCA9IEwuY2lyY2xlTWFya2VyKAogICAgICAgICAgICAgICAgWzQzLjY0NzkyNjcwMDAwMDAwNiwgLTc5LjQxOTc0OTddLAogICAgICAgICAgICAgICAgeyJidWJibGluZ01vdXNlRXZlbnRzIjogdHJ1ZSwgImNvbG9yIjogIiNmZjAwMDAiLCAiZGFzaEFycmF5IjogbnVsbCwgImRhc2hPZmZzZXQiOiBudWxsLCAiZmlsbCI6IHRydWUsICJmaWxsQ29sb3IiOiAiI2ZmMDAwMCIsICJmaWxsT3BhY2l0eSI6IDAuNywgImZpbGxSdWxlIjogImV2ZW5vZGQiLCAibGluZUNhcCI6ICJyb3VuZCIsICJsaW5lSm9pbiI6ICJyb3VuZCIsICJvcGFjaXR5IjogMS4wLCAicmFkaXVzIjogNSwgInN0cm9rZSI6IHRydWUsICJ3ZWlnaHQiOiAzfQogICAgICAgICAgICApLmFkZFRvKG1hcF9mNjg3YTdkYzVjNmU0YTNkYTkyNmQ4ZjA2NzQ5ZTc0YSk7CiAgICAgICAgCiAgICAKICAgICAgICB2YXIgcG9wdXBfZWM0Y2EwZWM4NGExNGZkMjk5YThjMzM2NmNkMzJjNDEgPSBMLnBvcHVwKHsibWF4V2lkdGgiOiAiMTAwJSJ9KTsKCiAgICAgICAgCiAgICAgICAgICAgIHZhciBodG1sXzY1N2VkNTY5MWQ3ZTQ3MDM5MDVkMjFhNGVlY2RhZjJiID0gJChgPGRpdiBpZD0iaHRtbF82NTdlZDU2OTFkN2U0NzAzOTA1ZDIxYTRlZWNkYWYyYiIgc3R5bGU9IndpZHRoOiAxMDAuMCU7IGhlaWdodDogMTAwLjAlOyI+TGl0dGxlIFBvcnR1Z2FsLCBUcmluaXR5IENsdXN0ZXIgMDwvZGl2PmApWzBdOwogICAgICAgICAgICBwb3B1cF9lYzRjYTBlYzg0YTE0ZmQyOTlhOGMzMzY2Y2QzMmM0MS5zZXRDb250ZW50KGh0bWxfNjU3ZWQ1NjkxZDdlNDcwMzkwNWQyMWE0ZWVjZGFmMmIpOwogICAgICAgIAoKICAgICAgICBjaXJjbGVfbWFya2VyX2NmMGNiOWIzNzJjYjQ1MjE4YmFmNjJjODgwODAwMDNkLmJpbmRQb3B1cChwb3B1cF9lYzRjYTBlYzg0YTE0ZmQyOTlhOGMzMzY2Y2QzMmM0MSkKICAgICAgICA7CgogICAgICAgIAogICAgCiAgICAKICAgICAgICAgICAgdmFyIGNpcmNsZV9tYXJrZXJfZjM5ZmM5YTAwNjVmNDJiNmI1Y2UwMzMzYTc3NzJkMmEgPSBMLmNpcmNsZU1hcmtlcigKICAgICAgICAgICAgICAgIFs0My42Nzk1NTcxLCAtNzkuMzUyMTg4XSwKICAgICAgICAgICAgICAgIHsiYnViYmxpbmdNb3VzZUV2ZW50cyI6IHRydWUsICJjb2xvciI6ICIjZmYwMDAwIiwgImRhc2hBcnJheSI6IG51bGwsICJkYXNoT2Zmc2V0IjogbnVsbCwgImZpbGwiOiB0cnVlLCAiZmlsbENvbG9yIjogIiNmZjAwMDAiLCAiZmlsbE9wYWNpdHkiOiAwLjcsICJmaWxsUnVsZSI6ICJldmVub2RkIiwgImxpbmVDYXAiOiAicm91bmQiLCAibGluZUpvaW4iOiAicm91bmQiLCAib3BhY2l0eSI6IDEuMCwgInJhZGl1cyI6IDUsICJzdHJva2UiOiB0cnVlLCAid2VpZ2h0IjogM30KICAgICAgICAgICAgKS5hZGRUbyhtYXBfZjY4N2E3ZGM1YzZlNGEzZGE5MjZkOGYwNjc0OWU3NGEpOwogICAgICAgIAogICAgCiAgICAgICAgdmFyIHBvcHVwX2YyZjEwMzdjMWFlMjRmNjU5MmVmNmMyOTk2MWZmYjE5ID0gTC5wb3B1cCh7Im1heFdpZHRoIjogIjEwMCUifSk7CgogICAgICAgIAogICAgICAgICAgICB2YXIgaHRtbF83NmFlMTUyMjI2Yjk0NGM0YWY2MTVhZGM1MjA4M2RiZCA9ICQoYDxkaXYgaWQ9Imh0bWxfNzZhZTE1MjIyNmI5NDRjNGFmNjE1YWRjNTIwODNkYmQiIHN0eWxlPSJ3aWR0aDogMTAwLjAlOyBoZWlnaHQ6IDEwMC4wJTsiPlRoZSBEYW5mb3J0aCBXZXN0LCBSaXZlcmRhbGUgQ2x1c3RlciAwPC9kaXY+YClbMF07CiAgICAgICAgICAgIHBvcHVwX2YyZjEwMzdjMWFlMjRmNjU5MmVmNmMyOTk2MWZmYjE5LnNldENvbnRlbnQoaHRtbF83NmFlMTUyMjI2Yjk0NGM0YWY2MTVhZGM1MjA4M2RiZCk7CiAgICAgICAgCgogICAgICAgIGNpcmNsZV9tYXJrZXJfZjM5ZmM5YTAwNjVmNDJiNmI1Y2UwMzMzYTc3NzJkMmEuYmluZFBvcHVwKHBvcHVwX2YyZjEwMzdjMWFlMjRmNjU5MmVmNmMyOTk2MWZmYjE5KQogICAgICAgIDsKCiAgICAgICAgCiAgICAKICAgIAogICAgICAgICAgICB2YXIgY2lyY2xlX21hcmtlcl9mNWJiNDQzNGRhOGM0NGQ1YTVlMmJjMGI0ZDRkOTMwNiA9IEwuY2lyY2xlTWFya2VyKAogICAgICAgICAgICAgICAgWzQzLjY0NzE3NjgsIC03OS4zODE1NzY0MDAwMDAwMV0sCiAgICAgICAgICAgICAgICB7ImJ1YmJsaW5nTW91c2VFdmVudHMiOiB0cnVlLCAiY29sb3IiOiAiI2ZmMDAwMCIsICJkYXNoQXJyYXkiOiBudWxsLCAiZGFzaE9mZnNldCI6IG51bGwsICJmaWxsIjogdHJ1ZSwgImZpbGxDb2xvciI6ICIjZmYwMDAwIiwgImZpbGxPcGFjaXR5IjogMC43LCAiZmlsbFJ1bGUiOiAiZXZlbm9kZCIsICJsaW5lQ2FwIjogInJvdW5kIiwgImxpbmVKb2luIjogInJvdW5kIiwgIm9wYWNpdHkiOiAxLjAsICJyYWRpdXMiOiA1LCAic3Ryb2tlIjogdHJ1ZSwgIndlaWdodCI6IDN9CiAgICAgICAgICAgICkuYWRkVG8obWFwX2Y2ODdhN2RjNWM2ZTRhM2RhOTI2ZDhmMDY3NDllNzRhKTsKICAgICAgICAKICAgIAogICAgICAgIHZhciBwb3B1cF83ZTc5NTUzMGU4ZTQ0MWZlYThmYWQzMGFmMGIyNmQxNSA9IEwucG9wdXAoeyJtYXhXaWR0aCI6ICIxMDAlIn0pOwoKICAgICAgICAKICAgICAgICAgICAgdmFyIGh0bWxfZmMyOTYzNjhiMTQ1NGJlN2IwMTk3YzgxNTBmNDNlMzkgPSAkKGA8ZGl2IGlkPSJodG1sX2ZjMjk2MzY4YjE0NTRiZTdiMDE5N2M4MTUwZjQzZTM5IiBzdHlsZT0id2lkdGg6IDEwMC4wJTsgaGVpZ2h0OiAxMDAuMCU7Ij5Ub3JvbnRvIERvbWluaW9uIENlbnRyZSwgRGVzaWduIEV4Y2hhbmdlIENsdXN0ZXIgMDwvZGl2PmApWzBdOwogICAgICAgICAgICBwb3B1cF83ZTc5NTUzMGU4ZTQ0MWZlYThmYWQzMGFmMGIyNmQxNS5zZXRDb250ZW50KGh0bWxfZmMyOTYzNjhiMTQ1NGJlN2IwMTk3YzgxNTBmNDNlMzkpOwogICAgICAgIAoKICAgICAgICBjaXJjbGVfbWFya2VyX2Y1YmI0NDM0ZGE4YzQ0ZDVhNWUyYmMwYjRkNGQ5MzA2LmJpbmRQb3B1cChwb3B1cF83ZTc5NTUzMGU4ZTQ0MWZlYThmYWQzMGFmMGIyNmQxNSkKICAgICAgICA7CgogICAgICAgIAogICAgCiAgICAKICAgICAgICAgICAgdmFyIGNpcmNsZV9tYXJrZXJfZTg1MzhlMDdmZWU4NDg0MGI2Nzk1MDEzZWZmNDI3ZWQgPSBMLmNpcmNsZU1hcmtlcigKICAgICAgICAgICAgICAgIFs0My42MzY4NDcyLCAtNzkuNDI4MTkxNDAwMDAwMDJdLAogICAgICAgICAgICAgICAgeyJidWJibGluZ01vdXNlRXZlbnRzIjogdHJ1ZSwgImNvbG9yIjogIiNmZjAwMDAiLCAiZGFzaEFycmF5IjogbnVsbCwgImRhc2hPZmZzZXQiOiBudWxsLCAiZmlsbCI6IHRydWUsICJmaWxsQ29sb3IiOiAiI2ZmMDAwMCIsICJmaWxsT3BhY2l0eSI6IDAuNywgImZpbGxSdWxlIjogImV2ZW5vZGQiLCAibGluZUNhcCI6ICJyb3VuZCIsICJsaW5lSm9pbiI6ICJyb3VuZCIsICJvcGFjaXR5IjogMS4wLCAicmFkaXVzIjogNSwgInN0cm9rZSI6IHRydWUsICJ3ZWlnaHQiOiAzfQogICAgICAgICAgICApLmFkZFRvKG1hcF9mNjg3YTdkYzVjNmU0YTNkYTkyNmQ4ZjA2NzQ5ZTc0YSk7CiAgICAgICAgCiAgICAKICAgICAgICB2YXIgcG9wdXBfMzFmMWVhZWU0MjAzNDJlY2JhMzlhNDViNDFkMWVmOWEgPSBMLnBvcHVwKHsibWF4V2lkdGgiOiAiMTAwJSJ9KTsKCiAgICAgICAgCiAgICAgICAgICAgIHZhciBodG1sXzQ3N2I1NTAyOWVmNzQ5NzliNmQ3NDUzYjg3N2E4MGMzID0gJChgPGRpdiBpZD0iaHRtbF80NzdiNTUwMjllZjc0OTc5YjZkNzQ1M2I4NzdhODBjMyIgc3R5bGU9IndpZHRoOiAxMDAuMCU7IGhlaWdodDogMTAwLjAlOyI+QnJvY2t0b24sIFBhcmtkYWxlIFZpbGxhZ2UsIEV4aGliaXRpb24gUGxhY2UgQ2x1c3RlciAwPC9kaXY+YClbMF07CiAgICAgICAgICAgIHBvcHVwXzMxZjFlYWVlNDIwMzQyZWNiYTM5YTQ1YjQxZDFlZjlhLnNldENvbnRlbnQoaHRtbF80NzdiNTUwMjllZjc0OTc5YjZkNzQ1M2I4NzdhODBjMyk7CiAgICAgICAgCgogICAgICAgIGNpcmNsZV9tYXJrZXJfZTg1MzhlMDdmZWU4NDg0MGI2Nzk1MDEzZWZmNDI3ZWQuYmluZFBvcHVwKHBvcHVwXzMxZjFlYWVlNDIwMzQyZWNiYTM5YTQ1YjQxZDFlZjlhKQogICAgICAgIDsKCiAgICAgICAgCiAgICAKICAgIAogICAgICAgICAgICB2YXIgY2lyY2xlX21hcmtlcl9lM2U1ZDUzMmMxOTc0MGRjOWZjMzM3ZDJjNTc3NmJmYyA9IEwuY2lyY2xlTWFya2VyKAogICAgICAgICAgICAgICAgWzQzLjY2ODk5ODUsIC03OS4zMTU1NzE1OTk5OTk5OF0sCiAgICAgICAgICAgICAgICB7ImJ1YmJsaW5nTW91c2VFdmVudHMiOiB0cnVlLCAiY29sb3IiOiAiI2ZmMDAwMCIsICJkYXNoQXJyYXkiOiBudWxsLCAiZGFzaE9mZnNldCI6IG51bGwsICJmaWxsIjogdHJ1ZSwgImZpbGxDb2xvciI6ICIjZmYwMDAwIiwgImZpbGxPcGFjaXR5IjogMC43LCAiZmlsbFJ1bGUiOiAiZXZlbm9kZCIsICJsaW5lQ2FwIjogInJvdW5kIiwgImxpbmVKb2luIjogInJvdW5kIiwgIm9wYWNpdHkiOiAxLjAsICJyYWRpdXMiOiA1LCAic3Ryb2tlIjogdHJ1ZSwgIndlaWdodCI6IDN9CiAgICAgICAgICAgICkuYWRkVG8obWFwX2Y2ODdhN2RjNWM2ZTRhM2RhOTI2ZDhmMDY3NDllNzRhKTsKICAgICAgICAKICAgIAogICAgICAgIHZhciBwb3B1cF83ZjkyYmYzNzkwYzg0OTI5OWM0NjQ3YmYxYzJkMWU3MCA9IEwucG9wdXAoeyJtYXhXaWR0aCI6ICIxMDAlIn0pOwoKICAgICAgICAKICAgICAgICAgICAgdmFyIGh0bWxfMjg4ZWI5NjhiNzY4NDlmYjg1ZTI5NmNiOTVhMDJkZDYgPSAkKGA8ZGl2IGlkPSJodG1sXzI4OGViOTY4Yjc2ODQ5ZmI4NWUyOTZjYjk1YTAyZGQ2IiBzdHlsZT0id2lkdGg6IDEwMC4wJTsgaGVpZ2h0OiAxMDAuMCU7Ij5JbmRpYSBCYXphYXIsIFRoZSBCZWFjaGVzIFdlc3QgQ2x1c3RlciAwPC9kaXY+YClbMF07CiAgICAgICAgICAgIHBvcHVwXzdmOTJiZjM3OTBjODQ5Mjk5YzQ2NDdiZjFjMmQxZTcwLnNldENvbnRlbnQoaHRtbF8yODhlYjk2OGI3Njg0OWZiODVlMjk2Y2I5NWEwMmRkNik7CiAgICAgICAgCgogICAgICAgIGNpcmNsZV9tYXJrZXJfZTNlNWQ1MzJjMTk3NDBkYzlmYzMzN2QyYzU3NzZiZmMuYmluZFBvcHVwKHBvcHVwXzdmOTJiZjM3OTBjODQ5Mjk5YzQ2NDdiZjFjMmQxZTcwKQogICAgICAgIDsKCiAgICAgICAgCiAgICAKICAgIAogICAgICAgICAgICB2YXIgY2lyY2xlX21hcmtlcl8xYTUwOWVjMzAzOGE0MWNiYWVhZTFiZWYyY2E4MmUwZCA9IEwuY2lyY2xlTWFya2VyKAogICAgICAgICAgICAgICAgWzQzLjY0ODE5ODUsIC03OS4zNzk4MTY5MDAwMDAwMV0sCiAgICAgICAgICAgICAgICB7ImJ1YmJsaW5nTW91c2VFdmVudHMiOiB0cnVlLCAiY29sb3IiOiAiI2ZmMDAwMCIsICJkYXNoQXJyYXkiOiBudWxsLCAiZGFzaE9mZnNldCI6IG51bGwsICJmaWxsIjogdHJ1ZSwgImZpbGxDb2xvciI6ICIjZmYwMDAwIiwgImZpbGxPcGFjaXR5IjogMC43LCAiZmlsbFJ1bGUiOiAiZXZlbm9kZCIsICJsaW5lQ2FwIjogInJvdW5kIiwgImxpbmVKb2luIjogInJvdW5kIiwgIm9wYWNpdHkiOiAxLjAsICJyYWRpdXMiOiA1LCAic3Ryb2tlIjogdHJ1ZSwgIndlaWdodCI6IDN9CiAgICAgICAgICAgICkuYWRkVG8obWFwX2Y2ODdhN2RjNWM2ZTRhM2RhOTI2ZDhmMDY3NDllNzRhKTsKICAgICAgICAKICAgIAogICAgICAgIHZhciBwb3B1cF82ZDUzODRmYWQxMjg0Y2JmODc1NDgwODk2MmY4YmU2NSA9IEwucG9wdXAoeyJtYXhXaWR0aCI6ICIxMDAlIn0pOwoKICAgICAgICAKICAgICAgICAgICAgdmFyIGh0bWxfMTEyNGRiYzljMDIwNGU1Yzg0NGEyMTJiYWJmYjQxNDQgPSAkKGA8ZGl2IGlkPSJodG1sXzExMjRkYmM5YzAyMDRlNWM4NDRhMjEyYmFiZmI0MTQ0IiBzdHlsZT0id2lkdGg6IDEwMC4wJTsgaGVpZ2h0OiAxMDAuMCU7Ij5Db21tZXJjZSBDb3VydCwgVmljdG9yaWEgSG90ZWwgQ2x1c3RlciAwPC9kaXY+YClbMF07CiAgICAgICAgICAgIHBvcHVwXzZkNTM4NGZhZDEyODRjYmY4NzU0ODA4OTYyZjhiZTY1LnNldENvbnRlbnQoaHRtbF8xMTI0ZGJjOWMwMjA0ZTVjODQ0YTIxMmJhYmZiNDE0NCk7CiAgICAgICAgCgogICAgICAgIGNpcmNsZV9tYXJrZXJfMWE1MDllYzMwMzhhNDFjYmFlYWUxYmVmMmNhODJlMGQuYmluZFBvcHVwKHBvcHVwXzZkNTM4NGZhZDEyODRjYmY4NzU0ODA4OTYyZjhiZTY1KQogICAgICAgIDsKCiAgICAgICAgCiAgICAKICAgIAogICAgICAgICAgICB2YXIgY2lyY2xlX21hcmtlcl85NTQ3MGM5NzU3YmE0ZTUyOGE1MjA1NTgxNGM5M2U4OCA9IEwuY2lyY2xlTWFya2VyKAogICAgICAgICAgICAgICAgWzQzLjY1OTUyNTUsIC03OS4zNDA5MjNdLAogICAgICAgICAgICAgICAgeyJidWJibGluZ01vdXNlRXZlbnRzIjogdHJ1ZSwgImNvbG9yIjogIiNmZjAwMDAiLCAiZGFzaEFycmF5IjogbnVsbCwgImRhc2hPZmZzZXQiOiBudWxsLCAiZmlsbCI6IHRydWUsICJmaWxsQ29sb3IiOiAiI2ZmMDAwMCIsICJmaWxsT3BhY2l0eSI6IDAuNywgImZpbGxSdWxlIjogImV2ZW5vZGQiLCAibGluZUNhcCI6ICJyb3VuZCIsICJsaW5lSm9pbiI6ICJyb3VuZCIsICJvcGFjaXR5IjogMS4wLCAicmFkaXVzIjogNSwgInN0cm9rZSI6IHRydWUsICJ3ZWlnaHQiOiAzfQogICAgICAgICAgICApLmFkZFRvKG1hcF9mNjg3YTdkYzVjNmU0YTNkYTkyNmQ4ZjA2NzQ5ZTc0YSk7CiAgICAgICAgCiAgICAKICAgICAgICB2YXIgcG9wdXBfNTVlNDMzYmE5YzQ4NGNlYTg5MjM5YzUzZmM2OTYyNWYgPSBMLnBvcHVwKHsibWF4V2lkdGgiOiAiMTAwJSJ9KTsKCiAgICAgICAgCiAgICAgICAgICAgIHZhciBodG1sXzQwYzVhMjQyMjhiZjQ4YmQ5MTA5OWFhYTFhMzhlM2I3ID0gJChgPGRpdiBpZD0iaHRtbF80MGM1YTI0MjI4YmY0OGJkOTEwOTlhYWExYTM4ZTNiNyIgc3R5bGU9IndpZHRoOiAxMDAuMCU7IGhlaWdodDogMTAwLjAlOyI+U3R1ZGlvIERpc3RyaWN0IENsdXN0ZXIgMDwvZGl2PmApWzBdOwogICAgICAgICAgICBwb3B1cF81NWU0MzNiYTljNDg0Y2VhODkyMzljNTNmYzY5NjI1Zi5zZXRDb250ZW50KGh0bWxfNDBjNWEyNDIyOGJmNDhiZDkxMDk5YWFhMWEzOGUzYjcpOwogICAgICAgIAoKICAgICAgICBjaXJjbGVfbWFya2VyXzk1NDcwYzk3NTdiYTRlNTI4YTUyMDU1ODE0YzkzZTg4LmJpbmRQb3B1cChwb3B1cF81NWU0MzNiYTljNDg0Y2VhODkyMzljNTNmYzY5NjI1ZikKICAgICAgICA7CgogICAgICAgIAogICAgCiAgICAKICAgICAgICAgICAgdmFyIGNpcmNsZV9tYXJrZXJfMzEyNDEyYjVjMGRhNGI3YTkyYzhiMmM3YTk0YzhmNWUgPSBMLmNpcmNsZU1hcmtlcigKICAgICAgICAgICAgICAgIFs0My43MjgwMjA1LCAtNzkuMzg4NzkwMV0sCiAgICAgICAgICAgICAgICB7ImJ1YmJsaW5nTW91c2VFdmVudHMiOiB0cnVlLCAiY29sb3IiOiAiI2ZmMDAwMCIsICJkYXNoQXJyYXkiOiBudWxsLCAiZGFzaE9mZnNldCI6IG51bGwsICJmaWxsIjogdHJ1ZSwgImZpbGxDb2xvciI6ICIjZmYwMDAwIiwgImZpbGxPcGFjaXR5IjogMC43LCAiZmlsbFJ1bGUiOiAiZXZlbm9kZCIsICJsaW5lQ2FwIjogInJvdW5kIiwgImxpbmVKb2luIjogInJvdW5kIiwgIm9wYWNpdHkiOiAxLjAsICJyYWRpdXMiOiA1LCAic3Ryb2tlIjogdHJ1ZSwgIndlaWdodCI6IDN9CiAgICAgICAgICAgICkuYWRkVG8obWFwX2Y2ODdhN2RjNWM2ZTRhM2RhOTI2ZDhmMDY3NDllNzRhKTsKICAgICAgICAKICAgIAogICAgICAgIHZhciBwb3B1cF8yZjEzNzE2YjI4YjI0ZDUyOWMyZjdkNzE5N2I4MjM0ZiA9IEwucG9wdXAoeyJtYXhXaWR0aCI6ICIxMDAlIn0pOwoKICAgICAgICAKICAgICAgICAgICAgdmFyIGh0bWxfNzYzNTc0MDY1YjY4NDEwOWEyM2FhMTM3NWUxMGU3ZWMgPSAkKGA8ZGl2IGlkPSJodG1sXzc2MzU3NDA2NWI2ODQxMDlhMjNhYTEzNzVlMTBlN2VjIiBzdHlsZT0id2lkdGg6IDEwMC4wJTsgaGVpZ2h0OiAxMDAuMCU7Ij5MYXdyZW5jZSBQYXJrIENsdXN0ZXIgMDwvZGl2PmApWzBdOwogICAgICAgICAgICBwb3B1cF8yZjEzNzE2YjI4YjI0ZDUyOWMyZjdkNzE5N2I4MjM0Zi5zZXRDb250ZW50KGh0bWxfNzYzNTc0MDY1YjY4NDEwOWEyM2FhMTM3NWUxMGU3ZWMpOwogICAgICAgIAoKICAgICAgICBjaXJjbGVfbWFya2VyXzMxMjQxMmI1YzBkYTRiN2E5MmM4YjJjN2E5NGM4ZjVlLmJpbmRQb3B1cChwb3B1cF8yZjEzNzE2YjI4YjI0ZDUyOWMyZjdkNzE5N2I4MjM0ZikKICAgICAgICA7CgogICAgICAgIAogICAgCiAgICAKICAgICAgICAgICAgdmFyIGNpcmNsZV9tYXJrZXJfY2JiMzk0NTg3OWE1NGI1Yzk4MTQyZjAxZDdjMTNlMjYgPSBMLmNpcmNsZU1hcmtlcigKICAgICAgICAgICAgICAgIFs0My43MTE2OTQ4LCAtNzkuNDE2OTM1NTk5OTk5OTldLAogICAgICAgICAgICAgICAgeyJidWJibGluZ01vdXNlRXZlbnRzIjogdHJ1ZSwgImNvbG9yIjogIiM4MGZmYjQiLCAiZGFzaEFycmF5IjogbnVsbCwgImRhc2hPZmZzZXQiOiBudWxsLCAiZmlsbCI6IHRydWUsICJmaWxsQ29sb3IiOiAiIzgwZmZiNCIsICJmaWxsT3BhY2l0eSI6IDAuNywgImZpbGxSdWxlIjogImV2ZW5vZGQiLCAibGluZUNhcCI6ICJyb3VuZCIsICJsaW5lSm9pbiI6ICJyb3VuZCIsICJvcGFjaXR5IjogMS4wLCAicmFkaXVzIjogNSwgInN0cm9rZSI6IHRydWUsICJ3ZWlnaHQiOiAzfQogICAgICAgICAgICApLmFkZFRvKG1hcF9mNjg3YTdkYzVjNmU0YTNkYTkyNmQ4ZjA2NzQ5ZTc0YSk7CiAgICAgICAgCiAgICAKICAgICAgICB2YXIgcG9wdXBfM2I3NTE1MTNhMGM3NDhlMTlmNDdhZDVhYzk1ZjlmYjIgPSBMLnBvcHVwKHsibWF4V2lkdGgiOiAiMTAwJSJ9KTsKCiAgICAgICAgCiAgICAgICAgICAgIHZhciBodG1sX2Q1N2UwZWUxMDA4ZDRlYjhhNjM1YjZmYTk0NGI1MGUzID0gJChgPGRpdiBpZD0iaHRtbF9kNTdlMGVlMTAwOGQ0ZWI4YTYzNWI2ZmE5NDRiNTBlMyIgc3R5bGU9IndpZHRoOiAxMDAuMCU7IGhlaWdodDogMTAwLjAlOyI+Um9zZWxhd24gQ2x1c3RlciAyPC9kaXY+YClbMF07CiAgICAgICAgICAgIHBvcHVwXzNiNzUxNTEzYTBjNzQ4ZTE5ZjQ3YWQ1YWM5NWY5ZmIyLnNldENvbnRlbnQoaHRtbF9kNTdlMGVlMTAwOGQ0ZWI4YTYzNWI2ZmE5NDRiNTBlMyk7CiAgICAgICAgCgogICAgICAgIGNpcmNsZV9tYXJrZXJfY2JiMzk0NTg3OWE1NGI1Yzk4MTQyZjAxZDdjMTNlMjYuYmluZFBvcHVwKHBvcHVwXzNiNzUxNTEzYTBjNzQ4ZTE5ZjQ3YWQ1YWM5NWY5ZmIyKQogICAgICAgIDsKCiAgICAgICAgCiAgICAKICAgIAogICAgICAgICAgICB2YXIgY2lyY2xlX21hcmtlcl9jNTJhOTg1NWExZTM0MzNmODNlNTc4OTFhZjlkYmVjZSA9IEwuY2lyY2xlTWFya2VyKAogICAgICAgICAgICAgICAgWzQzLjcxMjc1MTEsIC03OS4zOTAxOTc1XSwKICAgICAgICAgICAgICAgIHsiYnViYmxpbmdNb3VzZUV2ZW50cyI6IHRydWUsICJjb2xvciI6ICIjZmYwMDAwIiwgImRhc2hBcnJheSI6IG51bGwsICJkYXNoT2Zmc2V0IjogbnVsbCwgImZpbGwiOiB0cnVlLCAiZmlsbENvbG9yIjogIiNmZjAwMDAiLCAiZmlsbE9wYWNpdHkiOiAwLjcsICJmaWxsUnVsZSI6ICJldmVub2RkIiwgImxpbmVDYXAiOiAicm91bmQiLCAibGluZUpvaW4iOiAicm91bmQiLCAib3BhY2l0eSI6IDEuMCwgInJhZGl1cyI6IDUsICJzdHJva2UiOiB0cnVlLCAid2VpZ2h0IjogM30KICAgICAgICAgICAgKS5hZGRUbyhtYXBfZjY4N2E3ZGM1YzZlNGEzZGE5MjZkOGYwNjc0OWU3NGEpOwogICAgICAgIAogICAgCiAgICAgICAgdmFyIHBvcHVwXzMzMmZhNDYwOTdkNjQ4YTI5YWIzZjFmMTE1ZjI0ZGNmID0gTC5wb3B1cCh7Im1heFdpZHRoIjogIjEwMCUifSk7CgogICAgICAgIAogICAgICAgICAgICB2YXIgaHRtbF9hNTg0MWI5NzBhY2I0NTA1YTRkZDQ5NTgwNjFhY2JlYyA9ICQoYDxkaXYgaWQ9Imh0bWxfYTU4NDFiOTcwYWNiNDUwNWE0ZGQ0OTU4MDYxYWNiZWMiIHN0eWxlPSJ3aWR0aDogMTAwLjAlOyBoZWlnaHQ6IDEwMC4wJTsiPkRhdmlzdmlsbGUgTm9ydGggQ2x1c3RlciAwPC9kaXY+YClbMF07CiAgICAgICAgICAgIHBvcHVwXzMzMmZhNDYwOTdkNjQ4YTI5YWIzZjFmMTE1ZjI0ZGNmLnNldENvbnRlbnQoaHRtbF9hNTg0MWI5NzBhY2I0NTA1YTRkZDQ5NTgwNjFhY2JlYyk7CiAgICAgICAgCgogICAgICAgIGNpcmNsZV9tYXJrZXJfYzUyYTk4NTVhMWUzNDMzZjgzZTU3ODkxYWY5ZGJlY2UuYmluZFBvcHVwKHBvcHVwXzMzMmZhNDYwOTdkNjQ4YTI5YWIzZjFmMTE1ZjI0ZGNmKQogICAgICAgIDsKCiAgICAgICAgCiAgICAKICAgIAogICAgICAgICAgICB2YXIgY2lyY2xlX21hcmtlcl8yMGIzNjcyZmU0NWQ0YmMzYTJkM2RlOTg5NGU1OTZiNCA9IEwuY2lyY2xlTWFya2VyKAogICAgICAgICAgICAgICAgWzQzLjY5Njk0NzYsIC03OS40MTEzMDcyMDAwMDAwMV0sCiAgICAgICAgICAgICAgICB7ImJ1YmJsaW5nTW91c2VFdmVudHMiOiB0cnVlLCAiY29sb3IiOiAiI2ZmMDAwMCIsICJkYXNoQXJyYXkiOiBudWxsLCAiZGFzaE9mZnNldCI6IG51bGwsICJmaWxsIjogdHJ1ZSwgImZpbGxDb2xvciI6ICIjZmYwMDAwIiwgImZpbGxPcGFjaXR5IjogMC43LCAiZmlsbFJ1bGUiOiAiZXZlbm9kZCIsICJsaW5lQ2FwIjogInJvdW5kIiwgImxpbmVKb2luIjogInJvdW5kIiwgIm9wYWNpdHkiOiAxLjAsICJyYWRpdXMiOiA1LCAic3Ryb2tlIjogdHJ1ZSwgIndlaWdodCI6IDN9CiAgICAgICAgICAgICkuYWRkVG8obWFwX2Y2ODdhN2RjNWM2ZTRhM2RhOTI2ZDhmMDY3NDllNzRhKTsKICAgICAgICAKICAgIAogICAgICAgIHZhciBwb3B1cF8yOThkZDMwMjJmMjE0ZDFhYTczOGM3ZjU5NDg3NDE4MyA9IEwucG9wdXAoeyJtYXhXaWR0aCI6ICIxMDAlIn0pOwoKICAgICAgICAKICAgICAgICAgICAgdmFyIGh0bWxfNWZmODZhN2ZjMjA2NGFjYzllYTM3ZmY0OWFmYzFjYTcgPSAkKGA8ZGl2IGlkPSJodG1sXzVmZjg2YTdmYzIwNjRhY2M5ZWEzN2ZmNDlhZmMxY2E3IiBzdHlsZT0id2lkdGg6IDEwMC4wJTsgaGVpZ2h0OiAxMDAuMCU7Ij5Gb3Jlc3QgSGlsbCBOb3J0aCAmYW1wOyBXZXN0IENsdXN0ZXIgMDwvZGl2PmApWzBdOwogICAgICAgICAgICBwb3B1cF8yOThkZDMwMjJmMjE0ZDFhYTczOGM3ZjU5NDg3NDE4My5zZXRDb250ZW50KGh0bWxfNWZmODZhN2ZjMjA2NGFjYzllYTM3ZmY0OWFmYzFjYTcpOwogICAgICAgIAoKICAgICAgICBjaXJjbGVfbWFya2VyXzIwYjM2NzJmZTQ1ZDRiYzNhMmQzZGU5ODk0ZTU5NmI0LmJpbmRQb3B1cChwb3B1cF8yOThkZDMwMjJmMjE0ZDFhYTczOGM3ZjU5NDg3NDE4MykKICAgICAgICA7CgogICAgICAgIAogICAgCiAgICAKICAgICAgICAgICAgdmFyIGNpcmNsZV9tYXJrZXJfZjBjODZhNjg1ZGIyNGQ2YWEyZWZiNzliMWQyMzg0ZDcgPSBMLmNpcmNsZU1hcmtlcigKICAgICAgICAgICAgICAgIFs0My42NjE2MDgzLCAtNzkuNDY0NzYzMjk5OTk5OTldLAogICAgICAgICAgICAgICAgeyJidWJibGluZ01vdXNlRXZlbnRzIjogdHJ1ZSwgImNvbG9yIjogIiNmZjAwMDAiLCAiZGFzaEFycmF5IjogbnVsbCwgImRhc2hPZmZzZXQiOiBudWxsLCAiZmlsbCI6IHRydWUsICJmaWxsQ29sb3IiOiAiI2ZmMDAwMCIsICJmaWxsT3BhY2l0eSI6IDAuNywgImZpbGxSdWxlIjogImV2ZW5vZGQiLCAibGluZUNhcCI6ICJyb3VuZCIsICJsaW5lSm9pbiI6ICJyb3VuZCIsICJvcGFjaXR5IjogMS4wLCAicmFkaXVzIjogNSwgInN0cm9rZSI6IHRydWUsICJ3ZWlnaHQiOiAzfQogICAgICAgICAgICApLmFkZFRvKG1hcF9mNjg3YTdkYzVjNmU0YTNkYTkyNmQ4ZjA2NzQ5ZTc0YSk7CiAgICAgICAgCiAgICAKICAgICAgICB2YXIgcG9wdXBfYzdiNzgwOGUyNGQ0NDk4OTk4ODkyMDkwOGE3ODkxNDAgPSBMLnBvcHVwKHsibWF4V2lkdGgiOiAiMTAwJSJ9KTsKCiAgICAgICAgCiAgICAgICAgICAgIHZhciBodG1sXzhkZjEwZWU2NzA5NjRjZmY4MDBkMjdhNjJjMjU2NTk5ID0gJChgPGRpdiBpZD0iaHRtbF84ZGYxMGVlNjcwOTY0Y2ZmODAwZDI3YTYyYzI1NjU5OSIgc3R5bGU9IndpZHRoOiAxMDAuMCU7IGhlaWdodDogMTAwLjAlOyI+SGlnaCBQYXJrLCBUaGUgSnVuY3Rpb24gU291dGggQ2x1c3RlciAwPC9kaXY+YClbMF07CiAgICAgICAgICAgIHBvcHVwX2M3Yjc4MDhlMjRkNDQ5ODk5ODg5MjA5MDhhNzg5MTQwLnNldENvbnRlbnQoaHRtbF84ZGYxMGVlNjcwOTY0Y2ZmODAwZDI3YTYyYzI1NjU5OSk7CiAgICAgICAgCgogICAgICAgIGNpcmNsZV9tYXJrZXJfZjBjODZhNjg1ZGIyNGQ2YWEyZWZiNzliMWQyMzg0ZDcuYmluZFBvcHVwKHBvcHVwX2M3Yjc4MDhlMjRkNDQ5ODk5ODg5MjA5MDhhNzg5MTQwKQogICAgICAgIDsKCiAgICAgICAgCiAgICAKICAgIAogICAgICAgICAgICB2YXIgY2lyY2xlX21hcmtlcl9hODJiZGRlNDE3M2Q0MTA5YmQ0ZTc1M2MxN2FlOGY5NiA9IEwuY2lyY2xlTWFya2VyKAogICAgICAgICAgICAgICAgWzQzLjcxNTM4MzQsIC03OS40MDU2Nzg0MDAwMDAwMV0sCiAgICAgICAgICAgICAgICB7ImJ1YmJsaW5nTW91c2VFdmVudHMiOiB0cnVlLCAiY29sb3IiOiAiI2ZmMDAwMCIsICJkYXNoQXJyYXkiOiBudWxsLCAiZGFzaE9mZnNldCI6IG51bGwsICJmaWxsIjogdHJ1ZSwgImZpbGxDb2xvciI6ICIjZmYwMDAwIiwgImZpbGxPcGFjaXR5IjogMC43LCAiZmlsbFJ1bGUiOiAiZXZlbm9kZCIsICJsaW5lQ2FwIjogInJvdW5kIiwgImxpbmVKb2luIjogInJvdW5kIiwgIm9wYWNpdHkiOiAxLjAsICJyYWRpdXMiOiA1LCAic3Ryb2tlIjogdHJ1ZSwgIndlaWdodCI6IDN9CiAgICAgICAgICAgICkuYWRkVG8obWFwX2Y2ODdhN2RjNWM2ZTRhM2RhOTI2ZDhmMDY3NDllNzRhKTsKICAgICAgICAKICAgIAogICAgICAgIHZhciBwb3B1cF82ZTQ1OTk4MjkyOTU0YjRlYjIwYmVjYTFkZDEyZTI0ZSA9IEwucG9wdXAoeyJtYXhXaWR0aCI6ICIxMDAlIn0pOwoKICAgICAgICAKICAgICAgICAgICAgdmFyIGh0bWxfMGUzNGJhMDMzOGIzNDg0YWE3MThiNzc1MmMxMTNmZjMgPSAkKGA8ZGl2IGlkPSJodG1sXzBlMzRiYTAzMzhiMzQ4NGFhNzE4Yjc3NTJjMTEzZmYzIiBzdHlsZT0id2lkdGg6IDEwMC4wJTsgaGVpZ2h0OiAxMDAuMCU7Ij5Ob3J0aCBUb3JvbnRvIFdlc3QgQ2x1c3RlciAwPC9kaXY+YClbMF07CiAgICAgICAgICAgIHBvcHVwXzZlNDU5OTgyOTI5NTRiNGViMjBiZWNhMWRkMTJlMjRlLnNldENvbnRlbnQoaHRtbF8wZTM0YmEwMzM4YjM0ODRhYTcxOGI3NzUyYzExM2ZmMyk7CiAgICAgICAgCgogICAgICAgIGNpcmNsZV9tYXJrZXJfYTgyYmRkZTQxNzNkNDEwOWJkNGU3NTNjMTdhZThmOTYuYmluZFBvcHVwKHBvcHVwXzZlNDU5OTgyOTI5NTRiNGViMjBiZWNhMWRkMTJlMjRlKQogICAgICAgIDsKCiAgICAgICAgCiAgICAKICAgIAogICAgICAgICAgICB2YXIgY2lyY2xlX21hcmtlcl8wYThlN2RlYTUxYTQ0ODhhYTM5MDNiM2MyZDYwZjFjNCA9IEwuY2lyY2xlTWFya2VyKAogICAgICAgICAgICAgICAgWzQzLjY3MjcwOTcsIC03OS40MDU2Nzg0MDAwMDAwMV0sCiAgICAgICAgICAgICAgICB7ImJ1YmJsaW5nTW91c2VFdmVudHMiOiB0cnVlLCAiY29sb3IiOiAiI2ZmMDAwMCIsICJkYXNoQXJyYXkiOiBudWxsLCAiZGFzaE9mZnNldCI6IG51bGwsICJmaWxsIjogdHJ1ZSwgImZpbGxDb2xvciI6ICIjZmYwMDAwIiwgImZpbGxPcGFjaXR5IjogMC43LCAiZmlsbFJ1bGUiOiAiZXZlbm9kZCIsICJsaW5lQ2FwIjogInJvdW5kIiwgImxpbmVKb2luIjogInJvdW5kIiwgIm9wYWNpdHkiOiAxLjAsICJyYWRpdXMiOiA1LCAic3Ryb2tlIjogdHJ1ZSwgIndlaWdodCI6IDN9CiAgICAgICAgICAgICkuYWRkVG8obWFwX2Y2ODdhN2RjNWM2ZTRhM2RhOTI2ZDhmMDY3NDllNzRhKTsKICAgICAgICAKICAgIAogICAgICAgIHZhciBwb3B1cF81Nzg2ZmZiZDhmYWM0YzExYjhkZjZkNTY2OWJjZWFjOCA9IEwucG9wdXAoeyJtYXhXaWR0aCI6ICIxMDAlIn0pOwoKICAgICAgICAKICAgICAgICAgICAgdmFyIGh0bWxfMzNiNDAwZWJkNWVhNGUyOGEzMzI3YWYyNTU2NjVhOTggPSAkKGA8ZGl2IGlkPSJodG1sXzMzYjQwMGViZDVlYTRlMjhhMzMyN2FmMjU1NjY1YTk4IiBzdHlsZT0id2lkdGg6IDEwMC4wJTsgaGVpZ2h0OiAxMDAuMCU7Ij5UaGUgQW5uZXgsIE5vcnRoIE1pZHRvd24sIFlvcmt2aWxsZSBDbHVzdGVyIDA8L2Rpdj5gKVswXTsKICAgICAgICAgICAgcG9wdXBfNTc4NmZmYmQ4ZmFjNGMxMWI4ZGY2ZDU2NjliY2VhYzguc2V0Q29udGVudChodG1sXzMzYjQwMGViZDVlYTRlMjhhMzMyN2FmMjU1NjY1YTk4KTsKICAgICAgICAKCiAgICAgICAgY2lyY2xlX21hcmtlcl8wYThlN2RlYTUxYTQ0ODhhYTM5MDNiM2MyZDYwZjFjNC5iaW5kUG9wdXAocG9wdXBfNTc4NmZmYmQ4ZmFjNGMxMWI4ZGY2ZDU2NjliY2VhYzgpCiAgICAgICAgOwoKICAgICAgICAKICAgIAogICAgCiAgICAgICAgICAgIHZhciBjaXJjbGVfbWFya2VyXzYwMGRhMDY5YzhhYTQ4ZGRhMDc4Njk0ZDJjOGJiYmI1ID0gTC5jaXJjbGVNYXJrZXIoCiAgICAgICAgICAgICAgICBbNDMuNjQ4OTU5NywgLTc5LjQ1NjMyNV0sCiAgICAgICAgICAgICAgICB7ImJ1YmJsaW5nTW91c2VFdmVudHMiOiB0cnVlLCAiY29sb3IiOiAiI2ZmMDAwMCIsICJkYXNoQXJyYXkiOiBudWxsLCAiZGFzaE9mZnNldCI6IG51bGwsICJmaWxsIjogdHJ1ZSwgImZpbGxDb2xvciI6ICIjZmYwMDAwIiwgImZpbGxPcGFjaXR5IjogMC43LCAiZmlsbFJ1bGUiOiAiZXZlbm9kZCIsICJsaW5lQ2FwIjogInJvdW5kIiwgImxpbmVKb2luIjogInJvdW5kIiwgIm9wYWNpdHkiOiAxLjAsICJyYWRpdXMiOiA1LCAic3Ryb2tlIjogdHJ1ZSwgIndlaWdodCI6IDN9CiAgICAgICAgICAgICkuYWRkVG8obWFwX2Y2ODdhN2RjNWM2ZTRhM2RhOTI2ZDhmMDY3NDllNzRhKTsKICAgICAgICAKICAgIAogICAgICAgIHZhciBwb3B1cF8wZTY0NGFkYzllZjc0YzM3YTdjMjlhZDI1MTI1ZjQ3OCA9IEwucG9wdXAoeyJtYXhXaWR0aCI6ICIxMDAlIn0pOwoKICAgICAgICAKICAgICAgICAgICAgdmFyIGh0bWxfN2I3NWEwNGUzNzhhNDE3MGFhNDRlMjQyMTRkMzU1YTEgPSAkKGA8ZGl2IGlkPSJodG1sXzdiNzVhMDRlMzc4YTQxNzBhYTQ0ZTI0MjE0ZDM1NWExIiBzdHlsZT0id2lkdGg6IDEwMC4wJTsgaGVpZ2h0OiAxMDAuMCU7Ij5QYXJrZGFsZSwgUm9uY2VzdmFsbGVzIENsdXN0ZXIgMDwvZGl2PmApWzBdOwogICAgICAgICAgICBwb3B1cF8wZTY0NGFkYzllZjc0YzM3YTdjMjlhZDI1MTI1ZjQ3OC5zZXRDb250ZW50KGh0bWxfN2I3NWEwNGUzNzhhNDE3MGFhNDRlMjQyMTRkMzU1YTEpOwogICAgICAgIAoKICAgICAgICBjaXJjbGVfbWFya2VyXzYwMGRhMDY5YzhhYTQ4ZGRhMDc4Njk0ZDJjOGJiYmI1LmJpbmRQb3B1cChwb3B1cF8wZTY0NGFkYzllZjc0YzM3YTdjMjlhZDI1MTI1ZjQ3OCkKICAgICAgICA7CgogICAgICAgIAogICAgCiAgICAKICAgICAgICAgICAgdmFyIGNpcmNsZV9tYXJrZXJfMGEzMzM0MGQyNzU4NDFiNjg3YjE4MjM1NDJmNTNmNTUgPSBMLmNpcmNsZU1hcmtlcigKICAgICAgICAgICAgICAgIFs0My43MDQzMjQ0LCAtNzkuMzg4NzkwMV0sCiAgICAgICAgICAgICAgICB7ImJ1YmJsaW5nTW91c2VFdmVudHMiOiB0cnVlLCAiY29sb3IiOiAiI2ZmMDAwMCIsICJkYXNoQXJyYXkiOiBudWxsLCAiZGFzaE9mZnNldCI6IG51bGwsICJmaWxsIjogdHJ1ZSwgImZpbGxDb2xvciI6ICIjZmYwMDAwIiwgImZpbGxPcGFjaXR5IjogMC43LCAiZmlsbFJ1bGUiOiAiZXZlbm9kZCIsICJsaW5lQ2FwIjogInJvdW5kIiwgImxpbmVKb2luIjogInJvdW5kIiwgIm9wYWNpdHkiOiAxLjAsICJyYWRpdXMiOiA1LCAic3Ryb2tlIjogdHJ1ZSwgIndlaWdodCI6IDN9CiAgICAgICAgICAgICkuYWRkVG8obWFwX2Y2ODdhN2RjNWM2ZTRhM2RhOTI2ZDhmMDY3NDllNzRhKTsKICAgICAgICAKICAgIAogICAgICAgIHZhciBwb3B1cF9kMTg2M2IzMTc0YjM0MGM2ODMyZjdlZTA3ZGM3MmQ5OSA9IEwucG9wdXAoeyJtYXhXaWR0aCI6ICIxMDAlIn0pOwoKICAgICAgICAKICAgICAgICAgICAgdmFyIGh0bWxfYTg0ZTNhOGYyZWVmNDYyZmE1Y2RhZjY4MmI4ZTJiZDIgPSAkKGA8ZGl2IGlkPSJodG1sX2E4NGUzYThmMmVlZjQ2MmZhNWNkYWY2ODJiOGUyYmQyIiBzdHlsZT0id2lkdGg6IDEwMC4wJTsgaGVpZ2h0OiAxMDAuMCU7Ij5EYXZpc3ZpbGxlIENsdXN0ZXIgMDwvZGl2PmApWzBdOwogICAgICAgICAgICBwb3B1cF9kMTg2M2IzMTc0YjM0MGM2ODMyZjdlZTA3ZGM3MmQ5OS5zZXRDb250ZW50KGh0bWxfYTg0ZTNhOGYyZWVmNDYyZmE1Y2RhZjY4MmI4ZTJiZDIpOwogICAgICAgIAoKICAgICAgICBjaXJjbGVfbWFya2VyXzBhMzMzNDBkMjc1ODQxYjY4N2IxODIzNTQyZjUzZjU1LmJpbmRQb3B1cChwb3B1cF9kMTg2M2IzMTc0YjM0MGM2ODMyZjdlZTA3ZGM3MmQ5OSkKICAgICAgICA7CgogICAgICAgIAogICAgCiAgICAKICAgICAgICAgICAgdmFyIGNpcmNsZV9tYXJrZXJfYzYzYTFlODkyMDcwNGRhNGI2NzNhNjcxNmY3OTk5MmIgPSBMLmNpcmNsZU1hcmtlcigKICAgICAgICAgICAgICAgIFs0My42NjI2OTU2LCAtNzkuNDAwMDQ5M10sCiAgICAgICAgICAgICAgICB7ImJ1YmJsaW5nTW91c2VFdmVudHMiOiB0cnVlLCAiY29sb3IiOiAiI2ZmMDAwMCIsICJkYXNoQXJyYXkiOiBudWxsLCAiZGFzaE9mZnNldCI6IG51bGwsICJmaWxsIjogdHJ1ZSwgImZpbGxDb2xvciI6ICIjZmYwMDAwIiwgImZpbGxPcGFjaXR5IjogMC43LCAiZmlsbFJ1bGUiOiAiZXZlbm9kZCIsICJsaW5lQ2FwIjogInJvdW5kIiwgImxpbmVKb2luIjogInJvdW5kIiwgIm9wYWNpdHkiOiAxLjAsICJyYWRpdXMiOiA1LCAic3Ryb2tlIjogdHJ1ZSwgIndlaWdodCI6IDN9CiAgICAgICAgICAgICkuYWRkVG8obWFwX2Y2ODdhN2RjNWM2ZTRhM2RhOTI2ZDhmMDY3NDllNzRhKTsKICAgICAgICAKICAgIAogICAgICAgIHZhciBwb3B1cF80NjhkY2M4OGU3OTE0Y2I2YjkzMmQzZTI2ODY2YjdmYyA9IEwucG9wdXAoeyJtYXhXaWR0aCI6ICIxMDAlIn0pOwoKICAgICAgICAKICAgICAgICAgICAgdmFyIGh0bWxfYjEwMWYwMzBmNmE5NGMxMWE5NzkxOTFmNzIyY2E3YTcgPSAkKGA8ZGl2IGlkPSJodG1sX2IxMDFmMDMwZjZhOTRjMTFhOTc5MTkxZjcyMmNhN2E3IiBzdHlsZT0id2lkdGg6IDEwMC4wJTsgaGVpZ2h0OiAxMDAuMCU7Ij5Vbml2ZXJzaXR5IG9mIFRvcm9udG8sIEhhcmJvcmQgQ2x1c3RlciAwPC9kaXY+YClbMF07CiAgICAgICAgICAgIHBvcHVwXzQ2OGRjYzg4ZTc5MTRjYjZiOTMyZDNlMjY4NjZiN2ZjLnNldENvbnRlbnQoaHRtbF9iMTAxZjAzMGY2YTk0YzExYTk3OTE5MWY3MjJjYTdhNyk7CiAgICAgICAgCgogICAgICAgIGNpcmNsZV9tYXJrZXJfYzYzYTFlODkyMDcwNGRhNGI2NzNhNjcxNmY3OTk5MmIuYmluZFBvcHVwKHBvcHVwXzQ2OGRjYzg4ZTc5MTRjYjZiOTMyZDNlMjY4NjZiN2ZjKQogICAgICAgIDsKCiAgICAgICAgCiAgICAKICAgIAogICAgICAgICAgICB2YXIgY2lyY2xlX21hcmtlcl9iZDAwMWI5NzRhNWY0NDA4YWQxNzIxMmZlYWM2ZGJmMCA9IEwuY2lyY2xlTWFya2VyKAogICAgICAgICAgICAgICAgWzQzLjY1MTU3MDYsIC03OS40ODQ0NDk5XSwKICAgICAgICAgICAgICAgIHsiYnViYmxpbmdNb3VzZUV2ZW50cyI6IHRydWUsICJjb2xvciI6ICIjZmYwMDAwIiwgImRhc2hBcnJheSI6IG51bGwsICJkYXNoT2Zmc2V0IjogbnVsbCwgImZpbGwiOiB0cnVlLCAiZmlsbENvbG9yIjogIiNmZjAwMDAiLCAiZmlsbE9wYWNpdHkiOiAwLjcsICJmaWxsUnVsZSI6ICJldmVub2RkIiwgImxpbmVDYXAiOiAicm91bmQiLCAibGluZUpvaW4iOiAicm91bmQiLCAib3BhY2l0eSI6IDEuMCwgInJhZGl1cyI6IDUsICJzdHJva2UiOiB0cnVlLCAid2VpZ2h0IjogM30KICAgICAgICAgICAgKS5hZGRUbyhtYXBfZjY4N2E3ZGM1YzZlNGEzZGE5MjZkOGYwNjc0OWU3NGEpOwogICAgICAgIAogICAgCiAgICAgICAgdmFyIHBvcHVwX2VmOTMzODg0MjdiYzQ2YjJiODY0YTY3MTgzZWZhNDdjID0gTC5wb3B1cCh7Im1heFdpZHRoIjogIjEwMCUifSk7CgogICAgICAgIAogICAgICAgICAgICB2YXIgaHRtbF81MTVlYTg2OGM2YmY0ZWFlYWUyNDA3NGNjNjY0ZTU1MiA9ICQoYDxkaXYgaWQ9Imh0bWxfNTE1ZWE4NjhjNmJmNGVhZWFlMjQwNzRjYzY2NGU1NTIiIHN0eWxlPSJ3aWR0aDogMTAwLjAlOyBoZWlnaHQ6IDEwMC4wJTsiPlJ1bm55bWVkZSwgU3dhbnNlYSBDbHVzdGVyIDA8L2Rpdj5gKVswXTsKICAgICAgICAgICAgcG9wdXBfZWY5MzM4ODQyN2JjNDZiMmI4NjRhNjcxODNlZmE0N2Muc2V0Q29udGVudChodG1sXzUxNWVhODY4YzZiZjRlYWVhZTI0MDc0Y2M2NjRlNTUyKTsKICAgICAgICAKCiAgICAgICAgY2lyY2xlX21hcmtlcl9iZDAwMWI5NzRhNWY0NDA4YWQxNzIxMmZlYWM2ZGJmMC5iaW5kUG9wdXAocG9wdXBfZWY5MzM4ODQyN2JjNDZiMmI4NjRhNjcxODNlZmE0N2MpCiAgICAgICAgOwoKICAgICAgICAKICAgIAogICAgCiAgICAgICAgICAgIHZhciBjaXJjbGVfbWFya2VyXzRiNzNiODUzZjVmNjRjYmNiZTRmZDY4ZjY4ZmJlMGNkID0gTC5jaXJjbGVNYXJrZXIoCiAgICAgICAgICAgICAgICBbNDMuNjg5NTc0MywgLTc5LjM4MzE1OTkwMDAwMDAxXSwKICAgICAgICAgICAgICAgIHsiYnViYmxpbmdNb3VzZUV2ZW50cyI6IHRydWUsICJjb2xvciI6ICIjODAwMGZmIiwgImRhc2hBcnJheSI6IG51bGwsICJkYXNoT2Zmc2V0IjogbnVsbCwgImZpbGwiOiB0cnVlLCAiZmlsbENvbG9yIjogIiM4MDAwZmYiLCAiZmlsbE9wYWNpdHkiOiAwLjcsICJmaWxsUnVsZSI6ICJldmVub2RkIiwgImxpbmVDYXAiOiAicm91bmQiLCAibGluZUpvaW4iOiAicm91bmQiLCAib3BhY2l0eSI6IDEuMCwgInJhZGl1cyI6IDUsICJzdHJva2UiOiB0cnVlLCAid2VpZ2h0IjogM30KICAgICAgICAgICAgKS5hZGRUbyhtYXBfZjY4N2E3ZGM1YzZlNGEzZGE5MjZkOGYwNjc0OWU3NGEpOwogICAgICAgIAogICAgCiAgICAgICAgdmFyIHBvcHVwX2VhMTlhODgxOTJkOTQ4YzJhZWMyYmUxNzhkYzc2MTk1ID0gTC5wb3B1cCh7Im1heFdpZHRoIjogIjEwMCUifSk7CgogICAgICAgIAogICAgICAgICAgICB2YXIgaHRtbF9iNjdlNjQyYzFiNGU0ZGFkOTIwZDFmYmNkYzgyNzM0ZiA9ICQoYDxkaXYgaWQ9Imh0bWxfYjY3ZTY0MmMxYjRlNGRhZDkyMGQxZmJjZGM4MjczNGYiIHN0eWxlPSJ3aWR0aDogMTAwLjAlOyBoZWlnaHQ6IDEwMC4wJTsiPk1vb3JlIFBhcmssIFN1bW1lcmhpbGwgRWFzdCBDbHVzdGVyIDE8L2Rpdj5gKVswXTsKICAgICAgICAgICAgcG9wdXBfZWExOWE4ODE5MmQ5NDhjMmFlYzJiZTE3OGRjNzYxOTUuc2V0Q29udGVudChodG1sX2I2N2U2NDJjMWI0ZTRkYWQ5MjBkMWZiY2RjODI3MzRmKTsKICAgICAgICAKCiAgICAgICAgY2lyY2xlX21hcmtlcl80YjczYjg1M2Y1ZjY0Y2JjYmU0ZmQ2OGY2OGZiZTBjZC5iaW5kUG9wdXAocG9wdXBfZWExOWE4ODE5MmQ5NDhjMmFlYzJiZTE3OGRjNzYxOTUpCiAgICAgICAgOwoKICAgICAgICAKICAgIAogICAgCiAgICAgICAgICAgIHZhciBjaXJjbGVfbWFya2VyXzMwZGFlZDdmMjczOTQyM2M5MTU5OTI0MWM4MzBhOWM3ID0gTC5jaXJjbGVNYXJrZXIoCiAgICAgICAgICAgICAgICBbNDMuNjUzMjA1NywgLTc5LjQwMDA0OTNdLAogICAgICAgICAgICAgICAgeyJidWJibGluZ01vdXNlRXZlbnRzIjogdHJ1ZSwgImNvbG9yIjogIiNmZjAwMDAiLCAiZGFzaEFycmF5IjogbnVsbCwgImRhc2hPZmZzZXQiOiBudWxsLCAiZmlsbCI6IHRydWUsICJmaWxsQ29sb3IiOiAiI2ZmMDAwMCIsICJmaWxsT3BhY2l0eSI6IDAuNywgImZpbGxSdWxlIjogImV2ZW5vZGQiLCAibGluZUNhcCI6ICJyb3VuZCIsICJsaW5lSm9pbiI6ICJyb3VuZCIsICJvcGFjaXR5IjogMS4wLCAicmFkaXVzIjogNSwgInN0cm9rZSI6IHRydWUsICJ3ZWlnaHQiOiAzfQogICAgICAgICAgICApLmFkZFRvKG1hcF9mNjg3YTdkYzVjNmU0YTNkYTkyNmQ4ZjA2NzQ5ZTc0YSk7CiAgICAgICAgCiAgICAKICAgICAgICB2YXIgcG9wdXBfMjJkNmY4ZThhMWRhNDk1NzhkMWMwNGZjMDVkOWIyODIgPSBMLnBvcHVwKHsibWF4V2lkdGgiOiAiMTAwJSJ9KTsKCiAgICAgICAgCiAgICAgICAgICAgIHZhciBodG1sXzAzZDlmNjM3YjMyNzRhNmNhZTIxMjJiOGQzZTlmMWZhID0gJChgPGRpdiBpZD0iaHRtbF8wM2Q5ZjYzN2IzMjc0YTZjYWUyMTIyYjhkM2U5ZjFmYSIgc3R5bGU9IndpZHRoOiAxMDAuMCU7IGhlaWdodDogMTAwLjAlOyI+S2Vuc2luZ3RvbiBNYXJrZXQsIENoaW5hdG93biwgR3JhbmdlIFBhcmsgQ2x1c3RlciAwPC9kaXY+YClbMF07CiAgICAgICAgICAgIHBvcHVwXzIyZDZmOGU4YTFkYTQ5NTc4ZDFjMDRmYzA1ZDliMjgyLnNldENvbnRlbnQoaHRtbF8wM2Q5ZjYzN2IzMjc0YTZjYWUyMTIyYjhkM2U5ZjFmYSk7CiAgICAgICAgCgogICAgICAgIGNpcmNsZV9tYXJrZXJfMzBkYWVkN2YyNzM5NDIzYzkxNTk5MjQxYzgzMGE5YzcuYmluZFBvcHVwKHBvcHVwXzIyZDZmOGU4YTFkYTQ5NTc4ZDFjMDRmYzA1ZDliMjgyKQogICAgICAgIDsKCiAgICAgICAgCiAgICAKICAgIAogICAgICAgICAgICB2YXIgY2lyY2xlX21hcmtlcl83ZTVlZThlNThhOGU0MTc4OWY4OTAwZTc3MTJlZWRiMyA9IEwuY2lyY2xlTWFya2VyKAogICAgICAgICAgICAgICAgWzQzLjY4NjQxMjI5OTk5OTk5LCAtNzkuNDAwMDQ5M10sCiAgICAgICAgICAgICAgICB7ImJ1YmJsaW5nTW91c2VFdmVudHMiOiB0cnVlLCAiY29sb3IiOiAiI2ZmMDAwMCIsICJkYXNoQXJyYXkiOiBudWxsLCAiZGFzaE9mZnNldCI6IG51bGwsICJmaWxsIjogdHJ1ZSwgImZpbGxDb2xvciI6ICIjZmYwMDAwIiwgImZpbGxPcGFjaXR5IjogMC43LCAiZmlsbFJ1bGUiOiAiZXZlbm9kZCIsICJsaW5lQ2FwIjogInJvdW5kIiwgImxpbmVKb2luIjogInJvdW5kIiwgIm9wYWNpdHkiOiAxLjAsICJyYWRpdXMiOiA1LCAic3Ryb2tlIjogdHJ1ZSwgIndlaWdodCI6IDN9CiAgICAgICAgICAgICkuYWRkVG8obWFwX2Y2ODdhN2RjNWM2ZTRhM2RhOTI2ZDhmMDY3NDllNzRhKTsKICAgICAgICAKICAgIAogICAgICAgIHZhciBwb3B1cF8wYzI0NmYzMzRiZDI0NGFkYTIwMGIxMjE4N2RkZDgxYSA9IEwucG9wdXAoeyJtYXhXaWR0aCI6ICIxMDAlIn0pOwoKICAgICAgICAKICAgICAgICAgICAgdmFyIGh0bWxfZTFmYTFlNTBlNDRiNDBhODllZDVkN2M3MGJiOTM2YWEgPSAkKGA8ZGl2IGlkPSJodG1sX2UxZmExZTUwZTQ0YjQwYTg5ZWQ1ZDdjNzBiYjkzNmFhIiBzdHlsZT0id2lkdGg6IDEwMC4wJTsgaGVpZ2h0OiAxMDAuMCU7Ij5TdW1tZXJoaWxsIFdlc3QsIFJhdGhuZWxseSwgU291dGggSGlsbCwgRm9yZXN0IEhpbGwgU0UsIERlZXIgUGFyayBDbHVzdGVyIDA8L2Rpdj5gKVswXTsKICAgICAgICAgICAgcG9wdXBfMGMyNDZmMzM0YmQyNDRhZGEyMDBiMTIxODdkZGQ4MWEuc2V0Q29udGVudChodG1sX2UxZmExZTUwZTQ0YjQwYTg5ZWQ1ZDdjNzBiYjkzNmFhKTsKICAgICAgICAKCiAgICAgICAgY2lyY2xlX21hcmtlcl83ZTVlZThlNThhOGU0MTc4OWY4OTAwZTc3MTJlZWRiMy5iaW5kUG9wdXAocG9wdXBfMGMyNDZmMzM0YmQyNDRhZGEyMDBiMTIxODdkZGQ4MWEpCiAgICAgICAgOwoKICAgICAgICAKICAgIAogICAgCiAgICAgICAgICAgIHZhciBjaXJjbGVfbWFya2VyXzIyMmNmMmE4MThlMTQ1NTVhMTgxNTVhYTM2NzM2ZWI2ID0gTC5jaXJjbGVNYXJrZXIoCiAgICAgICAgICAgICAgICBbNDMuNjI4OTQ2NywgLTc5LjM5NDQxOTldLAogICAgICAgICAgICAgICAgeyJidWJibGluZ01vdXNlRXZlbnRzIjogdHJ1ZSwgImNvbG9yIjogIiNmZjAwMDAiLCAiZGFzaEFycmF5IjogbnVsbCwgImRhc2hPZmZzZXQiOiBudWxsLCAiZmlsbCI6IHRydWUsICJmaWxsQ29sb3IiOiAiI2ZmMDAwMCIsICJmaWxsT3BhY2l0eSI6IDAuNywgImZpbGxSdWxlIjogImV2ZW5vZGQiLCAibGluZUNhcCI6ICJyb3VuZCIsICJsaW5lSm9pbiI6ICJyb3VuZCIsICJvcGFjaXR5IjogMS4wLCAicmFkaXVzIjogNSwgInN0cm9rZSI6IHRydWUsICJ3ZWlnaHQiOiAzfQogICAgICAgICAgICApLmFkZFRvKG1hcF9mNjg3YTdkYzVjNmU0YTNkYTkyNmQ4ZjA2NzQ5ZTc0YSk7CiAgICAgICAgCiAgICAKICAgICAgICB2YXIgcG9wdXBfN2JjMjYzMjQxMTliNDM0YzkzNmJlYmRhNzIzNTU3MDkgPSBMLnBvcHVwKHsibWF4V2lkdGgiOiAiMTAwJSJ9KTsKCiAgICAgICAgCiAgICAgICAgICAgIHZhciBodG1sXzhhOTMxOGVkY2U4ZDRmNmU4ZTFjYzdlMzgyY2UxZDA1ID0gJChgPGRpdiBpZD0iaHRtbF84YTkzMThlZGNlOGQ0ZjZlOGUxY2M3ZTM4MmNlMWQwNSIgc3R5bGU9IndpZHRoOiAxMDAuMCU7IGhlaWdodDogMTAwLjAlOyI+Q04gVG93ZXIsIEtpbmcgYW5kIFNwYWRpbmEsIFJhaWx3YXkgTGFuZHMsIEhhcmJvdXJmcm9udCBXZXN0LCBCYXRodXJzdCBRdWF5LCBTb3V0aCBOaWFnYXJhLCBJc2xhbmQgYWlycG9ydCBDbHVzdGVyIDA8L2Rpdj5gKVswXTsKICAgICAgICAgICAgcG9wdXBfN2JjMjYzMjQxMTliNDM0YzkzNmJlYmRhNzIzNTU3MDkuc2V0Q29udGVudChodG1sXzhhOTMxOGVkY2U4ZDRmNmU4ZTFjYzdlMzgyY2UxZDA1KTsKICAgICAgICAKCiAgICAgICAgY2lyY2xlX21hcmtlcl8yMjJjZjJhODE4ZTE0NTU1YTE4MTU1YWEzNjczNmViNi5iaW5kUG9wdXAocG9wdXBfN2JjMjYzMjQxMTliNDM0YzkzNmJlYmRhNzIzNTU3MDkpCiAgICAgICAgOwoKICAgICAgICAKICAgIAogICAgCiAgICAgICAgICAgIHZhciBjaXJjbGVfbWFya2VyX2E4OTU5YWQ0ZjY4MTQxZDI4Y2U3NzFhNWI4Y2YyYmQ4ID0gTC5jaXJjbGVNYXJrZXIoCiAgICAgICAgICAgICAgICBbNDMuNjc5NTYyNiwgLTc5LjM3NzUyOTQwMDAwMDAxXSwKICAgICAgICAgICAgICAgIHsiYnViYmxpbmdNb3VzZUV2ZW50cyI6IHRydWUsICJjb2xvciI6ICIjODAwMGZmIiwgImRhc2hBcnJheSI6IG51bGwsICJkYXNoT2Zmc2V0IjogbnVsbCwgImZpbGwiOiB0cnVlLCAiZmlsbENvbG9yIjogIiM4MDAwZmYiLCAiZmlsbE9wYWNpdHkiOiAwLjcsICJmaWxsUnVsZSI6ICJldmVub2RkIiwgImxpbmVDYXAiOiAicm91bmQiLCAibGluZUpvaW4iOiAicm91bmQiLCAib3BhY2l0eSI6IDEuMCwgInJhZGl1cyI6IDUsICJzdHJva2UiOiB0cnVlLCAid2VpZ2h0IjogM30KICAgICAgICAgICAgKS5hZGRUbyhtYXBfZjY4N2E3ZGM1YzZlNGEzZGE5MjZkOGYwNjc0OWU3NGEpOwogICAgICAgIAogICAgCiAgICAgICAgdmFyIHBvcHVwX2JiZjkzNTI2OGVmZjQwYWE4MWNmMDUxZWIzZGNhZGY1ID0gTC5wb3B1cCh7Im1heFdpZHRoIjogIjEwMCUifSk7CgogICAgICAgIAogICAgICAgICAgICB2YXIgaHRtbF8zNDczNGFmZjYyZjA0ZWU3ODBkOWQ5ODgxZTk1MjY2NSA9ICQoYDxkaXYgaWQ9Imh0bWxfMzQ3MzRhZmY2MmYwNGVlNzgwZDlkOTg4MWU5NTI2NjUiIHN0eWxlPSJ3aWR0aDogMTAwLjAlOyBoZWlnaHQ6IDEwMC4wJTsiPlJvc2VkYWxlIENsdXN0ZXIgMTwvZGl2PmApWzBdOwogICAgICAgICAgICBwb3B1cF9iYmY5MzUyNjhlZmY0MGFhODFjZjA1MWViM2RjYWRmNS5zZXRDb250ZW50KGh0bWxfMzQ3MzRhZmY2MmYwNGVlNzgwZDlkOTg4MWU5NTI2NjUpOwogICAgICAgIAoKICAgICAgICBjaXJjbGVfbWFya2VyX2E4OTU5YWQ0ZjY4MTQxZDI4Y2U3NzFhNWI4Y2YyYmQ4LmJpbmRQb3B1cChwb3B1cF9iYmY5MzUyNjhlZmY0MGFhODFjZjA1MWViM2RjYWRmNSkKICAgICAgICA7CgogICAgICAgIAogICAgCiAgICAKICAgICAgICAgICAgdmFyIGNpcmNsZV9tYXJrZXJfYzU0NjNjYjk4NjEzNDVlZjgxNTkyMGVlYWMwODYxYTEgPSBMLmNpcmNsZU1hcmtlcigKICAgICAgICAgICAgICAgIFs0My42NDY0MzUyLCAtNzkuMzc0ODQ1OTk5OTk5OTldLAogICAgICAgICAgICAgICAgeyJidWJibGluZ01vdXNlRXZlbnRzIjogdHJ1ZSwgImNvbG9yIjogIiNmZjAwMDAiLCAiZGFzaEFycmF5IjogbnVsbCwgImRhc2hPZmZzZXQiOiBudWxsLCAiZmlsbCI6IHRydWUsICJmaWxsQ29sb3IiOiAiI2ZmMDAwMCIsICJmaWxsT3BhY2l0eSI6IDAuNywgImZpbGxSdWxlIjogImV2ZW5vZGQiLCAibGluZUNhcCI6ICJyb3VuZCIsICJsaW5lSm9pbiI6ICJyb3VuZCIsICJvcGFjaXR5IjogMS4wLCAicmFkaXVzIjogNSwgInN0cm9rZSI6IHRydWUsICJ3ZWlnaHQiOiAzfQogICAgICAgICAgICApLmFkZFRvKG1hcF9mNjg3YTdkYzVjNmU0YTNkYTkyNmQ4ZjA2NzQ5ZTc0YSk7CiAgICAgICAgCiAgICAKICAgICAgICB2YXIgcG9wdXBfMzdlMjQ1ZjY0NDYzNDg3MGI4Y2Y4ZGQzZGFmNDhkODEgPSBMLnBvcHVwKHsibWF4V2lkdGgiOiAiMTAwJSJ9KTsKCiAgICAgICAgCiAgICAgICAgICAgIHZhciBodG1sXzUzZmQzMTZlOGY1YTQwNTNiZDBkOTRlOGQ3NmNmNzkxID0gJChgPGRpdiBpZD0iaHRtbF81M2ZkMzE2ZThmNWE0MDUzYmQwZDk0ZThkNzZjZjc5MSIgc3R5bGU9IndpZHRoOiAxMDAuMCU7IGhlaWdodDogMTAwLjAlOyI+U3RuIEEgUE8gQm94ZXMgQ2x1c3RlciAwPC9kaXY+YClbMF07CiAgICAgICAgICAgIHBvcHVwXzM3ZTI0NWY2NDQ2MzQ4NzBiOGNmOGRkM2RhZjQ4ZDgxLnNldENvbnRlbnQoaHRtbF81M2ZkMzE2ZThmNWE0MDUzYmQwZDk0ZThkNzZjZjc5MSk7CiAgICAgICAgCgogICAgICAgIGNpcmNsZV9tYXJrZXJfYzU0NjNjYjk4NjEzNDVlZjgxNTkyMGVlYWMwODYxYTEuYmluZFBvcHVwKHBvcHVwXzM3ZTI0NWY2NDQ2MzQ4NzBiOGNmOGRkM2RhZjQ4ZDgxKQogICAgICAgIDsKCiAgICAgICAgCiAgICAKICAgIAogICAgICAgICAgICB2YXIgY2lyY2xlX21hcmtlcl9lOWYwY2MyN2I2ODk0YjAzOGQ4YzE1NmYzZDI2ZDViYiA9IEwuY2lyY2xlTWFya2VyKAogICAgICAgICAgICAgICAgWzQzLjY2Nzk2NywgLTc5LjM2NzY3NTNdLAogICAgICAgICAgICAgICAgeyJidWJibGluZ01vdXNlRXZlbnRzIjogdHJ1ZSwgImNvbG9yIjogIiNmZjAwMDAiLCAiZGFzaEFycmF5IjogbnVsbCwgImRhc2hPZmZzZXQiOiBudWxsLCAiZmlsbCI6IHRydWUsICJmaWxsQ29sb3IiOiAiI2ZmMDAwMCIsICJmaWxsT3BhY2l0eSI6IDAuNywgImZpbGxSdWxlIjogImV2ZW5vZGQiLCAibGluZUNhcCI6ICJyb3VuZCIsICJsaW5lSm9pbiI6ICJyb3VuZCIsICJvcGFjaXR5IjogMS4wLCAicmFkaXVzIjogNSwgInN0cm9rZSI6IHRydWUsICJ3ZWlnaHQiOiAzfQogICAgICAgICAgICApLmFkZFRvKG1hcF9mNjg3YTdkYzVjNmU0YTNkYTkyNmQ4ZjA2NzQ5ZTc0YSk7CiAgICAgICAgCiAgICAKICAgICAgICB2YXIgcG9wdXBfY2JkOWFjMTY5NTNjNDExOGJkZjMyMjQ1Y2UxOTZiZDQgPSBMLnBvcHVwKHsibWF4V2lkdGgiOiAiMTAwJSJ9KTsKCiAgICAgICAgCiAgICAgICAgICAgIHZhciBodG1sXzFjNGVjZGNjY2NlMDQxMzQ4ZjNjNTlkYTlkYTU2OTJiID0gJChgPGRpdiBpZD0iaHRtbF8xYzRlY2RjY2NjZTA0MTM0OGYzYzU5ZGE5ZGE1NjkyYiIgc3R5bGU9IndpZHRoOiAxMDAuMCU7IGhlaWdodDogMTAwLjAlOyI+U3QuIEphbWVzIFRvd24sIENhYmJhZ2V0b3duIENsdXN0ZXIgMDwvZGl2PmApWzBdOwogICAgICAgICAgICBwb3B1cF9jYmQ5YWMxNjk1M2M0MTE4YmRmMzIyNDVjZTE5NmJkNC5zZXRDb250ZW50KGh0bWxfMWM0ZWNkY2NjY2UwNDEzNDhmM2M1OWRhOWRhNTY5MmIpOwogICAgICAgIAoKICAgICAgICBjaXJjbGVfbWFya2VyX2U5ZjBjYzI3YjY4OTRiMDM4ZDhjMTU2ZjNkMjZkNWJiLmJpbmRQb3B1cChwb3B1cF9jYmQ5YWMxNjk1M2M0MTE4YmRmMzIyNDVjZTE5NmJkNCkKICAgICAgICA7CgogICAgICAgIAogICAgCiAgICAKICAgICAgICAgICAgdmFyIGNpcmNsZV9tYXJrZXJfODQ1OGJkOGNkOGNkNDVlNjg3MmNiOTgyN2M4Yzg2MTIgPSBMLmNpcmNsZU1hcmtlcigKICAgICAgICAgICAgICAgIFs0My42NDg0MjkyLCAtNzkuMzgyMjgwMl0sCiAgICAgICAgICAgICAgICB7ImJ1YmJsaW5nTW91c2VFdmVudHMiOiB0cnVlLCAiY29sb3IiOiAiI2ZmMDAwMCIsICJkYXNoQXJyYXkiOiBudWxsLCAiZGFzaE9mZnNldCI6IG51bGwsICJmaWxsIjogdHJ1ZSwgImZpbGxDb2xvciI6ICIjZmYwMDAwIiwgImZpbGxPcGFjaXR5IjogMC43LCAiZmlsbFJ1bGUiOiAiZXZlbm9kZCIsICJsaW5lQ2FwIjogInJvdW5kIiwgImxpbmVKb2luIjogInJvdW5kIiwgIm9wYWNpdHkiOiAxLjAsICJyYWRpdXMiOiA1LCAic3Ryb2tlIjogdHJ1ZSwgIndlaWdodCI6IDN9CiAgICAgICAgICAgICkuYWRkVG8obWFwX2Y2ODdhN2RjNWM2ZTRhM2RhOTI2ZDhmMDY3NDllNzRhKTsKICAgICAgICAKICAgIAogICAgICAgIHZhciBwb3B1cF9lMDJlNTdjZTliYmM0M2M4YjI1MDVhZjBmZGNhNTNkYSA9IEwucG9wdXAoeyJtYXhXaWR0aCI6ICIxMDAlIn0pOwoKICAgICAgICAKICAgICAgICAgICAgdmFyIGh0bWxfYjRhN2NjMDZlZDJiNGM3ZGJhZDM5YWE5YmZkYTE5NDkgPSAkKGA8ZGl2IGlkPSJodG1sX2I0YTdjYzA2ZWQyYjRjN2RiYWQzOWFhOWJmZGExOTQ5IiBzdHlsZT0id2lkdGg6IDEwMC4wJTsgaGVpZ2h0OiAxMDAuMCU7Ij5GaXJzdCBDYW5hZGlhbiBQbGFjZSwgVW5kZXJncm91bmQgY2l0eSBDbHVzdGVyIDA8L2Rpdj5gKVswXTsKICAgICAgICAgICAgcG9wdXBfZTAyZTU3Y2U5YmJjNDNjOGIyNTA1YWYwZmRjYTUzZGEuc2V0Q29udGVudChodG1sX2I0YTdjYzA2ZWQyYjRjN2RiYWQzOWFhOWJmZGExOTQ5KTsKICAgICAgICAKCiAgICAgICAgY2lyY2xlX21hcmtlcl84NDU4YmQ4Y2Q4Y2Q0NWU2ODcyY2I5ODI3YzhjODYxMi5iaW5kUG9wdXAocG9wdXBfZTAyZTU3Y2U5YmJjNDNjOGIyNTA1YWYwZmRjYTUzZGEpCiAgICAgICAgOwoKICAgICAgICAKICAgIAogICAgCiAgICAgICAgICAgIHZhciBjaXJjbGVfbWFya2VyXzNhYjJlYTE1MTAwNzQwMTdiNDc5OTZmMTYzYWYwMTMwID0gTC5jaXJjbGVNYXJrZXIoCiAgICAgICAgICAgICAgICBbNDMuNjY1ODU5OSwgLTc5LjM4MzE1OTkwMDAwMDAxXSwKICAgICAgICAgICAgICAgIHsiYnViYmxpbmdNb3VzZUV2ZW50cyI6IHRydWUsICJjb2xvciI6ICIjZmYwMDAwIiwgImRhc2hBcnJheSI6IG51bGwsICJkYXNoT2Zmc2V0IjogbnVsbCwgImZpbGwiOiB0cnVlLCAiZmlsbENvbG9yIjogIiNmZjAwMDAiLCAiZmlsbE9wYWNpdHkiOiAwLjcsICJmaWxsUnVsZSI6ICJldmVub2RkIiwgImxpbmVDYXAiOiAicm91bmQiLCAibGluZUpvaW4iOiAicm91bmQiLCAib3BhY2l0eSI6IDEuMCwgInJhZGl1cyI6IDUsICJzdHJva2UiOiB0cnVlLCAid2VpZ2h0IjogM30KICAgICAgICAgICAgKS5hZGRUbyhtYXBfZjY4N2E3ZGM1YzZlNGEzZGE5MjZkOGYwNjc0OWU3NGEpOwogICAgICAgIAogICAgCiAgICAgICAgdmFyIHBvcHVwXzk5ZmIxMGYwNGU2MzRkMjViMmU3OTI4M2I2YmJjZmJmID0gTC5wb3B1cCh7Im1heFdpZHRoIjogIjEwMCUifSk7CgogICAgICAgIAogICAgICAgICAgICB2YXIgaHRtbF85Zjg3ZWFlMDU3Zjg0NTE2YjdlYzU2YTExMDEzZmNlOSA9ICQoYDxkaXYgaWQ9Imh0bWxfOWY4N2VhZTA1N2Y4NDUxNmI3ZWM1NmExMTAxM2ZjZTkiIHN0eWxlPSJ3aWR0aDogMTAwLjAlOyBoZWlnaHQ6IDEwMC4wJTsiPkNodXJjaCBhbmQgV2VsbGVzbGV5IENsdXN0ZXIgMDwvZGl2PmApWzBdOwogICAgICAgICAgICBwb3B1cF85OWZiMTBmMDRlNjM0ZDI1YjJlNzkyODNiNmJiY2ZiZi5zZXRDb250ZW50KGh0bWxfOWY4N2VhZTA1N2Y4NDUxNmI3ZWM1NmExMTAxM2ZjZTkpOwogICAgICAgIAoKICAgICAgICBjaXJjbGVfbWFya2VyXzNhYjJlYTE1MTAwNzQwMTdiNDc5OTZmMTYzYWYwMTMwLmJpbmRQb3B1cChwb3B1cF85OWZiMTBmMDRlNjM0ZDI1YjJlNzkyODNiNmJiY2ZiZikKICAgICAgICA7CgogICAgICAgIAogICAgCiAgICAKICAgICAgICAgICAgdmFyIGNpcmNsZV9tYXJrZXJfMDU5OWU0MGM3YzE3NGVkYjljYWQwNGVhZjhjZDllZTMgPSBMLmNpcmNsZU1hcmtlcigKICAgICAgICAgICAgICAgIFs0My42NjI3NDM5LCAtNzkuMzIxNTU4XSwKICAgICAgICAgICAgICAgIHsiYnViYmxpbmdNb3VzZUV2ZW50cyI6IHRydWUsICJjb2xvciI6ICIjZmYwMDAwIiwgImRhc2hBcnJheSI6IG51bGwsICJkYXNoT2Zmc2V0IjogbnVsbCwgImZpbGwiOiB0cnVlLCAiZmlsbENvbG9yIjogIiNmZjAwMDAiLCAiZmlsbE9wYWNpdHkiOiAwLjcsICJmaWxsUnVsZSI6ICJldmVub2RkIiwgImxpbmVDYXAiOiAicm91bmQiLCAibGluZUpvaW4iOiAicm91bmQiLCAib3BhY2l0eSI6IDEuMCwgInJhZGl1cyI6IDUsICJzdHJva2UiOiB0cnVlLCAid2VpZ2h0IjogM30KICAgICAgICAgICAgKS5hZGRUbyhtYXBfZjY4N2E3ZGM1YzZlNGEzZGE5MjZkOGYwNjc0OWU3NGEpOwogICAgICAgIAogICAgCiAgICAgICAgdmFyIHBvcHVwX2M2ZDNiZWNkY2Q2YzQ4MmFiM2Y0Nzc0NGFjOTJjYWE3ID0gTC5wb3B1cCh7Im1heFdpZHRoIjogIjEwMCUifSk7CgogICAgICAgIAogICAgICAgICAgICB2YXIgaHRtbF8wMWMyZmI3ZDllZDE0MDUxOGMyMzk0YWY5M2VjZmVkYiA9ICQoYDxkaXYgaWQ9Imh0bWxfMDFjMmZiN2Q5ZWQxNDA1MThjMjM5NGFmOTNlY2ZlZGIiIHN0eWxlPSJ3aWR0aDogMTAwLjAlOyBoZWlnaHQ6IDEwMC4wJTsiPkJ1c2luZXNzIHJlcGx5IG1haWwgUHJvY2Vzc2luZyBDZW50cmUgQ2x1c3RlciAwPC9kaXY+YClbMF07CiAgICAgICAgICAgIHBvcHVwX2M2ZDNiZWNkY2Q2YzQ4MmFiM2Y0Nzc0NGFjOTJjYWE3LnNldENvbnRlbnQoaHRtbF8wMWMyZmI3ZDllZDE0MDUxOGMyMzk0YWY5M2VjZmVkYik7CiAgICAgICAgCgogICAgICAgIGNpcmNsZV9tYXJrZXJfMDU5OWU0MGM3YzE3NGVkYjljYWQwNGVhZjhjZDllZTMuYmluZFBvcHVwKHBvcHVwX2M2ZDNiZWNkY2Q2YzQ4MmFiM2Y0Nzc0NGFjOTJjYWE3KQogICAgICAgIDsKCiAgICAgICAgCiAgICAKPC9zY3JpcHQ+ onload=\"this.contentDocument.open();this.contentDocument.write(atob(this.getAttribute('data-html')));this.contentDocument.close();\" allowfullscreen webkitallowfullscreen mozallowfullscreen></iframe></div></div>"
      ],
      "text/plain": [
       "<folium.folium.Map at 0x7fd5c59be790>"
      ]
     },
     "execution_count": 29,
     "metadata": {},
     "output_type": "execute_result"
    }
   ],
   "source": [
    "# create map\n",
    "map_clusters = folium.Map(location=[latitude, longitude], zoom_start=11)\n",
    "\n",
    "# set color scheme for the clusters\n",
    "x = np.arange(kclusters)\n",
    "ys = [i + x + (i*x)**2 for i in range(kclusters)]\n",
    "colors_array = cm.rainbow(np.linspace(0, 1, len(ys)))\n",
    "rainbow = [colors.rgb2hex(i) for i in colors_array]\n",
    "\n",
    "# add markers to the map\n",
    "markers_colors = []\n",
    "for lat, lon, poi, cluster in zip(toronto_merged['Latitude'], toronto_merged['Longitude'], toronto_merged['Neighborhood'], toronto_merged['Cluster Labels']):\n",
    "    label = folium.Popup(str(poi) + ' Cluster ' + str(cluster), parse_html=True)\n",
    "    folium.CircleMarker(\n",
    "        [lat, lon],\n",
    "        radius=5,\n",
    "        popup=label,\n",
    "        color=rainbow[cluster-1],\n",
    "        fill=True,\n",
    "        fill_color=rainbow[cluster-1],\n",
    "        fill_opacity=0.7).add_to(map_clusters)\n",
    "       \n",
    "map_clusters"
   ]
  },
  {
   "cell_type": "code",
   "execution_count": null,
   "metadata": {},
   "outputs": [],
   "source": []
  }
 ],
 "metadata": {
  "kernelspec": {
   "display_name": "Python 3",
   "language": "python",
   "name": "python3"
  },
  "language_info": {
   "codemirror_mode": {
    "name": "ipython",
    "version": 3
   },
   "file_extension": ".py",
   "mimetype": "text/x-python",
   "name": "python",
   "nbconvert_exporter": "python",
   "pygments_lexer": "ipython3",
   "version": "3.7.5"
  }
 },
 "nbformat": 4,
 "nbformat_minor": 2
}
